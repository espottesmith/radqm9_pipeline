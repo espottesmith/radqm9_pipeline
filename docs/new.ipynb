{
 "cells": [
  {
   "cell_type": "code",
   "execution_count": 1,
   "id": "d9b48334-408b-433a-96cd-a262cfa2b2e6",
   "metadata": {
    "tags": []
   },
   "outputs": [],
   "source": [
    "import ase\n",
    "import networkx as nx\n",
    "import os\n",
    "from monty.serialization import loadfn\n",
    "from glob import glob\n",
    "import time\n",
    "from tqdm import tqdm\n",
    "import collections\n",
    "import numpy as np\n",
    "import matplotlib.pyplot as plt\n",
    "import ast\n",
    "\n",
    "from pymatgen.io.ase import AseAtomsAdaptor\n",
    "from pymatgen.analysis.graphs import MoleculeGraph\n",
    "from pymatgen.analysis.local_env import OpenBabelNN, CovalentBondNN\n",
    "from pymatgen.util.graph_hashing import weisfeiler_lehman_graph_hash\n",
    "\n",
    "from radqm9_pipeline.elements import read_elements\n",
    "from radqm9_pipeline.modules import merge_data, flatten"
   ]
  },
  {
   "cell_type": "markdown",
   "id": "7c752a24-7022-4bee-b5c9-822673cd3ba6",
   "metadata": {
    "tags": []
   },
   "source": [
    "# Load data"
   ]
  },
  {
   "cell_type": "code",
   "execution_count": 2,
   "id": "7de80e7d-6c64-4a3c-98b7-ee2dd10d6d5a",
   "metadata": {
    "tags": []
   },
   "outputs": [],
   "source": [
    "elements_dict = read_elements('/pscratch/sd/m/mavaylon/sam_ldrd/radqm9_pipeline/src/radqm9_pipeline/modules/elements.pkl')"
   ]
  },
  {
   "cell_type": "code",
   "execution_count": 155,
   "id": "47c72a0c-5ae1-441b-ac35-878c3e67fa6e",
   "metadata": {
    "tags": []
   },
   "outputs": [],
   "source": [
    "base_dir = \"/pscratch/sd/m/mavaylon/radqm9pipeline_cut_paste/update_20240123/Trajectories/trajectories\""
   ]
  },
  {
   "cell_type": "code",
   "execution_count": 156,
   "id": "4a049adf-9fa7-4cd1-adfa-690a7274b72a",
   "metadata": {
    "tags": []
   },
   "outputs": [
    {
     "name": "stderr",
     "output_type": "stream",
     "text": [
      "100%|██████████| 25/25 [28:01<00:00, 67.25s/it]\n"
     ]
    }
   ],
   "source": [
    "merged_data=merge_data(base_dir)"
   ]
  },
  {
   "cell_type": "markdown",
   "id": "46c1121a-4d41-4cbc-9ae9-6f0a2144fab6",
   "metadata": {},
   "source": [
    "# Metadata Analysis"
   ]
  },
  {
   "cell_type": "code",
   "execution_count": 5,
   "id": "a56b01f7-cdb1-4157-8fdb-1f8135bb831c",
   "metadata": {
    "tags": []
   },
   "outputs": [],
   "source": [
    "def consolidate_metadata(good_data: list,\n",
    "                         bad_data: list,\n",
    "                         export: bool = False):\n",
    "    \"\"\"\n",
    "    \n",
    "    \"\"\"\n",
    "    meta= {}\n",
    "    total = len(good_data) + len(bad_data)\n",
    "    \n",
    "    meta['total'] = total\n",
    "    meta['removed_total'] = len(bad_data)\n",
    "    \n",
    "    bad_meta = {}\n",
    "    for item in tqdm(bad_data):\n",
    "        try:\n",
    "            bad_meta[item['charge_spin']] += 1\n",
    "        except KeyError:\n",
    "            bad_meta[item['charge_spin']] = 0\n",
    "    \n",
    "    good_meta = {}\n",
    "    for item in tqdm(good_data):\n",
    "        try:\n",
    "            good_meta[item['charge_spin']] += 1\n",
    "        except KeyError:\n",
    "            good_meta[item['charge_spin']] = 0\n",
    "    \n",
    "    # if sorted(good_meta.keys())!=sorted(bad_meta.keys()):\n",
    "    #     raise ValueError(\"keys don't match\")\n",
    "    \n",
    "    for key in bad_meta:\n",
    "        meta['removed_'+key] = bad_meta[key]\n",
    "        meta['total_'+key] = bad_meta[key] + good_meta[key]\n",
    "        \n",
    "    return meta\n",
    "    "
   ]
  },
  {
   "cell_type": "markdown",
   "id": "b9efd1cb-099f-4052-aa31-298272afa9e4",
   "metadata": {},
   "source": [
    "# Add charge_spin tag"
   ]
  },
  {
   "cell_type": "code",
   "execution_count": 197,
   "id": "96a2cd74-bc64-470b-b378-53c7a8c329f7",
   "metadata": {
    "tags": []
   },
   "outputs": [],
   "source": [
    "def charge_spin_tag(data: list):\n",
    "    \"\"\"\n",
    "    \n",
    "    \"\"\"\n",
    "    \n",
    "    for item in tqdm(data):\n",
    "        item['charge_spin'] = str(item['charge'])+'_'+str(item['spin'])"
   ]
  },
  {
   "cell_type": "code",
   "execution_count": 198,
   "id": "d27e3c1c-3db6-47ed-bd4d-88b4c746ee2c",
   "metadata": {
    "tags": []
   },
   "outputs": [
    {
     "name": "stderr",
     "output_type": "stream",
     "text": [
      "100%|██████████| 616729/616729 [00:00<00:00, 1482775.27it/s]\n"
     ]
    }
   ],
   "source": [
    "charge_spin_tag(merged_data)"
   ]
  },
  {
   "cell_type": "markdown",
   "id": "42de4470-4c69-4d58-9f5c-3296e4766b84",
   "metadata": {},
   "source": [
    "# Bucket 1"
   ]
  },
  {
   "cell_type": "code",
   "execution_count": 157,
   "id": "769e236a-58b0-42e3-a7c2-7b19ed85ca48",
   "metadata": {
    "tags": []
   },
   "outputs": [
    {
     "data": {
      "text/plain": [
       "616729"
      ]
     },
     "execution_count": 157,
     "metadata": {},
     "output_type": "execute_result"
    }
   ],
   "source": [
    "len(merged_data)"
   ]
  },
  {
   "cell_type": "code",
   "execution_count": 160,
   "id": "076751d5-0110-4a9d-9c99-08c9d66af6ce",
   "metadata": {
    "tags": []
   },
   "outputs": [],
   "source": [
    "# merged_data[0]"
   ]
  },
  {
   "cell_type": "code",
   "execution_count": 158,
   "id": "89aa5012-7a83-4ece-85db-47dae0fb2239",
   "metadata": {
    "tags": []
   },
   "outputs": [
    {
     "data": {
      "text/plain": [
       "133882"
      ]
     },
     "execution_count": 158,
     "metadata": {},
     "output_type": "execute_result"
    }
   ],
   "source": [
    "len(set([x['mol_id'] for x in merged_data]))"
   ]
  },
  {
   "cell_type": "markdown",
   "id": "71db4fae-6f9e-4c68-b50d-19406d3d05a6",
   "metadata": {},
   "source": [
    "### Filter Forces >=10eV"
   ]
  },
  {
   "cell_type": "code",
   "execution_count": 219,
   "id": "ac0e3264-d387-4aef-8227-45ff6ad00653",
   "metadata": {
    "tags": []
   },
   "outputs": [],
   "source": [
    "def force_magnitude_filter(cutoff: float,\n",
    "                           data: list):\n",
    "    \"\"\"\n",
    "    This method returns both data that meets the cuttoff value and data that is equal to or above the cuttoff value.\n",
    "    If this is run before downsampling, it removes the entire data point trajectory.\n",
    "    \n",
    "    Returns: lists\n",
    "    \"\"\"\n",
    "    good = []\n",
    "    bad = []\n",
    "    \n",
    "    for item in tqdm(data):\n",
    "        forces = item['gradients']\n",
    "        for path_point in forces:\n",
    "            next_item = False\n",
    "            for atom in path_point:\n",
    "                res = np.sqrt(sum([i**2 for i in atom]))\n",
    "                if res >= cutoff:\n",
    "                    bad.append(item)\n",
    "                    next_item = True\n",
    "                    break\n",
    "            if next_item:\n",
    "                break\n",
    "        if not next_item:\n",
    "            good.append(item)\n",
    "                            \n",
    "    return good, bad"
   ]
  },
  {
   "cell_type": "code",
   "execution_count": 14,
   "id": "a8b67597-5766-4ccf-9292-24e34ed8d262",
   "metadata": {
    "tags": []
   },
   "outputs": [
    {
     "name": "stderr",
     "output_type": "stream",
     "text": [
      "100%|██████████| 616729/616729 [05:12<00:00, 1972.27it/s] \n"
     ]
    }
   ],
   "source": [
    "g_data, b_data = force_magnitude_filter(cutoff=10.0, data=merged_data)"
   ]
  },
  {
   "cell_type": "code",
   "execution_count": 16,
   "id": "2b99e29c-90c6-4c5d-9992-1b179c7bff82",
   "metadata": {
    "tags": []
   },
   "outputs": [
    {
     "name": "stderr",
     "output_type": "stream",
     "text": [
      "100%|██████████| 78/78 [00:00<00:00, 452497.53it/s]\n",
      "100%|██████████| 616651/616651 [00:00<00:00, 1708634.63it/s]\n"
     ]
    }
   ],
   "source": [
    "force_meta = consolidate_metadata(good_data=g_data, bad_data=b_data)"
   ]
  },
  {
   "cell_type": "code",
   "execution_count": 17,
   "id": "22ac1575-e259-4a7d-afbf-d9ba36742c38",
   "metadata": {
    "tags": []
   },
   "outputs": [
    {
     "data": {
      "text/plain": [
       "{'total': 616729,\n",
       " 'removed_total': 78,\n",
       " 'removed_1_2': 19,\n",
       " 'total_1_2': 150375,\n",
       " 'removed_0_1': 0,\n",
       " 'total_0_1': 141989,\n",
       " 'removed_0_3': 52,\n",
       " 'total_0_3': 172845,\n",
       " 'removed_-1_2': 3,\n",
       " 'total_-1_2': 151512}"
      ]
     },
     "execution_count": 17,
     "metadata": {},
     "output_type": "execute_result"
    }
   ],
   "source": [
    "force_meta\n",
    "# \"\"\"\n",
    "# Remember that these are not data points, but full trajectories that are removed. \n",
    "# \"\"\""
   ]
  },
  {
   "cell_type": "code",
   "execution_count": 29,
   "id": "7b1f9f32-f538-4566-861a-6c1e6123715f",
   "metadata": {
    "tags": []
   },
   "outputs": [
    {
     "data": {
      "text/plain": [
       "45"
      ]
     },
     "execution_count": 29,
     "metadata": {},
     "output_type": "execute_result"
    }
   ],
   "source": [
    "len(merged_data[0]['dipole_moments'])"
   ]
  },
  {
   "cell_type": "code",
   "execution_count": 49,
   "id": "3916097d-d7fe-4e97-a2df-2014fa75e37b",
   "metadata": {
    "tags": []
   },
   "outputs": [],
   "source": [
    "# g_data[0]"
   ]
  },
  {
   "cell_type": "markdown",
   "id": "be531ac1-8ad9-406e-ae23-95a8cc597591",
   "metadata": {},
   "source": [
    "# Bucket 2"
   ]
  },
  {
   "cell_type": "code",
   "execution_count": 194,
   "id": "68a7783f-9017-497b-bf98-c0af4d45daee",
   "metadata": {
    "tags": []
   },
   "outputs": [],
   "source": [
    "def flatten_filter(data: dict):\n",
    "    \"\"\"\n",
    "    Flatten bucket to list\n",
    "    \"\"\"\n",
    "    data_to_be_parsed = []\n",
    "    for mol_id in tqdm(data):\n",
    "        for pair in data[mol_id]:\n",
    "            data_to_be_parsed.append(pair)\n",
    "    return data_to_be_parsed    "
   ]
  },
  {
   "cell_type": "code",
   "execution_count": 199,
   "id": "1a50aa76-36a6-4899-874e-110f2314c0c5",
   "metadata": {
    "tags": []
   },
   "outputs": [],
   "source": [
    "def bucket_mol_id(data: list):\n",
    "    \"\"\"\n",
    "    Return: \n",
    "    - Good_data--> This means data that either had no duplicates or data that has been able to be mended \n",
    "    - bad_ids --> are events that are not able to be mended\n",
    "    - length is the total number of events both mended and unmended\n",
    "    \n",
    "    TODO: fix the merge duplication in geometries, for now this does not matter since we downsample.\n",
    "  \n",
    "    \"\"\"\n",
    "    bucket = {}\n",
    "    \n",
    "    # Step 1    \n",
    "    \"\"\"\n",
    "    Bucket into mol ids\n",
    "    \"\"\"\n",
    "    for event in tqdm(data):\n",
    "        try:\n",
    "            bucket[event['mol_id']].append(event) \n",
    "        except KeyError:\n",
    "            bucket[event['mol_id']] = [event]\n",
    "    \n",
    "    # Step 2\n",
    "    \"\"\"\n",
    "    Find duplicate pairs in each mol id.\n",
    "    What are duplicate pairs? These are training sessions that most likely continued as a separate job. \n",
    "    They need to be attached if possible. \n",
    "    \"\"\"\n",
    "    length=0\n",
    "    bad_ids = []\n",
    "    for mol_id in tqdm(bucket):\n",
    "        pairs = [event['charge_spin'] for event in bucket[mol_id]]\n",
    "        # Get a list of all charge_spins that have duplicates.\n",
    "        duplicate_pairs = [item for item, count in collections.Counter(pairs).items() if count > 1] \n",
    "        if len(duplicate_pairs)!=0:\n",
    "            \"\"\"\n",
    "            Handle the duplicate pairs to see if they can be merged\n",
    "            \"\"\"\n",
    "            len_p = len(bucket[mol_id])\n",
    "            for dup in duplicate_pairs:\n",
    "                bad_data = []\n",
    "                # Order events\n",
    "                case_events = [event for event in bucket[mol_id] if event['charge_spin']==dup]\n",
    "                bad_events = []\n",
    "                bad_events += case_events\n",
    "\n",
    "                for event in case_events: # remove events to be fixed. If fixable, add back at the end.\n",
    "                    bucket[mol_id].remove(event) \n",
    "        \n",
    "                ordered = [case_events[0]]\n",
    "                del case_events[0]\n",
    "                \n",
    "                counter = 0\n",
    "                threshold = 30\n",
    "                while len(case_events)!=0:\n",
    "                    if len(bad_data)==0:\n",
    "                        for event in case_events:\n",
    "                            beg = event['geometries'][0]\n",
    "                            end = event['geometries'][len(event['geometries'])-1]\n",
    "\n",
    "                            ordered_beg = ordered[0]['geometries'][0]\n",
    "                            ordered_end = ordered[len(ordered)-1]['geometries'][len(ordered[len(ordered)-1]['geometries'])-1]\n",
    "\n",
    "                            if beg==ordered_end:\n",
    "                                ordered.append(event)\n",
    "                                case_events.remove(event)\n",
    "                            elif end==ordered_beg:\n",
    "                                ordered.insert(0, event)\n",
    "                                case_events.remove(event)\n",
    "                            else:\n",
    "                                counter+=1\n",
    "                                if counter>threshold:\n",
    "                                    bad_data.append(mol_id)\n",
    "                                else:\n",
    "                                    continue\n",
    "                    else:\n",
    "                        break\n",
    "                    \n",
    "                if len(bad_data)==0:                \n",
    "                    # Merge the ordered events: forces, geometries\n",
    "                    merged_event = {}\n",
    "                    merged_event['task_id'] = ordered[0]['task_id']\n",
    "                    merged_event['mol_id'] = mol_id\n",
    "                    merged_event['name'] = ordered[0]['name']\n",
    "                    merged_event['charge'] = ordered[0]['charge']\n",
    "                    merged_event['spin'] = ordered[0]['spin']\n",
    "                    merged_event['charge_spin'] = ordered[0]['charge_spin']\n",
    "                    merged_event['species'] = ordered[0]['species']\n",
    "\n",
    "                    geometries = []\n",
    "                    energies = []\n",
    "                    grads = []\n",
    "                    mulliken = []\n",
    "                    resp = []\n",
    "                    dipole_moments = []\n",
    "                    dipole_moments_resp = []\n",
    "                    for event in ordered:\n",
    "                        geometries += event['geometries']\n",
    "                        energies += event['energies']\n",
    "                        grads += event['gradients']\n",
    "                        mulliken += event['mulliken']\n",
    "                        resp += event['resp']\n",
    "                        dipole_moments += event['dipole_moments']\n",
    "                        dipole_moments_resp += event['dipole_moments_resp']\n",
    "\n",
    "                    merged_event['geometries'] = geometries\n",
    "                    merged_event['energies'] = energies\n",
    "                    merged_event['gradients'] = grads\n",
    "                    merged_event['mulliken'] = mulliken\n",
    "                    merged_event['resp'] = resp\n",
    "                    merged_event['dipole_moments'] = dipole_moments\n",
    "                    merged_event['dipole_moments_resp'] = dipole_moments_resp\n",
    "\n",
    "                    bucket[mol_id].append(merged_event)\n",
    "                else:\n",
    "                    bad_ids += bad_events\n",
    "            len_r = len(bucket[mol_id])\n",
    "            length += len_p-len_r\n",
    "    good_data = flatten_filter(bucket)\n",
    "        \n",
    "    return good_data, bad_ids, length"
   ]
  },
  {
   "cell_type": "code",
   "execution_count": 200,
   "id": "1e3b5929-9167-479b-b4ac-9add4befd0fa",
   "metadata": {
    "tags": []
   },
   "outputs": [
    {
     "name": "stderr",
     "output_type": "stream",
     "text": [
      "100%|██████████| 616729/616729 [00:00<00:00, 941924.52it/s]\n",
      "100%|██████████| 133882/133882 [00:02<00:00, 52490.14it/s]\n",
      "100%|██████████| 133882/133882 [00:00<00:00, 543766.09it/s]\n"
     ]
    }
   ],
   "source": [
    "g_data_bucket, b_data_bucket, length = bucket_mol_id(merged_data)"
   ]
  },
  {
   "cell_type": "code",
   "execution_count": 6,
   "id": "80e9f5b3-4acf-4b09-9198-72257ad0c921",
   "metadata": {
    "tags": []
   },
   "outputs": [],
   "source": [
    "def add_unique_id(data: list):\n",
    "    for item in data:\n",
    "        item['mol_cs'] = str(item['mol_id']) + str(item['charge_spin'])"
   ]
  },
  {
   "cell_type": "code",
   "execution_count": 211,
   "id": "a4192c5b-c635-4c55-934f-1b783e7f30b0",
   "metadata": {
    "tags": []
   },
   "outputs": [],
   "source": [
    "add_unique_id(g_data_bucket)"
   ]
  },
  {
   "cell_type": "code",
   "execution_count": 220,
   "id": "04045812-7efd-4873-a861-9b5e37ed70fc",
   "metadata": {
    "tags": []
   },
   "outputs": [
    {
     "name": "stderr",
     "output_type": "stream",
     "text": [
      "100%|██████████| 520658/520658 [05:11<00:00, 1670.90it/s]\n"
     ]
    }
   ],
   "source": [
    "g_data, b_data = force_magnitude_filter(cutoff=10.0, data=g_data_bucket)"
   ]
  },
  {
   "cell_type": "code",
   "execution_count": null,
   "id": "6345041e-a1dc-4868-b4e6-54b9a8073f33",
   "metadata": {},
   "outputs": [],
   "source": []
  },
  {
   "cell_type": "code",
   "execution_count": 201,
   "id": "760a52f1-e3ae-444a-b724-06fd04f755b3",
   "metadata": {
    "tags": []
   },
   "outputs": [
    {
     "data": {
      "text/plain": [
       "520658"
      ]
     },
     "execution_count": 201,
     "metadata": {},
     "output_type": "execute_result"
    }
   ],
   "source": [
    "len(g_data_bucket)"
   ]
  },
  {
   "cell_type": "code",
   "execution_count": 23,
   "id": "30b9f4f2-86be-41d3-a226-bd7724abf15c",
   "metadata": {
    "tags": []
   },
   "outputs": [
    {
     "data": {
      "text/plain": [
       "616651"
      ]
     },
     "execution_count": 23,
     "metadata": {},
     "output_type": "execute_result"
    }
   ],
   "source": [
    "# len(b_data_bucket)\n",
    "#616729\n",
    "length+len(g_data_bucket)\n",
    "# length"
   ]
  },
  {
   "cell_type": "code",
   "execution_count": 25,
   "id": "daa017f7-a198-47f7-a025-7bfc7ec8741f",
   "metadata": {
    "tags": []
   },
   "outputs": [
    {
     "data": {
      "text/plain": [
       "9131"
      ]
     },
     "execution_count": 25,
     "metadata": {},
     "output_type": "execute_result"
    }
   ],
   "source": [
    "len(b_data_bucket)"
   ]
  },
  {
   "cell_type": "code",
   "execution_count": 27,
   "id": "bb575eef-c02b-4691-b57c-5596b1bc93f6",
   "metadata": {
    "tags": []
   },
   "outputs": [],
   "source": [
    "# g_data_bucket[0]"
   ]
  },
  {
   "cell_type": "code",
   "execution_count": 24,
   "id": "e71675f1-fb73-4aea-b612-70157bc97850",
   "metadata": {
    "tags": []
   },
   "outputs": [
    {
     "data": {
      "text/plain": [
       "529744"
      ]
     },
     "execution_count": 24,
     "metadata": {},
     "output_type": "execute_result"
    }
   ],
   "source": [
    "len(b_data_bucket)+len(g_data_bucket)"
   ]
  },
  {
   "cell_type": "code",
   "execution_count": 51,
   "id": "1c653eec-9d43-438e-aed2-d6ba5e5be725",
   "metadata": {
    "tags": []
   },
   "outputs": [
    {
     "data": {
      "text/plain": [
       "78"
      ]
     },
     "execution_count": 51,
     "metadata": {},
     "output_type": "execute_result"
    }
   ],
   "source": [
    "616729-616651"
   ]
  },
  {
   "cell_type": "code",
   "execution_count": 21,
   "id": "b381ac94-8f1f-44e2-834e-16ebae6cc378",
   "metadata": {
    "tags": []
   },
   "outputs": [
    {
     "name": "stderr",
     "output_type": "stream",
     "text": [
      "100%|██████████| 9131/9131 [00:00<00:00, 1025881.01it/s]\n",
      "100%|██████████| 520613/520613 [00:00<00:00, 1381044.30it/s]\n"
     ]
    }
   ],
   "source": [
    "bucket_meta = consolidate_metadata(good_data=g_data_bucket, bad_data=b_data_bucket)"
   ]
  },
  {
   "cell_type": "code",
   "execution_count": 22,
   "id": "e2065ea8-c408-44e9-bef1-e6047e38de05",
   "metadata": {
    "tags": []
   },
   "outputs": [
    {
     "data": {
      "text/plain": [
       "{'total': 529744,\n",
       " 'removed_total': 9131,\n",
       " 'removed_0_3': 5328,\n",
       " 'total_0_3': 136230,\n",
       " 'removed_1_2': 1598,\n",
       " 'total_1_2': 133585,\n",
       " 'removed_0_1': 445,\n",
       " 'total_0_1': 133809,\n",
       " 'removed_-1_2': 1756,\n",
       " 'total_-1_2': 126112}"
      ]
     },
     "execution_count": 22,
     "metadata": {},
     "output_type": "execute_result"
    }
   ],
   "source": [
    "bucket_meta"
   ]
  },
  {
   "cell_type": "code",
   "execution_count": 56,
   "id": "7c7a2ac8-a665-4939-bed0-0911b9404704",
   "metadata": {
    "tags": []
   },
   "outputs": [],
   "source": [
    "# def check_duplicate(data: list):\n",
    "#     bucket = {}\n",
    "    \n",
    "#     # Step 1    \n",
    "#     \"\"\"\n",
    "#     Bucket into mol ids\n",
    "#     \"\"\"\n",
    "#     for event in tqdm(data):\n",
    "#         try:\n",
    "#             bucket[event['mol_id']].append(event) \n",
    "#         except KeyError:\n",
    "#             bucket[event['mol_id']] = [event]\n",
    "            \n",
    "#     duplicate_ids = []\n",
    "#     for mol_id in tqdm(bucket):\n",
    "#         pairs = [event['charge_spin'] for event in bucket[mol_id]]\n",
    "#         # Get a list of all charge_spins that have duplicates.\n",
    "#         duplicate_pairs = [item for item, count in collections.Counter(pairs).items() if count > 1] \n",
    "#         non_dup_pairs = []\n",
    "#         if len(duplicate_pairs)!=0:\n",
    "#             non_dup_pairs = list(set(pairs))\n",
    "#             for i in duplicate_pairs:\n",
    "#                 non_dup_pairs.remove(i)\n",
    "        \n",
    "#         if len(duplicate_pairs)!=0:\n",
    "#             duplicate_ids.append(mol_id)\n",
    "#     return duplicate_ids"
   ]
  },
  {
   "cell_type": "code",
   "execution_count": 57,
   "id": "ae6e2238-426b-41b7-a28f-6c934b00ce86",
   "metadata": {
    "tags": []
   },
   "outputs": [
    {
     "name": "stderr",
     "output_type": "stream",
     "text": [
      "100%|██████████| 519371/519371 [00:00<00:00, 1120617.57it/s]\n",
      "100%|██████████| 133800/133800 [00:00<00:00, 256377.54it/s]\n"
     ]
    },
    {
     "data": {
      "text/plain": [
       "[]"
      ]
     },
     "execution_count": 57,
     "metadata": {},
     "output_type": "execute_result"
    }
   ],
   "source": [
    "# check_duplicate(g_data_bucket)"
   ]
  },
  {
   "cell_type": "markdown",
   "id": "b376a8ef-0aaf-4374-8d66-99aac79c60e4",
   "metadata": {},
   "source": [
    "# Downsample and check changes in bonds"
   ]
  },
  {
   "cell_type": "code",
   "execution_count": 12,
   "id": "40496e48-9715-44c7-89ca-4c709ef34302",
   "metadata": {
    "tags": []
   },
   "outputs": [],
   "source": [
    "def average_force_trajectory(pair):\n",
    "    \"\"\"\n",
    "    This method will take a specfic spin charge pair. At each point in the optimization trajectory, the \n",
    "    \"\"\"\n",
    "    forces = {}\n",
    "    for i in range(len(pair['gradients'])):\n",
    "        temp = []\n",
    "        for atom in pair['gradients'][i]:\n",
    "            res = np.sqrt(sum([j**2 for j in atom]))\n",
    "            temp.append(res)\n",
    "        forces[i] = np.mean(temp)\n",
    "    del forces[0]\n",
    "    return forces"
   ]
  },
  {
   "cell_type": "code",
   "execution_count": 18,
   "id": "bfaf6585-4007-428c-8d50-736bc339f436",
   "metadata": {
    "tags": []
   },
   "outputs": [],
   "source": [
    "from pymatgen.core.structure import Molecule\n",
    "from pymatgen.analysis.graphs import MoleculeGraph\n",
    "from pymatgen.analysis.local_env import OpenBabelNN\n",
    "from pymatgen.util.graph_hashing import weisfeiler_lehman_graph_hash\n",
    "\n",
    "# mol1 = Molecule.from_file(\"test1.xyz\")\n",
    "# mol2 = Molecule.from_file(\"test2.xyz\")\n",
    "\n",
    "# mg1 = MoleculeGraph.with_local_env_strategy(mol1, OpenBabelNN())\n",
    "# mg2 = MoleculeGraph.with_local_env_strategy(mol2, OpenBabelNN())\n",
    "\n",
    "# hash1 = weisfeiler_lehman_graph_hash(mg1.graph.to_undirected(), node_attr=\"specie\")\n",
    "# hash2 = weisfeiler_lehman_graph_hash(mg2.graph.to_undirected(), node_attr=\"specie\")\n",
    "\n",
    "# if hash1 == hash2:\n",
    "#     print(\"ISOMORPHIC!\")\n",
    "# else:\n",
    "#     print(\"DIFFERENT BONDING!\")"
   ]
  },
  {
   "cell_type": "code",
   "execution_count": 78,
   "id": "64e24cf0-b57d-4a56-8596-38903f225987",
   "metadata": {
    "tags": []
   },
   "outputs": [
    {
     "data": {
      "text/plain": [
       "dict_keys(['task_id', 'mol_id', 'name', 'charge', 'spin', 'charge_spin', 'species', 'geometries', 'energies', 'gradients', 'mulliken', 'resp'])"
      ]
     },
     "execution_count": 78,
     "metadata": {},
     "output_type": "execute_result"
    }
   ],
   "source": [
    "g_data_bucket[0].keys()"
   ]
  },
  {
   "cell_type": "code",
   "execution_count": 106,
   "id": "848e4214-7972-4ea7-bdbf-1a9b670ddee8",
   "metadata": {
    "tags": []
   },
   "outputs": [
    {
     "name": "stderr",
     "output_type": "stream",
     "text": [
      "100%|██████████| 520613/520613 [17:22<00:00, 499.29it/s] \n"
     ]
    }
   ],
   "source": [
    "import h5py\n",
    "with h5py.File('/pscratch/sd/m/mavaylon/new_pipe/force_filtered_and_merged_bucket.h5', 'w') as file:\n",
    "    g1 =file.create_group('prior_graph_check')\n",
    "    raw=[]\n",
    "    for item in tqdm(g_data_bucket):\n",
    "        raw.append(str(item))\n",
    "    g1.create_dataset('somewhat_clean_data',data=raw)"
   ]
  },
  {
   "cell_type": "code",
   "execution_count": 107,
   "id": "2a7ebd84-9d82-46b4-b0f4-0f60c7529723",
   "metadata": {
    "tags": []
   },
   "outputs": [],
   "source": [
    "file.close()"
   ]
  },
  {
   "cell_type": "code",
   "execution_count": 4,
   "id": "5c4615f4-170b-4374-ab8c-48f29f10b8b2",
   "metadata": {
    "tags": []
   },
   "outputs": [],
   "source": [
    "import h5py\n",
    "\n",
    "merged_file = h5py.File('/pscratch/sd/m/mavaylon/new_pipe/force_filtered_and_merged_bucket.h5', 'r')\n"
   ]
  },
  {
   "cell_type": "code",
   "execution_count": 6,
   "id": "79691793-09c0-49df-8166-cbe170f8743c",
   "metadata": {
    "tags": []
   },
   "outputs": [],
   "source": [
    "# merged_data=[]\n",
    "# for point in tqdm(merged_file['prior_graph_check']['somewhat_clean_data']):\n",
    "#     point = ast.literal_eval(point.decode('utf-8'))\n",
    "#     merged_data.append(point)\n"
   ]
  },
  {
   "cell_type": "code",
   "execution_count": null,
   "id": "14f7ace0-66a2-4411-8c6c-5da2a561e88c",
   "metadata": {},
   "outputs": [],
   "source": []
  },
  {
   "cell_type": "code",
   "execution_count": 98,
   "id": "97ad345e-8bf6-4dbd-9f9e-da432eef13f8",
   "metadata": {
    "tags": []
   },
   "outputs": [],
   "source": [
    "# atoms = ase.atoms.Atoms(symbols=g_data_bucket[0]['species'],\n",
    "#                         positions=g_data_bucket[0]['geometries'][0])\n",
    "# mol = AseAtomsAdaptor.get_molecule(atoms)\n",
    "# graph = MoleculeGraph.with_local_env_strategy(mol, OpenBabelNN())"
   ]
  },
  {
   "cell_type": "code",
   "execution_count": null,
   "id": "ede4bf4c-9624-4d5e-9621-223e13293880",
   "metadata": {
    "tags": []
   },
   "outputs": [],
   "source": [
    "def build_graph(species, position):\n",
    "    atoms = ase.atoms.Atoms(symbols=species,\n",
    "                            positions=position)\n",
    "    mol = AseAtomsAdaptor.get_molecule(atoms)\n",
    "    graph = MoleculeGraph.with_local_env_strategy(mol, OpenBabelNN())\n",
    "    return graph"
   ]
  },
  {
   "cell_type": "code",
   "execution_count": null,
   "id": "4ecaa092-32a1-41ee-97b2-59c93e672478",
   "metadata": {
    "tags": []
   },
   "outputs": [],
   "source": [
    "def check_bonds(graph1, graph2):\n",
    "    hash1 = weisfeiler_lehman_graph_hash(graph1.graph.to_undirected(), node_attr=\"specie\")\n",
    "    hash2 = weisfeiler_lehman_graph_hash(graph2.graph.to_undirected(), node_attr=\"specie\")\n",
    "\n",
    "    if hash1 == hash2:\n",
    "        return True\n",
    "    else:\n",
    "        return False"
   ]
  },
  {
   "cell_type": "code",
   "execution_count": null,
   "id": "40fc74bc-a29e-4cfd-bbc7-eaff607a3da9",
   "metadata": {},
   "outputs": [],
   "source": [
    "def label_bonds(bucket: list):\n",
    "    for item in tqdm(bucket):\n",
    "        g1 = build_graph(item['species'], item['geometries'][0])\n",
    "        g2 = build_graph(item['species'], item['geometries'][-1])\n",
    "        change = check_bonds(g1,g2)\n",
    "        item['bond_change'] = change"
   ]
  },
  {
   "cell_type": "code",
   "execution_count": 15,
   "id": "cd0d9614-ec78-417a-be3d-8c1d89360fce",
   "metadata": {
    "tags": []
   },
   "outputs": [],
   "source": [
    "def sparse_trajectory(bucket: list):\n",
    "    \"\"\"\n",
    "    This takes the cleaned data and will sparsifiy the optimization trajectories. How this is done will depend on the\n",
    "    charge_spin pair:\n",
    "    - Neutral Singlet (0,1): First and Last\n",
    "    - Other: First, Last, and structure with the highest molecular force other than the First.\n",
    "    \n",
    "    Note: Molecular Force is just the average of the force magnitudes of each atom in the molecule:\n",
    "    \"\"\"\n",
    "    \n",
    "    for pair in tqdm(bucket):\n",
    "        if pair['charge_spin'] == '0,1':\n",
    "            geometries = [pair['geometries'][0], pair['geometries'][-1]]\n",
    "            energies = [pair['energies'][0], pair['energies'][-1]]\n",
    "            grads = [pair['gradients'][0], pair['gradients'][-1]]\n",
    "            mulliken = [pair['mulliken'][0], pair['mulliken'][-1]]\n",
    "            resp = [pair['resp'][0], pair['resp'][-1]]\n",
    "            dipole_moments = [pair['dipole_moments'][0], pair['dipole_moments'][-1]]\n",
    "            dipole_moments_resp = [pair['dipole_moments_resp'][0], pair['dipole_moments_resp'][-1]]\n",
    "\n",
    "            pair['geometries'] = geometries\n",
    "            pair['energies'] = energies\n",
    "            pair['gradients'] = grads\n",
    "            pair['mulliken'] = mulliken\n",
    "            pair['resp'] = resp\n",
    "            pair['dipole_moments'] = dipole_moments\n",
    "            pair['dipole_moments_resp'] = dipole_moments_resp\n",
    "        else:\n",
    "            force_dict = average_force_trajectory(pair)\n",
    "            max_index = max(force_dict, key=force_dict.get)\n",
    "\n",
    "            geometries = [pair['geometries'][0], pair['geometries'][max_index], pair['geometries'][-1]]\n",
    "            energies = [pair['energies'][0], pair['energies'][max_index], pair['energies'][-1]]\n",
    "            grads = [pair['gradients'][0], pair['gradients'][max_index], pair['gradients'][-1]]\n",
    "            mulliken = [pair['mulliken'][0], pair['mulliken'][max_index], pair['mulliken'][-1]]\n",
    "            resp = [pair['resp'][0], pair['resp'][max_index], pair['resp'][-1]]\n",
    "            dipole_moments = [pair['dipole_moments'][0], pair['dipole_moments'][max_index], pair['dipole_moments'][-1]]\n",
    "            dipole_moments_resp = [pair['dipole_moments_resp'][0], pair['dipole_moments_resp'][max_index], pair['dipole_moments_resp'][-1]]\n",
    "\n",
    "            pair['geometries'] = geometries\n",
    "            pair['energies'] = energies\n",
    "            pair['gradients'] = grads\n",
    "            pair['mulliken'] = mulliken\n",
    "            pair['resp'] = resp\n",
    "            pair['dipole_moments'] = dipole_moments\n",
    "            pair['dipole_moments_resp'] = dipole_moments_resp"
   ]
  },
  {
   "cell_type": "code",
   "execution_count": 16,
   "id": "160e277f-94ac-44a8-8093-0a15384bde55",
   "metadata": {
    "tags": []
   },
   "outputs": [
    {
     "name": "stderr",
     "output_type": "stream",
     "text": [
      "100%|██████████| 520613/520613 [06:13<00:00, 1395.61it/s]\n"
     ]
    }
   ],
   "source": [
    "sparse_trajectory(g_data_bucket)"
   ]
  },
  {
   "cell_type": "code",
   "execution_count": 17,
   "id": "93ee63b1-2651-4aaf-b1bf-6bacbaeece5b",
   "metadata": {},
   "outputs": [
    {
     "name": "stderr",
     "output_type": "stream",
     "text": [
      "100%|██████████| 520613/520613 [01:44<00:00, 4996.02it/s]\n"
     ]
    }
   ],
   "source": [
    "import h5py\n",
    "with h5py.File('/pscratch/sd/m/mavaylon/new_pipe/force_filtered_and_merged_bucket.h5', 'w') as file:\n",
    "    g1 =file.create_group('prior_graph_check')\n",
    "    raw=[]\n",
    "    for item in tqdm(g_data_bucket):\n",
    "        raw.append(str(item))\n",
    "    g1.create_dataset('somewhat_clean_data',data=raw)"
   ]
  },
  {
   "cell_type": "code",
   "execution_count": 6,
   "id": "96eb81bb-1a66-4d02-b917-6846ac980bae",
   "metadata": {},
   "outputs": [],
   "source": [
    "def filter_broken_graphs(data: list):\n",
    "    broken = []\n",
    "    good = []\n",
    "    \n",
    "    for item in tqdm(data):\n",
    "        if item['charge_spin'] == '0,1':\n",
    "            continue\n",
    "        for traj_point in item['geometries'][1:]: # Ignore the first is in the filter_broken_graphs\n",
    "                graph = build_graph(item['species'], traj_point)\n",
    "                connected = nx.is_connected(graph.graph.to_undirected())\n",
    "                if not connected:\n",
    "                    broken.append(item)\n",
    "                else:\n",
    "                    good.append(item)\n",
    "\n",
    "    return good, broken"
   ]
  },
  {
   "cell_type": "code",
   "execution_count": 16,
   "id": "0384b979-e91b-4b8e-8ab4-30470a906a7e",
   "metadata": {},
   "outputs": [],
   "source": [
    "import h5py\n",
    "merged_file = h5py.File('/pscratch/sd/m/mavaylon/new_pipe/force_filtered_and_merged_bucket.h5', 'r')"
   ]
  },
  {
   "cell_type": "code",
   "execution_count": 11,
   "id": "1e5864b1-12b1-42b2-a2a6-42b1d26859f0",
   "metadata": {
    "tags": []
   },
   "outputs": [],
   "source": [
    "# merged_file.close()"
   ]
  },
  {
   "cell_type": "code",
   "execution_count": 17,
   "id": "b6efd062-2e34-4fc4-a5c7-a4cf4f3e2158",
   "metadata": {
    "tags": []
   },
   "outputs": [
    {
     "name": "stderr",
     "output_type": "stream",
     "text": [
      "100%|██████████| 520613/520613 [12:00<00:00, 722.94it/s] \n"
     ]
    }
   ],
   "source": [
    "merged_data=[]\n",
    "for point in tqdm(merged_file['prior_graph_check']['somewhat_clean_data']):\n",
    "    point = ast.literal_eval(point.decode('utf-8'))\n",
    "    merged_data.append(point)\n"
   ]
  },
  {
   "cell_type": "code",
   "execution_count": 19,
   "id": "1ff2dd8f-ea56-4f4f-9c9b-4f33f2c25842",
   "metadata": {
    "tags": []
   },
   "outputs": [
    {
     "data": {
      "text/plain": [
       "{'-1,2', '0,1', '0,3', '1,2'}"
      ]
     },
     "execution_count": 19,
     "metadata": {},
     "output_type": "execute_result"
    }
   ],
   "source": [
    "charge = []\n",
    "for item in merged_data:\n",
    "    charge.append(item['charge_spin'])\n",
    "set(charge)"
   ]
  },
  {
   "cell_type": "code",
   "execution_count": 7,
   "id": "81b13af6-ea87-4607-ad7c-ae39a2b93cf8",
   "metadata": {
    "tags": []
   },
   "outputs": [],
   "source": [
    "merged_file.close()"
   ]
  },
  {
   "cell_type": "code",
   "execution_count": 3,
   "id": "a8a84668-b14e-4569-8c79-aaf108a93dc4",
   "metadata": {},
   "outputs": [],
   "source": [
    "# filtered_good, broken =filter_broken_graphs(merged_data)"
   ]
  },
  {
   "cell_type": "code",
   "execution_count": null,
   "id": "e6749382-9984-4bdc-a413-394ceb55bfb9",
   "metadata": {
    "tags": []
   },
   "outputs": [],
   "source": [
    "import h5py\n",
    "with h5py.File('/pscratch/sd/m/mavaylon/new_pipe/broken.h5', 'w') as file:\n",
    "    g1 =file.create_group('broken')\n",
    "    bbd=[]\n",
    "    for item in broken:\n",
    "        bbd.append(str(item))\n",
    "    g1.create_dataset('broken_data',data=bbd)"
   ]
  },
  {
   "cell_type": "code",
   "execution_count": 10,
   "id": "19ae5420-cd71-46ac-91f6-d87d6a8fe948",
   "metadata": {
    "tags": []
   },
   "outputs": [
    {
     "ename": "NameError",
     "evalue": "name 'file' is not defined",
     "output_type": "error",
     "traceback": [
      "\u001b[0;31m---------------------------------------------------------------------------\u001b[0m",
      "\u001b[0;31mNameError\u001b[0m                                 Traceback (most recent call last)",
      "Cell \u001b[0;32mIn[10], line 1\u001b[0m\n\u001b[0;32m----> 1\u001b[0m \u001b[43mfile\u001b[49m\u001b[38;5;241m.\u001b[39mclose()\n",
      "\u001b[0;31mNameError\u001b[0m: name 'file' is not defined"
     ]
    }
   ],
   "source": [
    "file.close()"
   ]
  },
  {
   "cell_type": "code",
   "execution_count": null,
   "id": "9f5d30f8-527c-44f8-9964-d1e6146f62d7",
   "metadata": {
    "tags": []
   },
   "outputs": [],
   "source": [
    "# import h5py\n",
    "# with h5py.File('/pscratch/sd/m/mavaylon/new_pipe/filtered_out_broken.h5', 'w') as file:\n",
    "#     g1 =file.create_group('good')\n",
    "#     bbd=[]\n",
    "#     for item in filtered_good:\n",
    "#         bbd.append(str(item))\n",
    "#     g1.create_dataset('good_data',data=bbd)"
   ]
  },
  {
   "cell_type": "code",
   "execution_count": 15,
   "id": "d39092ab-48a7-480b-b0e8-edebe1bd7639",
   "metadata": {},
   "outputs": [],
   "source": [
    "import h5py\n",
    "\n",
    "gg=h5py.File('/pscratch/sd/m/mavaylon/new_pipe/filtered_out_broken.h5', 'r')"
   ]
  },
  {
   "cell_type": "code",
   "execution_count": 14,
   "id": "8c05826b-3b57-48ef-976c-1df05664bdbc",
   "metadata": {
    "tags": []
   },
   "outputs": [],
   "source": [
    "gg.close()"
   ]
  },
  {
   "cell_type": "code",
   "execution_count": 6,
   "id": "45f84773-21d0-48bd-9014-c6786af8df36",
   "metadata": {
    "tags": []
   },
   "outputs": [],
   "source": [
    "# merged_data=[]\n",
    "# for point in tqdm(merged_file['broken']['broken_data']):\n",
    "#     point = ast.literal_eval(point.decode('utf-8'))\n",
    "#     merged_data.append(point)"
   ]
  },
  {
   "cell_type": "code",
   "execution_count": 14,
   "id": "30eb2d22-f93d-4c14-b79a-4061600fe579",
   "metadata": {
    "tags": []
   },
   "outputs": [
    {
     "name": "stderr",
     "output_type": "stream",
     "text": [
      "100%|██████████| 747828/747828 [18:27<00:00, 675.14it/s]  \n"
     ]
    }
   ],
   "source": [
    "import h5py\n",
    "\n",
    "merged_data=[]\n",
    "for point in tqdm(gg['good']['good_data']):\n",
    "    point = ast.literal_eval(point.decode('utf-8'))\n",
    "    merged_data.append(point)"
   ]
  },
  {
   "cell_type": "code",
   "execution_count": 15,
   "id": "f5e8009b-d542-42dd-8524-9a5b20b91a3f",
   "metadata": {
    "tags": []
   },
   "outputs": [
    {
     "data": {
      "text/plain": [
       "dict_keys(['task_id', 'mol_id', 'name', 'charge', 'spin', 'charge_spin', 'species', 'geometries', 'energies', 'gradients', 'mulliken', 'resp', 'dipole_moments', 'dipole_moments_resp'])"
      ]
     },
     "execution_count": 15,
     "metadata": {},
     "output_type": "execute_result"
    }
   ],
   "source": [
    "merged_data[0].keys()"
   ]
  },
  {
   "cell_type": "code",
   "execution_count": 1,
   "id": "0c14cae7-7b96-45ca-a5c7-feac5db59676",
   "metadata": {},
   "outputs": [],
   "source": [
    "label_bonds(merged_data)"
   ]
  },
  {
   "cell_type": "code",
   "execution_count": 29,
   "id": "84f5ac0e-4ce8-4961-b379-bdd7888eba89",
   "metadata": {
    "tags": []
   },
   "outputs": [
    {
     "ename": "KeyboardInterrupt",
     "evalue": "",
     "output_type": "error",
     "traceback": [
      "\u001b[0;31m---------------------------------------------------------------------------\u001b[0m",
      "\u001b[0;31mKeyboardInterrupt\u001b[0m                         Traceback (most recent call last)",
      "Cell \u001b[0;32mIn[29], line 6\u001b[0m\n\u001b[1;32m      4\u001b[0m bbd\u001b[38;5;241m=\u001b[39m[]\n\u001b[1;32m      5\u001b[0m \u001b[38;5;28;01mfor\u001b[39;00m item \u001b[38;5;129;01min\u001b[39;00m merged_data:\n\u001b[0;32m----> 6\u001b[0m     bbd\u001b[38;5;241m.\u001b[39mappend(\u001b[38;5;28mstr\u001b[39m(item))\n\u001b[1;32m      7\u001b[0m g1\u001b[38;5;241m.\u001b[39mcreate_dataset(\u001b[38;5;124m'\u001b[39m\u001b[38;5;124mgood_data\u001b[39m\u001b[38;5;124m'\u001b[39m,data\u001b[38;5;241m=\u001b[39mbbd)\n",
      "\u001b[0;31mKeyboardInterrupt\u001b[0m: "
     ]
    }
   ],
   "source": [
    "import h5py\n",
    "with h5py.File('/pscratch/sd/m/mavaylon/new_pipe/labeled_filtered_data.h5', 'w') as file:\n",
    "    g1 =file.create_group('good')\n",
    "    bbd=[]\n",
    "    for item in merged_data:\n",
    "        bbd.append(str(item))\n",
    "    g1.create_dataset('good_data',data=bbd)"
   ]
  },
  {
   "cell_type": "code",
   "execution_count": 3,
   "id": "8fa97ec7-f225-4d5c-bdce-941f9a07d732",
   "metadata": {},
   "outputs": [],
   "source": [
    "# ### read in all clean data\n",
    "import h5py\n",
    "\n",
    "gg=h5py.File('/pscratch/sd/m/mavaylon/new_pipe/redone_2024_5_10_full_filtered.h5', 'r')"
   ]
  },
  {
   "cell_type": "code",
   "execution_count": 5,
   "id": "3824268e-d232-452f-a3a1-e6972ef94a4f",
   "metadata": {
    "tags": []
   },
   "outputs": [
    {
     "name": "stderr",
     "output_type": "stream",
     "text": [
      "100%|██████████| 1014057/1014057 [25:30<00:00, 662.70it/s] \n"
     ]
    }
   ],
   "source": [
    "# import h5py\n",
    "\n",
    "merged_all_clean_data=[]\n",
    "for point in tqdm(gg['clean_data']['data']):\n",
    "    point = ast.literal_eval(point.decode('utf-8'))\n",
    "    merged_all_clean_data.append(point)"
   ]
  },
  {
   "cell_type": "code",
   "execution_count": 7,
   "id": "b3ed756e-7f2e-4782-9cd5-30ce40ed8a97",
   "metadata": {
    "tags": []
   },
   "outputs": [
    {
     "data": {
      "text/plain": [
       "<HDF5 group \"/good\" (0 members)>"
      ]
     },
     "execution_count": 7,
     "metadata": {},
     "output_type": "execute_result"
    }
   ],
   "source": [
    "gg['good']"
   ]
  },
  {
   "cell_type": "code",
   "execution_count": null,
   "id": "0549d13b-69dc-45db-b013-7306e32dd7e1",
   "metadata": {},
   "outputs": [],
   "source": []
  },
  {
   "cell_type": "code",
   "execution_count": null,
   "id": "e668e531-c6ec-4396-8686-d114601a0796",
   "metadata": {},
   "outputs": [],
   "source": []
  },
  {
   "cell_type": "code",
   "execution_count": null,
   "id": "7fd23698-2374-49d1-9504-d389fd61ab07",
   "metadata": {},
   "outputs": [],
   "source": []
  },
  {
   "cell_type": "code",
   "execution_count": null,
   "id": "2c992e24-c4e5-48e8-8e48-c772f04ce9d4",
   "metadata": {},
   "outputs": [],
   "source": []
  },
  {
   "cell_type": "code",
   "execution_count": null,
   "id": "a07ccc86-dce0-42c3-bc2c-fd6813d75a04",
   "metadata": {},
   "outputs": [],
   "source": []
  },
  {
   "cell_type": "code",
   "execution_count": null,
   "id": "742e2bcd-4a50-415a-a35d-9386742af501",
   "metadata": {},
   "outputs": [],
   "source": []
  },
  {
   "cell_type": "code",
   "execution_count": 6,
   "id": "df93ed7a-e05d-4692-abcc-74d5a972bf8b",
   "metadata": {
    "tags": []
   },
   "outputs": [],
   "source": [
    "brok = '/pscratch/sd/m/mavaylon/new_pipe/broken.h5'\n",
    "brok_file = h5py.File(brok, 'r')"
   ]
  },
  {
   "cell_type": "code",
   "execution_count": 7,
   "id": "63a850a9-bfc7-4ebe-9dbb-e9441625a7ce",
   "metadata": {
    "tags": []
   },
   "outputs": [
    {
     "name": "stderr",
     "output_type": "stream",
     "text": [
      "100%|██████████| 26668/26668 [00:37<00:00, 710.42it/s]\n"
     ]
    }
   ],
   "source": [
    "broken_data=[]\n",
    "for point in tqdm(brok_file['broken']['broken_data']):\n",
    "    point = ast.literal_eval(point.decode('utf-8'))\n",
    "    broken_data.append(point)"
   ]
  },
  {
   "cell_type": "code",
   "execution_count": 8,
   "id": "abf50fee-ca07-40b4-a200-904399cb0e8c",
   "metadata": {
    "tags": []
   },
   "outputs": [
    {
     "name": "stderr",
     "output_type": "stream",
     "text": [
      "100%|██████████| 26668/26668 [00:00<00:00, 1781024.78it/s]\n",
      "100%|██████████| 747828/747828 [00:00<00:00, 1624497.09it/s]\n"
     ]
    }
   ],
   "source": [
    "meta = consolidate_metadata(good_data=merged_all_clean_data, bad_data=broken_data)"
   ]
  },
  {
   "cell_type": "code",
   "execution_count": 9,
   "id": "14a6c491-2e51-4c3d-b705-249878f752b6",
   "metadata": {
    "tags": []
   },
   "outputs": [
    {
     "data": {
      "text/plain": [
       "{'total': 774496,\n",
       " 'removed_total': 26668,\n",
       " 'removed_1,2': 3780,\n",
       " 'total_1,2': 263974,\n",
       " 'removed_-1,2': 2220,\n",
       " 'total_-1,2': 248712,\n",
       " 'removed_0,3': 20665,\n",
       " 'total_0,3': 261804}"
      ]
     },
     "execution_count": 9,
     "metadata": {},
     "output_type": "execute_result"
    }
   ],
   "source": [
    "meta"
   ]
  },
  {
   "cell_type": "code",
   "execution_count": 10,
   "id": "46cb410f-5e15-4ae9-96ab-db8b98070f0d",
   "metadata": {
    "tags": []
   },
   "outputs": [],
   "source": [
    "cs = []\n",
    "for item in merged_all_clean_data:\n",
    "    cs.append(item['charge_spin'])"
   ]
  },
  {
   "cell_type": "code",
   "execution_count": 11,
   "id": "357dfadc-3e05-45ea-8071-029ac4a09531",
   "metadata": {
    "tags": []
   },
   "outputs": [
    {
     "data": {
      "text/plain": [
       "{'-1,2', '0,3', '1,2'}"
      ]
     },
     "execution_count": 11,
     "metadata": {},
     "output_type": "execute_result"
    }
   ],
   "source": [
    "set(cs)"
   ]
  },
  {
   "cell_type": "code",
   "execution_count": null,
   "id": "34801ef3-ef85-4f15-ae2a-0e55a29cd137",
   "metadata": {},
   "outputs": [],
   "source": []
  },
  {
   "cell_type": "code",
   "execution_count": 6,
   "id": "8bde541a-e661-4e94-9345-ffeb14fb8e34",
   "metadata": {},
   "outputs": [],
   "source": [
    "# merged_all_clean_data[0]"
   ]
  },
  {
   "cell_type": "code",
   "execution_count": null,
   "id": "34170f3e-9d7f-4e45-9856-dc24d14ec520",
   "metadata": {},
   "outputs": [],
   "source": []
  },
  {
   "cell_type": "code",
   "execution_count": null,
   "id": "20d4090b-eab2-4683-8a9c-c3890114e6f5",
   "metadata": {},
   "outputs": [],
   "source": []
  },
  {
   "cell_type": "code",
   "execution_count": null,
   "id": "f004e936-557d-469f-911d-a95213eec23f",
   "metadata": {},
   "outputs": [],
   "source": []
  },
  {
   "cell_type": "code",
   "execution_count": 312,
   "id": "eec92482-ef43-45aa-b4cd-9e5cd9c868a2",
   "metadata": {
    "tags": []
   },
   "outputs": [],
   "source": [
    "d = []\n",
    "for item in merged_all_clean_data:\n",
    "    d.append(item['mol_id'])"
   ]
  },
  {
   "cell_type": "code",
   "execution_count": 7,
   "id": "6f09ab82-de8b-4260-89d1-2359b8cc8a85",
   "metadata": {
    "tags": []
   },
   "outputs": [],
   "source": [
    "add_unique_id(merged_all_clean_data)"
   ]
  },
  {
   "cell_type": "code",
   "execution_count": 314,
   "id": "c0c833a3-20ef-4f09-8330-f67bfe579c4b",
   "metadata": {
    "tags": []
   },
   "outputs": [
    {
     "data": {
      "text/plain": [
       "133595"
      ]
     },
     "execution_count": 314,
     "metadata": {},
     "output_type": "execute_result"
    }
   ],
   "source": [
    "len(set(d))"
   ]
  },
  {
   "cell_type": "code",
   "execution_count": 8,
   "id": "309fa604-b7ab-4e77-a909-744dac6c88d4",
   "metadata": {
    "tags": []
   },
   "outputs": [],
   "source": [
    "dataset = {}\n",
    "for item in merged_all_clean_data:\n",
    "    if item['mol_cs'] in dataset.keys():\n",
    "        continue\n",
    "    else:\n",
    "        dataset[item['mol_cs']] = item"
   ]
  },
  {
   "cell_type": "code",
   "execution_count": 9,
   "id": "c31abad0-c51e-46d4-8fb0-29e0f20e7f7a",
   "metadata": {
    "tags": []
   },
   "outputs": [],
   "source": [
    "cleaned = [dataset[x] for x in dataset.keys()]"
   ]
  },
  {
   "cell_type": "code",
   "execution_count": 10,
   "id": "50dfb4e2-9519-4bdd-8d37-3e1714b77604",
   "metadata": {
    "tags": []
   },
   "outputs": [
    {
     "data": {
      "text/plain": [
       "511489"
      ]
     },
     "execution_count": 10,
     "metadata": {},
     "output_type": "execute_result"
    }
   ],
   "source": [
    "len(cleaned)"
   ]
  },
  {
   "cell_type": "code",
   "execution_count": 11,
   "id": "9c080b8d-d42f-4779-99e9-53a3c26f403a",
   "metadata": {
    "tags": []
   },
   "outputs": [],
   "source": [
    "cs_pairs = []\n",
    "for item in cleaned:\n",
    "    cs_pairs.append(item['charge_spin'])"
   ]
  },
  {
   "cell_type": "code",
   "execution_count": 12,
   "id": "a908e356-d21e-45fa-b6a2-059c75f54f20",
   "metadata": {
    "tags": []
   },
   "outputs": [
    {
     "data": {
      "text/plain": [
       "{'-1_2', '0_1', '0_3', '1_2'}"
      ]
     },
     "execution_count": 12,
     "metadata": {},
     "output_type": "execute_result"
    }
   ],
   "source": [
    "set(cs_pairs)"
   ]
  },
  {
   "cell_type": "code",
   "execution_count": 225,
   "id": "1c232e66-8cc4-4094-bf75-b048358bbc97",
   "metadata": {
    "tags": []
   },
   "outputs": [],
   "source": [
    "weird={}\n",
    "for item in merged_all_clean_data:\n",
    "    try:\n",
    "        weird[item['mol_id']].append(item)\n",
    "    except KeyError:\n",
    "        weird[item['mol_id']]=[item]\n"
   ]
  },
  {
   "cell_type": "code",
   "execution_count": 182,
   "id": "c0ebcd19-5750-4840-b144-49c128c8d5e7",
   "metadata": {
    "tags": []
   },
   "outputs": [],
   "source": [
    "# weird[3771]"
   ]
  },
  {
   "cell_type": "code",
   "execution_count": 191,
   "id": "7048d427-bba2-4679-9482-9a70250c511e",
   "metadata": {
    "tags": []
   },
   "outputs": [],
   "source": [
    "# weird[3771][1]['geometries']"
   ]
  },
  {
   "cell_type": "code",
   "execution_count": null,
   "id": "8ff2bc5b-cf1d-4b54-b373-20c7701f70b9",
   "metadata": {},
   "outputs": [],
   "source": []
  },
  {
   "cell_type": "code",
   "execution_count": 226,
   "id": "9a687e5e-39b4-4171-b2e7-ca43e4f5b08f",
   "metadata": {
    "tags": []
   },
   "outputs": [
    {
     "name": "stdout",
     "output_type": "stream",
     "text": [
      "3771-1,2\n",
      "3771-1,2\n",
      "37711,2\n",
      "37711,2\n",
      "37710,3\n",
      "37710,3\n"
     ]
    }
   ],
   "source": [
    "for item in weird[3771]:\n",
    "    print(item['mol_cs'])"
   ]
  },
  {
   "cell_type": "code",
   "execution_count": 207,
   "id": "e324778e-2eeb-4948-abe9-9f9cab5ca393",
   "metadata": {},
   "outputs": [],
   "source": [
    "weird_clean={}\n",
    "for item in g_data_bucket:\n",
    "    try:\n",
    "        weird_clean[item['mol_id']].append(item)\n",
    "    except KeyError:\n",
    "        weird_clean[item['mol_id']]=[item]\n"
   ]
  },
  {
   "cell_type": "code",
   "execution_count": 208,
   "id": "cd3157b9-5ba8-45cd-8d24-ea717bf5430d",
   "metadata": {},
   "outputs": [
    {
     "data": {
      "text/plain": [
       "4"
      ]
     },
     "execution_count": 208,
     "metadata": {},
     "output_type": "execute_result"
    }
   ],
   "source": [
    "len(weird_clean[3771])"
   ]
  },
  {
   "cell_type": "code",
   "execution_count": 209,
   "id": "bde37ff9-2c51-4f15-9848-1207905f45fc",
   "metadata": {},
   "outputs": [
    {
     "name": "stdout",
     "output_type": "stream",
     "text": [
      "-1_2\n",
      "0_1\n",
      "1_2\n",
      "0_3\n"
     ]
    }
   ],
   "source": [
    "for item in weird_clean[3771]:\n",
    "    print(item['charge_spin'])"
   ]
  },
  {
   "cell_type": "code",
   "execution_count": 188,
   "id": "fcd22799-f8dc-4cf2-a2f9-4afbc0229640",
   "metadata": {
    "tags": []
   },
   "outputs": [
    {
     "data": {
      "text/plain": [
       "[[0.0569186954, 1.4096674944, -0.001709418],\n",
       " [0.0054170666, -0.0318018292, 0.028159567],\n",
       " [-0.1412830738, -0.780151998, -1.0964728289],\n",
       " [-0.1538334258, -2.0052618265, -0.7755050913],\n",
       " [-0.0135500421, -2.0765450424, 0.5824755282],\n",
       " [0.0950753971, -0.8218986107, 1.1630756251],\n",
       " [0.23712019, -0.3799626985, 2.3527380281],\n",
       " [1.0068618333, 1.7621820669, 0.4098898295],\n",
       " [-0.0418037514, 1.7243597933, -1.0403574998],\n",
       " [-0.7560860897, 1.8288722166, 0.5977301171],\n",
       " [0.0001169509, -2.9735126163, 1.0342690395],\n",
       " [0.2803973596, -1.1322914296, 3.0343394934]]"
      ]
     },
     "execution_count": 188,
     "metadata": {},
     "output_type": "execute_result"
    }
   ],
   "source": [
    "weird_clean[3771][0]['geometries'][0]"
   ]
  },
  {
   "cell_type": "code",
   "execution_count": 187,
   "id": "2da9d675-df47-40ca-ae68-7b4fd6dbf28f",
   "metadata": {
    "tags": []
   },
   "outputs": [
    {
     "data": {
      "text/plain": [
       "[[[0.0569186954, 1.4096674944, -0.001709418],\n",
       "  [0.0054170666, -0.0318018292, 0.028159567],\n",
       "  [-0.1412830738, -0.780151998, -1.0964728289],\n",
       "  [-0.1538334258, -2.0052618265, -0.7755050913],\n",
       "  [-0.0135500421, -2.0765450424, 0.5824755282],\n",
       "  [0.0950753971, -0.8218986107, 1.1630756251],\n",
       "  [0.23712019, -0.3799626985, 2.3527380281],\n",
       "  [1.0068618333, 1.7621820669, 0.4098898295],\n",
       "  [-0.0418037514, 1.7243597933, -1.0403574998],\n",
       "  [-0.7560860897, 1.8288722166, 0.5977301171],\n",
       "  [0.0001169509, -2.9735126163, 1.0342690395],\n",
       "  [0.2803973596, -1.1322914296, 3.0343394934]],\n",
       " [[0.0867739062, 1.3777589608, 0.0374712789],\n",
       "  [0.2034619864, -0.0687018174, -0.0668581654],\n",
       "  [-0.2232239967, -0.8282043134, -1.2684965992],\n",
       "  [-0.384621745, -2.104711961, -0.7519232929],\n",
       "  [-0.2359758937, -2.0176412787, 0.7008235787],\n",
       "  [0.145372515, -0.768062487, 1.1289319685],\n",
       "  [0.3810238253, -0.3356449745, 2.3155674574],\n",
       "  [0.9053796924, 1.785948148, 0.6556575597],\n",
       "  [0.1401768268, 1.8035430311, -0.9704192777],\n",
       "  [-0.8758794056, 1.639248239, 0.492053642],\n",
       "  [0.2211625821, -2.8725847334, 1.0331321215],\n",
       "  [0.2117008168, -1.0872912936, 2.9826921184]],\n",
       " [[0.0550200831, 1.3760151658, -0.0025046349],\n",
       "  [0.1634169997, -0.0462754995, -0.0147713565],\n",
       "  [-0.4514656526, -0.753576684, -1.0935020987],\n",
       "  [-0.4403771321, -2.0462515703, -0.7279661713],\n",
       "  [-0.2892510625, -2.0328509809, 0.7069968209],\n",
       "  [0.2003864625, -0.8040755433, 1.1107625705],\n",
       "  [0.5878579517, -0.3945011267, 2.2869356164],\n",
       "  [0.4585071236, 1.7436487053, 0.9479113116],\n",
       "  [0.6179885483, 1.810462212, -0.8416980924],\n",
       "  [-1.0025190975, 1.6867270252, -0.102754454],\n",
       "  [0.1724908785, -2.8580586465, 1.0650977505],\n",
       "  [0.5032960073, -1.1576075373, 2.954125128]]]"
      ]
     },
     "execution_count": 187,
     "metadata": {},
     "output_type": "execute_result"
    }
   ],
   "source": [
    "weird_clean[3771][1]['geometries']"
   ]
  },
  {
   "cell_type": "code",
   "execution_count": 167,
   "id": "ef24bf92-a1e3-4d53-aed0-baa034d4565c",
   "metadata": {},
   "outputs": [
    {
     "data": {
      "text/plain": [
       "[[[0.0569186954, 1.4096674944, -0.001709418],\n",
       "  [0.0054170666, -0.0318018292, 0.028159567],\n",
       "  [-0.1412830738, -0.780151998, -1.0964728289],\n",
       "  [-0.1538334258, -2.0052618265, -0.7755050913],\n",
       "  [-0.0135500421, -2.0765450424, 0.5824755282],\n",
       "  [0.0950753971, -0.8218986107, 1.1630756251],\n",
       "  [0.23712019, -0.3799626985, 2.3527380281],\n",
       "  [1.0068618333, 1.7621820669, 0.4098898295],\n",
       "  [-0.0418037514, 1.7243597933, -1.0403574998],\n",
       "  [-0.7560860897, 1.8288722166, 0.5977301171],\n",
       "  [0.0001169509, -2.9735126163, 1.0342690395],\n",
       "  [0.2803973596, -1.1322914296, 3.0343394934]],\n",
       " [[0.0867739062, 1.3777589608, 0.0374712789],\n",
       "  [0.2034619864, -0.0687018174, -0.0668581654],\n",
       "  [-0.2232239967, -0.8282043134, -1.2684965992],\n",
       "  [-0.384621745, -2.104711961, -0.7519232929],\n",
       "  [-0.2359758937, -2.0176412787, 0.7008235787],\n",
       "  [0.145372515, -0.768062487, 1.1289319685],\n",
       "  [0.3810238253, -0.3356449745, 2.3155674574],\n",
       "  [0.9053796924, 1.785948148, 0.6556575597],\n",
       "  [0.1401768268, 1.8035430311, -0.9704192777],\n",
       "  [-0.8758794056, 1.639248239, 0.492053642],\n",
       "  [0.2211625821, -2.8725847334, 1.0331321215],\n",
       "  [0.2117008168, -1.0872912936, 2.9826921184]],\n",
       " [[0.0550200831, 1.3760151658, -0.0025046349],\n",
       "  [0.1634169997, -0.0462754995, -0.0147713565],\n",
       "  [-0.4514656526, -0.753576684, -1.0935020987],\n",
       "  [-0.4403771321, -2.0462515703, -0.7279661713],\n",
       "  [-0.2892510625, -2.0328509809, 0.7069968209],\n",
       "  [0.2003864625, -0.8040755433, 1.1107625705],\n",
       "  [0.5878579517, -0.3945011267, 2.2869356164],\n",
       "  [0.4585071236, 1.7436487053, 0.9479113116],\n",
       "  [0.6179885483, 1.810462212, -0.8416980924],\n",
       "  [-1.0025190975, 1.6867270252, -0.102754454],\n",
       "  [0.1724908785, -2.8580586465, 1.0650977505],\n",
       "  [0.5032960073, -1.1576075373, 2.954125128]]]"
      ]
     },
     "execution_count": 167,
     "metadata": {},
     "output_type": "execute_result"
    }
   ],
   "source": [
    "weird[3771][0]['geometries']"
   ]
  },
  {
   "cell_type": "markdown",
   "id": "ff17f83c-20fb-438e-b52e-c77ad35e24e6",
   "metadata": {},
   "source": [
    "## Add partial charge"
   ]
  },
  {
   "cell_type": "code",
   "execution_count": 20,
   "id": "b0747fad-fdf7-46a4-8e77-e1a68a3794e6",
   "metadata": {
    "tags": []
   },
   "outputs": [],
   "source": [
    "def transform_partial_spin_charge(data: list):\n",
    "    for point in tqdm(data):\n",
    "        pc = []\n",
    "        ps = []\n",
    "        for stamp in point['mulliken']:\n",
    "            substamp_pc = []\n",
    "            substamp_ps = []\n",
    "            for atom in stamp:\n",
    "                substamp_pc.append([atom[0]])\n",
    "                substamp_ps.append([atom[1]])\n",
    "            pc.append(substamp_pc)\n",
    "            ps.append(substamp_ps)\n",
    "        point['mulliken_partial_spin'] = ps\n",
    "        point['mulliken_partial_charge'] = pc"
   ]
  },
  {
   "cell_type": "code",
   "execution_count": 21,
   "id": "bdaf2f3c-7136-47bf-a436-b41b1c9c5795",
   "metadata": {
    "tags": []
   },
   "outputs": [
    {
     "name": "stderr",
     "output_type": "stream",
     "text": [
      "100%|██████████| 747828/747828 [00:45<00:00, 16431.80it/s]\n"
     ]
    }
   ],
   "source": [
    "transform_partial_spin_charge(merged_all_clean_data)"
   ]
  },
  {
   "cell_type": "markdown",
   "id": "a5689c50-f80d-434c-a11e-6ac0a03ecf19",
   "metadata": {},
   "source": [
    "# Split"
   ]
  },
  {
   "cell_type": "code",
   "execution_count": 132,
   "id": "e0b79d81-6c3b-4083-b05f-0da30564727b",
   "metadata": {
    "tags": []
   },
   "outputs": [],
   "source": [
    "# def __mol_id_weight_bins(data: list):\n",
    "#     \"\"\"\n",
    "#     This method takes in the output from removing the broken graphs.\n",
    "    \n",
    "#     1. Bin the data by mol_ids in a dict.\n",
    "\n",
    "#     For each mol_id, calculate the molecule weight based off the atoms. Combine that with that type of atoms used.\n",
    "#     This weight+type serves as a key for a dict. The values are then the mol_ids that match the key.\n",
    "    \n",
    "#     The intent is create a dict such that we can sample from evenly based on weight. We also want to ensure even\n",
    "#     representation of atom type across train/val/test, hence why we include the atoms used in the key.\n",
    "#     \"\"\"\n",
    "#     bucket={}\n",
    "#     for item in tqdm(data):\n",
    "#         try:\n",
    "#             bucket[item['mol_id']].append(item)\n",
    "#         except KeyError:\n",
    "#             bucket[item['mol_id']] = [item]\n",
    "    \n",
    "    \n",
    "#     weight_dist = {}\n",
    "#     weight_dict = {}\n",
    "#     f = {}\n",
    "#     for mol_id in tqdm(bucket):\n",
    "#         species = bucket[mol_id][0]['species']\n",
    "#         species_num = []\n",
    "#         species_sorted = ''.join(sorted(set(species)))\n",
    "#         for element in species:\n",
    "#             species_num.append(elements_dict[element])\n",
    "\n",
    "#         try:\n",
    "#             weight_dist[str(sum(species_num))]+=1\n",
    "#         except KeyError:\n",
    "#             weight_dist[str(sum(species_num))]=1\n",
    "            \n",
    "#         try:\n",
    "#             weight_dict[str(sum(species_num))+'_'+species_sorted].append(mol_id)\n",
    "\n",
    "#         except KeyError:\n",
    "#             weight_dict[str(sum(species_num))+'_'+species_sorted] = [mol_id]\n",
    "    \n",
    "#     return weight_dict, weight_dist, bucket\n"
   ]
  },
  {
   "cell_type": "code",
   "execution_count": 133,
   "id": "bdaf0d32-741e-4a8e-9441-e43766fca183",
   "metadata": {
    "tags": []
   },
   "outputs": [],
   "source": [
    "# weight_dict, weight_dist, bucket = __mol_id_weight_bins(merged_all_clean_data)"
   ]
  },
  {
   "cell_type": "code",
   "execution_count": null,
   "id": "5631fb88-02ba-4b3f-bf0b-e191c243cc66",
   "metadata": {},
   "outputs": [],
   "source": []
  },
  {
   "cell_type": "code",
   "execution_count": 134,
   "id": "fdae240a-ff8e-4bd4-869a-f8747a497f8f",
   "metadata": {
    "tags": []
   },
   "outputs": [],
   "source": [
    "# for key in tqdm(weight_dict):\n",
    "#     species = []\n",
    "#     for mol_id in weight_dict[key]:\n",
    "#         species.append(mol_id['species'])\n",
    "    \n",
    "#     if len(list(set(species))) != 1:\n",
    "#         print(species)\n",
    "#         print(key)\n",
    "#         break"
   ]
  },
  {
   "cell_type": "code",
   "execution_count": 13,
   "id": "69699716-ee3d-472e-8ea3-850a264d2b30",
   "metadata": {
    "tags": []
   },
   "outputs": [],
   "source": [
    "def get_molecule_weight(data: list):\n",
    "    dict_dist = {}\n",
    "    data_dict = {}\n",
    "    for item in tqdm(data):\n",
    "        species_num = []\n",
    "        species=''.join((sorted(item['species'])))\n",
    "        \n",
    "        for element in item['species']:\n",
    "            species_num.append(elements_dict[element])\n",
    "\n",
    "        species_sum = sum(species_num)\n",
    "        try:\n",
    "            dict_dist[species].append(species_sum)\n",
    "            # python does a weird thing floats e.g., {126.15499999999993, 126.15499999999994}\n",
    "            dict_dist[species] = [dict_dist[species][0]]*len(dict_dist[species])\n",
    "        except KeyError:\n",
    "            dict_dist[species] = [species_sum]\n",
    "        \n",
    "    return dict_dist"
   ]
  },
  {
   "cell_type": "code",
   "execution_count": 14,
   "id": "982e02f8-0402-4628-8b24-abf7b1007c9e",
   "metadata": {
    "tags": []
   },
   "outputs": [],
   "source": [
    "def molecule_weight(data: list, weight_dict):\n",
    "    for item in tqdm(data):\n",
    "        weight = weight_dict[''.join((sorted(item['species'])))][0]\n",
    "        item['molecule_mass'] = weight"
   ]
  },
  {
   "cell_type": "code",
   "execution_count": 15,
   "id": "733c85a9-feec-4405-b0b1-d443b0be3dd2",
   "metadata": {
    "tags": []
   },
   "outputs": [],
   "source": [
    "def weight_to_data(data: list):\n",
    "    dict_data = {}\n",
    "    for item in tqdm(data):\n",
    "        try:\n",
    "            dict_data[item['molecule_mass']].append(item)\n",
    "        except KeyError:\n",
    "            dict_data[item['molecule_mass']] = [item]\n",
    "    return dict_data"
   ]
  },
  {
   "cell_type": "code",
   "execution_count": 16,
   "id": "7fa11e5c-c8c3-496f-8fa9-2ba80c82e5f9",
   "metadata": {
    "tags": []
   },
   "outputs": [
    {
     "name": "stderr",
     "output_type": "stream",
     "text": [
      "100%|██████████| 511489/511489 [00:03<00:00, 142203.14it/s]\n",
      "100%|██████████| 511489/511489 [00:00<00:00, 584664.16it/s]\n"
     ]
    }
   ],
   "source": [
    "merged_dist = get_molecule_weight(cleaned)\n",
    "molecule_weight(cleaned, merged_dist)"
   ]
  },
  {
   "cell_type": "code",
   "execution_count": 35,
   "id": "64b59f7e-f032-4d97-ba94-36541b8c3648",
   "metadata": {
    "tags": []
   },
   "outputs": [],
   "source": [
    "# merged_dist"
   ]
  },
  {
   "cell_type": "code",
   "execution_count": 260,
   "id": "37b17ae2-7fd7-47e4-b80b-c05f222abd97",
   "metadata": {
    "tags": []
   },
   "outputs": [],
   "source": [
    "d_values = [merged_dist[x] for x in merged_dist.keys()]"
   ]
  },
  {
   "cell_type": "code",
   "execution_count": null,
   "id": "23a100c8-9720-45f3-9a21-59875d3a4b9a",
   "metadata": {},
   "outputs": [],
   "source": [
    "d_values"
   ]
  },
  {
   "cell_type": "code",
   "execution_count": 267,
   "id": "1db52787-8669-4791-bb06-e50e2f8ce32a",
   "metadata": {
    "tags": []
   },
   "outputs": [],
   "source": [
    "from itertools import chain\n",
    "\n",
    "merged_list = list(chain.from_iterable(d_values))\n"
   ]
  },
  {
   "cell_type": "code",
   "execution_count": 321,
   "id": "3f98d646-61f6-4336-ba56-ab9cc4b3bf6d",
   "metadata": {
    "tags": []
   },
   "outputs": [
    {
     "data": {
      "text/plain": [
       "Text(0.5, 0, 'Molecule Mass')"
      ]
     },
     "execution_count": 321,
     "metadata": {},
     "output_type": "execute_result"
    },
    {
     "data": {
      "image/png": "[encoded data removed]",
      "text/plain": [
       "<Figure size 640x480 with 1 Axes>"
      ]
     },
     "metadata": {},
     "output_type": "display_data"
    }
   ],
   "source": [
    "plt.hist(merged_list, bins=50)\n",
    "plt.ylabel('Frequency (log)')\n",
    "plt.yscale('log')\n",
    "plt.xlabel('Molecule Mass')"
   ]
  },
  {
   "cell_type": "code",
   "execution_count": 17,
   "id": "49f36850-6664-40d9-aa85-40de2c56b22d",
   "metadata": {},
   "outputs": [
    {
     "name": "stderr",
     "output_type": "stream",
     "text": [
      "100%|██████████| 511489/511489 [00:00<00:00, 1281540.83it/s]\n"
     ]
    }
   ],
   "source": [
    "#start\n",
    "wtd = weight_to_data(cleaned)"
   ]
  },
  {
   "cell_type": "code",
   "execution_count": 18,
   "id": "54679583-12c1-4549-b144-ccd7603f3c88",
   "metadata": {
    "tags": []
   },
   "outputs": [],
   "source": [
    "length_dict = {key: len(value) for key, value in wtd.items()}\n",
    "sorted_length_dict = {k: length_dict[k] for k in sorted(length_dict, reverse=True)}\n"
   ]
  },
  {
   "cell_type": "code",
   "execution_count": 20,
   "id": "6b953b92-e4ab-4066-92ac-e48c56c07269",
   "metadata": {
    "tags": []
   },
   "outputs": [
    {
     "data": {
      "text/plain": [
       "'\\n152.037: 4,\\n 144.09200000000007: 29,\\n 143.1080000000001: \\n '"
      ]
     },
     "execution_count": 20,
     "metadata": {},
     "output_type": "execute_result"
    }
   ],
   "source": [
    "# sorted_length_dict"
   ]
  },
  {
   "cell_type": "code",
   "execution_count": 21,
   "id": "8624ab49-cc5d-4295-920a-2634cc0887b6",
   "metadata": {
    "tags": []
   },
   "outputs": [],
   "source": [
    "train_mass = [152.037]\n",
    "test_mass = [144.09200000000007]\n",
    "val_mass = [143.1080000000001]\n",
    "\n",
    "train = sorted_length_dict[152.037] # trackers for dataset sizes\n",
    "test = sorted_length_dict[144.09200000000007]\n",
    "val = sorted_length_dict[143.1080000000001]\n",
    "\n",
    "sorted_length_dict.pop(152.037)\n",
    "sorted_length_dict.pop(144.09200000000007)\n",
    "sorted_length_dict.pop(143.1080000000001)\n",
    "\n",
    "\n",
    "# data is a dict: mass-># of trajs\n",
    "for mass in sorted_length_dict:\n",
    "    temp_total = train+val+test\n",
    "    train_ratio = .65-(train/temp_total)\n",
    "    test_ratio = .25-(test/temp_total)\n",
    "    val_ratio = .1-(val/temp_total)\n",
    "    \n",
    "    if train_ratio > val_ratio and train_ratio>test_ratio:\n",
    "        train_mass.append(mass)\n",
    "        train += sorted_length_dict[mass]\n",
    "    if val_ratio > train_ratio and val_ratio>test_ratio:\n",
    "        val_mass.append(mass)\n",
    "        val += sorted_length_dict[mass]\n",
    "    if test_ratio > val_ratio and test_ratio>train_ratio:\n",
    "        test_mass.append(mass)\n",
    "        test += sorted_length_dict[mass]"
   ]
  },
  {
   "cell_type": "code",
   "execution_count": 231,
   "id": "f69b4492-5a0a-4c7b-95cb-7057e6284806",
   "metadata": {
    "tags": []
   },
   "outputs": [],
   "source": [
    "sorted_length_dict = {k: length_dict[k] for k in sorted(length_dict, reverse=True)}"
   ]
  },
  {
   "cell_type": "code",
   "execution_count": 232,
   "id": "10944379-d4d2-4c45-9325-fc478a952d6c",
   "metadata": {
    "tags": []
   },
   "outputs": [],
   "source": [
    "# # 30, 40, 50, 60, 70, 90, 105\n",
    "# switch=[45.04100000000001,\n",
    "# 54.09200000000001,\n",
    "# 60.05600000000001,\n",
    "# 70.05099999999999,\n",
    "# 72.10699999999997,\n",
    "# 76.05799999999999,\n",
    "# 78.06999999999998,\n",
    "# 84.08199999999998,\n",
    "# 85.06599999999997,\n",
    "# 87.08199999999998,\n",
    "# 88.06199999999998,\n",
    "# 93.08899999999998,\n",
    "# 95.10499999999999,\n",
    "# 97.11699999999996,\n",
    "# 98.06099999999999,\n",
    "# 102.09299999999996,\n",
    "# 102.17699999999992,\n",
    "# 107.06799999999998]"
   ]
  },
  {
   "cell_type": "code",
   "execution_count": 233,
   "id": "4b47ed7e-ecb5-4ade-9d2f-3ca8e00ef381",
   "metadata": {
    "tags": []
   },
   "outputs": [
    {
     "ename": "ValueError",
     "evalue": "list.remove(x): x not in list",
     "output_type": "error",
     "traceback": [
      "\u001b[0;31m---------------------------------------------------------------------------\u001b[0m",
      "\u001b[0;31mValueError\u001b[0m                                Traceback (most recent call last)",
      "Cell \u001b[0;32mIn[233], line 5\u001b[0m\n\u001b[1;32m      2\u001b[0m val_mass\u001b[38;5;241m.\u001b[39mappend(mass)\n\u001b[1;32m      3\u001b[0m val \u001b[38;5;241m+\u001b[39m\u001b[38;5;241m=\u001b[39m sorted_length_dict[mass]\n\u001b[0;32m----> 5\u001b[0m \u001b[43mtest_mass\u001b[49m\u001b[38;5;241;43m.\u001b[39;49m\u001b[43mremove\u001b[49m\u001b[43m(\u001b[49m\u001b[43mmass\u001b[49m\u001b[43m)\u001b[49m\n\u001b[1;32m      6\u001b[0m test \u001b[38;5;241m-\u001b[39m\u001b[38;5;241m=\u001b[39m sorted_length_dict[mass]\n",
      "\u001b[0;31mValueError\u001b[0m: list.remove(x): x not in list"
     ]
    }
   ],
   "source": [
    "# for mass in switch:\n",
    "#     val_mass.append(mass)\n",
    "#     val += sorted_length_dict[mass]\n",
    "    \n",
    "#     test_mass.remove(mass)\n",
    "#     test -= sorted_length_dict[mass]"
   ]
  },
  {
   "cell_type": "code",
   "execution_count": 29,
   "id": "4a39d558-65cf-4f83-8f19-7038625ad880",
   "metadata": {
    "tags": []
   },
   "outputs": [
    {
     "data": {
      "text/plain": [
       "0.6499990222726295"
      ]
     },
     "execution_count": 29,
     "metadata": {},
     "output_type": "execute_result"
    }
   ],
   "source": [
    "train/(train+val+test)"
   ]
  },
  {
   "cell_type": "code",
   "execution_count": 30,
   "id": "dc762c25-8f92-4286-996b-a59c4e4b266d",
   "metadata": {
    "tags": []
   },
   "outputs": [
    {
     "data": {
      "text/plain": [
       "0.100001955454741"
      ]
     },
     "execution_count": 30,
     "metadata": {},
     "output_type": "execute_result"
    }
   ],
   "source": [
    "val/(train+val+test)"
   ]
  },
  {
   "cell_type": "code",
   "execution_count": 31,
   "id": "98e5fdeb-edd4-4dd3-a45a-97a8c4088fc7",
   "metadata": {
    "tags": []
   },
   "outputs": [
    {
     "data": {
      "text/plain": [
       "0.2499990222726295"
      ]
     },
     "execution_count": 31,
     "metadata": {},
     "output_type": "execute_result"
    }
   ],
   "source": [
    "test/(train+val+test)"
   ]
  },
  {
   "cell_type": "code",
   "execution_count": 22,
   "id": "a93e7fa7-449e-413e-90a4-092c7bdc4768",
   "metadata": {
    "tags": []
   },
   "outputs": [],
   "source": [
    "sorted_length_dict = {k: length_dict[k] for k in sorted(length_dict, reverse=True)}"
   ]
  },
  {
   "cell_type": "code",
   "execution_count": 23,
   "id": "75b8aa7e-b31c-4984-b835-8cf14b84219f",
   "metadata": {
    "tags": []
   },
   "outputs": [],
   "source": [
    "train_subset={key: sorted_length_dict[key] for key in train_mass if key in sorted_length_dict}\n",
    "test_subset={key: sorted_length_dict[key] for key in test_mass if key in sorted_length_dict}\n",
    "val_subset={key: sorted_length_dict[key] for key in val_mass if key in sorted_length_dict}"
   ]
  },
  {
   "cell_type": "code",
   "execution_count": 24,
   "id": "bdc4d20f-5091-4fc1-a1bb-5677e086de1d",
   "metadata": {
    "tags": []
   },
   "outputs": [],
   "source": [
    "train_foo=[[x]*train_subset[x] for x in train_subset]\n",
    "test_foo=[[x]*test_subset[x] for x in test_subset]\n",
    "val_foo=[[x]*val_subset[x] for x in val_subset]\n"
   ]
  },
  {
   "cell_type": "code",
   "execution_count": 25,
   "id": "a93908a3-ece3-4083-ba3b-9096ecbad0ed",
   "metadata": {
    "tags": []
   },
   "outputs": [],
   "source": [
    "from itertools import chain\n",
    "\n",
    "train_subset_merged = list(chain.from_iterable(train_foo))\n",
    "test_subset_merged = list(chain.from_iterable(test_foo))\n",
    "val_subset_merged = list(chain.from_iterable(val_foo))\n"
   ]
  },
  {
   "cell_type": "code",
   "execution_count": 26,
   "id": "b930e61e-c457-4312-958e-c13a3202ccde",
   "metadata": {
    "tags": []
   },
   "outputs": [
    {
     "data": {
      "text/plain": [
       "Text(0.5, 1.0, 'Train')"
      ]
     },
     "execution_count": 26,
     "metadata": {},
     "output_type": "execute_result"
    },
    {
     "data": {
      "image/png": "[encoded data removed]",
      "text/plain": [
       "<Figure size 640x480 with 1 Axes>"
      ]
     },
     "metadata": {},
     "output_type": "display_data"
    }
   ],
   "source": [
    "plt.hist(train_subset_merged, bins=50)\n",
    "plt.ylabel('Frequency (log)')\n",
    "plt.yscale('log')\n",
    "plt.xlabel('Molecule Mass')\n",
    "plt.title('Train')"
   ]
  },
  {
   "cell_type": "code",
   "execution_count": 33,
   "id": "97e9061b-1b52-4f34-8ad0-0b78db628b88",
   "metadata": {
    "tags": []
   },
   "outputs": [
    {
     "data": {
      "text/plain": [
       "Text(0.5, 1.0, 'Test')"
      ]
     },
     "execution_count": 33,
     "metadata": {},
     "output_type": "execute_result"
    },
    {
     "data": {
      "image/png": "[encoded data removed]",
      "text/plain": [
       "<Figure size 640x480 with 1 Axes>"
      ]
     },
     "metadata": {},
     "output_type": "display_data"
    }
   ],
   "source": [
    "plt.hist(test_subset_merged, bins=50)\n",
    "plt.ylabel('Frequency (log)')\n",
    "plt.yscale('log')\n",
    "plt.xlabel('Molecule Mass')\n",
    "plt.title('Test')"
   ]
  },
  {
   "cell_type": "code",
   "execution_count": 34,
   "id": "3a8f5c09-a5d1-4d3b-9561-60416d05c44c",
   "metadata": {
    "tags": []
   },
   "outputs": [
    {
     "data": {
      "text/plain": [
       "Text(0.5, 1.0, 'Val')"
      ]
     },
     "execution_count": 34,
     "metadata": {},
     "output_type": "execute_result"
    },
    {
     "data": {
      "image/png": "[encoded data removed]",
      "text/plain": [
       "<Figure size 640x480 with 1 Axes>"
      ]
     },
     "metadata": {},
     "output_type": "display_data"
    }
   ],
   "source": [
    "plt.hist(val_subset_merged, bins=50)\n",
    "plt.ylabel('Frequency (log)')\n",
    "plt.yscale('log')\n",
    "plt.xlabel('Molecule Mass')\n",
    "plt.title('Val')"
   ]
  },
  {
   "cell_type": "code",
   "execution_count": null,
   "id": "033b32db-1a27-4abd-9d93-7fe2411190d6",
   "metadata": {},
   "outputs": [],
   "source": [
    "30, 40, 50, 60, 70, 90, 105"
   ]
  },
  {
   "cell_type": "markdown",
   "id": "b0935652-fb26-4a51-857f-ebb69db55dfe",
   "metadata": {},
   "source": [
    "# Resolve split to trajectories"
   ]
  },
  {
   "cell_type": "code",
   "execution_count": 35,
   "id": "47b6eebc-4ee9-43b9-9db1-c966ef278990",
   "metadata": {
    "tags": []
   },
   "outputs": [],
   "source": [
    "train_data = [wtd[x] for x in train_mass]\n",
    "train_data = list(chain.from_iterable(train_data))\n",
    "\n",
    "val_data = [wtd[x] for x in val_mass]\n",
    "val_data = list(chain.from_iterable(val_data))\n",
    "\n",
    "test_data = [wtd[x] for x in test_mass]\n",
    "test_data = list(chain.from_iterable(test_data))\n"
   ]
  },
  {
   "cell_type": "code",
   "execution_count": 36,
   "id": "80b3980d-af26-4b2c-95fb-e015daefb6a9",
   "metadata": {
    "tags": []
   },
   "outputs": [
    {
     "data": {
      "text/plain": [
       "0.100001955454741"
      ]
     },
     "execution_count": 36,
     "metadata": {},
     "output_type": "execute_result"
    }
   ],
   "source": [
    "len(val_data)/(len(train_data)+len(val_data)+len(test_data))"
   ]
  },
  {
   "cell_type": "code",
   "execution_count": 37,
   "id": "f364c591-1888-450c-ae26-eeba10219aaa",
   "metadata": {
    "tags": []
   },
   "outputs": [
    {
     "data": {
      "text/plain": [
       "0.6499990222726295"
      ]
     },
     "execution_count": 37,
     "metadata": {},
     "output_type": "execute_result"
    }
   ],
   "source": [
    "len(train_data)/(len(train_data)+len(val_data)+len(test_data))"
   ]
  },
  {
   "cell_type": "code",
   "execution_count": 38,
   "id": "20ee7213-7987-462b-a8a6-d2e6bba18039",
   "metadata": {
    "tags": []
   },
   "outputs": [
    {
     "data": {
      "text/plain": [
       "0.2499990222726295"
      ]
     },
     "execution_count": 38,
     "metadata": {},
     "output_type": "execute_result"
    }
   ],
   "source": [
    "len(test_data)/(len(train_data)+len(val_data)+len(test_data))"
   ]
  },
  {
   "cell_type": "code",
   "execution_count": 39,
   "id": "81964daa-bc86-494b-b4d5-c9958a7aab9e",
   "metadata": {
    "tags": []
   },
   "outputs": [],
   "source": [
    "data = {'train':train_data,\n",
    "        'val': val_data,\n",
    "        'test': test_data}"
   ]
  },
  {
   "cell_type": "code",
   "execution_count": null,
   "id": "22b4568d-9e77-40c7-a097-1787eef90e9b",
   "metadata": {},
   "outputs": [],
   "source": []
  },
  {
   "cell_type": "code",
   "execution_count": 305,
   "id": "65cd9987-0dea-4c06-aef7-2c0e93425d01",
   "metadata": {
    "tags": []
   },
   "outputs": [],
   "source": [
    "def weight_to_species(data: list):\n",
    "    dict_data = {}\n",
    "    for item in tqdm(data):\n",
    "        try:\n",
    "            dict_data[item['molecule_mass']].append(''.join((sorted(item['species']))))\n",
    "        except KeyError:\n",
    "            dict_data[item['molecule_mass']] = [''.join((sorted(item['species'])))]\n",
    "    return dict_data"
   ]
  },
  {
   "cell_type": "code",
   "execution_count": 335,
   "id": "c5837baa-df24-45b2-be4c-c9ccad08d28f",
   "metadata": {
    "tags": []
   },
   "outputs": [
    {
     "name": "stderr",
     "output_type": "stream",
     "text": [
      "100%|██████████| 133595/133595 [00:00<00:00, 687108.96it/s]\n"
     ]
    }
   ],
   "source": [
    "wts = weight_to_species(cleaned)"
   ]
  },
  {
   "cell_type": "code",
   "execution_count": 151,
   "id": "55540e94-535b-442a-9dd1-b86f3c941635",
   "metadata": {
    "tags": []
   },
   "outputs": [
    {
     "data": {
      "text/plain": [
       "260508"
      ]
     },
     "execution_count": 151,
     "metadata": {},
     "output_type": "execute_result"
    }
   ],
   "source": []
  },
  {
   "cell_type": "code",
   "execution_count": null,
   "id": "27d75e82-04b1-47b5-aae0-3bae0dfb141e",
   "metadata": {},
   "outputs": [],
   "source": []
  },
  {
   "cell_type": "markdown",
   "id": "f41b76fa-76f3-4f3d-8afe-b932d495ccd7",
   "metadata": {},
   "source": [
    "# Charged Data"
   ]
  },
  {
   "cell_type": "code",
   "execution_count": 50,
   "id": "6a15f6bc-bf2b-43cc-a08b-0b792f2a8993",
   "metadata": {
    "tags": []
   },
   "outputs": [],
   "source": [
    "def charge_filter(charges: list, data):\n",
    "    \"\"\"\n",
    "    Takes both a list of charges to filter by and a dataset that is a list of data points.\n",
    "    \"\"\"\n",
    "    filtered_data = []\n",
    "    for point in tqdm(data):\n",
    "        if point['charge'] in charges:\n",
    "            filtered_data.append(point)\n",
    "    \n",
    "    return filtered_data"
   ]
  },
  {
   "cell_type": "code",
   "execution_count": 54,
   "id": "0ef19282-1d31-4acf-a589-b32df7341740",
   "metadata": {
    "tags": []
   },
   "outputs": [
    {
     "name": "stderr",
     "output_type": "stream",
     "text": [
      "100%|██████████| 332403/332403 [00:00<00:00, 1320735.94it/s]\n"
     ]
    }
   ],
   "source": [
    "charge_filtered_training = charge_filter(charges=[-1, 1], data=train_data)"
   ]
  },
  {
   "cell_type": "code",
   "execution_count": 55,
   "id": "ea6d6255-7534-4add-bee9-5c906afd0198",
   "metadata": {
    "tags": []
   },
   "outputs": [
    {
     "name": "stderr",
     "output_type": "stream",
     "text": [
      "100%|██████████| 51140/51140 [00:00<00:00, 1186296.85it/s]\n"
     ]
    }
   ],
   "source": [
    "charge_filtered_val = charge_filter(charges=[-1, 1], data=val_data)"
   ]
  },
  {
   "cell_type": "code",
   "execution_count": 56,
   "id": "04712cdf-d151-4a95-9f1b-06849af92d15",
   "metadata": {
    "tags": []
   },
   "outputs": [
    {
     "name": "stderr",
     "output_type": "stream",
     "text": [
      "100%|██████████| 127847/127847 [00:00<00:00, 1230902.61it/s]\n"
     ]
    }
   ],
   "source": [
    "charge_filtered_test = charge_filter(charges=[-1, 1], data=test_data)"
   ]
  },
  {
   "cell_type": "code",
   "execution_count": 57,
   "id": "7ebcd931-a3be-43cb-be81-a9aa2458a32a",
   "metadata": {},
   "outputs": [],
   "source": [
    "data_charge = {'train':charge_filtered_training,\n",
    "        'val': charge_filtered_val,\n",
    "        'test': charge_filtered_test}"
   ]
  },
  {
   "cell_type": "markdown",
   "id": "861160e4-5053-4e41-b5bc-e104e6f34bb9",
   "metadata": {},
   "source": [
    "# Ignore"
   ]
  },
  {
   "cell_type": "code",
   "execution_count": 25,
   "id": "e006fae8-daaa-42a2-bf1f-20492f5d24e7",
   "metadata": {
    "tags": []
   },
   "outputs": [],
   "source": [
    "# def train_val_test_split(data: list,\n",
    "#                          train_size: float,\n",
    "#                          val_size: float):\n",
    "#     \"\"\"\n",
    "#     This method takes in the output from mol_id_weight_bins.\n",
    "#     This method will sample from each key-value pair from the input dict based on the train_size, val_size.\n",
    "#     The method requires a validation set, but the user can combine it with test if they so choose.\n",
    "#     \"\"\"\n",
    "    \n",
    "#     weight_dict, weight_dist, bucket = __mol_id_weight_bins(data)\n",
    "    \n",
    "#     train_marker = train_size\n",
    "#     val_marker = train_size + val_size\n",
    "    \n",
    "#     split={}\n",
    "\n",
    "#     import random\n",
    "#     random.seed(10)\n",
    "#     for strata in tqdm(weight_dict):\n",
    "#         random.shuffle(weight_dict[strata])\n",
    "        \n",
    "#         train_index = round(len(weight_dict[strata])*train_marker)\n",
    "#         val_index = round(len(weight_dict[strata])*val_marker)\n",
    "\n",
    "#         try:\n",
    "#             train_split = (weight_dict[strata][:train_index])\n",
    "#             val_split = (weight_dict[strata][train_index:val_index+1])\n",
    "#             test_split = (weight_dict[strata][val_index+1:])\n",
    "            \n",
    "#             if len(test_split)> len(val_split):\n",
    "#                 print('bleh')\n",
    "#                 return [weight_dict[strata], train_split, val_split, test_split, train_index, val_index+1]\n",
    "            \n",
    "#             split['train']+=train_split\n",
    "#             split['val']+=val_split\n",
    "#             split['test']+=test_split\n",
    "            \n",
    "            \n",
    "#         except KeyError:\n",
    "#             split['train'] = weight_dict[strata][:train_index]\n",
    "#             split['val'] = weight_dict[strata][train_index:val_index+1]\n",
    "#             split['test'] = weight_dict[strata][val_index+1:]\n",
    "#     train_data = [bucket[i] for i in split['train']]\n",
    "#     val_data = [bucket[i] for i in split['val']]\n",
    "#     test_data = [bucket[i] for i in split['test']]\n",
    "                 \n",
    "#     split['train']=train_data\n",
    "#     split['val']=val_data\n",
    "#     split['test']=test_data\n",
    "    \n",
    "#     return split, weight_dist"
   ]
  },
  {
   "cell_type": "code",
   "execution_count": 28,
   "id": "c6d73624-4a9e-4a0d-ba18-ebe6e39a16fd",
   "metadata": {
    "tags": []
   },
   "outputs": [
    {
     "name": "stderr",
     "output_type": "stream",
     "text": [
      "100%|██████████| 747828/747828 [00:00<00:00, 1954830.85it/s]\n",
      "100%|██████████| 133595/133595 [00:00<00:00, 292238.62it/s]\n",
      "100%|██████████| 1135/1135 [00:00<00:00, 26121.05it/s]\n"
     ]
    }
   ],
   "source": [
    "# data_dict_spit, weight_dist = train_val_test_split(merged_data, train_size=.65, val_size=.25)"
   ]
  },
  {
   "cell_type": "code",
   "execution_count": 31,
   "id": "1e797159-12d2-4a26-a97c-c796c1b1ec8b",
   "metadata": {
    "tags": []
   },
   "outputs": [],
   "source": [
    "# # training= flatten(data_dict_spit['train'])\n",
    "# val = flatten(data_dict_spit['val'])\n",
    "# test = flatten(data_dict_spit['test'])"
   ]
  },
  {
   "cell_type": "code",
   "execution_count": 32,
   "id": "6f867560-bbd8-4d54-9fdf-92be68e0560a",
   "metadata": {
    "tags": []
   },
   "outputs": [],
   "source": [
    "# data = {'train':training,\n",
    "#         'val': val,\n",
    "#         'test': test}"
   ]
  },
  {
   "cell_type": "code",
   "execution_count": 35,
   "id": "ff796689-6b3f-4509-b7b9-04154e9373b1",
   "metadata": {
    "tags": []
   },
   "outputs": [
    {
     "data": {
      "text/plain": [
       "dict_keys(['task_id', 'mol_id', 'name', 'charge', 'spin', 'charge_spin', 'species', 'geometries', 'energies', 'gradients', 'mulliken', 'resp', 'dipole_moments', 'dipole_moments_resp', 'mulliken_partial_spin', 'mulliken_partial_charge'])"
      ]
     },
     "execution_count": 35,
     "metadata": {},
     "output_type": "execute_result"
    }
   ],
   "source": [
    "# merged_data[0].keys()"
   ]
  },
  {
   "cell_type": "markdown",
   "id": "d14ce614-e729-4976-bb00-8bb2e171de5e",
   "metadata": {
    "tags": []
   },
   "source": [
    "# Build Minimal"
   ]
  },
  {
   "cell_type": "code",
   "execution_count": 40,
   "id": "9df5551f-83a5-4f0e-a8f4-c61f6228116b",
   "metadata": {
    "tags": []
   },
   "outputs": [],
   "source": [
    "def build_minimal_atoms(data: dict,\n",
    "                energy: str = None,\n",
    "                forces: str = None,\n",
    "                charge:str = None,\n",
    "                spin:str = None,\n",
    "                train = False) -> ase.Atoms:\n",
    "    \"\"\" \n",
    "    Populate Atoms class with atoms in molecule.\n",
    "        atoms.info : global variables\n",
    "        atoms.array : variables for individual atoms\n",
    "        \n",
    "    Both \"energy\" and \"forces\" are the dict strings in data.\n",
    "    \"\"\"\n",
    "    atom_list = []\n",
    "    for i in range(len(data['geometries'])):\n",
    "        atoms = ase.atoms.Atoms(\n",
    "            symbols=data['species'],\n",
    "            positions=data['geometries'][i]\n",
    "        )\n",
    "        if energy is not None:\n",
    "            atoms.info['energy'] = data[energy][i]\n",
    "        if forces is not None:\n",
    "            atoms.arrays['forces'] = np.array(data[forces][i])\n",
    "        if charge is not None:\n",
    "             atoms.info['charge'] = data[charge]\n",
    "        if spin is not None:\n",
    "            atoms.info['spin'] = data[spin]\n",
    "\n",
    "        if i == 0:\n",
    "            atoms.info['position_type'] = 'start'\n",
    "        if i == 1:\n",
    "            if data['charge_spin'] == '0,1':\n",
    "                atoms.info['position_type'] = 'end'\n",
    "            else:\n",
    "                atoms.info['position_type'] = 'middle'\n",
    "        if i == 2:\n",
    "            atoms.info['position_type'] = 'end'\n",
    "        atom_list.append(atoms)\n",
    "    return atom_list\n"
   ]
  },
  {
   "cell_type": "code",
   "execution_count": 33,
   "id": "94c52f42-3a50-4513-9b70-28b5dda6ed00",
   "metadata": {
    "tags": []
   },
   "outputs": [],
   "source": [
    "def build_full_atoms(data: dict,\n",
    "                energy: str = None,\n",
    "                forces: str = None,\n",
    "                charge:str = None,\n",
    "                spin:str = None,\n",
    "                train = False) -> ase.Atoms:\n",
    "    \"\"\" \n",
    "    Populate Atoms class with atoms in molecule.\n",
    "        atoms.info : global variables\n",
    "        atoms.array : variables for individual atoms\n",
    "        \n",
    "    Both \"energy\" and \"forces\" are the dict strings in data.\n",
    "    \"\"\"\n",
    "    atom_list = []\n",
    "    try:\n",
    "        for i in range(len(data['geometries'])):\n",
    "            atoms = ase.atoms.Atoms(\n",
    "                symbols=data['species'],\n",
    "                positions=data['geometries'][i]\n",
    "            )\n",
    "            if energy is not None:\n",
    "                atoms.info['energy'] = data[energy][i]\n",
    "            if forces is not None:\n",
    "                atoms.arrays['forces'] = np.array(data[forces][i])\n",
    "            if charge is not None:\n",
    "                 atoms.info['charge'] = data[charge]\n",
    "            if spin is not None:\n",
    "                atoms.info['spin'] = data[spin]\n",
    "            if train:\n",
    "                atoms.info['chunk'] = data['chunk']\n",
    "            \n",
    "            atoms.info['mulliken_partial_charge'] = data['mulliken_partial_charge'][i]\n",
    "            atoms.info['mulliken_partial_spin'] = data['mulliken_partial_spin'][i]\n",
    "            atoms.info['mol_id'] = data['mol_id']\n",
    "            atoms.info['resp'] = data['resp'][i]\n",
    "            atoms.info['dipole_moments'] = data['dipole_moments'][i]\n",
    "            atoms.info['dipole_moments_resp'] = data['dipole_moments_resp'][i]\n",
    "            \n",
    "            if i == 0:\n",
    "                atoms.info['position_type'] = 'start'\n",
    "            if i == 1:\n",
    "                if data['charge_spin'] == '0,1':\n",
    "                    atoms.info['position_type'] = 'end'\n",
    "                else:\n",
    "                    atoms.info['position_type'] = 'middle'\n",
    "            if i == 2:\n",
    "                atoms.info['position_type'] = 'end'\n",
    "            atom_list.append(atoms)\n",
    "    except IndexError:\n",
    "        print(i)\n",
    "        print(data['mol_id'])\n",
    "            # print()\n",
    "            \n",
    "    return atom_list\n"
   ]
  },
  {
   "cell_type": "code",
   "execution_count": 41,
   "id": "bd2bcf46-13ce-4dd2-9b8e-fdf3a4c0d202",
   "metadata": {
    "tags": []
   },
   "outputs": [],
   "source": [
    "def build_minimal_atoms_iterator(data: list,\n",
    "                         train=False):\n",
    "    \"\"\"\n",
    "    This method assumes the data has been validated. This will create ASE atoms to be written.\n",
    "    \n",
    "    The input needs to be a list of lists that contain the event dictionaries. Each inner list needs to represent all the events for a single\n",
    "    mol_id.\n",
    "    \"\"\"\n",
    "    data_set=[]\n",
    "    for point in tqdm(data):\n",
    "        atoms=build_minimal_atoms(point, energy='energies', forces='gradients', charge='charge', spin='spin', train=train)\n",
    "        data_set+=atoms\n",
    "    return data_set"
   ]
  },
  {
   "cell_type": "code",
   "execution_count": 42,
   "id": "7df14ad0-b38c-4790-82e5-0dd264a96750",
   "metadata": {
    "tags": []
   },
   "outputs": [
    {
     "name": "stderr",
     "output_type": "stream",
     "text": [
      "100%|██████████| 332403/332403 [00:59<00:00, 5543.45it/s] \n",
      "100%|██████████| 51140/51140 [00:04<00:00, 10525.56it/s]\n",
      "100%|██████████| 127847/127847 [00:11<00:00, 10811.91it/s]\n"
     ]
    }
   ],
   "source": [
    "build = {}\n",
    "for split in data:\n",
    "    if split == 'train':\n",
    "        build[split] = build_minimal_atoms_iterator(data[split], train=True)\n",
    "    else:\n",
    "        build[split] = build_minimal_atoms_iterator(data[split])"
   ]
  },
  {
   "cell_type": "code",
   "execution_count": 66,
   "id": "3b5d41df-4019-489b-829a-eca56d8dd2f0",
   "metadata": {
    "tags": []
   },
   "outputs": [
    {
     "data": {
      "text/plain": [
       "dict_keys([])"
      ]
     },
     "execution_count": 66,
     "metadata": {},
     "output_type": "execute_result"
    }
   ],
   "source": [
    "build_charge.keys()"
   ]
  },
  {
   "cell_type": "code",
   "execution_count": 67,
   "id": "137d5c8a-e1e1-45bd-bb2e-61360199ef1a",
   "metadata": {
    "tags": []
   },
   "outputs": [
    {
     "name": "stderr",
     "output_type": "stream",
     "text": [
      "100%|██████████| 165120/165120 [00:15<00:00, 10953.95it/s]\n",
      "100%|██████████| 25410/25410 [00:02<00:00, 11269.53it/s]\n",
      "100%|██████████| 63907/63907 [00:06<00:00, 10459.98it/s]\n"
     ]
    }
   ],
   "source": [
    "build_charge = {}\n",
    "for split in data_charge:\n",
    "    if split == 'train':\n",
    "        build_charge[split] = build_minimal_atoms_iterator(data_charge[split], train=True)\n",
    "    else:\n",
    "        build_charge[split] = build_minimal_atoms_iterator(data_charge[split])"
   ]
  },
  {
   "cell_type": "code",
   "execution_count": 47,
   "id": "9dad53b4-1982-4df3-acc3-209b86c24b89",
   "metadata": {
    "tags": []
   },
   "outputs": [],
   "source": [
    "def create_dataset(data: dict,\n",
    "                   file_name:str,\n",
    "                   path:str):\n",
    "    \"\"\"\n",
    "    This method will handle the I/O for writing the data to xyz files to the path provided.\n",
    "    \"\"\"\n",
    "    train_data = data['train']\n",
    "    val_data = data['val']\n",
    "    test_data = data['test']\n",
    "    \n",
    "    train_file = os.path.join(path,file_name+'_train.xyz')\n",
    "    ase.io.write(train_file, train_data,format=\"extxyz\")\n",
    "     \n",
    "    val_file = os.path.join(path,file_name+'_val.xyz')\n",
    "    ase.io.write(val_file, val_data,format=\"extxyz\")\n",
    "    \n",
    "    test_file = os.path.join(path,file_name+'_test.xyz')\n",
    "    ase.io.write(test_file, test_data,format=\"extxyz\")"
   ]
  },
  {
   "cell_type": "code",
   "execution_count": 48,
   "id": "394e30a2-61e9-48ec-985e-aebec828f3ae",
   "metadata": {
    "tags": []
   },
   "outputs": [],
   "source": [
    "full_data_path ='/pscratch/sd/m/mavaylon/chem_final_data/Traj/Full_data/'"
   ]
  },
  {
   "cell_type": "code",
   "execution_count": 60,
   "id": "5436bfc0-0db6-49ee-8305-8fcb7569bedd",
   "metadata": {
    "tags": []
   },
   "outputs": [],
   "source": [
    "charge_data_path ='/pscratch/sd/m/mavaylon/chem_final_data/Traj/Charge_data/'"
   ]
  },
  {
   "cell_type": "code",
   "execution_count": 49,
   "id": "c78f3b71-c15f-4973-8932-bf4d99ccbb99",
   "metadata": {
    "tags": []
   },
   "outputs": [],
   "source": [
    "#to xyz\n",
    "create_dataset(build, 'rad_qm9_65_10_25_full_data', full_data_path)"
   ]
  },
  {
   "cell_type": "code",
   "execution_count": 73,
   "id": "87bffd0c-69f6-4e76-b577-2c61acacc480",
   "metadata": {
    "tags": []
   },
   "outputs": [],
   "source": [
    "#to xyz\n",
    "create_dataset(build_charge, 'rad_qm9_65_10_25_charge_data', charge_data_path)"
   ]
  },
  {
   "cell_type": "code",
   "execution_count": 68,
   "id": "42241a05-7a03-4044-917b-7de0c0f41fd0",
   "metadata": {
    "tags": []
   },
   "outputs": [
    {
     "data": {
      "text/plain": [
       "495360"
      ]
     },
     "execution_count": 68,
     "metadata": {},
     "output_type": "execute_result"
    }
   ],
   "source": [
    "len(build_charge['train'])"
   ]
  },
  {
   "cell_type": "code",
   "execution_count": 69,
   "id": "8eccc46b-4ba0-416a-ad63-77273f2c69a0",
   "metadata": {
    "tags": []
   },
   "outputs": [
    {
     "data": {
      "text/plain": [
       "76230"
      ]
     },
     "execution_count": 69,
     "metadata": {},
     "output_type": "execute_result"
    }
   ],
   "source": [
    "len(build_charge['val'])"
   ]
  },
  {
   "cell_type": "code",
   "execution_count": 70,
   "id": "5a3a4efb-1c61-483a-af66-3045945283ef",
   "metadata": {
    "tags": []
   },
   "outputs": [
    {
     "data": {
      "text/plain": [
       "191721"
      ]
     },
     "execution_count": 70,
     "metadata": {},
     "output_type": "execute_result"
    }
   ],
   "source": [
    "len(build_charge['test'])"
   ]
  },
  {
   "cell_type": "code",
   "execution_count": 71,
   "id": "1229b424-e93e-4975-81c8-19e3dcf37f9f",
   "metadata": {
    "tags": []
   },
   "outputs": [
    {
     "data": {
      "text/plain": [
       "763311"
      ]
     },
     "execution_count": 71,
     "metadata": {},
     "output_type": "execute_result"
    }
   ],
   "source": [
    "len(build_charge['train'])+len(build_charge['val'])+len(build_charge['test'])"
   ]
  },
  {
   "cell_type": "code",
   "execution_count": null,
   "id": "16a653d1-323c-4daf-aa0a-b5dc368d1dd8",
   "metadata": {},
   "outputs": [],
   "source": []
  },
  {
   "cell_type": "code",
   "execution_count": null,
   "id": "f98413b3-a7a1-4d5d-8767-f6c971636701",
   "metadata": {},
   "outputs": [],
   "source": []
  },
  {
   "cell_type": "code",
   "execution_count": null,
   "id": "7e3efb3d-be0b-4990-a4f3-a9df64626796",
   "metadata": {},
   "outputs": [],
   "source": []
  },
  {
   "cell_type": "code",
   "execution_count": 40,
   "id": "b095b16d-b770-4f21-bb69-cfdb8d74b0cf",
   "metadata": {
    "tags": []
   },
   "outputs": [],
   "source": [
    "def atom_type_plot(data: list):\n",
    "    \"\"\"\n",
    "    Takes in a list of data points and creates graph to visualize the frequency of each atom type.\n",
    "    \"\"\"\n",
    "    atom_dict={}\n",
    "    for point in data:\n",
    "        for atom in point['species']:\n",
    "            try:\n",
    "                atom_dict[atom]+=1\n",
    "            except KeyError:\n",
    "                atom_dict[atom]=0\n",
    "    return atom_dict  "
   ]
  },
  {
   "cell_type": "code",
   "execution_count": 41,
   "id": "3c35b3fa-2715-4a57-b37e-0873e3f6fe6b",
   "metadata": {
    "tags": []
   },
   "outputs": [],
   "source": [
    "d1=atom_type_plot(training)\n",
    "d3=atom_type_plot(test)\n",
    "d2=atom_type_plot(val)"
   ]
  },
  {
   "cell_type": "code",
   "execution_count": 47,
   "id": "f962cfda-8c41-4291-8a13-da030ba54332",
   "metadata": {
    "tags": []
   },
   "outputs": [
    {
     "data": {
      "text/plain": [
       "{'C': 1199210, 'N': 206532, 'H': 1727014, 'O': 266498, 'F': 5475}"
      ]
     },
     "execution_count": 47,
     "metadata": {},
     "output_type": "execute_result"
    }
   ],
   "source": []
  },
  {
   "cell_type": "code",
   "execution_count": 42,
   "id": "3a3d9ead-e362-4c5d-bb0b-c1b19b99de29",
   "metadata": {
    "tags": []
   },
   "outputs": [],
   "source": [
    "from collections import Counter\n",
    "z = dict(Counter(d1)+Counter(d2)+Counter(d3))"
   ]
  },
  {
   "cell_type": "code",
   "execution_count": 48,
   "id": "12e51614-9d40-4173-b7e8-2ea0ce6c62cd",
   "metadata": {
    "tags": []
   },
   "outputs": [
    {
     "data": {
      "text/plain": [
       "{'N': 796475, 'C': 4716547, 'H': 6798693, 'O': 1046725, 'F': 18755}"
      ]
     },
     "execution_count": 48,
     "metadata": {},
     "output_type": "execute_result"
    }
   ],
   "source": [
    "z"
   ]
  },
  {
   "cell_type": "code",
   "execution_count": null,
   "id": "e0e16e59-d31f-4239-8821-9aa75eb3318f",
   "metadata": {},
   "outputs": [],
   "source": []
  },
  {
   "cell_type": "code",
   "execution_count": 44,
   "id": "d14e53c5-7778-4053-9c86-b45712752718",
   "metadata": {
    "tags": []
   },
   "outputs": [
    {
     "data": {
      "text/plain": [
       "{'N': 0.650206221161995,\n",
       " 'C': 0.6502000298099436,\n",
       " 'H': 0.6501545223471629,\n",
       " 'O': 0.6501105830089088,\n",
       " 'F': 0.6655825113303119}"
      ]
     },
     "execution_count": 44,
     "metadata": {},
     "output_type": "execute_result"
    }
   ],
   "source": [
    "{k: float(d1[k])/z[k] for k in d1}\n"
   ]
  },
  {
   "cell_type": "code",
   "execution_count": 45,
   "id": "e0add32b-acf2-4190-98e3-4bb4afcca9e1",
   "metadata": {
    "tags": []
   },
   "outputs": [
    {
     "data": {
      "text/plain": [
       "{'N': 0.25930757399792836,\n",
       " 'C': 0.25425592069791736,\n",
       " 'H': 0.2540214714798859,\n",
       " 'O': 0.25460173397979413,\n",
       " 'F': 0.2919221540922421}"
      ]
     },
     "execution_count": 45,
     "metadata": {},
     "output_type": "execute_result"
    }
   ],
   "source": [
    "{k: float(d2[k])/z[k] for k in d1}\n"
   ]
  },
  {
   "cell_type": "code",
   "execution_count": 46,
   "id": "d032bbb8-59a7-442b-be89-9fbd1ec17127",
   "metadata": {
    "tags": []
   },
   "outputs": [
    {
     "data": {
      "text/plain": [
       "{'N': 0.09048620484007659,\n",
       " 'C': 0.09554404949213906,\n",
       " 'H': 0.09582400617295118,\n",
       " 'O': 0.09528768301129714,\n",
       " 'F': 0.04249533457744602}"
      ]
     },
     "execution_count": 46,
     "metadata": {},
     "output_type": "execute_result"
    }
   ],
   "source": [
    "{k: float(d3[k])/z[k] for k in d1}\n"
   ]
  },
  {
   "cell_type": "code",
   "execution_count": null,
   "id": "050d10e7-4390-4135-9c17-26be2f49a897",
   "metadata": {},
   "outputs": [],
   "source": []
  }
 ],
 "metadata": {
  "kernelspec": {
   "display_name": "NERSC Python",
   "language": "python",
   "name": "python3"
  },
  "language_info": {
   "codemirror_mode": {
    "name": "ipython",
    "version": 3
   },
   "file_extension": ".py",
   "mimetype": "text/x-python",
   "name": "python",
   "nbconvert_exporter": "python",
   "pygments_lexer": "ipython3",
   "version": "3.11.7"
  }
 },
 "nbformat": 4,
 "nbformat_minor": 5
}
