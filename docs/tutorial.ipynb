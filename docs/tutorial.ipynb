{
 "cells": [
  {
   "cell_type": "code",
   "execution_count": 11,
   "id": "20cd87d1-8f23-4609-acb1-ed07d9bd7e89",
   "metadata": {
    "tags": []
   },
   "outputs": [],
   "source": [
    "from monty.serialization import loadfn\n",
    "from glob import glob\n",
    "import time\n",
    "from tqdm import tqdm\n",
    "import collections\n",
    "from PyAstronomy import pyasl\n",
    "import numpy as np"
   ]
  },
  {
   "cell_type": "code",
   "execution_count": 9,
   "id": "70a30faf-4472-4b21-8d26-72d69da22926",
   "metadata": {},
   "outputs": [],
   "source": [
    "from radqm9_pipeline.modules import bucket_mol_id,\n",
    "                                    train_val_test_split,\n",
    "                                    build_manager,\n",
    "                                    merge_data,\n",
    "                                    force_magnitude_filter,\n",
    "                                    flatten,\n",
    "                                    tagger\n",
    "from radqm9_pipeline.elements import read_elements\n"
   ]
  },
  {
   "cell_type": "markdown",
   "id": "1689ea87-649f-47bb-bd50-cb8281abc1a7",
   "metadata": {
    "tags": []
   },
   "source": [
    "# Set elements\n"
   ]
  },
  {
   "cell_type": "code",
   "execution_count": 5,
   "id": "a76fd500-eba2-4b81-b01d-9a447e5a93a8",
   "metadata": {
    "tags": []
   },
   "outputs": [],
   "source": [
    "elements_dict = read_elements('/pscratch/sd/m/mavaylon/sam_ldrd/radqm9_pipeline/src/radqm9_pipeline/modules/elements.pkl')"
   ]
  },
  {
   "cell_type": "markdown",
   "id": "03728f28-fd22-4c88-99f5-13ef803d6926",
   "metadata": {},
   "source": [
    "# Set Data Directory"
   ]
  },
  {
   "cell_type": "code",
   "execution_count": 13,
   "id": "f9724f91-a620-42fb-839f-d067a72e9c28",
   "metadata": {
    "tags": []
   },
   "outputs": [],
   "source": [
    "base_dir = \"/pscratch/sd/m/mavaylon/sam_ldrd/radqm9/updated_rad_qm9_raw/data/20230907_radQM9_trajectories\""
   ]
  },
  {
   "cell_type": "markdown",
   "id": "dc593940-8088-40b3-849a-4bfc79bd491b",
   "metadata": {},
   "source": [
    "# Load and Merge Data"
   ]
  },
  {
   "cell_type": "code",
   "execution_count": 7,
   "id": "bd944057-8423-4634-ab29-e02f968f935d",
   "metadata": {
    "tags": []
   },
   "outputs": [
    {
     "name": "stderr",
     "output_type": "stream",
     "text": [
      "100%|██████████| 25/25 [27:29<00:00, 65.98s/it]\n"
     ]
    }
   ],
   "source": [
    "merged_data=merge_data(base_dir)"
   ]
  },
  {
   "cell_type": "markdown",
   "id": "fb56569a-4580-4c7b-8167-4bde21371f45",
   "metadata": {},
   "source": [
    "# Filter Data"
   ]
  },
  {
   "cell_type": "code",
   "execution_count": 8,
   "id": "001d9050-cd11-4b71-adc9-dc8690a7f47b",
   "metadata": {
    "tags": []
   },
   "outputs": [
    {
     "name": "stderr",
     "output_type": "stream",
     "text": [
      "100%|██████████| 616958/616958 [00:00<00:00, 676194.93it/s]\n",
      "100%|██████████| 133882/133882 [00:41<00:00, 3189.58it/s]\n"
     ]
    }
   ],
   "source": [
    "i,bucket=bucket_mol_id(merged_data)"
   ]
  },
  {
   "cell_type": "code",
   "execution_count": 12,
   "id": "fe9f2a20-3aed-42c0-91eb-b75fb5cbb491",
   "metadata": {
    "tags": []
   },
   "outputs": [
    {
     "name": "stderr",
     "output_type": "stream",
     "text": [
      "  0%|          | 0/130170 [00:00<?, ?it/s]\n"
     ]
    },
    {
     "ename": "NameError",
     "evalue": "name 'np' is not defined",
     "output_type": "error",
     "traceback": [
      "\u001b[0;31m---------------------------------------------------------------------------\u001b[0m",
      "\u001b[0;31mNameError\u001b[0m                                 Traceback (most recent call last)",
      "Cell \u001b[0;32mIn[12], line 1\u001b[0m\n\u001b[0;32m----> 1\u001b[0m force_filtered, filtered_data \u001b[38;5;241m=\u001b[39m \u001b[43mforce_magnitude_filter\u001b[49m\u001b[43m(\u001b[49m\u001b[43mcutoff\u001b[49m\u001b[38;5;241;43m=\u001b[39;49m\u001b[38;5;241;43m10.0\u001b[39;49m\u001b[43m,\u001b[49m\u001b[43m \u001b[49m\u001b[43mdata\u001b[49m\u001b[38;5;241;43m=\u001b[39;49m\u001b[43mbucket\u001b[49m\u001b[43m)\u001b[49m\n",
      "File \u001b[0;32m/pscratch/sd/m/mavaylon/sam_ldrd/radqm9_pipeline/src/radqm9_pipeline/modules/blocks.py:242\u001b[0m, in \u001b[0;36mforce_magnitude_filter\u001b[0;34m(cutoff, data)\u001b[0m\n\u001b[1;32m    240\u001b[0m \u001b[38;5;28;01mfor\u001b[39;00m path_point \u001b[38;5;129;01min\u001b[39;00m forces:\n\u001b[1;32m    241\u001b[0m     \u001b[38;5;28;01mfor\u001b[39;00m atom \u001b[38;5;129;01min\u001b[39;00m path_point:\n\u001b[0;32m--> 242\u001b[0m         res \u001b[38;5;241m=\u001b[39m \u001b[43mnp\u001b[49m\u001b[38;5;241m.\u001b[39msqrt(\u001b[38;5;28msum\u001b[39m([i\u001b[38;5;241m*\u001b[39m\u001b[38;5;241m*\u001b[39m\u001b[38;5;241m2\u001b[39m \u001b[38;5;28;01mfor\u001b[39;00m i \u001b[38;5;129;01min\u001b[39;00m atom]))\n\u001b[1;32m    243\u001b[0m         \u001b[38;5;28;01mif\u001b[39;00m res \u001b[38;5;241m>\u001b[39m\u001b[38;5;241m=\u001b[39m cutoff:\n\u001b[1;32m    244\u001b[0m             \u001b[38;5;28;01mtry\u001b[39;00m:\n",
      "\u001b[0;31mNameError\u001b[0m: name 'np' is not defined"
     ]
    }
   ],
   "source": [
    "force_filtered, filtered_data = force_magnitude_filter(cutoff=10.0, data=bucket)"
   ]
  },
  {
   "cell_type": "markdown",
   "id": "1a084f48-fab5-4f3d-a744-eadd2b8cb4a1",
   "metadata": {},
   "source": [
    "# Split the Data"
   ]
  },
  {
   "cell_type": "code",
   "execution_count": 6,
   "id": "f7d47103-0d37-454b-a95f-d8f5023fce5c",
   "metadata": {
    "tags": []
   },
   "outputs": [
    {
     "name": "stderr",
     "output_type": "stream",
     "text": [
      "100%|██████████| 130170/130170 [04:22<00:00, 495.29it/s]\n",
      "100%|██████████| 1132/1132 [00:00<00:00, 19784.95it/s]\n"
     ]
    },
    {
     "ename": "TypeError",
     "evalue": "unhashable type: 'list'",
     "output_type": "error",
     "traceback": [
      "\u001b[0;31m---------------------------------------------------------------------------\u001b[0m",
      "\u001b[0;31mTypeError\u001b[0m                                 Traceback (most recent call last)",
      "\u001b[0;32m/tmp/ipykernel_1954236/1292161013.py\u001b[0m in \u001b[0;36m<module>\u001b[0;34m\u001b[0m\n\u001b[0;32m----> 1\u001b[0;31m \u001b[0mtemp\u001b[0m \u001b[0;34m=\u001b[0m \u001b[0mtrain_val_test_split\u001b[0m\u001b[0;34m(\u001b[0m\u001b[0mb\u001b[0m\u001b[0;34m,\u001b[0m \u001b[0mtrain_size\u001b[0m\u001b[0;34m=\u001b[0m\u001b[0;36m.6\u001b[0m\u001b[0;34m,\u001b[0m \u001b[0mval_size\u001b[0m\u001b[0;34m=\u001b[0m\u001b[0;36m.2\u001b[0m\u001b[0;34m,\u001b[0m \u001b[0mtest_size\u001b[0m\u001b[0;34m=\u001b[0m\u001b[0;36m.2\u001b[0m\u001b[0;34m)\u001b[0m\u001b[0;34m\u001b[0m\u001b[0;34m\u001b[0m\u001b[0m\n\u001b[0m",
      "\u001b[0;32m/pscratch/sd/m/mavaylon/sam_ldrd/radqm9_pipeline/src/radqm9_pipeline/modules/blocks.py\u001b[0m in \u001b[0;36mtrain_val_test_split\u001b[0;34m(bucket, train_size, val_size, test_size)\u001b[0m\n\u001b[1;32m    258\u001b[0m             \u001b[0msplit\u001b[0m\u001b[0;34m[\u001b[0m\u001b[0;34m'test'\u001b[0m\u001b[0;34m]\u001b[0m \u001b[0;34m=\u001b[0m \u001b[0mweight_dict\u001b[0m\u001b[0;34m[\u001b[0m\u001b[0mstrata\u001b[0m\u001b[0;34m]\u001b[0m\u001b[0;34m[\u001b[0m\u001b[0mval_index\u001b[0m\u001b[0;34m:\u001b[0m\u001b[0;34m]\u001b[0m\u001b[0;34m\u001b[0m\u001b[0;34m\u001b[0m\u001b[0m\n\u001b[1;32m    259\u001b[0m \u001b[0;34m\u001b[0m\u001b[0m\n\u001b[0;32m--> 260\u001b[0;31m     \u001b[0mtrain_data\u001b[0m \u001b[0;34m=\u001b[0m \u001b[0;34m[\u001b[0m\u001b[0mbucket\u001b[0m\u001b[0;34m[\u001b[0m\u001b[0mi\u001b[0m\u001b[0;34m]\u001b[0m \u001b[0;32mfor\u001b[0m \u001b[0mi\u001b[0m \u001b[0;32min\u001b[0m \u001b[0msplit\u001b[0m\u001b[0;34m[\u001b[0m\u001b[0;34m'train'\u001b[0m\u001b[0;34m]\u001b[0m\u001b[0;34m]\u001b[0m\u001b[0;34m\u001b[0m\u001b[0;34m\u001b[0m\u001b[0m\n\u001b[0m\u001b[1;32m    261\u001b[0m     \u001b[0mval_data\u001b[0m \u001b[0;34m=\u001b[0m \u001b[0;34m[\u001b[0m\u001b[0mbucket\u001b[0m\u001b[0;34m[\u001b[0m\u001b[0mi\u001b[0m\u001b[0;34m]\u001b[0m \u001b[0;32mfor\u001b[0m \u001b[0mi\u001b[0m \u001b[0;32min\u001b[0m \u001b[0msplit\u001b[0m\u001b[0;34m[\u001b[0m\u001b[0;34m'val'\u001b[0m\u001b[0;34m]\u001b[0m\u001b[0;34m]\u001b[0m\u001b[0;34m\u001b[0m\u001b[0;34m\u001b[0m\u001b[0m\n\u001b[1;32m    262\u001b[0m     \u001b[0mtest_data\u001b[0m \u001b[0;34m=\u001b[0m \u001b[0;34m[\u001b[0m\u001b[0mbucket\u001b[0m\u001b[0;34m[\u001b[0m\u001b[0mi\u001b[0m\u001b[0;34m]\u001b[0m \u001b[0;32mfor\u001b[0m \u001b[0mi\u001b[0m \u001b[0;32min\u001b[0m \u001b[0msplit\u001b[0m\u001b[0;34m[\u001b[0m\u001b[0;34m'test'\u001b[0m\u001b[0;34m]\u001b[0m\u001b[0;34m]\u001b[0m\u001b[0;34m\u001b[0m\u001b[0;34m\u001b[0m\u001b[0m\n",
      "\u001b[0;32m/pscratch/sd/m/mavaylon/sam_ldrd/radqm9_pipeline/src/radqm9_pipeline/modules/blocks.py\u001b[0m in \u001b[0;36m<listcomp>\u001b[0;34m(.0)\u001b[0m\n\u001b[1;32m    258\u001b[0m             \u001b[0msplit\u001b[0m\u001b[0;34m[\u001b[0m\u001b[0;34m'test'\u001b[0m\u001b[0;34m]\u001b[0m \u001b[0;34m=\u001b[0m \u001b[0mweight_dict\u001b[0m\u001b[0;34m[\u001b[0m\u001b[0mstrata\u001b[0m\u001b[0;34m]\u001b[0m\u001b[0;34m[\u001b[0m\u001b[0mval_index\u001b[0m\u001b[0;34m:\u001b[0m\u001b[0;34m]\u001b[0m\u001b[0;34m\u001b[0m\u001b[0;34m\u001b[0m\u001b[0m\n\u001b[1;32m    259\u001b[0m \u001b[0;34m\u001b[0m\u001b[0m\n\u001b[0;32m--> 260\u001b[0;31m     \u001b[0mtrain_data\u001b[0m \u001b[0;34m=\u001b[0m \u001b[0;34m[\u001b[0m\u001b[0mbucket\u001b[0m\u001b[0;34m[\u001b[0m\u001b[0mi\u001b[0m\u001b[0;34m]\u001b[0m \u001b[0;32mfor\u001b[0m \u001b[0mi\u001b[0m \u001b[0;32min\u001b[0m \u001b[0msplit\u001b[0m\u001b[0;34m[\u001b[0m\u001b[0;34m'train'\u001b[0m\u001b[0;34m]\u001b[0m\u001b[0;34m]\u001b[0m\u001b[0;34m\u001b[0m\u001b[0;34m\u001b[0m\u001b[0m\n\u001b[0m\u001b[1;32m    261\u001b[0m     \u001b[0mval_data\u001b[0m \u001b[0;34m=\u001b[0m \u001b[0;34m[\u001b[0m\u001b[0mbucket\u001b[0m\u001b[0;34m[\u001b[0m\u001b[0mi\u001b[0m\u001b[0;34m]\u001b[0m \u001b[0;32mfor\u001b[0m \u001b[0mi\u001b[0m \u001b[0;32min\u001b[0m \u001b[0msplit\u001b[0m\u001b[0;34m[\u001b[0m\u001b[0;34m'val'\u001b[0m\u001b[0;34m]\u001b[0m\u001b[0;34m]\u001b[0m\u001b[0;34m\u001b[0m\u001b[0;34m\u001b[0m\u001b[0m\n\u001b[1;32m    262\u001b[0m     \u001b[0mtest_data\u001b[0m \u001b[0;34m=\u001b[0m \u001b[0;34m[\u001b[0m\u001b[0mbucket\u001b[0m\u001b[0;34m[\u001b[0m\u001b[0mi\u001b[0m\u001b[0;34m]\u001b[0m \u001b[0;32mfor\u001b[0m \u001b[0mi\u001b[0m \u001b[0;32min\u001b[0m \u001b[0msplit\u001b[0m\u001b[0;34m[\u001b[0m\u001b[0;34m'test'\u001b[0m\u001b[0;34m]\u001b[0m\u001b[0;34m]\u001b[0m\u001b[0;34m\u001b[0m\u001b[0;34m\u001b[0m\u001b[0m\n",
      "\u001b[0;31mTypeError\u001b[0m: unhashable type: 'list'"
     ]
    }
   ],
   "source": [
    "data_dict_spit, weight_dist = train_val_test_split(b, train_size=.6, val_size=.2)"
   ]
  },
  {
   "cell_type": "markdown",
   "id": "a7903eee-b704-4063-bfd3-0f1efe22584c",
   "metadata": {},
   "source": [
    "# Use the BuildManager to Tag and Prepare the Data"
   ]
  },
  {
   "cell_type": "code",
   "execution_count": 27,
   "id": "2ffdafd3-91e8-4dbf-b937-5cb23d8df884",
   "metadata": {},
   "outputs": [
    {
     "name": "stderr",
     "output_type": "stream",
     "text": [
      "100%|██████████| 78171/78171 [00:34<00:00, 2278.63it/s]\n",
      "100%|██████████| 26012/26012 [00:11<00:00, 2278.04it/s]\n",
      "100%|██████████| 25987/25987 [00:11<00:00, 2292.47it/s]\n"
     ]
    }
   ],
   "source": [
    "prepped_data=build_manager(data_dict_spit, weight_dist)"
   ]
  },
  {
   "cell_type": "markdown",
   "id": "1a1457de-030f-4531-a7b9-62abc4c356e6",
   "metadata": {},
   "source": [
    "# Write Dataset"
   ]
  },
  {
   "cell_type": "code",
   "execution_count": null,
   "id": "2f6e63b3-3ff4-4433-b5b9-2625a5e9e6d6",
   "metadata": {},
   "outputs": [],
   "source": [
    "create_dataset(prepped_data, 'rad_qm9_60_20_20', '/pscratch/sd/m/mavaylon/sam_ldrd/rad_qm9_60_20_20')"
   ]
  },
  {
   "cell_type": "code",
   "execution_count": null,
   "id": "e9a9414e-d9b5-46a9-b27f-43aba2130466",
   "metadata": {
    "tags": []
   },
   "outputs": [],
   "source": []
  },
  {
   "cell_type": "code",
   "execution_count": null,
   "id": "2c57e6ac-3fce-4af7-8eef-c66c00befce9",
   "metadata": {},
   "outputs": [],
   "source": []
  }
 ],
 "metadata": {
  "kernelspec": {
   "display_name": "NERSC Python",
   "language": "python",
   "name": "python3"
  },
  "language_info": {
   "codemirror_mode": {
    "name": "ipython",
    "version": 3
   },
   "file_extension": ".py",
   "mimetype": "text/x-python",
   "name": "python",
   "nbconvert_exporter": "python",
   "pygments_lexer": "ipython3",
   "version": "3.11.6"
  }
 },
 "nbformat": 4,
 "nbformat_minor": 5
}
