{
 "cells": [
  {
   "cell_type": "code",
   "execution_count": 1,
   "id": "1c710325-7161-4af9-9bb0-a2d436bb67bc",
   "metadata": {
    "tags": []
   },
   "outputs": [],
   "source": [
    "from ase.io import read\n",
    "import ase\n",
    "\n",
    "from pymatgen.io.ase import AseAtomsAdaptor\n",
    "from pymatgen.analysis.graphs import MoleculeGraph\n",
    "from pymatgen.analysis.local_env import OpenBabelNN, CovalentBondNN\n",
    "\n",
    "import networkx as nx\n",
    "import os"
   ]
  },
  {
   "cell_type": "code",
   "execution_count": 2,
   "id": "20cd87d1-8f23-4609-acb1-ed07d9bd7e89",
   "metadata": {
    "tags": []
   },
   "outputs": [],
   "source": [
    "from monty.serialization import loadfn\n",
    "from glob import glob\n",
    "import time\n",
    "from tqdm import tqdm\n",
    "import collections\n",
    "import numpy as np\n",
    "import matplotlib.pyplot as plt\n"
   ]
  },
  {
   "cell_type": "code",
   "execution_count": 3,
   "id": "70a30faf-4472-4b21-8d26-72d69da22926",
   "metadata": {},
   "outputs": [],
   "source": [
    "from radqm9_pipeline.modules import (bucket_mol_id_all_pts,\n",
    "                                    train_val_test_split,\n",
    "                                    build_manager,\n",
    "                                    merge_data,\n",
    "                                    force_magnitude_filter,\n",
    "                                    flatten,\n",
    "                                    tagger,\n",
    "                                    build_atoms_iterator)\n",
    "from radqm9_pipeline.elements import read_elements"
   ]
  },
  {
   "cell_type": "code",
   "execution_count": 4,
   "id": "f38311a2-108e-4fff-b33e-ff9340cc6518",
   "metadata": {
    "tags": []
   },
   "outputs": [],
   "source": [
    "# from radqm9_pipeline.validators import composition_validator"
   ]
  },
  {
   "cell_type": "code",
   "execution_count": 4,
   "id": "c946b2a1-2389-4b77-9cc5-b4398829a726",
   "metadata": {
    "tags": []
   },
   "outputs": [],
   "source": [
    "# # atoms = read(\"/pscratch/sd/m/mavaylon/sam_ldrd/C4H8_disconnected.xyz\")\n",
    "# mol = AseAtomsAdaptor.get_molecule(atoms)\n",
    "# graph = MoleculeGraph.with_local_env_strategy(mol, OpenBabelNN())"
   ]
  },
  {
   "cell_type": "code",
   "execution_count": 5,
   "id": "8a2874b2-c436-478f-bfb3-946c2acdf3da",
   "metadata": {
    "tags": []
   },
   "outputs": [],
   "source": [
    "# atoms.symbols"
   ]
  },
  {
   "cell_type": "markdown",
   "id": "1689ea87-649f-47bb-bd50-cb8281abc1a7",
   "metadata": {
    "tags": []
   },
   "source": [
    "# Set elements\n"
   ]
  },
  {
   "cell_type": "code",
   "execution_count": 11,
   "id": "a76fd500-eba2-4b81-b01d-9a447e5a93a8",
   "metadata": {
    "tags": []
   },
   "outputs": [],
   "source": [
    "elements_dict = read_elements('/pscratch/sd/m/mavaylon/sam_ldrd/radqm9_pipeline/src/radqm9_pipeline/modules/elements.pkl')"
   ]
  },
  {
   "cell_type": "markdown",
   "id": "03728f28-fd22-4c88-99f5-13ef803d6926",
   "metadata": {},
   "source": [
    "# Set Data Directory"
   ]
  },
  {
   "cell_type": "code",
   "execution_count": 7,
   "id": "f9724f91-a620-42fb-839f-d067a72e9c28",
   "metadata": {
    "tags": []
   },
   "outputs": [],
   "source": [
    "base_dir = \"/pscratch/sd/m/mavaylon/sam_ldrd/radqm9/updated_rad_qm9_raw/data/20230907_radQM9_trajectories\""
   ]
  },
  {
   "cell_type": "markdown",
   "id": "dc593940-8088-40b3-849a-4bfc79bd491b",
   "metadata": {},
   "source": [
    "# Load and Merge Data"
   ]
  },
  {
   "cell_type": "code",
   "execution_count": 4,
   "id": "bd944057-8423-4634-ab29-e02f968f935d",
   "metadata": {
    "tags": []
   },
   "outputs": [],
   "source": [
    "# merged_data=merge_data(base_dir)"
   ]
  },
  {
   "cell_type": "code",
   "execution_count": 214,
   "id": "79859765-ea39-4573-a66e-70cf9e73ecd2",
   "metadata": {
    "tags": []
   },
   "outputs": [
    {
     "data": {
      "text/plain": [
       "616958"
      ]
     },
     "execution_count": 214,
     "metadata": {},
     "output_type": "execute_result"
    }
   ],
   "source": [
    "len(merged_data)"
   ]
  },
  {
   "cell_type": "code",
   "execution_count": 216,
   "id": "62abd266-2e4b-4e32-ac9d-19c347d0c88c",
   "metadata": {
    "tags": []
   },
   "outputs": [],
   "source": [
    "# merged_data[0]"
   ]
  },
  {
   "cell_type": "code",
   "execution_count": 217,
   "id": "21fff67b-ad38-404f-80cd-cbc534e04b4f",
   "metadata": {
    "tags": []
   },
   "outputs": [
    {
     "name": "stderr",
     "output_type": "stream",
     "text": [
      "100%|██████████| 616958/616958 [16:59<00:00, 605.20it/s]  \n"
     ]
    }
   ],
   "source": [
    "# import h5py\n",
    "# with h5py.File('/pscratch/sd/m/mavaylon/sam_ldrd/merged_raw_data.h5', 'w') as file:\n",
    "#     g1 =file.create_group('raw')\n",
    "#     raw=[]\n",
    "#     for item in tqdm(merged_data):\n",
    "#         raw.append(str(item))\n",
    "#     g1.create_dataset('raw_data',data=raw)"
   ]
  },
  {
   "cell_type": "code",
   "execution_count": 5,
   "id": "9f3ca697-e6c5-4964-a0ef-c5ace41b5359",
   "metadata": {
    "tags": []
   },
   "outputs": [],
   "source": [
    "# import h5py\n",
    "# import ast\n",
    "# merged_file = h5py.File('/pscratch/sd/m/mavaylon/sam_ldrd/merged_raw_data.h5', 'r')\n"
   ]
  },
  {
   "cell_type": "code",
   "execution_count": 9,
   "id": "fa3fa2c0-e468-440e-99ca-e857f6b78cab",
   "metadata": {
    "tags": []
   },
   "outputs": [],
   "source": [
    "# merged_file['raw']['raw_data'][0]"
   ]
  },
  {
   "cell_type": "code",
   "execution_count": 5,
   "id": "5f5df7fe-c1f7-4bf9-8a9e-8e0e3d4e0c77",
   "metadata": {
    "tags": []
   },
   "outputs": [],
   "source": [
    "# merged_data=[]\n",
    "# for point in tqdm(merged_file['raw']['raw_data']):\n",
    "#     point = ast.literal_eval(point.decode('utf-8'))\n",
    "#     merged_data.append(point)\n"
   ]
  },
  {
   "cell_type": "markdown",
   "id": "fb56569a-4580-4c7b-8167-4bde21371f45",
   "metadata": {},
   "source": [
    "# Filter Data"
   ]
  },
  {
   "cell_type": "code",
   "execution_count": 7,
   "id": "001d9050-cd11-4b71-adc9-dc8690a7f47b",
   "metadata": {
    "tags": []
   },
   "outputs": [],
   "source": [
    "def bucket_mol_id_all_pts(data: list):\n",
    "    \"\"\"\n",
    "    Method requires a list of events such that each item in the list is a single event.\n",
    "    \n",
    "    Steps:\n",
    "    - Bucket the events in a dictionary such that the keys are the mol_ids and the values are all events with that mol_id. Create\n",
    "      a new field for each event called \"charge_spin\" for easy down_stream checks.\n",
    "    - For each mol_id, check the list of events for duplicate \"charge_spin\". \n",
    "      If there are duplicates, for each duplicate pair:\n",
    "                1. Get all events that have the duplicate charge_spin\n",
    "                2. Remove these events from the values of the mol_id in the bucket. This is to process them and re-add them later or move to\n",
    "                   bad data.\n",
    "                3. Search for the order in which these duplicate events for the specific charge_spin should be attached. If there is no match,\n",
    "                   this is considered bad data and will be moved out of the bucket.\n",
    "                4. If an order can be established, create a new \"merged\" event. \n",
    "                5. Append the event to the values of the mol_id of the bucket.\n",
    "                6. Repeat for every duplicate pair.\n",
    "    \"\"\"\n",
    "    bucket = {}\n",
    "    \n",
    "    # Step 1    \n",
    "    for event in tqdm(data):\n",
    "        event['charge_spin'] = str(event['charge'])+','+str(event['spin'])\n",
    "        try:\n",
    "            bucket[event['mol_id']].append(event) \n",
    "        except KeyError:\n",
    "            bucket[event['mol_id']] = [event]\n",
    "\n",
    "    # Step 2\n",
    "    bad_ids = []\n",
    "    for mol_id in tqdm(bucket):\n",
    "        pairs = [event['charge_spin'] for event in bucket[mol_id]]\n",
    "        # Get a list of all charge_spins that have duplicates.\n",
    "        duplicate_pairs = [item for item, count in collections.Counter(pairs).items() if count > 1] \n",
    "        non_dup_pairs = []\n",
    "        if len(duplicate_pairs)!=0:\n",
    "            non_dup_pairs = list(set(pairs))\n",
    "            for i in duplicate_pairs:\n",
    "                non_dup_pairs.remove(i)\n",
    "        \n",
    "        if len(duplicate_pairs)==0:\n",
    "            for pair in bucket[mol_id]:\n",
    "                # add weight tag\n",
    "                species = pair['species']\n",
    "                species_num = []\n",
    "                species_sorted = ''.join(sorted(set(species)))\n",
    "                for element in species:\n",
    "                    species_num.append(elements_dict[element])\n",
    "                    \n",
    "                pair['weight_tag'] = round(sum(species_num))\n",
    "        else:\n",
    "            if len(non_dup_pairs)!=0:\n",
    "                for pair in non_dup_pairs:\n",
    "                    case_events = [event for event in bucket[mol_id] if event['charge_spin']==pair]\n",
    "                    for event in case_events:\n",
    "                        # add weight tag\n",
    "                        species = event['species']\n",
    "                        species_num = []\n",
    "                        species_sorted = ''.join(sorted(set(species)))\n",
    "                        for element in species:\n",
    "                            species_num.append(elements_dict[element])\n",
    "\n",
    "                        event['weight_tag'] = round(sum(species_num)) \n",
    "\n",
    "            bad_data = []\n",
    "            for dup in duplicate_pairs:\n",
    "                # Order events\n",
    "                case_events = [event for event in bucket[mol_id] if event['charge_spin']==dup]\n",
    "                for event in case_events:\n",
    "                    bucket[mol_id].remove(event) \n",
    "                \n",
    "                ordered = [case_events[0]]\n",
    "                del case_events[0]\n",
    "                \n",
    "                counter = 0\n",
    "                threshold = 30\n",
    "                while len(case_events)!=0:\n",
    "                    if len(bad_data)==0:\n",
    "                        for event in case_events:\n",
    "                            beg = event['geometries'][0]\n",
    "                            end = event['geometries'][len(event['geometries'])-1]\n",
    "\n",
    "                            ordered_beg = ordered[0]['geometries'][0]\n",
    "                            ordered_end = ordered[len(ordered)-1]['geometries'][len(ordered[len(ordered)-1]['geometries'])-1]\n",
    "\n",
    "                            if beg==ordered_end:\n",
    "                                ordered.append(event)\n",
    "                                case_events.remove(event)\n",
    "                            elif end==ordered_beg:\n",
    "                                ordered.insert(0, event)\n",
    "                                case_events.remove(event)\n",
    "                            else:\n",
    "                                counter+=1\n",
    "                                if counter>threshold:\n",
    "                                    bad_data.append(mol_id)\n",
    "                                else:\n",
    "                                    continue\n",
    "                    else:\n",
    "                        break\n",
    "                    \n",
    "                if len(bad_data)==0:\n",
    "                    pass\n",
    "                else:\n",
    "                    bad_ids += bad_data\n",
    "                    continue\n",
    "\n",
    "                # Merge the ordered events: forces, geometries\n",
    "                merged_event = {}\n",
    "                merged_event['task_id'] = ordered[0]['task_id']\n",
    "                merged_event['mol_id'] = mol_id\n",
    "                merged_event['name'] = ordered[0]['name']\n",
    "                merged_event['charge'] = ordered[0]['charge']\n",
    "                merged_event['spin'] = ordered[0]['spin']\n",
    "                merged_event['charge_spin'] = ordered[0]['charge_spin']\n",
    "                merged_event['species'] = ordered[0]['species']\n",
    "                \n",
    "                geometries = []\n",
    "                energies = []\n",
    "                grads = []\n",
    "                mulliken = []\n",
    "                resp = []\n",
    "                for event in ordered:\n",
    "                    geometries += event['geometries']\n",
    "                    energies += event['energies']\n",
    "                    grads += event['gradients']\n",
    "                    mulliken += event['mulliken']\n",
    "                    resp += event['resp']\n",
    "               \n",
    "                merged_event['geometries'] = geometries\n",
    "                merged_event['energies'] = energies\n",
    "                merged_event['gradients'] = grads\n",
    "                merged_event['mulliken'] = mulliken\n",
    "                merged_event['resp'] = resp\n",
    "                \n",
    "                species = merged_event['species']\n",
    "                species_num = []\n",
    "                species_sorted = ''.join(sorted(set(species)))\n",
    "                for element in species:\n",
    "                    species_num.append(elements_dict[element])\n",
    "                merged_event['weight_tag'] = round(sum(species_num))\n",
    "                \n",
    "                bucket[mol_id].append(merged_event)\n",
    "\n",
    "    if len(bad_ids)!=0:\n",
    "        ids = list(set(bad_ids))\n",
    "        for _id in ids:\n",
    "            bucket.pop(_id)\n",
    "        \n",
    "        return ids, bucket\n",
    "    else:\n",
    "        for mol_id in bucket:\n",
    "            if len(bucket[mol_id])>4:\n",
    "                print(mol_id)\n",
    "        return bucket\n"
   ]
  },
  {
   "cell_type": "code",
   "execution_count": 218,
   "id": "622e725d-b68b-49ab-88e8-e1b40b5e62e5",
   "metadata": {},
   "outputs": [
    {
     "name": "stderr",
     "output_type": "stream",
     "text": [
      "100%|██████████| 616958/616958 [00:00<00:00, 738029.74it/s]\n",
      "100%|██████████| 133882/133882 [00:03<00:00, 38190.80it/s]\n"
     ]
    }
   ],
   "source": [
    "bad_ids, all_pts_bucket = bucket_mol_id_all_pts(merged_data)"
   ]
  },
  {
   "cell_type": "code",
   "execution_count": 219,
   "id": "af0ccfda-2c4d-4026-94f2-179508861a94",
   "metadata": {
    "tags": []
   },
   "outputs": [
    {
     "data": {
      "text/plain": [
       "130170"
      ]
     },
     "execution_count": 219,
     "metadata": {},
     "output_type": "execute_result"
    }
   ],
   "source": [
    "len(all_pts_bucket.keys())"
   ]
  },
  {
   "cell_type": "code",
   "execution_count": null,
   "id": "045dd087-e17c-45d0-bc43-6a80a90b29bc",
   "metadata": {},
   "outputs": [],
   "source": []
  },
  {
   "cell_type": "code",
   "execution_count": null,
   "id": "333ad741-8f4d-43df-a25e-0c933580d517",
   "metadata": {},
   "outputs": [],
   "source": [
    "all_pts_bucket"
   ]
  },
  {
   "cell_type": "code",
   "execution_count": 220,
   "id": "07822566-a852-4d32-bac9-99fc3d4ebe9a",
   "metadata": {},
   "outputs": [],
   "source": [
    "def average_force_trajectory(pair):\n",
    "    \"\"\"\n",
    "    This method will take a specfic spin charge pair. At each point in the optimization trajectory, the \n",
    "    \"\"\"\n",
    "    forces = {}\n",
    "    for i in range(len(pair['gradients'])):\n",
    "        temp = []\n",
    "        for atom in pair['gradients'][i]:\n",
    "            res = np.sqrt(sum([j**2 for j in atom]))\n",
    "            temp.append(res)\n",
    "        forces[i] = np.mean(temp)\n",
    "    del forces[0]\n",
    "    return forces"
   ]
  },
  {
   "cell_type": "code",
   "execution_count": 221,
   "id": "093953f8-813b-49cb-a5c1-6ab007ca2da8",
   "metadata": {},
   "outputs": [],
   "source": [
    "def sparse_trajectory(bucket: dict):\n",
    "    \"\"\"\n",
    "    This takes the cleaned data and will sparsifiy the optimization trajectories. How this is done will depend on the\n",
    "    charge_spin pair:\n",
    "    - Neutral Singlet (0,1): First and Last\n",
    "    - Other: First, Last, and structure with the highest molecular force other than the First.\n",
    "    \n",
    "    Note: Molecular Force is just the average of the force magnitudes of each atom in the molecule:\n",
    "    \"\"\"\n",
    "    \n",
    "    for mol_id in tqdm(bucket):\n",
    "        for pair in bucket[mol_id]:\n",
    "            if pair['charge_spin'] == '0,1':\n",
    "                geometries = [pair['geometries'][0], pair['geometries'][-1]]\n",
    "                energies = [pair['energies'][0], pair['energies'][-1]]\n",
    "                grads = [pair['gradients'][0], pair['gradients'][-1]]\n",
    "                mulliken = [pair['mulliken'][0], pair['mulliken'][-1]]\n",
    "                resp = [pair['resp'][0], pair['resp'][-1]]\n",
    "                \n",
    "                pair['geometries'] = geometries\n",
    "                pair['energies'] = energies\n",
    "                pair['gradients'] = grads\n",
    "                pair['mulliken'] = mulliken\n",
    "                pair['resp'] = resp\n",
    "            else:\n",
    "                force_dict = average_force_trajectory(pair)\n",
    "                max_index = max(force_dict, key=force_dict.get)\n",
    "                \n",
    "                geometries = [pair['geometries'][0], pair['geometries'][max_index], pair['geometries'][-1]]\n",
    "                energies = [pair['energies'][0], pair['energies'][max_index], pair['energies'][-1]]\n",
    "                grads = [pair['gradients'][0], pair['gradients'][max_index], pair['gradients'][-1]]\n",
    "                mulliken = [pair['mulliken'][0], pair['mulliken'][max_index], pair['mulliken'][-1]]\n",
    "                resp = [pair['resp'][0], pair['resp'][max_index], pair['resp'][-1]]\n",
    "                \n",
    "                pair['geometries'] = geometries\n",
    "                pair['energies'] = energies\n",
    "                pair['gradients'] = grads\n",
    "                pair['mulliken'] = mulliken\n",
    "                pair['resp'] = resp"
   ]
  },
  {
   "cell_type": "code",
   "execution_count": 222,
   "id": "8de8597d-6e57-4989-88bc-1825b96641e4",
   "metadata": {},
   "outputs": [
    {
     "name": "stderr",
     "output_type": "stream",
     "text": [
      "100%|██████████| 130170/130170 [06:46<00:00, 320.42it/s]\n"
     ]
    }
   ],
   "source": [
    "sparsed_bucket = sparse_trajectory(all_pts_bucket)"
   ]
  },
  {
   "cell_type": "code",
   "execution_count": 223,
   "id": "f8e8f2f4-e6a2-443e-a2af-3de2f25e6cf8",
   "metadata": {
    "tags": []
   },
   "outputs": [
    {
     "name": "stderr",
     "output_type": "stream",
     "text": [
      "100%|██████████| 130170/130170 [00:00<00:00, 314683.04it/s]\n"
     ]
    }
   ],
   "source": [
    "# how much data after sparse?\n",
    "total=0\n",
    "for mol_id in tqdm(all_pts_bucket):\n",
    "    for pair in all_pts_bucket[mol_id]:\n",
    "        total+=len(pair['geometries'])"
   ]
  },
  {
   "cell_type": "code",
   "execution_count": 224,
   "id": "5464d2fe-59a0-4a0f-9645-414e11aaf77b",
   "metadata": {
    "tags": []
   },
   "outputs": [
    {
     "data": {
      "text/plain": [
       "1400131"
      ]
     },
     "execution_count": 224,
     "metadata": {},
     "output_type": "execute_result"
    }
   ],
   "source": [
    "total"
   ]
  },
  {
   "cell_type": "code",
   "execution_count": 225,
   "id": "fe9f2a20-3aed-42c0-91eb-b75fb5cbb491",
   "metadata": {
    "tags": []
   },
   "outputs": [
    {
     "name": "stderr",
     "output_type": "stream",
     "text": [
      "100%|██████████| 130170/130170 [00:32<00:00, 4029.88it/s]\n"
     ]
    }
   ],
   "source": [
    "force_filtered, filtered_data = force_magnitude_filter(cutoff=10.0, data=all_pts_bucket)"
   ]
  },
  {
   "cell_type": "code",
   "execution_count": 226,
   "id": "aeb119c5-6be9-4ddb-bb3f-d652dfe232af",
   "metadata": {
    "tags": []
   },
   "outputs": [
    {
     "name": "stderr",
     "output_type": "stream",
     "text": [
      "100%|██████████| 130170/130170 [00:00<00:00, 311815.04it/s]\n"
     ]
    }
   ],
   "source": [
    "# how much data after force filter?\n",
    "total=0\n",
    "for mol_id in tqdm(filtered_data):\n",
    "    for pair in filtered_data[mol_id]:\n",
    "        total+=len(pair['geometries'])"
   ]
  },
  {
   "cell_type": "code",
   "execution_count": 227,
   "id": "879b3b6f-ec4d-4cd2-9b68-60fa4553a31b",
   "metadata": {
    "tags": []
   },
   "outputs": [
    {
     "data": {
      "text/plain": [
       "1399906"
      ]
     },
     "execution_count": 227,
     "metadata": {},
     "output_type": "execute_result"
    }
   ],
   "source": [
    "total"
   ]
  },
  {
   "cell_type": "code",
   "execution_count": null,
   "id": "23e94ec0-d5a1-41bb-931d-90966c21677c",
   "metadata": {},
   "outputs": [],
   "source": [
    "def prepare_graph_filter(data: dict):\n",
    "    \"\"\"\n",
    "    Go through the data and retrieve the data needed for graph separation check.\n",
    "    1. Ignore charge_spin pair = 0,1\n",
    "    2. Ignore all starting points in the configurations.\n",
    "    \"\"\"\n",
    "    data_to_be_parsed = []\n",
    "    for mol_id in tqdm(data):\n",
    "        for pair in data[mol_id]:\n",
    "            if pair['charge_spin'] != '0,1':\n",
    "                data_to_be_parsed.append(pair)\n",
    "    \n",
    "    # Ignore the first is in the filter_broken_graphs\n",
    "    return data_to_be_parsed"
   ]
  },
  {
   "cell_type": "code",
   "execution_count": null,
   "id": "70135aa2-30a1-4883-acb2-4d1cc29b8413",
   "metadata": {},
   "outputs": [],
   "source": [
    "dd = prepare_graph_filter(filtered_data)"
   ]
  },
  {
   "cell_type": "code",
   "execution_count": null,
   "id": "23fe516f-cef9-4265-bfda-983b77731d8e",
   "metadata": {},
   "outputs": [],
   "source": [
    "def filter_broken_graphs(data: list):\n",
    "    broken = []\n",
    "    good = []\n",
    "    \n",
    "    for item in tqdm(data):\n",
    "        for traj_point in item['geometries'][1:]:\n",
    "                atoms = ase.atoms.Atoms(symbols=item['species'],\n",
    "                                        positions=traj_point)\n",
    "                mol = AseAtomsAdaptor.get_molecule(atoms)\n",
    "                graph = MoleculeGraph.with_local_env_strategy(mol, OpenBabelNN())\n",
    "\n",
    "                connected = nx.is_connected(graph.graph.to_undirected())\n",
    "                if not connected:\n",
    "                    broken.append(item)\n",
    "                else:\n",
    "                    good.append(item)\n",
    "\n",
    "    return good, broken"
   ]
  },
  {
   "cell_type": "code",
   "execution_count": null,
   "id": "0bc9c7bb-4020-4b8d-bd3b-1554c9f42dfa",
   "metadata": {},
   "outputs": [],
   "source": [
    "good,broken = filter_broken_graphs(dd)"
   ]
  },
  {
   "cell_type": "code",
   "execution_count": null,
   "id": "44187d32-6a7d-4ce9-9527-5c41e69be6cd",
   "metadata": {},
   "outputs": [],
   "source": [
    "# import h5py\n",
    "# with h5py.File('/pscratch/sd/m/mavaylon/sam_ldrd/broken.h5', 'w') as file:\n",
    "#     g1 =file.create_group('broken')\n",
    "#     bbd=[]\n",
    "#     for item in broken:\n",
    "#         bbd.append(str(item))\n",
    "#     g1.create_dataset('broken_data',data=bbd)"
   ]
  },
  {
   "cell_type": "code",
   "execution_count": 228,
   "id": "3d1f51af-e77e-44ba-a097-af4bc4b0e1e8",
   "metadata": {},
   "outputs": [
    {
     "name": "stderr",
     "output_type": "stream",
     "text": [
      "100%|██████████| 25888/25888 [00:39<00:00, 661.53it/s]\n"
     ]
    }
   ],
   "source": [
    "import ast\n",
    "import h5py\n",
    "file = h5py.File('/pscratch/sd/m/mavaylon/sam_ldrd/broken.h5', 'r')\n",
    "\n",
    "broken_dict={}\n",
    "for point in tqdm(file['broken']['broken_data']):\n",
    "    try:\n",
    "        point = ast.literal_eval(point.decode('utf-8'))\n",
    "        broken_dict[str(point['task_id']) +'_'+str(point['mol_id'])+'_'+point['charge_spin']] = point\n",
    "    except KeyError:\n",
    "        pass\n"
   ]
  },
  {
   "cell_type": "code",
   "execution_count": 236,
   "id": "3807d2ef-f9cd-4a5a-a0ce-48dd047f0502",
   "metadata": {},
   "outputs": [],
   "source": [
    "# filtered_data[3832]"
   ]
  },
  {
   "cell_type": "code",
   "execution_count": 230,
   "id": "ee217f5f-04e4-4c02-aabc-1ef10a11ae15",
   "metadata": {},
   "outputs": [],
   "source": [
    "def removed_broken_graph_data(data: dict,\n",
    "                              broken: list):\n",
    "    \"\"\"\n",
    "    \n",
    "    \"\"\"\n",
    "    data_to_be_parsed = {}\n",
    "    for mol_id in tqdm(data):\n",
    "        for pair in data[mol_id]:\n",
    "            # data_to_be_parsed.append(pair)\n",
    "            data_to_be_parsed[str(pair['task_id']) +'_'+str(pair['mol_id'])+'_'+pair['charge_spin']] = pair\n",
    "    print(len(data_to_be_parsed))\n",
    "    \n",
    "    print(len(broken))\n",
    "    for item in tqdm(broken):\n",
    "        data_to_be_parsed.pop(item)\n",
    "    \n",
    "    print(len(data_to_be_parsed))\n",
    "    \n",
    "    return data_to_be_parsed"
   ]
  },
  {
   "cell_type": "code",
   "execution_count": 231,
   "id": "8e69c569-123c-4ecb-9c93-e63fddf45967",
   "metadata": {
    "tags": []
   },
   "outputs": [
    {
     "name": "stderr",
     "output_type": "stream",
     "text": [
      "100%|██████████| 130170/130170 [00:00<00:00, 209379.18it/s]\n"
     ]
    },
    {
     "name": "stdout",
     "output_type": "stream",
     "text": [
      "509920\n",
      "17353\n"
     ]
    },
    {
     "name": "stderr",
     "output_type": "stream",
     "text": [
      "100%|██████████| 17353/17353 [00:00<00:00, 1566589.70it/s]"
     ]
    },
    {
     "name": "stdout",
     "output_type": "stream",
     "text": [
      "492567\n"
     ]
    },
    {
     "name": "stderr",
     "output_type": "stream",
     "text": [
      "\n"
     ]
    }
   ],
   "source": [
    "cleaned_data = removed_broken_graph_data(filtered_data, broken_dict)"
   ]
  },
  {
   "cell_type": "code",
   "execution_count": 234,
   "id": "0b30145e-571d-42ee-8ba7-eeb462d1c718",
   "metadata": {
    "tags": []
   },
   "outputs": [
    {
     "data": {
      "text/plain": [
       "492567"
      ]
     },
     "execution_count": 234,
     "metadata": {},
     "output_type": "execute_result"
    }
   ],
   "source": [
    "len(cleaned_data.keys())"
   ]
  },
  {
   "cell_type": "code",
   "execution_count": 16,
   "id": "eac92927-1ea2-4304-89c4-dcf78f77073d",
   "metadata": {
    "tags": []
   },
   "outputs": [],
   "source": [
    "file.close()"
   ]
  },
  {
   "cell_type": "code",
   "execution_count": 20,
   "id": "02e1fe46-5331-4ca0-8467-5cbda7823720",
   "metadata": {
    "tags": []
   },
   "outputs": [
    {
     "name": "stderr",
     "output_type": "stream",
     "text": [
      "100%|██████████| 492567/492567 [01:25<00:00, 5763.51it/s]\n"
     ]
    }
   ],
   "source": [
    "import ast\n",
    "import h5py\n",
    "with h5py.File('/pscratch/sd/m/mavaylon/sam_ldrd/cleaned_data.h5', 'w') as file:\n",
    "    g1 =file.create_group('clean')\n",
    "    cd=[]\n",
    "    for item in tqdm(cleaned_data):\n",
    "        cd.append(str(cleaned_data[item]))\n",
    "    g1.create_dataset('cleaned_data',data=cd)"
   ]
  },
  {
   "cell_type": "code",
   "execution_count": 6,
   "id": "6ed0e36f-9334-47f2-af34-163605778e62",
   "metadata": {
    "tags": []
   },
   "outputs": [],
   "source": [
    "import ast\n",
    "import h5py\n",
    "file = h5py.File('/pscratch/sd/m/mavaylon/sam_ldrd/cleaned_data.h5', 'r')"
   ]
  },
  {
   "cell_type": "code",
   "execution_count": null,
   "id": "2263a30a-0077-413d-bcd2-e0603f6bbfe3",
   "metadata": {
    "tags": []
   },
   "outputs": [],
   "source": []
  },
  {
   "cell_type": "code",
   "execution_count": 7,
   "id": "4db2cc8f-5e83-4a2c-ade9-8bf935018be0",
   "metadata": {
    "tags": []
   },
   "outputs": [
    {
     "name": "stderr",
     "output_type": "stream",
     "text": [
      "100%|██████████| 492567/492567 [11:04<00:00, 741.53it/s] \n"
     ]
    }
   ],
   "source": [
    "cleaned_read_data={}\n",
    "for point in tqdm(file['clean']['cleaned_data']):\n",
    "    point = ast.literal_eval(point.decode('utf-8'))\n",
    "    cleaned_read_data[str(point['task_id']) +'_'+str(point['mol_id'])+'_'+point['charge_spin']] = point\n"
   ]
  },
  {
   "cell_type": "code",
   "execution_count": 7,
   "id": "f8100547-655f-49e2-b6ee-b59cfb2496d5",
   "metadata": {
    "tags": []
   },
   "outputs": [],
   "source": [
    "# cleaned_read_data"
   ]
  },
  {
   "cell_type": "markdown",
   "id": "1a084f48-fab5-4f3d-a744-eadd2b8cb4a1",
   "metadata": {},
   "source": [
    "# Split the Data"
   ]
  },
  {
   "cell_type": "code",
   "execution_count": 8,
   "id": "b03042a9-1167-4c72-8edd-81669e3ed9d6",
   "metadata": {
    "tags": []
   },
   "outputs": [],
   "source": [
    "def __mol_id_weight_bins(data: dict):\n",
    "    \"\"\"\n",
    "    This method takes in the output from removing the broken graphs.\n",
    "    \n",
    "    1. Bin the data by mol_ids in a dict.\n",
    "\n",
    "    For each mol_id, calculate the molecule weight based off the atoms. Combine that with that type of atoms used.\n",
    "    This weight+type serves as a key for a dict. The values are then the mol_ids that match the key.\n",
    "    \n",
    "    The intent is create a dict such that we can sample from evenly based on weight. We also want to ensure even\n",
    "    representation of atom type across train/val/test, hence why we include the atoms used in the key.\n",
    "    \"\"\"\n",
    "    bucket={}\n",
    "    for item in tqdm(data):\n",
    "        try:\n",
    "            bucket[data[item]['mol_id']].append(data[item])\n",
    "        except KeyError:\n",
    "            bucket[data[item]['mol_id']] = [data[item]]\n",
    "    \n",
    "    \n",
    "    weight_dist = {}\n",
    "    weight_dict = {}\n",
    "    for mol_id in tqdm(bucket):\n",
    "        species = bucket[mol_id][0]['species']\n",
    "        species_num = []\n",
    "        species_sorted = ''.join(sorted(set(species)))\n",
    "        for element in species:\n",
    "            species_num.append(elements_dict[element])\n",
    "\n",
    "        try:\n",
    "            weight_dist[round(sum(species_num))]+=1\n",
    "        except KeyError:\n",
    "            weight_dist[round(sum(species_num))]=1\n",
    "            \n",
    "        try:\n",
    "            weight_dict[str(sum(species_num))+'_'+species_sorted].append(mol_id)\n",
    "\n",
    "        except KeyError:\n",
    "            weight_dict[str(sum(species_num))+'_'+species_sorted] = [mol_id]\n",
    "    \n",
    "    return weight_dict, weight_dist, bucket\n"
   ]
  },
  {
   "cell_type": "code",
   "execution_count": 10,
   "id": "a1929173-fcf6-4420-be60-86bf731514b7",
   "metadata": {
    "tags": []
   },
   "outputs": [
    {
     "name": "stderr",
     "output_type": "stream",
     "text": [
      "100%|██████████| 492567/492567 [00:00<00:00, 1258127.98it/s]\n",
      "100%|██████████| 130144/130144 [00:00<00:00, 316497.84it/s]\n"
     ]
    }
   ],
   "source": [
    "w,ww,www=__mol_id_weight_bins(cleaned_read_data)"
   ]
  },
  {
   "cell_type": "code",
   "execution_count": 107,
   "id": "53b62819-4724-4cf0-9e5c-3c80f0393ddc",
   "metadata": {
    "tags": []
   },
   "outputs": [
    {
     "data": {
      "text/plain": [
       "0.6386925795053003"
      ]
     },
     "execution_count": 107,
     "metadata": {},
     "output_type": "execute_result"
    }
   ],
   "source": [
    "fff=[len(w[x])for x in w] \n",
    "len([x for x in fff if x<20])/len(fff)"
   ]
  },
  {
   "cell_type": "code",
   "execution_count": 12,
   "id": "843cae0c-c907-4a87-809d-1913ef198b11",
   "metadata": {
    "tags": []
   },
   "outputs": [],
   "source": [
    "def train_val_test_split(bucket: dict,\n",
    "                         train_size: float,\n",
    "                         val_size: float):\n",
    "    \"\"\"\n",
    "    This method takes in the output from mol_id_weight_bins.\n",
    "    This method will sample from each key-value pair from the input dict based on the train_size, val_size.\n",
    "    The method requires a validation set, but the user can combine it with test if they so choose.\n",
    "    \"\"\"\n",
    "    \n",
    "    weight_dict, weight_dist, bucket = __mol_id_weight_bins(bucket)\n",
    "    \n",
    "    train_marker = train_size\n",
    "    val_marker = train_size + val_size\n",
    "    \n",
    "    split={}\n",
    "\n",
    "    import random\n",
    "    random.seed(10)\n",
    "    for strata in tqdm(weight_dict):\n",
    "        random.shuffle(weight_dict[strata])\n",
    "        train_index = round(len(weight_dict[strata])*train_marker)\n",
    "        val_index = round(len(weight_dict[strata])*val_marker)\n",
    "        # print(len(weight_dict[strata]))\n",
    "        # print(train_index)\n",
    "        # print(val_index)\n",
    "        # break\n",
    "              \n",
    "        \n",
    "        try:\n",
    "            train_split = (weight_dict[strata][:train_index])\n",
    "            val_split = (weight_dict[strata][train_index:val_index+1])\n",
    "            test_split = (weight_dict[strata][val_index+1:])\n",
    "            \n",
    "            if len(test_split)> len(val_split):\n",
    "                print('bleh')\n",
    "                return [weight_dict[strata], train_split, val_split, test_split, train_index, val_index+1]\n",
    "            \n",
    "            split['train']+=train_split\n",
    "            split['val']+=val_split\n",
    "            split['test']+=test_split\n",
    "            \n",
    "            \n",
    "        except KeyError:\n",
    "            split['train'] = weight_dict[strata][:train_index]\n",
    "            split['val'] = weight_dict[strata][train_index:val_index+1]\n",
    "            split['test'] = weight_dict[strata][val_index+1:]\n",
    "    train_data = [bucket[i] for i in split['train']]\n",
    "    val_data = [bucket[i] for i in split['val']]\n",
    "    test_data = [bucket[i] for i in split['test']]\n",
    "                 \n",
    "    split['train']=train_data\n",
    "    split['val']=val_data\n",
    "    split['test']=test_data\n",
    "    \n",
    "    return split, weight_dist"
   ]
  },
  {
   "cell_type": "code",
   "execution_count": 13,
   "id": "2b69e820-219c-47c1-8f92-00dbedeb4d94",
   "metadata": {
    "tags": []
   },
   "outputs": [
    {
     "name": "stderr",
     "output_type": "stream",
     "text": [
      "100%|██████████| 492567/492567 [00:00<00:00, 1342099.57it/s]\n",
      "100%|██████████| 130144/130144 [00:00<00:00, 330463.65it/s]\n",
      "100%|██████████| 1132/1132 [00:00<00:00, 30874.16it/s]\n"
     ]
    }
   ],
   "source": [
    "data_dict_spit, weight_dist = train_val_test_split(cleaned_read_data, train_size=.65, val_size=.25)"
   ]
  },
  {
   "cell_type": "code",
   "execution_count": 201,
   "id": "e1754518-ee2f-42a5-bb06-8fe71f95ce36",
   "metadata": {
    "tags": []
   },
   "outputs": [],
   "source": [
    "# len(data_dict_spit['val'])"
   ]
  },
  {
   "cell_type": "code",
   "execution_count": 43,
   "id": "21da3cb3-f9b1-46a2-b672-cdd58eda29ae",
   "metadata": {
    "tags": []
   },
   "outputs": [],
   "source": [
    "def composition_validator(train, val, test):\n",
    "    \"\"\"\n",
    "    Each are lists. Validate atomic weight distribution and element distribution.\n",
    "    \n",
    "    - check that for each mol_id there are four instances enclosed in a split\n",
    "    \n",
    "    - Weight count\n",
    "    - Number of element occurances in each split\n",
    "    \"\"\"\n",
    "    elements_dict = read_elements('/pscratch/sd/m/mavaylon/sam_ldrd/radqm9_pipeline/src/radqm9_pipeline/modules/elements.pkl')\n",
    "    # weight count\n",
    "    sets = [train, val, test]\n",
    "    \n",
    "    total = [item for sublist in sets for item in sublist]\n",
    "    total_dict = {}\n",
    "    total_element_dict = {}\n",
    "    for mol_id in tqdm(total):\n",
    "        # check for four charge_spin pairs\n",
    "        if len(mol_id)!=4:\n",
    "            #add\n",
    "            pass\n",
    "\n",
    "        # weight distribution\n",
    "        species = mol_id[0]['species']\n",
    "        species_num = []\n",
    "        species_sorted = ''.join(sorted(set(species)))\n",
    "        for element in species:\n",
    "            species_num.append(elements_dict[element])\n",
    "        try:\n",
    "            total_dict[str(sum(species_num))]+= 1\n",
    "        except KeyError:\n",
    "            total_dict[str(sum(species_num))]=1\n",
    "        \n",
    "        for element in list(set(species)):\n",
    "            try:\n",
    "                total_element_dict[element] += 1\n",
    "            except KeyError:\n",
    "                total_element_dict[element] =1 \n",
    "    # return total_dict\n",
    "    \n",
    "    set_weight = []\n",
    "    element_list = []\n",
    "    for split in sets:\n",
    "        weight_dict = {}\n",
    "        ratio_dict = {}\n",
    "        split_element_dict = {}\n",
    "        ratio_element_dict = {}\n",
    "        for mol_id in tqdm(split):\n",
    "            # check for four charge_spin pairs\n",
    "            if len(mol_id)!=4:\n",
    "                #add\n",
    "                pass\n",
    "            \n",
    "            # weight distribution\n",
    "            species = mol_id[0]['species']\n",
    "            species_num = []\n",
    "            species_sorted = ''.join(sorted(set(species)))\n",
    "            for element in species:\n",
    "                species_num.append(elements_dict[element])\n",
    "            try:\n",
    "                weight_dict[str(sum(species_num))]+= 1\n",
    "            except KeyError:\n",
    "                weight_dict[str(sum(species_num))]=1\n",
    "            \n",
    "            for element in list(set(species)):\n",
    "                try:\n",
    "                    split_element_dict[element] += 1\n",
    "                except KeyError:\n",
    "                    split_element_dict[element] =1 \n",
    "        \n",
    "        for key in weight_dict:\n",
    "            try:\n",
    "                ratio = weight_dict[key]/total_dict[key]\n",
    "                ratio_dict[key] = ratio\n",
    "            except ZeroDivisionError:\n",
    "                return key\n",
    "            \n",
    "        set_weight.append(ratio_dict)\n",
    "        \n",
    "        for element in split_element_dict:\n",
    "            element_ratio = split_element_dict[element]/total_element_dict[element]\n",
    "            ratio_element_dict[element] = element_ratio\n",
    "        \n",
    "        element_list.append(ratio_element_dict)\n",
    "    \n",
    "    return set_weight, total_dict , total_element_dict, element_list"
   ]
  },
  {
   "cell_type": "code",
   "execution_count": null,
   "id": "e8431dec-b0e5-47eb-aa26-ca37dc27b6a6",
   "metadata": {},
   "outputs": [],
   "source": []
  },
  {
   "cell_type": "code",
   "execution_count": 44,
   "id": "e46dc88b-9271-4a62-baa0-716518b2d766",
   "metadata": {
    "tags": []
   },
   "outputs": [
    {
     "name": "stderr",
     "output_type": "stream",
     "text": [
      "100%|██████████| 130144/130144 [00:00<00:00, 295030.25it/s]\n",
      "100%|██████████| 84637/84637 [00:00<00:00, 298000.93it/s]\n",
      "100%|██████████| 33236/33236 [00:00<00:00, 298948.09it/s]\n",
      "100%|██████████| 12271/12271 [00:00<00:00, 298347.96it/s]\n"
     ]
    }
   ],
   "source": [
    "r,t,q, w=composition_validator(data_dict_spit['train'], data_dict_spit['val'], data_dict_spit['test'])"
   ]
  },
  {
   "cell_type": "code",
   "execution_count": 10,
   "id": "72fc8e27-d0c2-4855-b8ac-57b0a856d390",
   "metadata": {
    "tags": []
   },
   "outputs": [],
   "source": []
  },
  {
   "cell_type": "code",
   "execution_count": null,
   "id": "95130046-58a7-444c-9195-095cbdc220bb",
   "metadata": {},
   "outputs": [],
   "source": []
  },
  {
   "cell_type": "code",
   "execution_count": null,
   "id": "1e8a58ca-8443-4597-b1bd-b654f9183604",
   "metadata": {},
   "outputs": [],
   "source": []
  },
  {
   "cell_type": "markdown",
   "id": "a7903eee-b704-4063-bfd3-0f1efe22584c",
   "metadata": {},
   "source": [
    "# Use the BuildManager to Tag and Prepare the Data"
   ]
  },
  {
   "cell_type": "code",
   "execution_count": 82,
   "id": "2ffdafd3-91e8-4dbf-b937-5cb23d8df884",
   "metadata": {},
   "outputs": [],
   "source": [
    "# prepped_data=build_manager(data_dict_spit, weight_dist, train=True)\n",
    "# data_dict_spit['val']"
   ]
  },
  {
   "cell_type": "code",
   "execution_count": 16,
   "id": "072601a1-1743-4bff-9080-3cbc19cb2d23",
   "metadata": {
    "tags": []
   },
   "outputs": [],
   "source": [
    "def split(a, n):\n",
    "    k, m = divmod(len(a), n)\n",
    "    return (a[i*k+min(i, m):(i+1)*k+min(i+1, m)] for i in range(n))"
   ]
  },
  {
   "cell_type": "code",
   "execution_count": 17,
   "id": "a83e5b83-c550-4061-ae8e-aaa983e79cd1",
   "metadata": {
    "tags": []
   },
   "outputs": [],
   "source": [
    "def tagger(train_data, dist):\n",
    "    \n",
    "    # Flatten train_data into a pool of data points\n",
    "    flat = [x for y in train_data for x in y] \n",
    "    \n",
    "    # Find all the weights that appear less than 20 occurances\n",
    "    # cutoff_bin = [x for x in dist if .05*dist[x]<1]\n",
    "    \n",
    "    bins = {}\n",
    "    chunked_training = {}\n",
    "    \n",
    "    for point in flat:\n",
    "        try:\n",
    "            bins[point['weight_tag']].append(point['mol_id'])\n",
    "        except KeyError:\n",
    "            bins[point['weight_tag']] = [point['mol_id']]\n",
    "        \n",
    "    \n",
    "    mol_id_tag = {}\n",
    "    chunks = []\n",
    "    for weight_group in tqdm(bins):\n",
    "        tag_groups = list(split(list(set(bins[weight_group])),20))\n",
    "        chunk = 0\n",
    "        for group in tag_groups:\n",
    "            for mol_id in group:\n",
    "                chunks.append(chunk)\n",
    "                mol_id_tag[mol_id] = chunk\n",
    "            chunk += 5\n",
    "    print(set(chunks))\n",
    "    \n",
    "    for point in tqdm(flat):\n",
    "        if point['mol_id'] in mol_id_tag:\n",
    "            point['chunk'] = mol_id_tag[point['mol_id']] \n",
    "            try:\n",
    "                chunked_training[mol_id_tag[point['mol_id']]].append(point)\n",
    "            except KeyError:\n",
    "                chunked_training[mol_id_tag[point['mol_id']]] = [point]\n",
    "    return flat, chunked_training\n"
   ]
  },
  {
   "cell_type": "code",
   "execution_count": 18,
   "id": "28c281d3-0dab-418c-b8f3-b901b56d4f81",
   "metadata": {
    "tags": []
   },
   "outputs": [
    {
     "name": "stderr",
     "output_type": "stream",
     "text": [
      "100%|██████████| 104/104 [00:00<00:00, 2402.28it/s]\n"
     ]
    },
    {
     "name": "stdout",
     "output_type": "stream",
     "text": [
      "{0, 5, 10, 15, 20, 25, 30, 35, 40, 45, 50, 55, 60, 65, 70, 75, 80, 85, 90, 95}\n"
     ]
    },
    {
     "name": "stderr",
     "output_type": "stream",
     "text": [
      "100%|██████████| 320353/320353 [00:00<00:00, 1299613.95it/s]\n"
     ]
    }
   ],
   "source": [
    "training, disjoint_chunked_training = tagger(data_dict_spit['train'], weight_dist)\n",
    "val = flatten(data_dict_spit['val'])\n",
    "test = flatten(data_dict_spit['test'])"
   ]
  },
  {
   "cell_type": "code",
   "execution_count": 56,
   "id": "e6ffed9c-6b27-47ce-b3bf-616049251c4f",
   "metadata": {
    "tags": []
   },
   "outputs": [
    {
     "data": {
      "text/plain": [
       "['N', 'C', 'N', 'N', 'N', 'C', 'C', 'H', 'H', 'H', 'H']"
      ]
     },
     "execution_count": 56,
     "metadata": {},
     "output_type": "execute_result"
    }
   ],
   "source": [
    "# 5%, 10%, 25%, 50%, 75%, 100%"
   ]
  },
  {
   "cell_type": "code",
   "execution_count": 29,
   "id": "7f6f726b-6404-4efb-8f23-dcb4c41703a4",
   "metadata": {
    "tags": []
   },
   "outputs": [],
   "source": [
    "def temp(data: list):\n",
    "    mol_id_bucket = {}\n",
    "    for point in tqdm(data):\n",
    "        try:\n",
    "            mol_id_bucket[point['mol_id']].append(point)\n",
    "        except KeyError:\n",
    "            mol_id_bucket[point['mol_id']] = [point]\n",
    "    return mol_id_bucket"
   ]
  },
  {
   "cell_type": "code",
   "execution_count": 30,
   "id": "0465271e-0fda-442b-b3ca-91692ec8a082",
   "metadata": {
    "tags": []
   },
   "outputs": [
    {
     "name": "stderr",
     "output_type": "stream",
     "text": [
      "100%|██████████| 320353/320353 [00:00<00:00, 1391533.58it/s]\n"
     ]
    }
   ],
   "source": [
    "yy=temp(training)\n",
    "#15665, 13257, 12519, 12226, 19210, 4110,"
   ]
  },
  {
   "cell_type": "code",
   "execution_count": 32,
   "id": "c2007166-62d3-4b28-b7c6-72726fd7acda",
   "metadata": {
    "tags": []
   },
   "outputs": [
    {
     "data": {
      "text/plain": [
       "int"
      ]
     },
     "execution_count": 32,
     "metadata": {},
     "output_type": "execute_result"
    }
   ],
   "source": [
    "type(list(set([x['charge'] for x in yy[4110]]))[0])"
   ]
  },
  {
   "cell_type": "code",
   "execution_count": 213,
   "id": "2c353db0-1b08-4068-bd41-9ff8707bbde9",
   "metadata": {
    "tags": []
   },
   "outputs": [
    {
     "data": {
      "text/plain": [
       "{'-1,2', '0,1', '0,3', '1,2'}"
      ]
     },
     "execution_count": 213,
     "metadata": {},
     "output_type": "execute_result"
    }
   ],
   "source": [
    "set([x['charge_spin'] for x in yy[3844]])"
   ]
  },
  {
   "cell_type": "markdown",
   "id": "f091cac3-9542-469b-b649-8805744d6601",
   "metadata": {},
   "source": [
    "# Optional Charge Filtering"
   ]
  },
  {
   "cell_type": "code",
   "execution_count": 35,
   "id": "9fea5a51-36c2-456b-a868-99faf22f4910",
   "metadata": {
    "tags": []
   },
   "outputs": [],
   "source": [
    "def charge_filter(charges: list, data):\n",
    "    \"\"\"\n",
    "    Takes both a list of charges to filter by and a dataset that is a list of data points.\n",
    "    \"\"\"\n",
    "    filtered_data = []\n",
    "    for point in tqdm(data):\n",
    "        if point['charge'] in charges:\n",
    "            filtered_data.append(point)\n",
    "    \n",
    "    return filtered_data"
   ]
  },
  {
   "cell_type": "code",
   "execution_count": 37,
   "id": "a7887a4d-55b9-44f2-9297-1c1b0f0b1896",
   "metadata": {
    "tags": []
   },
   "outputs": [
    {
     "name": "stderr",
     "output_type": "stream",
     "text": [
      "100%|██████████| 160414/160414 [00:00<00:00, 1022709.26it/s]\n"
     ]
    }
   ],
   "source": [
    "charge_filtered_training = charge_filter(charges=[-1, 1], data=training)"
   ]
  },
  {
   "cell_type": "code",
   "execution_count": 40,
   "id": "d7d6ae41-9067-4cbb-be0f-608241236bc7",
   "metadata": {
    "tags": []
   },
   "outputs": [
    {
     "data": {
      "text/plain": [
       "160414"
      ]
     },
     "execution_count": 40,
     "metadata": {},
     "output_type": "execute_result"
    }
   ],
   "source": [
    "len(charge_filtered_training)"
   ]
  },
  {
   "cell_type": "code",
   "execution_count": 42,
   "id": "f8c1e1ff-c326-42e9-8d13-c9af7e9cf2fc",
   "metadata": {
    "tags": []
   },
   "outputs": [
    {
     "data": {
      "text/plain": [
       "320353"
      ]
     },
     "execution_count": 42,
     "metadata": {},
     "output_type": "execute_result"
    }
   ],
   "source": [
    "len(training)"
   ]
  },
  {
   "cell_type": "code",
   "execution_count": 50,
   "id": "40cfa061-ad9f-4d09-9289-1f12ecf76d88",
   "metadata": {
    "tags": []
   },
   "outputs": [
    {
     "name": "stderr",
     "output_type": "stream",
     "text": [
      "100%|██████████| 125712/125712 [00:00<00:00, 1058890.14it/s]\n"
     ]
    }
   ],
   "source": [
    "charge_filtered_val = charge_filter(charges=[-1, 1], data=val)"
   ]
  },
  {
   "cell_type": "code",
   "execution_count": 51,
   "id": "cee3a7d4-eca0-4eac-8d59-f39c6398decd",
   "metadata": {
    "tags": []
   },
   "outputs": [
    {
     "name": "stderr",
     "output_type": "stream",
     "text": [
      "100%|██████████| 46502/46502 [00:00<00:00, 1030090.55it/s]\n"
     ]
    }
   ],
   "source": [
    "charge_filtered_test = charge_filter(charges=[-1, 1], data=test)"
   ]
  },
  {
   "cell_type": "markdown",
   "id": "cbca59bc-ecee-4c5a-a25e-1334f4c24f8b",
   "metadata": {},
   "source": [
    "# Chunk"
   ]
  },
  {
   "cell_type": "code",
   "execution_count": 19,
   "id": "0a81db5c-ad3b-4cdd-835c-44a8fc69c357",
   "metadata": {
    "tags": []
   },
   "outputs": [],
   "source": [
    "def chunk_train_multiple(data: list, percentage: list):\n",
    "    \"\"\"\n",
    "    Percentage: list of percentages e.g., [.05, .1, .25, .5, .75]\n",
    "    \"\"\"\n",
    "    mol_id_bucket = {}\n",
    "    for point in tqdm(data):\n",
    "        try:\n",
    "            mol_id_bucket[point['mol_id']].append(point)\n",
    "        except KeyError:\n",
    "            mol_id_bucket[point['mol_id']] = [point]\n",
    "    \n",
    "    \n",
    "    elements_dict = read_elements('/pscratch/sd/m/mavaylon/sam_ldrd/radqm9_pipeline/src/radqm9_pipeline/modules/elements.pkl')\n",
    "    \n",
    "    ##################\n",
    "    # Create a weight dictionary such that the keys are the unique weights using atomic mass of the molecule\n",
    "    # as a float and the values are list of mol_ids that correspond to said weight. \n",
    "    ##################\n",
    "    weight_dict = {}\n",
    "    for point in tqdm(data):\n",
    "        species = point['species']\n",
    "        species_num = 0\n",
    "        for element in species:\n",
    "            species_num+=elements_dict[element]\n",
    "        try:\n",
    "            weight_dict[str(species_num)].append(point['mol_id'])\n",
    "            weight_dict[str(species_num)] = list(set(weight_dict[str(species_num)]))\n",
    "        except KeyError:\n",
    "            weight_dict[str(species_num)] = [point['mol_id']]\n",
    "    \n",
    "    ##################\n",
    "    # Calculate total data points\n",
    "    ##################\n",
    "    total=0\n",
    "    for pair in tqdm(data):\n",
    "        total+=len(pair['geometries'])\n",
    "    print(total)\n",
    "    \n",
    "    ##################\n",
    "    # Calculate the size for the data chunk for each percentage\n",
    "    ##################\n",
    "    sizes = []\n",
    "    for item in percentage:\n",
    "        temp_size = round(total*item)\n",
    "        sizes.append(temp_size)\n",
    "    \n",
    "    ##################\n",
    "    # Get the chunked mol_ids for each size\n",
    "    ##################\n",
    "    chunks = []\n",
    "    count = 0\n",
    "    \n",
    "    for size in tqdm(sizes):\n",
    "        print(\"size:\", size)\n",
    "        chunked_mol_id_data = []\n",
    "        # while count<size:\n",
    "        for i in tqdm(range(total)):\n",
    "            if count<size:\n",
    "                for key in weight_dict:\n",
    "                    if len(weight_dict[key])!=0:\n",
    "                        _id = weight_dict[key][0]\n",
    "                        for point in mol_id_bucket[_id]:\n",
    "                            count += len(point['geometries'])\n",
    "                        # print(count)\n",
    "\n",
    "                        chunked_mol_id_data.append(_id)\n",
    "                        weight_dict[key] = weight_dict[key][1:]\n",
    "\n",
    "                    else:\n",
    "                        pass\n",
    "                weight_dict = {k: v for (k,v) in weight_dict.items() if len(v)!=0}\n",
    "\n",
    "            else:\n",
    "                break\n",
    "        print('count:', count)\n",
    "        # print(len(chunked_mol_id_data))\n",
    "        chunks.append(chunked_mol_id_data)\n",
    "        \n",
    "        for item in chunks:\n",
    "            print(len(item))\n",
    "        \n",
    "    chunked_data = []\n",
    "    for chunk_set in tqdm(chunks):\n",
    "        chunk = []\n",
    "        for item in tqdm(chunk_set):\n",
    "            chunk+=mol_id_bucket[item]\n",
    "        chunked_data.append(chunk)\n",
    "    \n",
    "    return chunked_data, weight_dict\n",
    "    # return chunks\n",
    "    # return weight_dict"
   ]
  },
  {
   "cell_type": "code",
   "execution_count": 20,
   "id": "ed1a43e1-520c-4341-9001-54a55ed743c5",
   "metadata": {
    "tags": []
   },
   "outputs": [
    {
     "name": "stderr",
     "output_type": "stream",
     "text": [
      "100%|██████████| 320353/320353 [00:00<00:00, 1128284.21it/s]\n",
      "100%|██████████| 320353/320353 [00:06<00:00, 51321.03it/s] \n",
      "100%|██████████| 320353/320353 [00:00<00:00, 1879888.56it/s]\n"
     ]
    },
    {
     "name": "stdout",
     "output_type": "stream",
     "text": [
      "876616\n"
     ]
    },
    {
     "name": "stderr",
     "output_type": "stream",
     "text": [
      "  0%|          | 0/1 [00:00<?, ?it/s]"
     ]
    },
    {
     "name": "stdout",
     "output_type": "stream",
     "text": [
      "size: 8766\n"
     ]
    },
    {
     "name": "stderr",
     "output_type": "stream",
     "text": [
      "\n",
      "  0%|          | 1/876616 [00:00<1:07:43, 215.73it/s]\n",
      "100%|██████████| 1/1 [00:00<00:00, 163.39it/s]\n"
     ]
    },
    {
     "name": "stdout",
     "output_type": "stream",
     "text": [
      "count: 11634\n",
      "1132\n"
     ]
    },
    {
     "name": "stderr",
     "output_type": "stream",
     "text": [
      "  0%|          | 0/1 [00:00<?, ?it/s]\n",
      "100%|██████████| 1132/1132 [00:00<00:00, 1387478.70it/s]\n",
      "100%|██████████| 1/1 [00:00<00:00, 423.24it/s]\n"
     ]
    }
   ],
   "source": [
    "tt, w=chunk_train_multiple(training, [.01])"
   ]
  },
  {
   "cell_type": "code",
   "execution_count": 21,
   "id": "3768919a-9420-4432-b9cc-1ecce9d76064",
   "metadata": {
    "tags": []
   },
   "outputs": [],
   "source": [
    "# tt, w=chunk_train_multiple(training, [.05,.1,.25, .5, .75])"
   ]
  },
  {
   "cell_type": "code",
   "execution_count": 22,
   "id": "0ded0b37-31ee-4312-9c6c-0d9d3da670a3",
   "metadata": {
    "tags": []
   },
   "outputs": [],
   "source": [
    "# tt, w=chunk_train_multiple(charge_filtered_training, [.05,.1,.25, .5, .75])"
   ]
  },
  {
   "cell_type": "code",
   "execution_count": 24,
   "id": "824ef87a-a8f9-4e08-99ae-73ff55a22253",
   "metadata": {
    "tags": []
   },
   "outputs": [
    {
     "data": {
      "text/plain": [
       "4255"
      ]
     },
     "execution_count": 24,
     "metadata": {},
     "output_type": "execute_result"
    }
   ],
   "source": [
    "len(tt[0])"
   ]
  },
  {
   "cell_type": "code",
   "execution_count": 66,
   "id": "32cfee50-d57c-4938-97ea-34f9f39d0db5",
   "metadata": {
    "tags": []
   },
   "outputs": [],
   "source": [
    "chunked_data = {0: tt[0],\n",
    "                1: tt[0] + tt[1],\n",
    "                2: tt[0] + tt[1] +tt[2],\n",
    "                3: tt[0] + tt[1] +tt[2] + tt[3],\n",
    "                4: tt[0] + tt[1] +tt[2] + tt[3] + tt[4]}"
   ]
  },
  {
   "cell_type": "code",
   "execution_count": 67,
   "id": "ce8c3423-e1cb-4f58-afc6-2c14d11103e3",
   "metadata": {
    "tags": []
   },
   "outputs": [
    {
     "data": {
      "text/plain": [
       "0.053636216290348725"
      ]
     },
     "execution_count": 67,
     "metadata": {},
     "output_type": "execute_result"
    }
   ],
   "source": [
    "c =0\n",
    "for item in chunked_data[0]:\n",
    "    c+=len(item['geometries'])\n",
    "c/481242"
   ]
  },
  {
   "cell_type": "code",
   "execution_count": 68,
   "id": "bbeac3a9-9416-4254-b581-56a7d63fc230",
   "metadata": {
    "tags": []
   },
   "outputs": [
    {
     "data": {
      "text/plain": [
       "0.10112583689702893"
      ]
     },
     "execution_count": 68,
     "metadata": {},
     "output_type": "execute_result"
    }
   ],
   "source": [
    "k=0\n",
    "for item in chunked_data[1]:\n",
    "    k+=len(item['geometries'])\n",
    "k/481242"
   ]
  },
  {
   "cell_type": "code",
   "execution_count": 69,
   "id": "bf8172cc-52b2-4153-b5b5-773c07cf2db1",
   "metadata": {
    "tags": []
   },
   "outputs": [
    {
     "data": {
      "text/plain": [
       "0.2503709152567731"
      ]
     },
     "execution_count": 69,
     "metadata": {},
     "output_type": "execute_result"
    }
   ],
   "source": [
    "k2=0\n",
    "for item in chunked_data[2]:\n",
    "    k2+=len(item['geometries'])\n",
    "k2/481242"
   ]
  },
  {
   "cell_type": "code",
   "execution_count": 70,
   "id": "be781f1d-ccbe-4663-b3ea-b7b183e22641",
   "metadata": {
    "tags": []
   },
   "outputs": [
    {
     "data": {
      "text/plain": [
       "0.5006794918149289"
      ]
     },
     "execution_count": 70,
     "metadata": {},
     "output_type": "execute_result"
    }
   ],
   "source": [
    "k3=0+0\n",
    "for item in chunked_data[3]:\n",
    "    k3+=len(item['geometries'])\n",
    "k3/481242"
   ]
  },
  {
   "cell_type": "code",
   "execution_count": 25,
   "id": "3077d2a4-e7b9-48c9-bee5-7bbb2c0164c1",
   "metadata": {
    "tags": []
   },
   "outputs": [
    {
     "data": {
      "text/plain": [
       "0.75020419431085"
      ]
     },
     "execution_count": 25,
     "metadata": {},
     "output_type": "execute_result"
    }
   ],
   "source": [
    "k4=0\n",
    "for item in chunked_data[4]:\n",
    "    k4+=len(item['geometries'])\n",
    "k4/876616"
   ]
  },
  {
   "cell_type": "code",
   "execution_count": null,
   "id": "59857ff7-32ed-47ab-a591-6a44b9f4f8b6",
   "metadata": {},
   "outputs": [],
   "source": []
  },
  {
   "cell_type": "code",
   "execution_count": 25,
   "id": "0533e299-2d02-4db7-a7a6-d7dfc19e413d",
   "metadata": {
    "tags": []
   },
   "outputs": [],
   "source": [
    "def chunk_validator(data, training):\n",
    "    elements_dict = read_elements('/pscratch/sd/m/mavaylon/sam_ldrd/radqm9_pipeline/src/radqm9_pipeline/modules/elements.pkl')\n",
    "    \n",
    "    type_total_dict = {}\n",
    "    for point in tqdm(training):\n",
    "        species = point['species']\n",
    "        species_num = 0\n",
    "        for element in species:\n",
    "            species_num+=elements_dict[element]\n",
    "        try:\n",
    "            type_total_dict[str(species_num)].append(point)\n",
    "        except KeyError:\n",
    "            type_total_dict[str(species_num)]= [point]\n",
    "    \n",
    "    \n",
    "    element_list = []\n",
    "    weight_dict = {}\n",
    "    ratio_dict = {}\n",
    "    split_element_dict = {}\n",
    "    ratio_element_dict = {}\n",
    "    for mol_id in tqdm(data):\n",
    "        # check for four charge_spin pairs\n",
    "        if len(mol_id)!=4:\n",
    "            #add\n",
    "            pass\n",
    "\n",
    "        # weight distribution\n",
    "        species = mol_id['species']\n",
    "        species_num = []\n",
    "        for element in species:\n",
    "            species_num.append(elements_dict[element])\n",
    "        try:\n",
    "            weight_dict[str(sum(species_num))]+= 1\n",
    "        except KeyError:\n",
    "            weight_dict[str(sum(species_num))]=1\n",
    "\n",
    "        for element in list(set(species)):\n",
    "            try:\n",
    "                split_element_dict[element] += 1\n",
    "            except KeyError:\n",
    "                split_element_dict[element] =1 \n",
    "\n",
    "    output = {}\n",
    "    for key in weight_dict:\n",
    "        output[key] = [weight_dict[key], len(type_total_dict[key])]\n",
    "    \n",
    "    return output"
   ]
  },
  {
   "cell_type": "code",
   "execution_count": 176,
   "id": "d23d7312-8188-4654-804b-5bf8d898d69e",
   "metadata": {
    "tags": []
   },
   "outputs": [
    {
     "name": "stderr",
     "output_type": "stream",
     "text": [
      "100%|██████████| 320353/320353 [00:00<00:00, 533368.16it/s]\n",
      "100%|██████████| 80566/80566 [00:00<00:00, 376404.53it/s]\n"
     ]
    }
   ],
   "source": [
    "vv=chunk_validator(chunked_data[2], training)"
   ]
  },
  {
   "cell_type": "code",
   "execution_count": 26,
   "id": "dc7d2408-5415-4110-8aac-ac70b46c4fc0",
   "metadata": {
    "tags": []
   },
   "outputs": [
    {
     "name": "stderr",
     "output_type": "stream",
     "text": [
      "100%|██████████| 320353/320353 [00:00<00:00, 607573.21it/s]\n",
      "100%|██████████| 4255/4255 [00:00<00:00, 167764.27it/s]\n"
     ]
    }
   ],
   "source": [
    "vv=chunk_validator(tt[0], training)"
   ]
  },
  {
   "cell_type": "code",
   "execution_count": 179,
   "id": "2e589e40-58e0-45ed-8d3a-34e2a5b7f222",
   "metadata": {
    "tags": []
   },
   "outputs": [],
   "source": [
    "data = {'train':training,\n",
    "        'val': val,\n",
    "        'test': test}"
   ]
  },
  {
   "cell_type": "code",
   "execution_count": 57,
   "id": "2adb7280-824c-42ad-9d03-76785ee42ffe",
   "metadata": {},
   "outputs": [],
   "source": [
    "\n",
    "data_charged_filtered = {'train':charge_filtered_training,\n",
    "        'val': charge_filtered_val,\n",
    "        'test': charge_filtered_test}"
   ]
  },
  {
   "cell_type": "code",
   "execution_count": 52,
   "id": "92f2bfb7-9b32-4189-ba7f-18ec981308f2",
   "metadata": {
    "tags": []
   },
   "outputs": [],
   "source": [
    "def build_atoms(data: dict,\n",
    "                energy: str = None,\n",
    "                forces: str = None,\n",
    "                charge:str = None,\n",
    "                spin:str = None,\n",
    "                train = False) -> ase.Atoms:\n",
    "    \"\"\" \n",
    "    Populate Atoms class with atoms in molecule.\n",
    "        atoms.info : global variables\n",
    "        atoms.array : variables for individual atoms\n",
    "        \n",
    "    Both \"energy\" and \"forces\" are the dict strings in data.\n",
    "    \"\"\"\n",
    "    atom_list = []\n",
    "    try:\n",
    "        for i in range(len(data['geometries'])):\n",
    "            atoms = ase.atoms.Atoms(\n",
    "                symbols=data['species'],\n",
    "                positions=data['geometries'][i]\n",
    "            )\n",
    "            if energy is not None:\n",
    "                atoms.info['energy'] = data[energy][i]\n",
    "            if forces is not None:\n",
    "                atoms.arrays['forces'] = np.array(data[forces][i])\n",
    "            if charge is not None:\n",
    "                 atoms.info['charge'] = data[charge]\n",
    "            if spin is not None:\n",
    "                atoms.info['spin'] = data[spin]\n",
    "            if train:\n",
    "                atoms.info['chunk'] = data['chunk']\n",
    "            if i == 0:\n",
    "                atoms.info['position_type'] = 'start'\n",
    "            atoms.info['mol_id'] = data['mol_id']\n",
    "            if i == 1:\n",
    "                if data['charge_spin'] == '0,1':\n",
    "                    atoms.info['position_type'] = 'end'\n",
    "                else:\n",
    "                    atoms.info['position_type'] = 'middle'\n",
    "            if i == 2:\n",
    "                atoms.info['position_type'] = 'end'\n",
    "            atom_list.append(atoms)\n",
    "    except IndexError:\n",
    "        print(i)\n",
    "        print(data['mol_id'])\n",
    "            # print()\n",
    "            \n",
    "    return atom_list\n"
   ]
  },
  {
   "cell_type": "code",
   "execution_count": 45,
   "id": "e342d6c1-811b-4d29-b098-0f632f3df38c",
   "metadata": {
    "tags": []
   },
   "outputs": [
    {
     "ename": "NameError",
     "evalue": "name 'data' is not defined",
     "output_type": "error",
     "traceback": [
      "\u001b[0;31m---------------------------------------------------------------------------\u001b[0m",
      "\u001b[0;31mNameError\u001b[0m                                 Traceback (most recent call last)",
      "Cell \u001b[0;32mIn[45], line 2\u001b[0m\n\u001b[1;32m      1\u001b[0m build \u001b[38;5;241m=\u001b[39m {}\n\u001b[0;32m----> 2\u001b[0m \u001b[38;5;28;01mfor\u001b[39;00m split \u001b[38;5;129;01min\u001b[39;00m \u001b[43mdata\u001b[49m:\n\u001b[1;32m      3\u001b[0m     \u001b[38;5;28;01mif\u001b[39;00m split \u001b[38;5;241m==\u001b[39m \u001b[38;5;124m'\u001b[39m\u001b[38;5;124mtrain\u001b[39m\u001b[38;5;124m'\u001b[39m:\n\u001b[1;32m      4\u001b[0m         build[split] \u001b[38;5;241m=\u001b[39m build_atoms_iterator(data[split], train\u001b[38;5;241m=\u001b[39m\u001b[38;5;28;01mTrue\u001b[39;00m)\n",
      "\u001b[0;31mNameError\u001b[0m: name 'data' is not defined"
     ]
    }
   ],
   "source": [
    "build = {}\n",
    "for split in data:\n",
    "    if split == 'train':\n",
    "        build[split] = build_atoms_iterator(data[split], train=True)\n",
    "    else:\n",
    "        build[split] = build_atoms_iterator(data[split])"
   ]
  },
  {
   "cell_type": "code",
   "execution_count": 58,
   "id": "e653ea96-ba2d-4ed5-a2e4-e6700538423a",
   "metadata": {
    "tags": []
   },
   "outputs": [
    {
     "name": "stderr",
     "output_type": "stream",
     "text": [
      "100%|██████████| 160414/160414 [00:15<00:00, 10335.35it/s]\n",
      "100%|██████████| 62910/62910 [00:06<00:00, 9477.61it/s] \n",
      "100%|██████████| 23313/23313 [00:02<00:00, 10847.57it/s]\n"
     ]
    }
   ],
   "source": [
    "build = {}\n",
    "for split in data_charged_filtered:\n",
    "    if split == 'train':\n",
    "        build[split] = build_atoms_iterator(data_charged_filtered[split], train=True)\n",
    "    else:\n",
    "        build[split] = build_atoms_iterator(data_charged_filtered[split])"
   ]
  },
  {
   "cell_type": "code",
   "execution_count": 59,
   "id": "0accd0a6-dcad-434b-bbd2-2669d2a0f901",
   "metadata": {
    "tags": []
   },
   "outputs": [
    {
     "name": "stdout",
     "output_type": "stream",
     "text": [
      "481242 188730 69939\n"
     ]
    }
   ],
   "source": [
    "print(len(build['train']),len(build['val']),len(build['test']))"
   ]
  },
  {
   "cell_type": "code",
   "execution_count": 60,
   "id": "b6cc8321-6f36-4beb-b86c-0f985d323d66",
   "metadata": {
    "tags": []
   },
   "outputs": [
    {
     "name": "stdout",
     "output_type": "stream",
     "text": [
      "739911\n"
     ]
    }
   ],
   "source": [
    "print(len(build['train'])+len(build['val'])+len(build['test']))"
   ]
  },
  {
   "cell_type": "code",
   "execution_count": 73,
   "id": "c4f436ce-92a9-487a-bd2b-1d4abf70b125",
   "metadata": {
    "tags": []
   },
   "outputs": [
    {
     "data": {
      "text/plain": [
       "dict_keys([0, 1, 2, 3, 4])"
      ]
     },
     "execution_count": 73,
     "metadata": {},
     "output_type": "execute_result"
    }
   ],
   "source": [
    "chunked_data.keys()"
   ]
  },
  {
   "cell_type": "code",
   "execution_count": 82,
   "id": "e9b3de78-ba2e-4cb0-9018-6cb8f35a8e62",
   "metadata": {
    "tags": []
   },
   "outputs": [
    {
     "name": "stderr",
     "output_type": "stream",
     "text": [
      "100%|██████████| 120319/120319 [00:13<00:00, 9007.79it/s] \n"
     ]
    }
   ],
   "source": [
    "chunked_build = build_atoms_iterator(chunked_data[4], train=True)"
   ]
  },
  {
   "cell_type": "code",
   "execution_count": 200,
   "id": "2c5da062-682f-4dae-9245-5cddb1d11d67",
   "metadata": {
    "tags": []
   },
   "outputs": [
    {
     "data": {
      "text/plain": [
       "0.75020419431085"
      ]
     },
     "execution_count": 200,
     "metadata": {},
     "output_type": "execute_result"
    }
   ],
   "source": [
    "len(chunked_build)/876616"
   ]
  },
  {
   "cell_type": "code",
   "execution_count": 83,
   "id": "a44c4b5d-4ad7-4679-b98d-9196812ecbe0",
   "metadata": {
    "tags": []
   },
   "outputs": [],
   "source": [
    "train_5_chunk_file = os.path.join('/pscratch/sd/m/mavaylon/sam_ldrd/clean_data_tag/charge_plus1_minus1','chunk_75'+'_train.xyz')\n",
    "ase.io.write(train_5_chunk_file, chunked_build,format=\"extxyz\")"
   ]
  },
  {
   "cell_type": "markdown",
   "id": "1a1457de-030f-4531-a7b9-62abc4c356e6",
   "metadata": {},
   "source": [
    "# Write Dataset"
   ]
  },
  {
   "cell_type": "code",
   "execution_count": 62,
   "id": "ad3edf93-4bb4-4cd4-89ba-3d66dec2020b",
   "metadata": {
    "tags": []
   },
   "outputs": [],
   "source": [
    "def create_dataset(data: dict,\n",
    "                   file_name:str,\n",
    "                   path:str):\n",
    "    \"\"\"\n",
    "    This method will handle the I/O for writing the data to xyz files to the path provided.\n",
    "    \"\"\"\n",
    "    train_data = data['train']\n",
    "    val_data = data['val']\n",
    "    test_data = data['test']\n",
    "    \n",
    "    train_file = os.path.join(path,file_name+'_train.xyz')\n",
    "    ase.io.write(train_file, train_data,format=\"extxyz\")\n",
    "     \n",
    "    val_file = os.path.join(path,file_name+'_val.xyz')\n",
    "    ase.io.write(val_file, val_data,format=\"extxyz\")\n",
    "    \n",
    "    test_file = os.path.join(path,file_name+'_test.xyz')\n",
    "    ase.io.write(test_file, test_data,format=\"extxyz\")"
   ]
  },
  {
   "cell_type": "code",
   "execution_count": 63,
   "id": "2f6e63b3-3ff4-4433-b5b9-2625a5e9e6d6",
   "metadata": {},
   "outputs": [],
   "source": [
    "#to xyz\n",
    "create_dataset(build, 'rad_qm9_65_15_10_filtered_charges', '/pscratch/sd/m/mavaylon/sam_ldrd/clean_data_tag/charge_plus1_minus1')"
   ]
  },
  {
   "cell_type": "code",
   "execution_count": 99,
   "id": "3d547c6a-ef12-4b87-9a65-dba643554e1a",
   "metadata": {
    "tags": []
   },
   "outputs": [],
   "source": [
    "f.close()"
   ]
  },
  {
   "cell_type": "code",
   "execution_count": 100,
   "id": "e9a9414e-d9b5-46a9-b27f-43aba2130466",
   "metadata": {
    "tags": []
   },
   "outputs": [],
   "source": [
    "# to hdf5\n",
    "import h5py\n",
    "def create_hdf5_dataset(data: dict,\n",
    "                        file_name:str,\n",
    "                        path:str):\n",
    "\n",
    "    split_files = []\n",
    "    \n",
    "    for data_key in tqdm(data):\n",
    "        file = file_name + data_key +'.hdf5'\n",
    "        f = h5py.File(file, \"w\")  \n",
    "        if data_key=='train':\n",
    "            grouped_data = {}\n",
    "            for data in data[data_key]:\n",
    "                try:\n",
    "                    grouped_data[str(data.info['chunk'])].append(data)\n",
    "                except KeyError:\n",
    "                    grouped_data[str(data.info['chunk'])] = [data]\n",
    "\n",
    "                  \n",
    "            # for chunk_key in grouped_data:\n",
    "#                 f.create_group(chunk_key)\n",
    "#                 f.create_dataset(\"data\"+chunk_key, data=grouped_data[chunk_key])\n",
    "#             f.close()\n",
    "#             split_files.append(f)\n",
    "#         else:\n",
    "#             f.create_group(data_key)\n",
    "#             f.create_dataset('data', data[data_key])\n",
    "#             f.close()\n",
    "#             split_files.append(f)\n",
    "    \n",
    "    return grouped_data"
   ]
  },
  {
   "cell_type": "markdown",
   "id": "a2894bc7-d48c-48b0-8a67-564c25b15d73",
   "metadata": {},
   "source": [
    "# Visuals"
   ]
  },
  {
   "cell_type": "code",
   "execution_count": 26,
   "id": "c7ed6acc-880c-4ed1-9455-a6db5107ef36",
   "metadata": {
    "tags": []
   },
   "outputs": [],
   "source": [
    "def force_mag(data):\n",
    "    forces_total = []\n",
    "    for mol_id in tqdm(data):\n",
    "        for config in data[mol_id]:\n",
    "            forces = config['gradients']\n",
    "            for path_point in forces:\n",
    "                for atom in path_point:\n",
    "                    res = np.sqrt(sum([i**2 for i in atom]))\n",
    "                    forces_total.append(res)\n",
    "    return forces_total"
   ]
  },
  {
   "cell_type": "code",
   "execution_count": 89,
   "id": "38663242-0fc7-421d-b006-4f9dbdc3c74e",
   "metadata": {
    "tags": []
   },
   "outputs": [],
   "source": [
    "def force_mag_pair(data):\n",
    "    forces_total = {}\n",
    "    for mol_id in tqdm(data):\n",
    "        for config in data[mol_id]:\n",
    "            forces = config['gradients']\n",
    "            for path_point in forces:\n",
    "                for atom in path_point:\n",
    "                    res = np.sqrt(sum([i**2 for i in atom]))\n",
    "                    try:\n",
    "                        forces_total[config['charge_spin']].append(res)\n",
    "                    except KeyError:\n",
    "                        forces_total[config['charge_spin']] = [res]\n",
    "                    \n",
    "    return forces_total"
   ]
  },
  {
   "cell_type": "code",
   "execution_count": null,
   "id": "78526b0f-990c-404b-9b28-031371771df4",
   "metadata": {},
   "outputs": [],
   "source": []
  },
  {
   "cell_type": "code",
   "execution_count": 33,
   "id": "80a7a45d-60b5-4d6f-a311-8c0353f8d008",
   "metadata": {
    "tags": []
   },
   "outputs": [],
   "source": [
    "# Histogram of forces from all atoms from all of the data at [Start, Energetic Middle, End]"
   ]
  },
  {
   "cell_type": "code",
   "execution_count": 27,
   "id": "17195206-7e92-4faf-b160-b35dd383e16f",
   "metadata": {
    "tags": []
   },
   "outputs": [
    {
     "name": "stderr",
     "output_type": "stream",
     "text": [
      "100%|██████████| 130170/130170 [00:32<00:00, 3959.91it/s]\n"
     ]
    }
   ],
   "source": [
    "all_forces = force_mag(bucket)"
   ]
  },
  {
   "cell_type": "code",
   "execution_count": 29,
   "id": "0b627272-0549-48fe-b7f0-30cfeafdb7d6",
   "metadata": {
    "tags": []
   },
   "outputs": [
    {
     "data": {
      "text/plain": [
       "Text(0.5, 0, 'All Forces (ev/Angstrom)')"
      ]
     },
     "execution_count": 29,
     "metadata": {},
     "output_type": "execute_result"
    },
    {
     "data": {
      "image/png": "[encoded data removed]",
      "text/plain": [
       "<Figure size 640x480 with 1 Axes>"
      ]
     },
     "metadata": {},
     "output_type": "display_data"
    }
   ],
   "source": [
    "plt.hist(all_forces)\n",
    "plt.ylabel('Frequency (log)')\n",
    "plt.yscale('log')\n",
    "plt.xlabel('All Forces [Start, Middle, End] (ev/Angstrom)')"
   ]
  },
  {
   "cell_type": "code",
   "execution_count": 32,
   "id": "e65b688a-cf13-433a-99be-171d858871f6",
   "metadata": {
    "tags": []
   },
   "outputs": [
    {
     "data": {
      "text/plain": [
       "Text(0.5, 0, 'All Forces (ev/Angstrom)')"
      ]
     },
     "execution_count": 32,
     "metadata": {},
     "output_type": "execute_result"
    },
    {
     "data": {
      "image/png": "[encoded data removed]",
      "text/plain": [
       "<Figure size 640x480 with 1 Axes>"
      ]
     },
     "metadata": {},
     "output_type": "display_data"
    }
   ],
   "source": [
    "plt.hist(all_forces, bins=range(0, 40, 5), range=[0,40])\n",
    "plt.ylabel('Frequency (log)')\n",
    "plt.yscale('log')\n",
    "plt.xlabel('All Forces [Start, Middle, End] (ev/Angstrom)')"
   ]
  },
  {
   "cell_type": "code",
   "execution_count": 6,
   "id": "6e2f7aa5-482f-4a78-b21b-67b6a9aba965",
   "metadata": {
    "tags": []
   },
   "outputs": [],
   "source": [
    "# Histogram of all the start position forces "
   ]
  },
  {
   "cell_type": "code",
   "execution_count": 85,
   "id": "3a9a8863-7830-46d5-8edd-fd16db579492",
   "metadata": {
    "tags": []
   },
   "outputs": [],
   "source": [
    "import numpy as np\n",
    "\n",
    "np.random.seed(19680801)\n",
    "\n",
    "n_bins = 10\n",
    "x = np.random.randn(1000, 3)"
   ]
  },
  {
   "cell_type": "code",
   "execution_count": 88,
   "id": "e4af34bc-df31-478e-96fa-8f811e6fbe6a",
   "metadata": {
    "tags": []
   },
   "outputs": [
    {
     "data": {
      "text/plain": [
       "array([[ 1.04930431,  0.86609917,  0.5511346 ],\n",
       "       [ 1.72807779, -0.64928812, -0.47841958],\n",
       "       [ 1.07788511,  0.96881033, -0.80934479],\n",
       "       ...,\n",
       "       [-0.79704914, -2.08514886, -0.34828915],\n",
       "       [ 0.07050817,  0.39995811, -0.91531697],\n",
       "       [-1.03880531, -0.56047396, -0.95100945]])"
      ]
     },
     "execution_count": 88,
     "metadata": {},
     "output_type": "execute_result"
    }
   ],
   "source": [
    "x"
   ]
  },
  {
   "cell_type": "code",
   "execution_count": null,
   "id": "7a751fe4-3119-4560-b7ee-b227064ef18c",
   "metadata": {},
   "outputs": [],
   "source": [
    "def force_mag_pair(data):\n",
    "    forces_total = {}\n",
    "    for mol_id in tqdm(data):\n",
    "        for config in data[mol_id]:\n",
    "            forces = config['gradients']\n",
    "            for path_point in forces:\n",
    "                for atom in path_point:\n",
    "                    res = np.sqrt(sum([i**2 for i in atom]))\n",
    "                    try:\n",
    "                        forces_total[config['charge_spin']].append(res)\n",
    "                    except KeyError:\n",
    "                        forces_total[config['charge_spin']] = [res]\n",
    "                    \n",
    "    return forces_total"
   ]
  },
  {
   "cell_type": "code",
   "execution_count": 68,
   "id": "22b2f064-dfc8-41c8-a5ff-6232ea619fee",
   "metadata": {
    "tags": []
   },
   "outputs": [],
   "source": [
    "def beg_force_mag(data):\n",
    "    forces_total = {}\n",
    "    for mol_id in tqdm(data):\n",
    "        for config in data[mol_id]:\n",
    "            forces = config['gradients'][0]\n",
    "            for atom in forces:\n",
    "                res = np.sqrt(sum([i**2 for i in atom]))\n",
    "                forces_total.append(res)\n",
    "    return forces_total"
   ]
  },
  {
   "cell_type": "code",
   "execution_count": 8,
   "id": "9241b0a4-6f69-42c5-847c-6725bbbcc272",
   "metadata": {
    "tags": []
   },
   "outputs": [],
   "source": [
    "def beg_force_mag_pair(data):\n",
    "    forces_total = {}\n",
    "    for mol_id in tqdm(data):\n",
    "        for config in data[mol_id]:\n",
    "            forces = config['gradients'][0]\n",
    "            for atom in forces:\n",
    "                res = np.sqrt(sum([i**2 for i in atom]))\n",
    "                try:\n",
    "                    forces_total[config['charge_spin']].append(res)\n",
    "                except KeyError:\n",
    "                    forces_total[config['charge_spin']] = [res]\n",
    "    return forces_total"
   ]
  },
  {
   "cell_type": "code",
   "execution_count": 15,
   "id": "f44980fd-1c38-48a5-a09d-46f052a5b016",
   "metadata": {
    "tags": []
   },
   "outputs": [],
   "source": [
    "def beg_force_mag_pair_list(data):\n",
    "    forces_total = {}\n",
    "    for mol_id in tqdm(data):\n",
    "        mol_id['charge_spin'] = str(mol_id['charge']) +',' + str(mol_id['spin'])\n",
    "        forces = mol_id['gradients'][0]\n",
    "        for atom in forces:\n",
    "            res = np.sqrt(sum([i**2 for i in atom]))\n",
    "            try:\n",
    "                forces_total[mol_id['charge_spin']].append(res)\n",
    "            except KeyError:\n",
    "                forces_total[mol_id['charge_spin']] = [res]\n",
    "    return forces_total"
   ]
  },
  {
   "cell_type": "code",
   "execution_count": 16,
   "id": "795229c3-746c-4230-b9a2-b156118812de",
   "metadata": {
    "tags": []
   },
   "outputs": [
    {
     "name": "stderr",
     "output_type": "stream",
     "text": [
      "100%|██████████| 616958/616958 [00:15<00:00, 39978.52it/s]\n"
     ]
    }
   ],
   "source": [
    "beg_forces_pair=beg_force_mag_pair_list(merged_data)"
   ]
  },
  {
   "cell_type": "code",
   "execution_count": 65,
   "id": "f81759dc-e12d-4902-b451-77f4ec90484a",
   "metadata": {
    "tags": []
   },
   "outputs": [
    {
     "name": "stderr",
     "output_type": "stream",
     "text": [
      "100%|██████████| 130170/130170 [00:11<00:00, 10896.02it/s]\n"
     ]
    }
   ],
   "source": [
    "beg_forces_pair=beg_force_mag_pair(bb)"
   ]
  },
  {
   "cell_type": "code",
   "execution_count": 18,
   "id": "5866c118-d879-4620-8cdf-0c497de6417e",
   "metadata": {
    "tags": []
   },
   "outputs": [],
   "source": [
    "# beg_forces_pair"
   ]
  },
  {
   "cell_type": "code",
   "execution_count": 98,
   "id": "4725d9b9-95bf-4cec-baba-a3ed9ee65913",
   "metadata": {
    "tags": []
   },
   "outputs": [
    {
     "data": {
      "text/plain": [
       "dict_keys(['0,1', '1,2', '0,3', '-1,2'])"
      ]
     },
     "execution_count": 98,
     "metadata": {},
     "output_type": "execute_result"
    }
   ],
   "source": [
    "beg_forces_pair.keys()"
   ]
  },
  {
   "cell_type": "code",
   "execution_count": 69,
   "id": "14596a08-919a-4119-873b-ea1b76a01bf0",
   "metadata": {
    "tags": []
   },
   "outputs": [
    {
     "name": "stderr",
     "output_type": "stream",
     "text": [
      "100%|██████████| 130170/130170 [00:12<00:00, 10569.24it/s]\n"
     ]
    }
   ],
   "source": [
    "beg_forces = beg_force_mag(bb)"
   ]
  },
  {
   "cell_type": "code",
   "execution_count": 102,
   "id": "82b5bad9-588f-47ea-9bb1-fc1c1be9f993",
   "metadata": {
    "tags": []
   },
   "outputs": [
    {
     "data": {
      "text/plain": [
       "Text(0.5, 0, 'All Starting Forces (ev/Angstrom)')"
      ]
     },
     "execution_count": 102,
     "metadata": {},
     "output_type": "execute_result"
    },
    {
     "data": {
      "image/png": "[encoded data removed]",
      "text/plain": [
       "<Figure size 640x480 with 1 Axes>"
      ]
     },
     "metadata": {},
     "output_type": "display_data"
    }
   ],
   "source": [
    "plt.hist([beg_forces_pair['0,1'],beg_forces_pair['1,2'], beg_forces_pair['0,3'], beg_forces_pair['-1,2']])\n",
    "plt.ylabel('Frequency (log)')\n",
    "plt.yscale('log')\n",
    "plt.xlabel('All Starting Forces (ev/Angstrom)')"
   ]
  },
  {
   "cell_type": "code",
   "execution_count": 116,
   "id": "ac9ad364-2a98-4143-8d68-daef952bf4dc",
   "metadata": {},
   "outputs": [
    {
     "data": {
      "text/plain": [
       "array([0.  , 0.05, 0.1 , 0.15, 0.2 , 0.25, 0.3 , 0.35, 0.4 , 0.45])"
      ]
     },
     "execution_count": 116,
     "metadata": {},
     "output_type": "execute_result"
    }
   ],
   "source": [
    "import pylab as pl\n",
    "np.arange(0,.5,0.05)"
   ]
  },
  {
   "cell_type": "code",
   "execution_count": 66,
   "id": "e578d1fa-7a3a-46c1-8242-293e2ecdf4bb",
   "metadata": {
    "tags": []
   },
   "outputs": [
    {
     "data": {
      "text/plain": [
       "Text(0.5, 0, 'All Starting Forces (ev/Angstrom)')"
      ]
     },
     "execution_count": 66,
     "metadata": {},
     "output_type": "execute_result"
    },
    {
     "data": {
      "image/png": "[encoded data removed]",
      "text/plain": [
       "<Figure size 640x480 with 1 Axes>"
      ]
     },
     "metadata": {},
     "output_type": "display_data"
    }
   ],
   "source": [
    "# plt.hist([beg_forces_pair['0,1'],beg_forces_pair['1,2'], beg_forces_pair['0,3'], beg_forces_pair['-1,2']], bins=np.arange(0,.5,0.05), range=[0,.5], label=['0,1', '1,2', '0,3', '-1,2'])\n",
    "plt.hist([beg_forces_pair['0,1'],beg_forces_pair['1,2'], beg_forces_pair['0,3'], beg_forces_pair['-1,2']], range=[0,3], label=['0,1', '1,2', '0,3', '-1,2'])\n",
    "plt.legend(loc='upper right')\n",
    "\n",
    "plt.ylabel('Frequency (log)')\n",
    "plt.yscale('log')\n",
    "plt.xlabel('All Starting Forces (ev/Angstrom)')"
   ]
  },
  {
   "cell_type": "code",
   "execution_count": 8,
   "id": "a6bf788a-34c8-49cd-bfc5-68de0e7e92c5",
   "metadata": {
    "tags": []
   },
   "outputs": [],
   "source": [
    "\n",
    "# Histogram of all the start position forces for -1 doublet"
   ]
  },
  {
   "cell_type": "code",
   "execution_count": 7,
   "id": "756df9d9-c5c0-4635-96d4-9cba40f12370",
   "metadata": {
    "tags": []
   },
   "outputs": [],
   "source": [
    "# The energy and average force (average across the atoms) of one -1 doublet throughout the trajectory"
   ]
  },
  {
   "cell_type": "code",
   "execution_count": 34,
   "id": "a9388c77-ba84-4bd6-a87c-7646dc8e2dbb",
   "metadata": {
    "tags": []
   },
   "outputs": [],
   "source": [
    "# Hist of all the forces for every atom at every point on the trajectory"
   ]
  },
  {
   "cell_type": "code",
   "execution_count": 13,
   "id": "f12f25df-3657-4f12-b87f-11d6124a32df",
   "metadata": {
    "tags": []
   },
   "outputs": [],
   "source": [
    "def bucket_mol_id_all_pts(data: list):\n",
    "    \"\"\"\n",
    "    Method requires a list of events such that each item in the list is a single event.\n",
    "    \n",
    "    Steps:\n",
    "    - Bucket the events in a dictionary such that the keys are the mol_ids and the values are all events with that mol_id. Create\n",
    "      a new field for each event called \"charge_spin\" for easy down_stream checks.\n",
    "    - For each mol_id, check the list of events for duplicate \"charge_spin\". \n",
    "      If there are duplicates, for each duplicate pair:\n",
    "                1. Get all events that have the duplicate charge_spin\n",
    "                2. Remove these events from the values of the mol_id in the bucket. This is to process them and re-add them later or move to\n",
    "                   bad data.\n",
    "                3. Search for the order in which these duplicate events for the specific charge_spin should be attached. If there is no match,\n",
    "                   this is considered bad data and will be moved out of the bucket.\n",
    "                4. If an order can be established, create a new \"merged\" event. \n",
    "                5. Append the event to the values of the mol_id of the bucket.\n",
    "                6. Repeat for every duplicate pair.\n",
    "    \"\"\"\n",
    "    bucket = {}\n",
    "    \n",
    "    # Step 1    \n",
    "    for event in tqdm(data):\n",
    "        event['charge_spin'] = str(event['charge'])+','+str(event['spin'])\n",
    "        try:\n",
    "            bucket[event['mol_id']].append(event) \n",
    "        except KeyError:\n",
    "            bucket[event['mol_id']] = [event]\n",
    "\n",
    "    # Step 2\n",
    "    bad_ids = []\n",
    "    for mol_id in tqdm(bucket):\n",
    "        pairs = [event['charge_spin'] for event in bucket[mol_id]]\n",
    "        # Get a list of all charge_spins that have duplicates.\n",
    "        duplicate_pairs = [item for item, count in collections.Counter(pairs).items() if count > 1] \n",
    "        non_dup_pairs = []\n",
    "        if len(duplicate_pairs)!=0:\n",
    "            non_dup_pairs = list(set(pairs))\n",
    "            for i in duplicate_pairs:\n",
    "                non_dup_pairs.remove(i)\n",
    "        \n",
    "        if len(duplicate_pairs)==0:\n",
    "            for pair in bucket[mol_id]:\n",
    "                # add weight tag\n",
    "                species = pair['species']\n",
    "                species_num = []\n",
    "                species_sorted = ''.join(sorted(set(species)))\n",
    "                for element in species:\n",
    "                    species_num.append(elements_dict[element])\n",
    "                    \n",
    "                pair['weight_tag'] = round(sum(species_num))\n",
    "        else:\n",
    "            if len(non_dup_pairs)!=0:\n",
    "                for pair in non_dup_pairs:\n",
    "                    case_events = [event for event in bucket[mol_id] if event['charge_spin']==pair]\n",
    "                    for event in case_events:\n",
    "                        # add weight tag\n",
    "                        species = event['species']\n",
    "                        species_num = []\n",
    "                        species_sorted = ''.join(sorted(set(species)))\n",
    "                        for element in species:\n",
    "                            species_num.append(elements_dict[element])\n",
    "\n",
    "                        event['weight_tag'] = round(sum(species_num)) \n",
    "\n",
    "            bad_data = []\n",
    "            for dup in duplicate_pairs:\n",
    "                # Order events\n",
    "                case_events = [event for event in bucket[mol_id] if event['charge_spin']==dup]\n",
    "                for event in case_events:\n",
    "                    bucket[mol_id].remove(event) \n",
    "                \n",
    "                ordered = [case_events[0]]\n",
    "                del case_events[0]\n",
    "                \n",
    "                counter = 0\n",
    "                threshold = 30\n",
    "                while len(case_events)!=0:\n",
    "                    if len(bad_data)==0:\n",
    "                        for event in case_events:\n",
    "                            beg = event['geometries'][0]\n",
    "                            end = event['geometries'][len(event['geometries'])-1]\n",
    "\n",
    "                            ordered_beg = ordered[0]['geometries'][0]\n",
    "                            ordered_end = ordered[len(ordered)-1]['geometries'][len(ordered[len(ordered)-1]['geometries'])-1]\n",
    "\n",
    "                            if beg==ordered_end:\n",
    "                                ordered.append(event)\n",
    "                                case_events.remove(event)\n",
    "                            elif end==ordered_beg:\n",
    "                                ordered.insert(0, event)\n",
    "                                case_events.remove(event)\n",
    "                            else:\n",
    "                                counter+=1\n",
    "                                if counter>threshold:\n",
    "                                    bad_data.append(mol_id)\n",
    "                                else:\n",
    "                                    continue\n",
    "                    else:\n",
    "                        break\n",
    "                    \n",
    "                if len(bad_data)==0:\n",
    "                    pass\n",
    "                else:\n",
    "                    bad_ids += bad_data\n",
    "                    continue\n",
    "\n",
    "                # Merge the ordered events: forces, geometries\n",
    "                merged_event = {}\n",
    "                merged_event['task_id'] = ordered[0]['task_id']\n",
    "                merged_event['mol_id'] = mol_id\n",
    "                merged_event['name'] = ordered[0]['name']\n",
    "                merged_event['charge'] = ordered[0]['charge']\n",
    "                merged_event['spin'] = ordered[0]['spin']\n",
    "                merged_event['charge_spin'] = ordered[0]['charge_spin']\n",
    "                merged_event['species'] = ordered[0]['species']\n",
    "                \n",
    "                geometries = []\n",
    "                energies = []\n",
    "                grads = []\n",
    "                mulliken = []\n",
    "                resp = []\n",
    "                for event in ordered:\n",
    "                    geometries += event['geometries']\n",
    "                    energies += event['energies']\n",
    "                    grads += event['gradients']\n",
    "                    mulliken += event['mulliken']\n",
    "                    resp += event['resp']\n",
    "               \n",
    "                merged_event['geometries'] = geometries\n",
    "                merged_event['energies'] = energies\n",
    "                merged_event['gradients'] = grads\n",
    "                merged_event['mulliken'] = mulliken\n",
    "                merged_event['resp'] = resp\n",
    "                \n",
    "                species = merged_event['species']\n",
    "                species_num = []\n",
    "                species_sorted = ''.join(sorted(set(species)))\n",
    "                for element in species:\n",
    "                    species_num.append(elements_dict[element])\n",
    "                merged_event['weight_tag'] = round(sum(species_num))\n",
    "                \n",
    "                bucket[mol_id].append(merged_event)\n",
    "\n",
    "    if len(bad_ids)!=0:\n",
    "        ids = list(set(bad_ids))\n",
    "        for _id in ids:\n",
    "            bucket.pop(_id)\n",
    "        \n",
    "        return ids, bucket\n",
    "    else:\n",
    "        for mol_id in bucket:\n",
    "            if len(bucket[mol_id])>4:\n",
    "                print(mol_id)\n",
    "        return bucket\n"
   ]
  },
  {
   "cell_type": "code",
   "execution_count": 14,
   "id": "2d236eb8-ab3c-467a-974b-0e0f0f48b1e2",
   "metadata": {
    "tags": []
   },
   "outputs": [
    {
     "name": "stderr",
     "output_type": "stream",
     "text": [
      "100%|██████████| 616958/616958 [00:00<00:00, 805539.99it/s]\n",
      "100%|██████████| 133882/133882 [00:03<00:00, 40235.09it/s]\n"
     ]
    }
   ],
   "source": [
    "i, all_pts_bucket = bucket_mol_id_all_pts(merged_data)"
   ]
  },
  {
   "cell_type": "code",
   "execution_count": 39,
   "id": "b6d24e1c-62d5-407c-81b1-3f56c7fa26a0",
   "metadata": {
    "tags": []
   },
   "outputs": [],
   "source": [
    "# with h5py.File('/pscratch/sd/m/mavaylon/sam_ldrd/ex.h5', 'r') as file:\n",
    "#     gg=file['good']['good_data']\n",
    "#     print(ast.literal_eval(gg[1].decode('utf-8')))\n",
    "    "
   ]
  },
  {
   "cell_type": "code",
   "execution_count": 36,
   "id": "def8dffd-f880-46c4-b117-104aecd1ae24",
   "metadata": {
    "tags": []
   },
   "outputs": [],
   "source": [
    "# with h5py.File('/pscratch/sd/m/mavaylon/sam_ldrd/ex.h5', 'w') as file:\n",
    "#     g1 =file.create_group('good')\n",
    "#     good=[]\n",
    "#     for item in all_pts_bucket[3832]:\n",
    "#         good.append(str(item))\n",
    "#     g1.create_dataset('good_data',data=good)"
   ]
  },
  {
   "cell_type": "code",
   "execution_count": 11,
   "id": "018ca08f-c6b7-467a-9cb0-c6bb62d90c31",
   "metadata": {
    "tags": []
   },
   "outputs": [],
   "source": [
    "def charge_spin_validator(bucket: dict):\n",
    "    \"\"\"\n",
    "    The method takes in data that has been sorted into a python dictionary. They keys are the mol_ids and the values are the list of events.\n",
    "    This method will check for duplicate charge_spin pairs.\n",
    "    \n",
    "    return: None (if valid) | bad_data-->list of invalid mol_ids (if invalid)\n",
    "    \"\"\"\n",
    "    \n",
    "    bad_data = []\n",
    "    for mol_id in tqdm(bucket):\n",
    "        pairs = [event['charge_spin'] for event in bucket[mol_id]]\n",
    "        \n",
    "        # Get a list of all charge_spins that have duplicates.\n",
    "        duplicate_pairs = [item for item, count in collections.Counter(pairs).items() if count > 1]\n",
    "        \n",
    "        if len(duplicate_pairs)==0:\n",
    "            pass\n",
    "        else:\n",
    "            bad_data.append(mol_id)\n",
    "    \n",
    "    if len(bad_data)==0:\n",
    "        return None\n",
    "    else:\n",
    "        return bad_data"
   ]
  },
  {
   "cell_type": "code",
   "execution_count": 12,
   "id": "fcbb4f94-25a8-43d0-b9f2-9d78c40c21a6",
   "metadata": {
    "tags": []
   },
   "outputs": [
    {
     "name": "stderr",
     "output_type": "stream",
     "text": [
      "100%|██████████| 130170/130170 [00:00<00:00, 294204.13it/s]\n"
     ]
    },
    {
     "data": {
      "text/plain": [
       "True"
      ]
     },
     "execution_count": 12,
     "metadata": {},
     "output_type": "execute_result"
    }
   ],
   "source": [
    "ff=charge_spin_validator(all_pts_bucket)\n",
    "ff is None"
   ]
  },
  {
   "cell_type": "code",
   "execution_count": 15,
   "id": "646e4c79-f2ea-41e8-9278-b54f5cf80fab",
   "metadata": {
    "tags": []
   },
   "outputs": [],
   "source": [
    "def average_force_trajectory(pair):\n",
    "    \"\"\"\n",
    "    This method will take a specfic spin charge pair. At each point in the optimization trajectory, the \n",
    "    \"\"\"\n",
    "    forces = {}\n",
    "    for i in range(len(pair['gradients'])):\n",
    "        temp = []\n",
    "        for atom in pair['gradients'][i]:\n",
    "            res = np.sqrt(sum([j**2 for j in atom]))\n",
    "            temp.append(res)\n",
    "        forces[i] = np.mean(temp)\n",
    "    del forces[0]\n",
    "    return forces"
   ]
  },
  {
   "cell_type": "code",
   "execution_count": 16,
   "id": "cbb8d6a7-0ec8-48d1-851c-705b1f65dd70",
   "metadata": {
    "tags": []
   },
   "outputs": [],
   "source": [
    "def sparse_trajectory(bucket: dict):\n",
    "    \"\"\"\n",
    "    This takes the cleaned data and will sparsifiy the optimization trajectories. How this is done will depend on the\n",
    "    charge_spin pair:\n",
    "    - Neutral Singlet (0,1): First and Last\n",
    "    - Other: First, Last, and structure with the highest molecular force other than the First.\n",
    "    \n",
    "    Note: Molecular Force is just the average of the force magnitudes of each atom in the molecule:\n",
    "    \"\"\"\n",
    "    \n",
    "    for mol_id in tqdm(bucket):\n",
    "        for pair in bucket[mol_id]:\n",
    "            if pair['charge_spin'] == '0,1':\n",
    "                geometries = [pair['geometries'][0], pair['geometries'][-1]]\n",
    "                energies = [pair['energies'][0], pair['energies'][-1]]\n",
    "                grads = [pair['gradients'][0], pair['gradients'][-1]]\n",
    "                mulliken = [pair['mulliken'][0], pair['mulliken'][-1]]\n",
    "                resp = [pair['resp'][0], pair['resp'][-1]]\n",
    "                \n",
    "                pair['geometries'] = geometries\n",
    "                pair['energies'] = energies\n",
    "                pair['gradients'] = grads\n",
    "                pair['mulliken'] = mulliken\n",
    "                pair['resp'] = resp\n",
    "            else:\n",
    "                force_dict = average_force_trajectory(pair)\n",
    "                max_index = max(force_dict, key=force_dict.get)\n",
    "                \n",
    "                geometries = [pair['geometries'][0], pair['geometries'][max_index], pair['geometries'][-1]]\n",
    "                energies = [pair['energies'][0], pair['energies'][max_index], pair['energies'][-1]]\n",
    "                grads = [pair['gradients'][0], pair['gradients'][max_index], pair['gradients'][-1]]\n",
    "                mulliken = [pair['mulliken'][0], pair['mulliken'][max_index], pair['mulliken'][-1]]\n",
    "                resp = [pair['resp'][0], pair['resp'][max_index], pair['resp'][-1]]\n",
    "                \n",
    "                pair['geometries'] = geometries\n",
    "                pair['energies'] = energies\n",
    "                pair['gradients'] = grads\n",
    "                pair['mulliken'] = mulliken\n",
    "                pair['resp'] = resp"
   ]
  },
  {
   "cell_type": "code",
   "execution_count": 17,
   "id": "e8efa0a8-a8f8-499b-8e4c-a48c280f5b30",
   "metadata": {
    "tags": []
   },
   "outputs": [
    {
     "name": "stderr",
     "output_type": "stream",
     "text": [
      "100%|██████████| 130170/130170 [06:32<00:00, 331.86it/s]\n"
     ]
    }
   ],
   "source": [
    "sparsed_bucket = sparse_trajectory(all_pts_bucket)"
   ]
  },
  {
   "cell_type": "code",
   "execution_count": 48,
   "id": "a1ce677e-66c6-4160-a688-de213779aaa3",
   "metadata": {
    "tags": []
   },
   "outputs": [],
   "source": [
    "# all_pts_bucket[3832]"
   ]
  },
  {
   "cell_type": "code",
   "execution_count": 18,
   "id": "e264a297-314f-4362-94f2-9ab3296dfa31",
   "metadata": {
    "tags": []
   },
   "outputs": [
    {
     "name": "stderr",
     "output_type": "stream",
     "text": [
      "100%|██████████| 130170/130170 [00:32<00:00, 3976.63it/s]\n"
     ]
    }
   ],
   "source": [
    "force_filtered, filtered_data = force_magnitude_filter(cutoff=10.0, data=all_pts_bucket)"
   ]
  },
  {
   "cell_type": "code",
   "execution_count": 28,
   "id": "63ff26c1-3dde-4656-acf7-80d0d2841ef5",
   "metadata": {
    "tags": []
   },
   "outputs": [
    {
     "ename": "KeyError",
     "evalue": "0",
     "output_type": "error",
     "traceback": [
      "\u001b[0;31m---------------------------------------------------------------------------\u001b[0m",
      "\u001b[0;31mKeyError\u001b[0m                                  Traceback (most recent call last)",
      "Cell \u001b[0;32mIn[28], line 1\u001b[0m\n\u001b[0;32m----> 1\u001b[0m \u001b[43mfiltered_data\u001b[49m\u001b[43m[\u001b[49m\u001b[38;5;241;43m0\u001b[39;49m\u001b[43m]\u001b[49m\n",
      "\u001b[0;31mKeyError\u001b[0m: 0"
     ]
    }
   ],
   "source": [
    "filtered_data"
   ]
  },
  {
   "cell_type": "code",
   "execution_count": 15,
   "id": "04de872b-8247-4463-a797-d7591f9c687a",
   "metadata": {
    "tags": []
   },
   "outputs": [],
   "source": [
    "def prepare_graph_filter(data: dict):\n",
    "    \"\"\"\n",
    "    Go through the data and retrieve the data needed for graph separation check.\n",
    "    1. Ignore charge_spin pair = 0,1\n",
    "    2. Ignore all starting points in the configurations.\n",
    "    \"\"\"\n",
    "    data_to_be_parsed = []\n",
    "    for mol_id in tqdm(data):\n",
    "        for pair in data[mol_id]:\n",
    "            if pair['charge_spin'] != '0,1':\n",
    "                data_to_be_parsed.append(pair)\n",
    "    \n",
    "    # Ignore the first is in the filter_broken_graphs\n",
    "    return data_to_be_parsed"
   ]
  },
  {
   "cell_type": "code",
   "execution_count": 55,
   "id": "7ccc1c9e-57f2-452f-a916-6a09142d8c1b",
   "metadata": {
    "tags": []
   },
   "outputs": [],
   "source": [
    "def removed_broken_graph_data(data: dict,\n",
    "                              broken: list):\n",
    "    \"\"\"\n",
    "    \n",
    "    \"\"\"\n",
    "    data_to_be_parsed = {}\n",
    "    for mol_id in tqdm(data):\n",
    "        for pair in data[mol_id]:\n",
    "            # data_to_be_parsed.append(pair)\n",
    "            data_to_be_parsed[str(pair['task_id']) +'_'+str(pair['mol_id'])+'_'+pair['charge_spin']] = pair\n",
    "    print(len(data_to_be_parsed))\n",
    "    \n",
    "    print(len(broken))\n",
    "    for item in tqdm(broken):\n",
    "        data_to_be_parsed.pop(item)\n",
    "    \n",
    "    print(len(data_to_be_parsed))\n",
    "    \n",
    "    return data_to_be_parsed"
   ]
  },
  {
   "cell_type": "code",
   "execution_count": 16,
   "id": "0883b67b-96ef-4b19-9b50-86054cc0e389",
   "metadata": {
    "tags": []
   },
   "outputs": [
    {
     "name": "stderr",
     "output_type": "stream",
     "text": [
      "100%|██████████| 130170/130170 [00:00<00:00, 431678.02it/s]\n"
     ]
    }
   ],
   "source": [
    "dd = prepare_graph_filter(filtered_data)"
   ]
  },
  {
   "cell_type": "code",
   "execution_count": 29,
   "id": "b7a46858-0248-48f3-93c0-9ad8e595b706",
   "metadata": {
    "tags": []
   },
   "outputs": [],
   "source": [
    "def flatten(data):\n",
    "    return [x for y in data for x in y]"
   ]
  },
  {
   "cell_type": "code",
   "execution_count": 56,
   "id": "c64c60ed-14fb-4c6a-80bd-ff2dfde034e8",
   "metadata": {
    "tags": []
   },
   "outputs": [
    {
     "name": "stderr",
     "output_type": "stream",
     "text": [
      "100%|██████████| 130170/130170 [00:00<00:00, 177590.97it/s]\n"
     ]
    },
    {
     "name": "stdout",
     "output_type": "stream",
     "text": [
      "509920\n",
      "17353\n"
     ]
    },
    {
     "name": "stderr",
     "output_type": "stream",
     "text": [
      "100%|██████████| 17353/17353 [00:00<00:00, 1399849.16it/s]"
     ]
    },
    {
     "name": "stdout",
     "output_type": "stream",
     "text": [
      "492567\n"
     ]
    },
    {
     "name": "stderr",
     "output_type": "stream",
     "text": [
      "\n"
     ]
    }
   ],
   "source": [
    "flattend_data = removed_broken_graph_data(filtered_data, broken_dict)"
   ]
  },
  {
   "cell_type": "code",
   "execution_count": 43,
   "id": "78eea44b-3722-46e9-8803-c9b68d6c1623",
   "metadata": {
    "tags": []
   },
   "outputs": [
    {
     "data": {
      "text/plain": [
       "130170"
      ]
     },
     "execution_count": 43,
     "metadata": {},
     "output_type": "execute_result"
    }
   ],
   "source": []
  },
  {
   "cell_type": "code",
   "execution_count": 71,
   "id": "77ff3cd7-f08a-4f59-b8e6-81a64d74829b",
   "metadata": {
    "tags": []
   },
   "outputs": [
    {
     "ename": "TypeError",
     "evalue": "unhashable type: 'dict'",
     "output_type": "error",
     "traceback": [
      "\u001b[0;31m---------------------------------------------------------------------------\u001b[0m",
      "\u001b[0;31mTypeError\u001b[0m                                 Traceback (most recent call last)",
      "Cell \u001b[0;32mIn[71], line 1\u001b[0m\n\u001b[0;32m----> 1\u001b[0m \u001b[38;5;28mlen\u001b[39m(\u001b[38;5;28;43mset\u001b[39;49m\u001b[43m(\u001b[49m\u001b[43mbroken_data\u001b[49m\u001b[43m)\u001b[49m)\n",
      "\u001b[0;31mTypeError\u001b[0m: unhashable type: 'dict'"
     ]
    }
   ],
   "source": [
    "len(set(broken_data))"
   ]
  },
  {
   "cell_type": "code",
   "execution_count": 22,
   "id": "46e06bb2-d3d0-4013-a85e-0c6595d961a0",
   "metadata": {
    "tags": []
   },
   "outputs": [],
   "source": [
    "# [x for x in flattend_data if x==broken_data[0]]\n",
    "# for item in tqdm(broken_data):\n",
    "#     print(item)\n",
    "#     break\n",
    "# flattend_data.remove(broken_data[44])\n",
    "# flattend_data"
   ]
  },
  {
   "cell_type": "code",
   "execution_count": null,
   "id": "44a61abc-0e07-40cd-bd55-7e0f7dd704e7",
   "metadata": {},
   "outputs": [],
   "source": [
    "\n",
    "#     atoms = read(\"foo.xyz\")\n",
    "#     mol = AseAtomsAdaptor.get_molecule(atoms)\n",
    "#     graph = MoleculeGraph.with_local_env_strategy(mol, OpenBabelNN())\n",
    "\n",
    "#     nx.is_connected(graph.graph.to_undirected()) "
   ]
  },
  {
   "cell_type": "code",
   "execution_count": 17,
   "id": "9b31c5e8-1d1d-4e67-9936-9b12592fefa0",
   "metadata": {
    "tags": []
   },
   "outputs": [],
   "source": [
    "def filter_broken_graphs(data: list):\n",
    "    broken = []\n",
    "    good = []\n",
    "    \n",
    "    for item in tqdm(data):\n",
    "        for traj_point in item['geometries'][1:]:\n",
    "                atoms = ase.atoms.Atoms(symbols=item['species'],\n",
    "                                        positions=traj_point)\n",
    "                mol = AseAtomsAdaptor.get_molecule(atoms)\n",
    "                graph = MoleculeGraph.with_local_env_strategy(mol, OpenBabelNN())\n",
    "\n",
    "                connected = nx.is_connected(graph.graph.to_undirected())\n",
    "                if not connected:\n",
    "                    broken.append(item)\n",
    "                else:\n",
    "                    good.append(item)\n",
    "\n",
    "    return good, broken"
   ]
  },
  {
   "cell_type": "code",
   "execution_count": 41,
   "id": "5140dab4-def7-498f-a2a5-eceed7e05d8a",
   "metadata": {
    "tags": []
   },
   "outputs": [],
   "source": [
    "import warnings\n",
    "warnings.filterwarnings('ignore')"
   ]
  },
  {
   "cell_type": "code",
   "execution_count": 19,
   "id": "d6216f4d-6b9a-4538-8699-aed349cf5abc",
   "metadata": {
    "tags": []
   },
   "outputs": [],
   "source": [
    "import h5py\n",
    "file = h5py.File('/pscratch/sd/m/mavaylon/sam_ldrd/broken.h5', 'r')\n"
   ]
  },
  {
   "cell_type": "code",
   "execution_count": 31,
   "id": "33bbf769-e110-41af-9f87-c59dc87f8eb1",
   "metadata": {
    "tags": []
   },
   "outputs": [
    {
     "name": "stderr",
     "output_type": "stream",
     "text": [
      "100%|██████████| 25888/25888 [00:34<00:00, 749.68it/s]\n"
     ]
    }
   ],
   "source": [
    "import ast\n",
    "import h5py\n",
    "file = h5py.File('/pscratch/sd/m/mavaylon/sam_ldrd/broken.h5', 'r')\n",
    "\n",
    "broken_dict={}\n",
    "for point in tqdm(file['broken']['broken_data']):\n",
    "    try:\n",
    "        point = ast.literal_eval(point.decode('utf-8'))\n",
    "        broken_dict[str(point['task_id']) +'_'+str(point['mol_id'])+'_'+point['charge_spin']] = point\n",
    "    except KeyError:\n",
    "        pass\n"
   ]
  },
  {
   "cell_type": "code",
   "execution_count": 29,
   "id": "2a415f89-afb8-4d5e-863f-10c02637d362",
   "metadata": {
    "tags": []
   },
   "outputs": [
    {
     "data": {
      "text/plain": [
       "'409851_3838_-1,2'"
      ]
     },
     "execution_count": 29,
     "metadata": {},
     "output_type": "execute_result"
    }
   ],
   "source": [
    "broken_data[0]['task_id']\n",
    "str(broken_data[0]['task_id']) +'_'+str(broken_data[0]['mol_id'])+'_'+broken_data[0]['charge_spin']"
   ]
  },
  {
   "cell_type": "code",
   "execution_count": 26,
   "id": "476bcae5-aa01-4559-bea4-945183c4bd20",
   "metadata": {
    "tags": []
   },
   "outputs": [],
   "source": [
    "import h5py\n",
    "with h5py.File('/pscratch/sd/m/mavaylon/sam_ldrd/good.h5', 'w') as file:\n",
    "    g1 =file.create_group('good')\n",
    "    good_d=[]\n",
    "    for item in good:\n",
    "        good.append(str(item))\n",
    "    g1.create_dataset('good_data',data=good_)"
   ]
  },
  {
   "cell_type": "code",
   "execution_count": 31,
   "id": "0221bb4b-9659-4bc6-9aac-e9630feb913f",
   "metadata": {
    "tags": []
   },
   "outputs": [],
   "source": [
    "# import h5py\n",
    "# with h5py.File('/pscratch/sd/m/mavaylon/sam_ldrd/broken.h5', 'w') as file:\n",
    "#     g1 =file.create_group('broken')\n",
    "#     bbd=[]\n",
    "#     for item in broken:\n",
    "#         bbd.append(str(item))\n",
    "#     g1.create_dataset('broken_data',data=bbd)"
   ]
  },
  {
   "cell_type": "code",
   "execution_count": 57,
   "id": "fd60f993-9cec-4e8b-a08b-7502bf3b5709",
   "metadata": {
    "tags": []
   },
   "outputs": [],
   "source": [
    "# good,broken = filter_broken_graphs(dd)"
   ]
  },
  {
   "cell_type": "code",
   "execution_count": 30,
   "id": "5bcd54e7-a8aa-4157-8ac7-fd89758b5286",
   "metadata": {
    "tags": []
   },
   "outputs": [],
   "source": [
    "atoms = read(\"/pscratch/sd/m/mavaylon/sam_ldrd/C4H8_disconnected.xyz\")\n",
    "mol = AseAtomsAdaptor.get_molecule(atoms)\n",
    "graph = MoleculeGraph.with_local_env_strategy(mol, OpenBabelNN())"
   ]
  },
  {
   "cell_type": "code",
   "execution_count": 19,
   "id": "4e4bd7e1-b73e-4847-abc1-97adb42b8a11",
   "metadata": {
    "tags": []
   },
   "outputs": [],
   "source": [
    "# mol"
   ]
  },
  {
   "cell_type": "code",
   "execution_count": 35,
   "id": "50c9cc77-4feb-47f0-b89e-d044b0f9957b",
   "metadata": {
    "tags": []
   },
   "outputs": [
    {
     "data": {
      "text/plain": [
       "Molecule Summary\n",
       "Site: N (-0.0904, 1.3272, 0.0010)\n",
       "Site: C (0.0056, 0.0445, 0.0073)\n",
       "Site: C (1.2227, -0.7649, 0.0032)\n",
       "Site: N (1.2304, -2.0620, 0.0100)\n",
       "Site: N (0.0409, -2.6663, 0.0216)\n",
       "Site: N (-1.1681, -2.0892, 0.0272)\n",
       "Site: C (-1.1903, -0.7936, 0.0205)\n",
       "Site: H (0.8384, 1.7557, -0.0079)\n",
       "Site: H (2.1979, -0.2844, -0.0065)\n",
       "Site: H (0.0527, -3.6722, 0.0267)\n",
       "Site: H (-2.1670, -0.3209, 0.0249)"
      ]
     },
     "execution_count": 35,
     "metadata": {},
     "output_type": "execute_result"
    }
   ],
   "source": [
    "# all_pts_bucket[3832][0]['geometries'][0]\n",
    "atoms = ase.atoms.Atoms(symbols=all_pts_bucket[3832][0]['species'],\n",
    "                        positions=all_pts_bucket[3832][0]['geometries'][0]\n",
    ")\n",
    "mol2 = AseAtomsAdaptor.get_molecule(atoms)\n",
    "graph = MoleculeGraph.with_local_env_strategy(mol2, CovalentBondNN())\n",
    "mol2"
   ]
  },
  {
   "cell_type": "code",
   "execution_count": 26,
   "id": "ebf96a79-2e8d-4102-ada3-289941f1ebd6",
   "metadata": {
    "tags": []
   },
   "outputs": [
    {
     "data": {
      "text/plain": [
       "True"
      ]
     },
     "execution_count": 26,
     "metadata": {},
     "output_type": "execute_result"
    }
   ],
   "source": [
    "graph\n",
    "nx.is_connected(graph.graph.to_undirected())"
   ]
  },
  {
   "cell_type": "code",
   "execution_count": 20,
   "id": "6e36e205-2eb5-4c45-90b6-87be037cc88c",
   "metadata": {
    "tags": []
   },
   "outputs": [],
   "source": [
    "# all_pts_bucket.keys()\n",
    "# 3832, 4139, 908, 2715\n",
    "# [x for x in all_pts_bucket[3832] if x['spin']==3]\n"
   ]
  },
  {
   "cell_type": "code",
   "execution_count": 16,
   "id": "ce26d9de-13b8-40b7-8c53-37a2c6480db7",
   "metadata": {
    "tags": []
   },
   "outputs": [],
   "source": [
    "sample_3832 = [x for x in all_pts_bucket[3832] if x['charge_spin']=='0,3'][0]\n",
    "sample_4083 = [x for x in all_pts_bucket[4083] if x['charge_spin']=='0,3'][0]\n",
    "sample_908 = [x for x in all_pts_bucket[908] if x['charge_spin']=='0,3'][0]\n",
    "sample_2715 = [x for x in all_pts_bucket[2715] if x['charge_spin']=='0,3'][0]\n",
    "sample_52232 = [x for x in all_pts_bucket[52232] if x['charge_spin']=='0,3'][0]"
   ]
  },
  {
   "cell_type": "code",
   "execution_count": 61,
   "id": "dbf00f6e-e9e6-4031-9f31-09e5522eb803",
   "metadata": {
    "tags": []
   },
   "outputs": [
    {
     "data": {
      "text/plain": [
       "37"
      ]
     },
     "execution_count": 61,
     "metadata": {},
     "output_type": "execute_result"
    }
   ],
   "source": [
    "len(sample['gradients'])"
   ]
  },
  {
   "cell_type": "code",
   "execution_count": 18,
   "id": "0d3def02-866b-42b1-ad19-fdcfd5c327cd",
   "metadata": {
    "tags": []
   },
   "outputs": [],
   "source": [
    "traj_3832=average_force_trajectory(sample_3832)\n",
    "traj_4083=average_force_trajectory(sample_4083)\n",
    "traj_908=average_force_trajectory(sample_908)\n",
    "traj_2715=average_force_trajectory(sample_2715)\n",
    "traj_52232=average_force_trajectory(sample_52232)"
   ]
  },
  {
   "cell_type": "code",
   "execution_count": 24,
   "id": "4f5bcf9f-7ebc-4788-9001-889d6e378bdc",
   "metadata": {
    "tags": []
   },
   "outputs": [
    {
     "data": {
      "text/plain": [
       "Text(0.5, 0.98, \"Force and Energy vs Optimization Step (Mol_id:3832, Charge_Spin: '0,3')\")"
      ]
     },
     "execution_count": 24,
     "metadata": {},
     "output_type": "execute_result"
    },
    {
     "data": {
      "image/png": "[encoded data removed]",
      "text/plain": [
       "<Figure size 800x800 with 2 Axes>"
      ]
     },
     "metadata": {},
     "output_type": "display_data"
    }
   ],
   "source": [
    "force_color = \"#69b3a2\"\n",
    "energy_color = \"#3399e6\"\n",
    "\n",
    "fig, ax1 = plt.subplots(figsize=(8, 8))\n",
    "ax1.set_xlabel(\"Optimization Step\")\n",
    "\n",
    "\n",
    "ax2 = ax1.twinx()\n",
    "ax1.plot(range(len(traj_3832)), traj_3832, 'o', color=force_color)\n",
    "ax1.set_ylabel(\"Force ev/A\", color=force_color, fontsize=14)\n",
    "\n",
    "ax2.plot(range(len(traj_3832)), sample_3832['energies'], 'o', color=energy_color)\n",
    "ax2.set_ylabel(\"Energy\", color=energy_color, fontsize=14)\n",
    "fig.suptitle(\"Force and Energy vs Optimization Step (Mol_id:3832, Charge_Spin: '0,3')\", fontsize=15)\n"
   ]
  },
  {
   "cell_type": "code",
   "execution_count": 25,
   "id": "38eb02a5-d98f-4b94-8abc-371e1a6c10de",
   "metadata": {
    "tags": []
   },
   "outputs": [
    {
     "data": {
      "text/plain": [
       "Text(0.5, 0.98, \"Force and Energy vs Optimization Step (Mol_id:908, Charge_Spin: '0,3')\")"
      ]
     },
     "execution_count": 25,
     "metadata": {},
     "output_type": "execute_result"
    },
    {
     "data": {
      "image/png": "[encoded data removed]",
      "text/plain": [
       "<Figure size 800x800 with 2 Axes>"
      ]
     },
     "metadata": {},
     "output_type": "display_data"
    }
   ],
   "source": [
    "force_color = \"#69b3a2\"\n",
    "energy_color = \"#3399e6\"\n",
    "\n",
    "fig, ax1 = plt.subplots(figsize=(8, 8))\n",
    "ax1.set_xlabel(\"Optimization Step\")\n",
    "\n",
    "\n",
    "ax2 = ax1.twinx()\n",
    "ax1.plot(range(len(traj_908)), traj_908, 'o', color=force_color)\n",
    "ax1.set_ylabel(\"Force ev/A\", color=force_color, fontsize=14)\n",
    "\n",
    "ax2.plot(range(len(traj_908)), sample_908['energies'], 'o', color=energy_color)\n",
    "ax2.set_ylabel(\"Energy\", color=energy_color, fontsize=14)\n",
    "fig.suptitle(\"Force and Energy vs Optimization Step (Mol_id:908, Charge_Spin: '0,3')\", fontsize=15)\n"
   ]
  },
  {
   "cell_type": "code",
   "execution_count": 26,
   "id": "a12c5112-f83e-4754-85bd-f03f59759342",
   "metadata": {
    "tags": []
   },
   "outputs": [
    {
     "data": {
      "text/plain": [
       "Text(0.5, 0.98, \"Force and Energy vs Optimization Step (Mol_id:4083, Charge_Spin: '0,3')\")"
      ]
     },
     "execution_count": 26,
     "metadata": {},
     "output_type": "execute_result"
    },
    {
     "data": {
      "image/png": "[encoded data removed]",
      "text/plain": [
       "<Figure size 800x800 with 2 Axes>"
      ]
     },
     "metadata": {},
     "output_type": "display_data"
    }
   ],
   "source": [
    "force_color = \"#69b3a2\"\n",
    "energy_color = \"#3399e6\"\n",
    "\n",
    "fig, ax1 = plt.subplots(figsize=(8, 8))\n",
    "ax1.set_xlabel(\"Optimization Step\")\n",
    "\n",
    "\n",
    "ax2 = ax1.twinx()\n",
    "ax1.plot(range(len(traj_4083)), traj_4083, 'o', color=force_color)\n",
    "ax1.set_ylabel(\"Force ev/A\", color=force_color, fontsize=14)\n",
    "\n",
    "ax2.plot(range(len(traj_4083)), sample_4083['energies'], 'o', color=energy_color)\n",
    "ax2.set_ylabel(\"Energy\", color=energy_color, fontsize=14)\n",
    "fig.suptitle(\"Force and Energy vs Optimization Step (Mol_id:4083, Charge_Spin: '0,3')\", fontsize=15)\n"
   ]
  },
  {
   "cell_type": "code",
   "execution_count": 27,
   "id": "67a19275-d9f6-4ae6-bb32-0d522273d1fa",
   "metadata": {
    "tags": []
   },
   "outputs": [
    {
     "data": {
      "text/plain": [
       "Text(0.5, 0.98, \"Force and Energy vs Optimization Step (Mol_id:2715, Charge_Spin: '0,3')\")"
      ]
     },
     "execution_count": 27,
     "metadata": {},
     "output_type": "execute_result"
    },
    {
     "data": {
      "image/png": "[encoded data removed]",
      "text/plain": [
       "<Figure size 800x800 with 2 Axes>"
      ]
     },
     "metadata": {},
     "output_type": "display_data"
    }
   ],
   "source": [
    "force_color = \"#69b3a2\"\n",
    "energy_color = \"#3399e6\"\n",
    "\n",
    "fig, ax1 = plt.subplots(figsize=(8, 8))\n",
    "ax1.set_xlabel(\"Optimization Step\")\n",
    "\n",
    "\n",
    "ax2 = ax1.twinx()\n",
    "ax1.plot(range(len(traj_2715)), traj_2715, 'o', color=force_color)\n",
    "ax1.set_ylabel(\"Force ev/A\", color=force_color, fontsize=14)\n",
    "\n",
    "ax2.plot(range(len(traj_2715)), sample_2715['energies'], 'o', color=energy_color)\n",
    "ax2.set_ylabel(\"Energy\", color=energy_color, fontsize=14)\n",
    "fig.suptitle(\"Force and Energy vs Optimization Step (Mol_id:2715, Charge_Spin: '0,3')\", fontsize=15)\n"
   ]
  },
  {
   "cell_type": "code",
   "execution_count": 28,
   "id": "699ed5d5-1bc0-4053-b14d-0c09c179af41",
   "metadata": {
    "tags": []
   },
   "outputs": [
    {
     "data": {
      "text/plain": [
       "Text(0.5, 0.98, \"Force and Energy vs Optimization Step (Mol_id:52232, Charge_Spin: '0,3')\")"
      ]
     },
     "execution_count": 28,
     "metadata": {},
     "output_type": "execute_result"
    },
    {
     "data": {
      "image/png": "[encoded data removed]",
      "text/plain": [
       "<Figure size 800x800 with 2 Axes>"
      ]
     },
     "metadata": {},
     "output_type": "display_data"
    }
   ],
   "source": [
    "force_color = \"#69b3a2\"\n",
    "energy_color = \"#3399e6\"\n",
    "\n",
    "fig, ax1 = plt.subplots(figsize=(8, 8))\n",
    "ax1.set_xlabel(\"Optimization Step\")\n",
    "\n",
    "\n",
    "ax2 = ax1.twinx()\n",
    "ax1.plot(range(len(traj_52232)), traj_52232, 'o', color=force_color)\n",
    "ax1.set_ylabel(\"Force ev/A\", color=force_color, fontsize=14)\n",
    "\n",
    "ax2.plot(range(len(traj_52232)), sample_52232['energies'], 'o', color=energy_color)\n",
    "ax2.set_ylabel(\"Energy\", color=energy_color, fontsize=14)\n",
    "fig.suptitle(\"Force and Energy vs Optimization Step (Mol_id:52232, Charge_Spin: '0,3')\", fontsize=15)\n"
   ]
  },
  {
   "cell_type": "code",
   "execution_count": 36,
   "id": "a1007eb5-cbee-43b3-8622-1ef0d89c742d",
   "metadata": {
    "tags": []
   },
   "outputs": [],
   "source": [
    "# bb[3892]"
   ]
  },
  {
   "cell_type": "code",
   "execution_count": null,
   "id": "ca471e50-b1e0-4d51-a6b1-d4ac6a1a602d",
   "metadata": {},
   "outputs": [],
   "source": []
  }
 ],
 "metadata": {
  "kernelspec": {
   "display_name": "NERSC Python",
   "language": "python",
   "name": "python3"
  },
  "language_info": {
   "codemirror_mode": {
    "name": "ipython",
    "version": 3
   },
   "file_extension": ".py",
   "mimetype": "text/x-python",
   "name": "python",
   "nbconvert_exporter": "python",
   "pygments_lexer": "ipython3",
   "version": "3.11.6"
  }
 },
 "nbformat": 4,
 "nbformat_minor": 5
}
