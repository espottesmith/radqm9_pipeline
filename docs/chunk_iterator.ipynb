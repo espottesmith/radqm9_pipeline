{
 "cells": [
  {
   "cell_type": "code",
   "execution_count": 2,
   "id": "d90e1119-8c49-4a19-8235-8ce62c1669fe",
   "metadata": {
    "tags": []
   },
   "outputs": [],
   "source": [
    "from tqdm import tqdm \n",
    "import ase.io"
   ]
  },
  {
   "cell_type": "code",
   "execution_count": 3,
   "id": "5f37890b-2112-40f0-b353-cd532145a157",
   "metadata": {
    "tags": []
   },
   "outputs": [],
   "source": [
    "def data_chunk_iterator(path: str,\n",
    "                        cutoff: int) ->list:\n",
    "    \"\"\"\n",
    "    file_path: Path to the xyz file\n",
    "    cutoff: the percentage of the data desired\n",
    "    \n",
    "    Returns: list of ASE atoms\n",
    "    \"\"\"\n",
    "    \n",
    "    if not isinstance(cutoff, int):\n",
    "        msg = \"The cutoff value must be an int\"\n",
    "        raise ValueError(msg)\n",
    "    \n",
    "    atoms_list = ase.io.read(path, index=\":\")\n",
    "    \n",
    "    data_chunk = []\n",
    "    for atom in tqdm(atoms_list):\n",
    "        if atom.info[\"chunk\"] <= cutoff:\n",
    "            data_chunk.append(atom)\n",
    "    \n",
    "    return data_chunk"
   ]
  },
  {
   "cell_type": "code",
   "execution_count": 8,
   "id": "b9ce6104-41c8-4c48-8e9b-d88523fb4750",
   "metadata": {
    "tags": []
   },
   "outputs": [
    {
     "name": "stderr",
     "output_type": "stream",
     "text": [
      "100%|██████████| 918846/918846 [00:00<00:00, 2605947.05it/s]"
     ]
    },
    {
     "name": "stdout",
     "output_type": "stream",
     "text": [
      "224.3806507587433\n"
     ]
    },
    {
     "name": "stderr",
     "output_type": "stream",
     "text": [
      "\n"
     ]
    }
   ],
   "source": [
    "import time\n",
    "start = time.time()\n",
    "ch=data_chunk_iterator('/pscratch/sd/m/mavaylon/sam_ldrd/rad_qm9_60_20_20/rad_qm9_60_20_20_train.xyz', 1)\n",
    "end = time.time()\n",
    "print(end-start)"
   ]
  },
  {
   "cell_type": "code",
   "execution_count": 5,
   "id": "ac4c1994-58e5-491a-b64a-d9f23e249f85",
   "metadata": {
    "tags": []
   },
   "outputs": [],
   "source": [
    "atoms_list = ase.io.read('/pscratch/sd/m/mavaylon/sam_ldrd/rad_qm9_60_20_20/rad_qm9_60_20_20_train.xyz', index=\":\")"
   ]
  },
  {
   "cell_type": "code",
   "execution_count": 7,
   "id": "258d5966-ebfb-4f77-8203-e8c08916d327",
   "metadata": {
    "tags": []
   },
   "outputs": [
    {
     "data": {
      "text/plain": [
       "{'energy': -335.3105221595, 'charge': 0, 'spin': 1, 'position_type': 'start'}"
      ]
     },
     "execution_count": 7,
     "metadata": {},
     "output_type": "execute_result"
    }
   ],
   "source": [
    "atoms_list[0].info"
   ]
  },
  {
   "cell_type": "code",
   "execution_count": null,
   "id": "92071056-cc97-4b53-b59b-03e385d7fafe",
   "metadata": {},
   "outputs": [],
   "source": []
  }
 ],
 "metadata": {
  "kernelspec": {
   "display_name": "NERSC Python",
   "language": "python",
   "name": "python3"
  },
  "language_info": {
   "codemirror_mode": {
    "name": "ipython",
    "version": 3
   },
   "file_extension": ".py",
   "mimetype": "text/x-python",
   "name": "python",
   "nbconvert_exporter": "python",
   "pygments_lexer": "ipython3",
   "version": "3.11.6"
  }
 },
 "nbformat": 4,
 "nbformat_minor": 5
}
