{
 "cells": [
  {
   "cell_type": "code",
   "execution_count": null,
   "id": "83504de3-d765-4436-8d94-88028b539712",
   "metadata": {},
   "outputs": [],
   "source": [
    "import ase\n",
    "import networkx as nx\n",
    "import os\n",
    "from monty.serialization import loadfn\n",
    "from glob import glob\n",
    "import time\n",
    "from tqdm import tqdm\n",
    "import collections\n",
    "import numpy as np\n",
    "import matplotlib.pyplot as plt\n",
    "import ast\n",
    "import h5py\n",
    "import itertools\n",
    "\n",
    "\n",
    "from pymatgen.io.ase import AseAtomsAdaptor\n",
    "from pymatgen.analysis.graphs import MoleculeGraph\n",
    "from pymatgen.analysis.local_env import OpenBabelNN, CovalentBondNN\n",
    "from pymatgen.util.graph_hashing import weisfeiler_lehman_graph_hash\n",
    "\n",
    "from radqm9_pipeline.elements import read_elements\n",
    "from radqm9_pipeline.modules import merge_data"
   ]
  },
  {
   "cell_type": "markdown",
   "id": "f1962ab9-ab2a-4f76-8e29-a6d6444e45f4",
   "metadata": {},
   "source": [
    "# Read Data"
   ]
  },
  {
   "cell_type": "code",
   "execution_count": 1,
   "id": "596f003f-1d30-4b0c-a355-97a9c9d6bafd",
   "metadata": {
    "tags": []
   },
   "outputs": [
    {
     "data": {
      "text/plain": [
       "Ellipsis"
      ]
     },
     "execution_count": 1,
     "metadata": {},
     "output_type": "execute_result"
    }
   ],
   "source": [
    "data = ..."
   ]
  },
  {
   "cell_type": "code",
   "execution_count": null,
   "id": "6d273d5e-6bc1-4f07-90bd-8d81431d6402",
   "metadata": {},
   "outputs": [],
   "source": [
    "elements_dict = read_elements('/pscratch/sd/m/mavaylon/sam_ldrd/radqm9_pipeline/src/radqm9_pipeline/modules/elements.pkl')"
   ]
  },
  {
   "cell_type": "markdown",
   "id": "471124f7-8e8e-4bfc-8106-c242cc8eb434",
   "metadata": {},
   "source": [
    "# Process"
   ]
  },
  {
   "cell_type": "code",
   "execution_count": null,
   "id": "644f389c-b540-4363-bd6a-9b7e6db61bdf",
   "metadata": {},
   "outputs": [],
   "source": [
    "def charge_spin_tag(data: list):\n",
    "    for item in tqdm(data):\n",
    "        item['charge_spin'] = str(item['charge'])+'_'+str(item['spin'])"
   ]
  },
  {
   "cell_type": "code",
   "execution_count": null,
   "id": "1a57a660-b93e-4953-90ba-e85c129ba67e",
   "metadata": {},
   "outputs": [],
   "source": [
    "charge_spin_tag(merged_data)"
   ]
  },
  {
   "cell_type": "code",
   "execution_count": null,
   "id": "06db0840-01c2-49b4-b4b8-4ca857038145",
   "metadata": {},
   "outputs": [],
   "source": [
    "def solvent_convert(data:list):\n",
    "    unresolved = []\n",
    "    for item in tqdm(data):\n",
    "        solv  = item['solvent']\n",
    "        if solv == 'NONE':\n",
    "            item['solvent'] = 'vacuum'\n",
    "        elif solv == 'SOLVENT=WATER':\n",
    "            item['solvent'] = 'SMD'\n",
    "        else:\n",
    "            unresolved.append(item)\n",
    "    return unresolved"
   ]
  },
  {
   "cell_type": "code",
   "execution_count": null,
   "id": "4ad620a4-6474-4ba8-bce4-f1843d08feef",
   "metadata": {},
   "outputs": [],
   "source": [
    "solvent_convert(merged_data)"
   ]
  },
  {
   "cell_type": "code",
   "execution_count": null,
   "id": "1da1fbc1-d1a5-4393-876a-f7510bdbd4fc",
   "metadata": {},
   "outputs": [],
   "source": [
    "def type_tagger(data: list):\n",
    "    for item in tqdm(data):\n",
    "        if item['charge_spin'] == item['optimized_parent_charge_spin']:\n",
    "            item['sp_config_type'] = 'optimized'\n",
    "        else:\n",
    "            item['sp_config_type'] = 'vertical'"
   ]
  },
  {
   "cell_type": "code",
   "execution_count": null,
   "id": "962bce8c-c8c4-47b1-8163-49c72aae4176",
   "metadata": {},
   "outputs": [],
   "source": [
    "type_tagger(merged_data)\n"
   ]
  },
  {
   "cell_type": "code",
   "execution_count": null,
   "id": "fcff16e3-3232-4842-9b71-267606e3b49e",
   "metadata": {},
   "outputs": [],
   "source": [
    "def resolve_parent_charge_spin(data: list):\n",
    "    for item in tqdm(data):\n",
    "        item['optimized_parent_charge_spin']= item['optimized_parent_charge_spin'].split('_')"
   ]
  },
  {
   "cell_type": "code",
   "execution_count": null,
   "id": "5a8c53c7-362c-4ecc-a34d-4bd95b9d6bc9",
   "metadata": {},
   "outputs": [],
   "source": [
    "resolve_parent_charge_spin(merged_data)"
   ]
  },
  {
   "cell_type": "code",
   "execution_count": null,
   "id": "860697f5-da2b-4505-85ab-2a9807030f94",
   "metadata": {},
   "outputs": [],
   "source": [
    "bucket_mol_id2={}\n",
    "for data in tqdm(merged_data):\n",
    "    try:\n",
    "        bucket_mol_id2[data['mol_id']].append(data)\n",
    "    except KeyError:\n",
    "        bucket_mol_id2[data['mol_id']] = [data]"
   ]
  },
  {
   "cell_type": "code",
   "execution_count": null,
   "id": "b92770b3-996b-4466-8fbb-b78258cbf286",
   "metadata": {},
   "outputs": [],
   "source": [
    "mol_id_present_config = {}\n",
    "for data in tqdm(merged_data):\n",
    "    opt_parent = data['optimized_parent_charge_spin'][0]+data['optimized_parent_charge_spin'][1]\n",
    "    try:\n",
    "        data['mol_id']\n",
    "        mol_id_present_config[data['mol_id']].append(data['charge_spin']+'_'+data['sp_config_type']+'_'+opt_parent+'_'+data['solvent'])\n",
    "    except KeyError:\n",
    "        mol_id_present_config[data['mol_id']] = [data['charge_spin']+'_'+data['sp_config_type']+'_'+opt_parent+'_'+data['solvent']]"
   ]
  },
  {
   "cell_type": "code",
   "execution_count": null,
   "id": "380b6bf7-049a-4298-ab9f-6ec0d73f7bb5",
   "metadata": {},
   "outputs": [],
   "source": [
    "def resolve_duplicate_data(data: list):\n",
    "    filtered_data = []\n",
    "    \n",
    "    bucket_mol_id={}\n",
    "    for item in tqdm(data):\n",
    "        try:\n",
    "            bucket_mol_id[item['mol_id']].append(item)\n",
    "        except KeyError:\n",
    "            bucket_mol_id[item['mol_id']] = [item]\n",
    "    \n",
    "    mol_id_present_config = {}\n",
    "    for item in tqdm(data):\n",
    "        opt_parent = item['optimized_parent_charge_spin'][0]+item['optimized_parent_charge_spin'][1]\n",
    "\n",
    "        item['dup_identifier'] = item['charge_spin']+'_'+item['sp_config_type']+'_'+opt_parent+'_'+item['solvent']\n",
    "        try:\n",
    "            mol_id_present_config[item['mol_id']].append(item['charge_spin']+'_'+item['sp_config_type']+'_'+opt_parent+'_'+item['solvent'])\n",
    "        except KeyError:\n",
    "            mol_id_present_config[item['mol_id']] = [item['charge_spin']+'_'+item['sp_config_type']+'_'+opt_parent+'_'+item['solvent']]\n",
    "    \n",
    "    # get unique set of configs for each key in mol_id_present_config to use as keys to sample from bucket_mol_id\n",
    "    for mol_id in tqdm(bucket_mol_id):\n",
    "        pool = list(set(mol_id_present_config[mol_id]))\n",
    "        for item in pool:\n",
    "            for point in bucket_mol_id[mol_id]:\n",
    "                if point['dup_identifier'] == item:\n",
    "                    filtered_data.append(point)\n",
    "                    break\n",
    "                \n",
    "                \n",
    "                \n",
    "    return filtered_data"
   ]
  },
  {
   "cell_type": "code",
   "execution_count": null,
   "id": "7a1e1190-a505-47be-bdb3-fb0e7cfb03ad",
   "metadata": {},
   "outputs": [],
   "source": [
    "filtered_data = resolve_duplicate_data(merged_data)"
   ]
  },
  {
   "cell_type": "markdown",
   "id": "a0a26eda-d433-4960-87e9-04e4c0e8829d",
   "metadata": {},
   "source": [
    "# Split to SMD and VAC"
   ]
  },
  {
   "cell_type": "code",
   "execution_count": null,
   "id": "2439c35a-8e62-4988-afd7-5983ff21512d",
   "metadata": {},
   "outputs": [],
   "source": [
    "read_removed_graph_h5=..."
   ]
  },
  {
   "cell_type": "code",
   "execution_count": null,
   "id": "4fa9d6ab-b6d8-4051-a6fe-bdf0183e1e40",
   "metadata": {},
   "outputs": [],
   "source": [
    "vacuum_data = []\n",
    "smd_data = []\n",
    "solvents = []\n",
    "for item in read_removed_graph_h5:\n",
    "    solv = item['solvent']\n",
    "    solvents.append(solv)\n",
    "    if solv == 'vacuum':\n",
    "        vacuum_data.append(item)\n",
    "    elif solv == 'SMD':\n",
    "        smd_data.append(item)"
   ]
  },
  {
   "cell_type": "code",
   "execution_count": null,
   "id": "4e9c76c9-d902-4b71-bdfd-c4633e973404",
   "metadata": {},
   "outputs": [],
   "source": []
  },
  {
   "cell_type": "markdown",
   "id": "74ebf34a-4fe0-4118-b788-313bb7a51a56",
   "metadata": {},
   "source": [
    "# Split Data"
   ]
  },
  {
   "cell_type": "code",
   "execution_count": null,
   "id": "01d46519-bc95-4d70-92dd-20a2010ecf4e",
   "metadata": {},
   "outputs": [],
   "source": [
    "def get_molecule_weight(data: list):\n",
    "    dict_dist = {}\n",
    "    data_dict = {}\n",
    "    for item in tqdm(data):\n",
    "        species_num = []\n",
    "        species=''.join((sorted(item['species'])))\n",
    "        \n",
    "        for element in item['species']:\n",
    "            species_num.append(elements_dict[element])\n",
    "\n",
    "        species_sum = sum(species_num)\n",
    "        try:\n",
    "            dict_dist[species].append(species_sum)\n",
    "            # python does a weird thing floats e.g., {126.15499999999993, 126.15499999999994}\n",
    "            dict_dist[species] = [dict_dist[species][0]]*len(dict_dist[species])\n",
    "        except KeyError:\n",
    "            dict_dist[species] = [species_sum]\n",
    "        \n",
    "    return dict_dist\n",
    "\n",
    "def molecule_weight(data: list, weight_dict):\n",
    "    for item in tqdm(data):\n",
    "        weight = weight_dict[''.join((sorted(item['species'])))][0]\n",
    "        item['molecule_mass'] = weight\n",
    "        \n",
    "def get_molecule_weight_ase(data: list):\n",
    "    dict_dist = {}\n",
    "    data_dict = {}\n",
    "    for item in tqdm(data):\n",
    "        species_num = []\n",
    "        species=''.join((sorted(item.get_chemical_symbols())))\n",
    "        \n",
    "        for element in item.get_chemical_symbols():\n",
    "            species_num.append(elements_dict[element])\n",
    "\n",
    "        species_sum = sum(species_num)\n",
    "        try:\n",
    "            dict_dist[species].append(species_sum)\n",
    "            # python does a weird thing floats e.g., {126.15499999999993, 126.15499999999994}\n",
    "            dict_dist[species] = [dict_dist[species][0]]*len(dict_dist[species])\n",
    "        except KeyError:\n",
    "            dict_dist[species] = [species_sum]\n",
    "        \n",
    "    return dict_dist\n",
    "\n",
    "def molecule_weight_ase(data: list, weight_dict):\n",
    "    for item in tqdm(data):\n",
    "        species=''.join((sorted(item.get_chemical_symbols())))\n",
    "        weight = weight_dict[species][0]\n",
    "        item.info['weight'] = weight\n",
    "        \n",
    "def weight_to_data_ase(data: list):\n",
    "    dict_data = {}\n",
    "    for item in tqdm(data):\n",
    "        try:\n",
    "            dict_data[item.info['weight']].append(item)\n",
    "        except KeyError:\n",
    "            dict_data[item.info['weight']] = [item]\n",
    "    return dict_data"
   ]
  },
  {
   "cell_type": "markdown",
   "id": "83e7d63e-c8b1-4fad-8a78-b7b40092795f",
   "metadata": {},
   "source": [
    "#### Vac"
   ]
  },
  {
   "cell_type": "code",
   "execution_count": null,
   "id": "6a0e2c98-1256-4b00-b1b5-336c366d5811",
   "metadata": {},
   "outputs": [],
   "source": [
    "merged_dist = get_molecule_weight(vacuum_data)\n",
    "molecule_weight(vacuum_data, merged_dist)"
   ]
  },
  {
   "cell_type": "code",
   "execution_count": null,
   "id": "29ebae8d-fb7e-445c-bbc4-abc7a7aeb839",
   "metadata": {},
   "outputs": [],
   "source": [
    "wtd = weight_to_data(vacuum_data)"
   ]
  },
  {
   "cell_type": "code",
   "execution_count": null,
   "id": "06aa4c57-b8ec-45f5-80f2-2a4a3edfdaac",
   "metadata": {},
   "outputs": [],
   "source": [
    "length_dict = {key: len(value) for key, value in wtd.items()}\n",
    "sorted_length_dict = {k: length_dict[k] for k in sorted(length_dict, reverse=True)}\n"
   ]
  },
  {
   "cell_type": "code",
   "execution_count": null,
   "id": "54420233-af74-43e5-8851-1dd3d1074d35",
   "metadata": {},
   "outputs": [],
   "source": [
    "vac_train_mass = [152.037]\n",
    "vac_test_mass = [144.09200000000007]\n",
    "vac_val_mass = [143.1080000000001]\n",
    "\n",
    "vac_train = sorted_length_dict[152.037] # trackers for dataset sizes\n",
    "vac_test = sorted_length_dict[144.09200000000007]\n",
    "vac_val = sorted_length_dict[143.1080000000001]\n",
    "\n",
    "sorted_length_dict.pop(152.037)\n",
    "sorted_length_dict.pop(144.09200000000007)\n",
    "sorted_length_dict.pop(143.1080000000001)\n",
    "\n",
    "\n",
    "# data is a dict: mass-># of trajs\n",
    "for mass in sorted_length_dict:\n",
    "    temp_total = vac_train+vac_val+vac_test\n",
    "    train_ratio = .65-(vac_train/temp_total)\n",
    "    test_ratio = .25-(vac_test/temp_total)\n",
    "    val_ratio = .1-(vac_val/temp_total)\n",
    "    \n",
    "    if train_ratio > val_ratio and train_ratio>test_ratio:\n",
    "        vac_train_mass.append(mass)\n",
    "        vac_train += sorted_length_dict[mass]\n",
    "    if val_ratio > train_ratio and val_ratio>test_ratio:\n",
    "        vac_val_mass.append(mass)\n",
    "        vac_val += sorted_length_dict[mass]\n",
    "    if test_ratio > val_ratio and test_ratio>train_ratio:\n",
    "        vac_test_mass.append(mass)\n",
    "        vac_test += sorted_length_dict[mass]"
   ]
  },
  {
   "cell_type": "code",
   "execution_count": null,
   "id": "9086a9d5-ae92-42bd-95c9-c7d7ac372317",
   "metadata": {},
   "outputs": [],
   "source": [
    "vac_train/(vac_train+vac_val+vac_test)"
   ]
  },
  {
   "cell_type": "code",
   "execution_count": null,
   "id": "ef578f71-b9e8-4823-ab4d-742a2cc12ef2",
   "metadata": {},
   "outputs": [],
   "source": [
    "sorted_length_dict = {k: length_dict[k] for k in sorted(length_dict, reverse=True)}"
   ]
  },
  {
   "cell_type": "code",
   "execution_count": null,
   "id": "3371cae7-9699-4e3e-a369-c7454ec42444",
   "metadata": {},
   "outputs": [],
   "source": [
    "vac_train_subset={key: sorted_length_dict[key] for key in vac_train_mass if key in sorted_length_dict}\n",
    "vac_test_subset={key: sorted_length_dict[key] for key in vac_test_mass if key in sorted_length_dict}\n",
    "vac_val_subset={key: sorted_length_dict[key] for key in vac_val_mass if key in sorted_length_dict}\n",
    "\n",
    "vac_train_foo=[[x]*vac_train_subset[x] for x in vac_train_subset]\n",
    "vac_test_foo=[[x]*vac_test_subset[x] for x in vac_test_subset]\n",
    "vac_val_foo=[[x]*vac_val_subset[x] for x in vac_val_subset]\n",
    "\n",
    "from itertools import chain\n",
    "\n",
    "vac_train_subset_merged = list(chain.from_iterable(vac_train_foo))\n",
    "vac_test_subset_merged = list(chain.from_iterable(vac_test_foo))\n",
    "vac_val_subset_merged = list(chain.from_iterable(vac_val_foo))\n"
   ]
  },
  {
   "cell_type": "code",
   "execution_count": 2,
   "id": "1094ce0d-5e2a-4860-8e3f-b589bd4acd34",
   "metadata": {
    "tags": []
   },
   "outputs": [],
   "source": [
    "##### Do manual switches if needed#######"
   ]
  },
  {
   "cell_type": "code",
   "execution_count": null,
   "id": "95b3afbd-5578-4b22-882b-ec1b76a33460",
   "metadata": {},
   "outputs": [],
   "source": [
    "plt.hist(vac_train_subset_merged, bins=50)\n",
    "plt.ylabel('Frequency (log)')\n",
    "plt.yscale('log')\n",
    "plt.xlabel('Molecule Mass')\n",
    "plt.title('Train')"
   ]
  },
  {
   "cell_type": "code",
   "execution_count": null,
   "id": "3a365484-eab8-4de3-ba26-312088056567",
   "metadata": {},
   "outputs": [],
   "source": [
    "plt.hist(vac_test_subset_merged, bins=50)\n",
    "plt.ylabel('Frequency (log)')\n",
    "plt.yscale('log')\n",
    "plt.xlabel('Molecule Mass')\n",
    "plt.title('Test')"
   ]
  },
  {
   "cell_type": "code",
   "execution_count": null,
   "id": "47aa9d92-21a6-437a-a443-515be4d582fb",
   "metadata": {},
   "outputs": [],
   "source": [
    "plt.hist(vac_val_subset_merged, bins=50)\n",
    "plt.ylabel('Frequency (log)')\n",
    "plt.yscale('log')\n",
    "plt.xlabel('Molecule Mass')\n",
    "plt.title('Val')"
   ]
  },
  {
   "cell_type": "code",
   "execution_count": null,
   "id": "7dfef9b5-5cac-4e48-9197-0460e5a11c73",
   "metadata": {},
   "outputs": [],
   "source": [
    "vac_switch=[ 117.039,\n",
    "116.20399999999991,\n",
    "116.15999999999993,\n",
    "115.09599999999999,\n",
    "115.095,\n",
    "112.054,\n",
    "112.05,\n",
    "111.14799999999995,\n",
    " 102.08899999999997,\n",
    "101.06499999999997,\n",
    "101.06099999999998,\n",
    "100.20499999999991,\n",
    " 99.053,\n",
    "99.04899999999999,\n",
    "98.18899999999992,\n",
    " 95.02300000000001,\n",
    "94.11699999999996,\n",
    "85.10599999999997,\n",
    "84.07799999999997,\n",
    "83.046,]"
   ]
  },
  {
   "cell_type": "code",
   "execution_count": null,
   "id": "67ec7aff-d4a4-45f7-85fd-e02b565f1be7",
   "metadata": {},
   "outputs": [],
   "source": [
    "for mass in vac_switch:\n",
    "    vac_val_mass.append(mass)\n",
    "    vac_val += sorted_length_dict[mass]\n",
    "    \n",
    "    vac_test_mass.remove(mass)\n",
    "    vac_test -= sorted_length_dict[mass]"
   ]
  },
  {
   "cell_type": "code",
   "execution_count": null,
   "id": "4e473a09-51d8-41d7-8814-12036b29b668",
   "metadata": {},
   "outputs": [],
   "source": [
    "vac_train_data = [wtd[x] for x in vac_train_mass]\n",
    "vac_train_data = list(chain.from_iterable(vac_train_data))\n",
    "\n",
    "vac_val_data = [wtd[x] for x in vac_val_mass]\n",
    "vac_val_data = list(chain.from_iterable(vac_val_data))\n",
    "\n",
    "vac_test_data = [wtd[x] for x in vac_test_mass]\n",
    "vac_test_data = list(chain.from_iterable(vac_test_data))\n"
   ]
  },
  {
   "cell_type": "code",
   "execution_count": null,
   "id": "177832e9-f8a2-491f-b521-b13d6786bce9",
   "metadata": {},
   "outputs": [],
   "source": [
    "vac_data = {'train':vac_train_data,\n",
    "        'val': vac_val_data,\n",
    "        'test': vac_test_data}"
   ]
  },
  {
   "cell_type": "markdown",
   "id": "1604d232-4218-4bb3-9c20-d8df3a4f9474",
   "metadata": {},
   "source": [
    "#### Vac singlet"
   ]
  },
  {
   "cell_type": "code",
   "execution_count": null,
   "id": "79f2cdcd-dbd4-4d86-9649-425ab842fb3a",
   "metadata": {},
   "outputs": [],
   "source": [
    "vac_train_data_singlet = []\n",
    "for item in vac_train_data:\n",
    "    if item['spin']==1:\n",
    "        vac_train_data_singlet.append(item)"
   ]
  },
  {
   "cell_type": "code",
   "execution_count": null,
   "id": "044360c6-d811-4b2c-b783-da460def9609",
   "metadata": {},
   "outputs": [],
   "source": [
    "vac_val_data_singlet = []\n",
    "for item in vac_val_data:\n",
    "    if item['spin']==1:\n",
    "        vac_val_data_singlet.append(item)"
   ]
  },
  {
   "cell_type": "code",
   "execution_count": null,
   "id": "30bf4c35-5a71-4fc0-96c2-19101e04f0b2",
   "metadata": {},
   "outputs": [],
   "source": [
    "vac_test_data_singlet = []\n",
    "for item in vac_test_data:\n",
    "    if item['spin']==1:\n",
    "        vac_test_data_singlet.append(item)"
   ]
  },
  {
   "cell_type": "code",
   "execution_count": null,
   "id": "fc5e5001-b5dd-45b5-aed5-f71fb399b380",
   "metadata": {},
   "outputs": [],
   "source": [
    "vac_singlet_data = {'train':vac_train_data_singlet,\n",
    "        'val': vac_val_data_singlet,\n",
    "        'test': vac_test_data_singlet}"
   ]
  },
  {
   "cell_type": "markdown",
   "id": "0e8345a3-90cc-4596-9874-71c332dbc179",
   "metadata": {},
   "source": [
    "#### vac_doublet"
   ]
  },
  {
   "cell_type": "code",
   "execution_count": null,
   "id": "a62a4606-afc5-4a44-98eb-7543aeb2713a",
   "metadata": {},
   "outputs": [],
   "source": [
    "vac_train_data_doublet = []\n",
    "for item in vac_train_data:\n",
    "    if item['spin']==2:\n",
    "        vac_train_data_doublet.append(item)"
   ]
  },
  {
   "cell_type": "code",
   "execution_count": null,
   "id": "035290c9-26f9-498c-8a82-85b3a8870186",
   "metadata": {},
   "outputs": [],
   "source": [
    "vac_val_data_doublet = []\n",
    "for item in vac_val_data:\n",
    "    if item['spin']==2:\n",
    "        vac_val_data_doublet.append(item)"
   ]
  },
  {
   "cell_type": "code",
   "execution_count": null,
   "id": "13d6bed3-7adf-441b-ba57-d4f43df08663",
   "metadata": {},
   "outputs": [],
   "source": [
    "vac_test_data_doublet = []\n",
    "for item in vac_test_data:\n",
    "    if item['spin']==2:\n",
    "        vac_test_data_doublet.append(item)"
   ]
  },
  {
   "cell_type": "code",
   "execution_count": null,
   "id": "d08ab261-a3b2-411d-b9f3-4d88f810960f",
   "metadata": {},
   "outputs": [],
   "source": [
    "vac_doublet_data = {'train':vac_train_data_doublet,\n",
    "        'val': vac_val_data_doublet,\n",
    "        'test': vac_test_data_doublet}"
   ]
  },
  {
   "cell_type": "markdown",
   "id": "ac98da43-3594-4287-b4c6-4b20ad490f27",
   "metadata": {},
   "source": [
    "# SMD"
   ]
  },
  {
   "cell_type": "code",
   "execution_count": null,
   "id": "880bf1d3-41b4-4bd9-afc7-591f895919d8",
   "metadata": {},
   "outputs": [],
   "source": [
    "merged_dist = get_molecule_weight(smd_data)\n",
    "molecule_weight(smd_data, merged_dist)"
   ]
  },
  {
   "cell_type": "code",
   "execution_count": null,
   "id": "50a5655c-9570-4feb-b0b5-f46f2d7b37ed",
   "metadata": {},
   "outputs": [],
   "source": [
    "wtd = weight_to_data(smd_data)"
   ]
  },
  {
   "cell_type": "code",
   "execution_count": null,
   "id": "165711d6-729c-47a4-88c7-a4cc80efe233",
   "metadata": {},
   "outputs": [],
   "source": [
    "length_dict = {key: len(value) for key, value in wtd.items()}\n",
    "sorted_length_dict = {k: length_dict[k] for k in sorted(length_dict, reverse=True)}\n"
   ]
  },
  {
   "cell_type": "code",
   "execution_count": null,
   "id": "8425e9c5-b6d2-4661-abfa-14be873414b2",
   "metadata": {},
   "outputs": [],
   "source": [
    "smd_train_mass = [152.037]\n",
    "smd_test_mass = [144.09200000000007]\n",
    "smd_val_mass = [143.1080000000001]\n",
    "\n",
    "smd_train = sorted_length_dict[152.037] # trackers for dataset sizes\n",
    "smd_test = sorted_length_dict[144.09200000000007]\n",
    "smd_val = sorted_length_dict[143.1080000000001]\n",
    "\n",
    "sorted_length_dict.pop(152.037)\n",
    "sorted_length_dict.pop(144.09200000000007)\n",
    "sorted_length_dict.pop(143.1080000000001)\n",
    "\n",
    "\n",
    "# data is a dict: mass-># of trajs\n",
    "for mass in sorted_length_dict:\n",
    "    temp_total = smd_train+smd_val+smd_test\n",
    "    train_ratio = .65-(smd_train/temp_total)\n",
    "    test_ratio = .25-(smd_test/temp_total)\n",
    "    val_ratio = .1-(smd_val/temp_total)\n",
    "    \n",
    "    if train_ratio > val_ratio and train_ratio>test_ratio:\n",
    "        smd_train_mass.append(mass)\n",
    "        smd_train += sorted_length_dict[mass]\n",
    "    if val_ratio > train_ratio and val_ratio>test_ratio:\n",
    "        smd_val_mass.append(mass)\n",
    "        smd_val += sorted_length_dict[mass]\n",
    "    if test_ratio > val_ratio and test_ratio>train_ratio:\n",
    "        smd_test_mass.append(mass)\n",
    "        smd_test += sorted_length_dict[mass]"
   ]
  },
  {
   "cell_type": "code",
   "execution_count": null,
   "id": "7219fd86-e670-413c-bfad-8ca87d0d6111",
   "metadata": {},
   "outputs": [],
   "source": [
    "smd_train/(smd_train+smd_val+smd_test)"
   ]
  },
  {
   "cell_type": "code",
   "execution_count": null,
   "id": "7ff408bf-b34f-4b8b-86dc-286c786db3b5",
   "metadata": {},
   "outputs": [],
   "source": [
    "smd_train_subset={key: sorted_length_dict[key] for key in smd_train_mass if key in sorted_length_dict}\n",
    "smd_test_subset={key: sorted_length_dict[key] for key in smd_test_mass if key in sorted_length_dict}\n",
    "smd_val_subset={key: sorted_length_dict[key] for key in smd_val_mass if key in sorted_length_dict}\n",
    "\n",
    "smd_train_foo=[[x]*smd_train_subset[x] for x in smd_train_subset]\n",
    "smd_test_foo=[[x]*smd_test_subset[x] for x in smd_test_subset]\n",
    "smd_val_foo=[[x]*smd_val_subset[x] for x in smd_val_subset]\n",
    "\n",
    "from itertools import chain\n",
    "\n",
    "smd_train_subset_merged = list(chain.from_iterable(smd_train_foo))\n",
    "smd_test_subset_merged = list(chain.from_iterable(smd_test_foo))\n",
    "smd_val_subset_merged = list(chain.from_iterable(smd_val_foo))\n"
   ]
  },
  {
   "cell_type": "code",
   "execution_count": null,
   "id": "23e7fdf3-4453-4248-b456-c70a3fb143bd",
   "metadata": {},
   "outputs": [],
   "source": [
    "plt.hist(smd_train_subset_merged, bins=50)\n",
    "plt.ylabel('Frequency (log)')\n",
    "plt.yscale('log')\n",
    "plt.xlabel('Molecule Mass')\n",
    "plt.title('Train')"
   ]
  },
  {
   "cell_type": "code",
   "execution_count": null,
   "id": "acf0a50c-ad83-418e-8659-4f5c23018439",
   "metadata": {},
   "outputs": [],
   "source": [
    "plt.hist(smd_test_subset_merged, bins=50)\n",
    "plt.ylabel('Frequency (log)')\n",
    "plt.yscale('log')\n",
    "plt.xlabel('Molecule Mass')\n",
    "plt.title('Test')"
   ]
  },
  {
   "cell_type": "code",
   "execution_count": null,
   "id": "13cc8755-dce7-48d8-90ea-44a13356f180",
   "metadata": {},
   "outputs": [],
   "source": [
    "plt.hist(smd_val_subset_merged, bins=50)\n",
    "plt.ylabel('Frequency (log)')\n",
    "plt.yscale('log')\n",
    "plt.xlabel('Molecule Mass')\n",
    "plt.title('Val')"
   ]
  },
  {
   "cell_type": "code",
   "execution_count": 3,
   "id": "05d288d8-c819-4a57-9d6a-1c97dc7ead5f",
   "metadata": {
    "tags": []
   },
   "outputs": [],
   "source": [
    "####### do manual switches ##########"
   ]
  },
  {
   "cell_type": "code",
   "execution_count": null,
   "id": "7131365f-5add-4dd1-9679-2363e23469e4",
   "metadata": {},
   "outputs": [],
   "source": [
    "smd_switch=[117.039,\n",
    "116.20399999999991,\n",
    "116.15999999999993,\n",
    "113.07199999999997,\n",
    "112.21599999999991,\n",
    "110.11599999999997,\n",
    "109.13199999999996,\n",
    "109.09199999999998,\n",
    "102.09199999999997,\n",
    "102.08899999999997,\n",
    "101.06499999999997,\n",
    "101.06099999999998,\n",
    "100.20499999999991,\n",
    "97.11699999999996,\n",
    "95.10499999999999,\n",
    "95.06099999999999,\n",
    "93.08899999999998,\n",
    "92.14099999999995,\n",
    "88.14999999999993,\n",
    "86.04999999999998,\n",
    "86.04599999999999,\n",
    "85.10999999999997,         ]"
   ]
  },
  {
   "cell_type": "code",
   "execution_count": null,
   "id": "cc7985e2-e02d-4e42-abf5-363765adfe8c",
   "metadata": {},
   "outputs": [],
   "source": [
    "for mass in smd_switch:\n",
    "    smd_val_mass.append(mass)\n",
    "    smd_val += sorted_length_dict[mass]\n",
    "    \n",
    "    smd_test_mass.remove(mass)\n",
    "    smd_test -= sorted_length_dict[mass]"
   ]
  },
  {
   "cell_type": "code",
   "execution_count": null,
   "id": "65242f85-6587-4a1d-beae-2ee0f0be4cda",
   "metadata": {},
   "outputs": [],
   "source": [
    "smd_train_data = [wtd[x] for x in smd_train_mass]\n",
    "smd_train_data = list(chain.from_iterable(smd_train_data))\n",
    "\n",
    "smd_val_data = [wtd[x] for x in smd_val_mass]\n",
    "smd_val_data = list(chain.from_iterable(smd_val_data))\n",
    "\n",
    "smd_test_data = [wtd[x] for x in smd_test_mass]\n",
    "smd_test_data = list(chain.from_iterable(smd_test_data))\n"
   ]
  },
  {
   "cell_type": "code",
   "execution_count": null,
   "id": "f56bfa29-6c81-404a-8286-532daeb68b20",
   "metadata": {},
   "outputs": [],
   "source": [
    "smd_data = {'train':smd_train_data,\n",
    "        'val': smd_val_data,\n",
    "        'test': smd_test_data}"
   ]
  },
  {
   "cell_type": "markdown",
   "id": "4de681c1-47c9-49ba-b032-f530553b8623",
   "metadata": {},
   "source": [
    "#### singlet"
   ]
  },
  {
   "cell_type": "code",
   "execution_count": null,
   "id": "fbea9030-b74d-4026-aa44-bfb19ec38f78",
   "metadata": {},
   "outputs": [],
   "source": [
    "smd_train_data_singlet = []\n",
    "for item in smd_train_data:\n",
    "    if item['spin']==1:\n",
    "        smd_train_data_singlet.append(item)\n",
    "\n",
    "smd_val_data_singlet = []\n",
    "for item in smd_val_data:\n",
    "    if item['spin']==1:\n",
    "        smd_val_data_singlet.append(item)\n",
    "        \n",
    "smd_test_data_singlet = []\n",
    "for item in smd_test_data:\n",
    "    if item['spin']==1:\n",
    "        smd_test_data_singlet.append(item)\n",
    "        \n",
    "smd_singlet_data = {'train':smd_train_data_singlet,\n",
    "        'val': smd_val_data_singlet,\n",
    "        'test': smd_test_data_singlet}"
   ]
  },
  {
   "cell_type": "markdown",
   "id": "1d1be7bd-e994-4661-941e-d988866ddcd4",
   "metadata": {},
   "source": [
    "#### doublet"
   ]
  },
  {
   "cell_type": "code",
   "execution_count": null,
   "id": "2db50ad4-dbee-4714-9c99-75e33e7d42d5",
   "metadata": {},
   "outputs": [],
   "source": [
    "smd_train_data_doublet = []\n",
    "for item in smd_train_data:\n",
    "    if item['spin']==2:\n",
    "        smd_train_data_doublet.append(item)\n",
    "\n",
    "smd_val_data_doublet = []\n",
    "for item in smd_val_data:\n",
    "    if item['spin']==2:\n",
    "        smd_val_data_doublet.append(item)\n",
    "        \n",
    "smd_test_data_doublet = []\n",
    "for item in smd_test_data:\n",
    "    if item['spin']==2:\n",
    "        smd_test_data_doublet.append(item)\n",
    "        \n",
    "smd_doublet_data = {'train':smd_train_data_doublet,\n",
    "        'val': smd_val_data_doublet,\n",
    "        'test': smd_test_data_doublet}"
   ]
  },
  {
   "cell_type": "markdown",
   "id": "d4518b21-0f5b-4b29-8303-013be5a558ac",
   "metadata": {},
   "source": [
    "# Convert"
   ]
  },
  {
   "cell_type": "code",
   "execution_count": null,
   "id": "0f8acee0-66e5-470a-9c1a-fea2b96b9a12",
   "metadata": {},
   "outputs": [],
   "source": [
    "def sp_convert_energy(data: list):\n",
    "    for item in tqdm(data):\n",
    "        energy = item['energy']\n",
    "        item['energy'] = energy*27.2114"
   ]
  },
  {
   "cell_type": "code",
   "execution_count": null,
   "id": "b4eee4ab-b804-4581-bde7-6ebad19afb93",
   "metadata": {},
   "outputs": [],
   "source": [
    "def sp_convert_forces(data: list):\n",
    "    for item in tqdm(data):\n",
    "        forces = item['gradient']\n",
    "        atom_arr = []\n",
    "        for atom in forces:\n",
    "            comp_arr = []\n",
    "            for component in atom:\n",
    "                new_component = component * 51.42208619083232\n",
    "                comp_arr.append(new_component)\n",
    "            atom_arr.append(comp_arr)\n",
    "        item['gradient'] = atom_arr"
   ]
  },
  {
   "cell_type": "code",
   "execution_count": null,
   "id": "785f2f6f-e4e9-4d1a-8a2f-06b8a84dfb73",
   "metadata": {},
   "outputs": [],
   "source": [
    "##### convert all the data above"
   ]
  },
  {
   "cell_type": "markdown",
   "id": "e85f739f-98f7-4551-a81f-6e02f830b9df",
   "metadata": {},
   "source": [
    "# Resp DM"
   ]
  },
  {
   "cell_type": "code",
   "execution_count": null,
   "id": "498d6a50-73e0-4478-b467-a75fb426ede9",
   "metadata": {},
   "outputs": [],
   "source": [
    "def sp_generate_resp_dipole(data: list): #THIS IS GOOD\n",
    "    for item in tqdm(data):\n",
    "        resp_dipole = []\n",
    "        resp_dipole_conv = []\n",
    "        \n",
    "        resp_partial_charges = np.array(item['resp_partial_charges'])\n",
    "        geometries = np.array(item['geometry'])\n",
    "\n",
    "        # Calculate dipole moment components\n",
    "        dipole_components = resp_partial_charges[:, np.newaxis] * geometries\n",
    "\n",
    "        # Sum the dipole moment components along axis 0 to get the total dipole moment vector\n",
    "        dipole_moment_conv = np.sum(dipole_components, axis=0)*(1/0.2081943)\n",
    "\n",
    "        # Append dipole moment to resp_dipole list\n",
    "        resp_dipole_conv.append(dipole_moment_conv.tolist())  # Convert numpy array to list\n",
    "        \n",
    "        item['calc_resp_dipole_moments'] = resp_dipole_conv"
   ]
  },
  {
   "cell_type": "code",
   "execution_count": null,
   "id": "7a2bcead-c95f-46ee-9047-989370f7bff4",
   "metadata": {},
   "outputs": [],
   "source": [
    "sp_generate_resp_dipole(...) # do this for all the data"
   ]
  },
  {
   "cell_type": "code",
   "execution_count": null,
   "id": "67932f22-1fca-4b16-818b-044c629c8618",
   "metadata": {},
   "outputs": [],
   "source": []
  },
  {
   "cell_type": "code",
   "execution_count": null,
   "id": "24a7f52f-61df-4434-a13d-d4c309b88ec9",
   "metadata": {},
   "outputs": [],
   "source": []
  },
  {
   "cell_type": "code",
   "execution_count": null,
   "id": "c5314b7c-6c66-48c6-b449-39c950276ff3",
   "metadata": {},
   "outputs": [],
   "source": []
  },
  {
   "cell_type": "code",
   "execution_count": null,
   "id": "97953ba3-5ae1-4669-849e-21861b25343b",
   "metadata": {},
   "outputs": [],
   "source": []
  },
  {
   "cell_type": "markdown",
   "id": "1d8fb6fc-6422-4e35-875a-b5b24e328bd0",
   "metadata": {},
   "source": [
    "# Write"
   ]
  },
  {
   "cell_type": "code",
   "execution_count": null,
   "id": "a2b324c1-3ed5-4e7b-9d3f-3a1c8b2fb368",
   "metadata": {},
   "outputs": [],
   "source": [
    "def build_sp_atoms(data: dict,\n",
    "                energy: str = None,\n",
    "                forces: str = None,\n",
    "                charge:str = None,\n",
    "                spin:str = None,\n",
    "                train = False) -> ase.Atoms:\n",
    "    \"\"\" \n",
    "    Populate Atoms class with atoms in molecule.\n",
    "        atoms.info : global variables\n",
    "        atoms.array : variables for individual atoms\n",
    "        \n",
    "    Both \"energy\" and \"forces\" are the dict strings in data.\n",
    "    \"\"\"\n",
    "    atom_list = []\n",
    "    for i in range(len(data['geometries'])):\n",
    "        atoms = ase.atoms.Atoms(\n",
    "            symbols=data['species'],\n",
    "            positions=data['geometry']\n",
    "        )\n",
    "        atoms.arrays['mulliken_partial_charges']=np.array(data['mulliken_partial_charges'])\n",
    "        atoms.arrays['mulliken_partial_spins']=np.array(data['mulliken_partial_spins'])\n",
    "        atoms.arrays['resp_partial_charges']=np.array(data['resp_partial_charges'])\n",
    "        atoms.info['calc_resp_dipole_moments']=np.array(data['calc_resp_dipole_moments'])\n",
    "        \n",
    "        atoms.info['optimized_parent_charge']= data['optimized_parent_charge_spin'] [0]\n",
    "        atoms.info['optimized_parent_spin']= data['optimized_parent_charge_spin'] [0]\n",
    "        atoms.info['solvent'] =  item.info['solvent'] \n",
    "\n",
    "        if energy is not None:\n",
    "            atoms.info['energy'] = data[energy]\n",
    "        if forces is not None:\n",
    "            atoms.arrays['forces'] = np.array(data[forces])\n",
    "        if charge is not None:\n",
    "             atoms.info['charge'] = data[charge]\n",
    "        if spin is not None:\n",
    "            atoms.info['spin'] = data[spin]\n",
    "        atoms.info['mol_id'] = data['mol_id']\n",
    "        \n",
    "        atom_list.append(atoms)\n",
    "    return atom_list\n"
   ]
  },
  {
   "cell_type": "code",
   "execution_count": null,
   "id": "3cd061d1-7920-463a-8533-54e49a62975f",
   "metadata": {},
   "outputs": [],
   "source": [
    "train_smd = build_sp_atoms(train_smd) ### repeat this for all datasets"
   ]
  },
  {
   "cell_type": "code",
   "execution_count": null,
   "id": "1959a120-b3c6-47fd-adcd-10cd0f94503a",
   "metadata": {},
   "outputs": [],
   "source": []
  },
  {
   "cell_type": "code",
   "execution_count": null,
   "id": "5492c22b-b951-4fd9-86b4-7429407b092c",
   "metadata": {},
   "outputs": [],
   "source": []
  },
  {
   "cell_type": "code",
   "execution_count": null,
   "id": "4871e635-3976-4fcc-aa05-271aa539b332",
   "metadata": {},
   "outputs": [],
   "source": []
  },
  {
   "cell_type": "code",
   "execution_count": null,
   "id": "6a14b8f4-5d98-4b45-9828-c2c9c660d257",
   "metadata": {},
   "outputs": [],
   "source": [
    "# Write"
   ]
  },
  {
   "cell_type": "code",
   "execution_count": null,
   "id": "bc824f0e-7cec-417f-84f9-751261951e80",
   "metadata": {},
   "outputs": [],
   "source": [
    "file = '...' ### repeat for all datasets\n",
    "ase.io.write(file, train_smd,format=\"extxyz\")"
   ]
  },
  {
   "cell_type": "markdown",
   "id": "59baf95a-8459-4cec-bd90-35ee08bb5be2",
   "metadata": {},
   "source": [
    "# Chunking"
   ]
  },
  {
   "cell_type": "code",
   "execution_count": null,
   "id": "789428ee-15d4-434b-9ba4-36466398f9e8",
   "metadata": {},
   "outputs": [],
   "source": [
    "def chunk_data(data: dict, chunks: list):\n",
    "    return_data = {}\n",
    "    foo_data = data\n",
    "    total=0\n",
    "    for pair in tqdm(data):\n",
    "        total+=len(data[pair])\n",
    "    \n",
    "    sizes = []\n",
    "    for item in chunks:\n",
    "        temp_size = round(total*item)\n",
    "        sizes.append(temp_size)\n",
    "    \n",
    "    for i in range(len(chunks)):\n",
    "        chunk_data = []\n",
    "        if i==0:\n",
    "            for key in tqdm(data):\n",
    "                if len(foo_data[key]) != 0:\n",
    "                    # print(len(foo_data[key]))\n",
    "                    sample_size = math.floor(chunks[i] * len(foo_data[key]))\n",
    "                    chunk_data += foo_data[key][:sample_size]\n",
    "                    foo_data[key] = foo_data[key][sample_size:]\n",
    "            return_data[i] = chunk_data\n",
    "        else:\n",
    "            counter = 0\n",
    "            for j in range(50):\n",
    "                if counter < sizes[i]-sizes[i-1]:\n",
    "                    for key in data:\n",
    "                        if len(foo_data[key]) != 0:\n",
    "                            sample_size = math.floor((chunks[i]-chunks[i-1]) * len(foo_data[key]))\n",
    "                            # print(sample_size)\n",
    "                            # print(len(foo_data[key]))\n",
    "                            add_on = foo_data[key][:sample_size]\n",
    "                            chunk_data += add_on\n",
    "                            # print(len(foo_data[key][:sample_size])/len(foo_data[key]))\n",
    "                            foo_data[key] = foo_data[key][sample_size:]\n",
    "                            counter += len(add_on)\n",
    "                            if counter >= sizes[i]-sizes[i-1]:\n",
    "                                break\n",
    "                else:\n",
    "                    # print(counter)\n",
    "                    # print(sizes[i])\n",
    "                    # print(sizes[i]/total)\n",
    "                    # print(len(chunk_data)/total)\n",
    "                    break\n",
    "                # if counter > total:\n",
    "                #     print('bad')\n",
    "                #     break\n",
    "\n",
    "            return_data[i] = chunk_data + return_data[i-1]\n",
    "    return return_data    "
   ]
  },
  {
   "cell_type": "code",
   "execution_count": null,
   "id": "8317fca4-790c-4adf-9964-f79c82554d12",
   "metadata": {},
   "outputs": [],
   "source": [
    "#read_xyz train\n",
    "atoms_list = ..."
   ]
  },
  {
   "cell_type": "code",
   "execution_count": null,
   "id": "38815edb-06fa-49ac-a778-da3db636e639",
   "metadata": {},
   "outputs": [],
   "source": [
    "mm=get_molecule_weight_ase(atoms_list)"
   ]
  },
  {
   "cell_type": "code",
   "execution_count": null,
   "id": "4929ff92-3dc1-419a-b572-b06d3ad59c1f",
   "metadata": {},
   "outputs": [],
   "source": [
    "molecule_weight_ase(atoms_list, mm)"
   ]
  },
  {
   "cell_type": "code",
   "execution_count": null,
   "id": "a62424d1-0945-4914-8b20-ea9b17cb9ada",
   "metadata": {},
   "outputs": [],
   "source": [
    "ase_data = weight_to_data_ase(atoms_list)"
   ]
  },
  {
   "cell_type": "code",
   "execution_count": null,
   "id": "f04a339a-d447-46c8-8924-2a133e691951",
   "metadata": {},
   "outputs": [],
   "source": [
    "cd = chunk_data(ase_data, [.05, .1, .25, .5, .75])"
   ]
  },
  {
   "cell_type": "code",
   "execution_count": null,
   "id": "a51199c9-2fb4-42a1-854c-e9853b94bedf",
   "metadata": {},
   "outputs": [],
   "source": [
    "for key in cd:\n",
    "    print(len(cd[key])/len(atoms_list))"
   ]
  },
  {
   "cell_type": "code",
   "execution_count": null,
   "id": "e09f73e8-9cfd-4e5c-a043-c39c71b6005d",
   "metadata": {},
   "outputs": [],
   "source": [
    "chunk_file = os.path.join('/pscratch/sd/m/mavaylon/chem_final_data/SP/Zip_FINAL/Full_fields_Singlet_chunks/smd','rad_qm9_smd'+'_train05.xyz')\n",
    "ase.io.write(chunk_file, cd[0],format=\"extxyz\")"
   ]
  },
  {
   "cell_type": "code",
   "execution_count": null,
   "id": "a3f9a925-c8fe-41c4-9b7c-803f2f3749b9",
   "metadata": {},
   "outputs": [],
   "source": [
    "chunk_file = os.path.join('/pscratch/sd/m/mavaylon/chem_final_data/SP/Zip_FINAL/Full_fields_Singlet_chunks/smd','rad_qm9_smd'+'_train10.xyz')\n",
    "ase.io.write(chunk_file, cd[1],format=\"extxyz\")"
   ]
  },
  {
   "cell_type": "code",
   "execution_count": null,
   "id": "85a8c6e7-8780-4308-9643-e8b0cf73083b",
   "metadata": {},
   "outputs": [],
   "source": [
    "chunk_file = os.path.join('/pscratch/sd/m/mavaylon/chem_final_data/SP/Zip_FINAL/Full_fields_Singlet_chunks/smd','rad_qm9_smd'+'_train25.xyz')\n",
    "ase.io.write(chunk_file, cd[2],format=\"extxyz\")"
   ]
  },
  {
   "cell_type": "code",
   "execution_count": null,
   "id": "aeb3d435-0cce-43c5-881b-601639fc06e3",
   "metadata": {},
   "outputs": [],
   "source": [
    "chunk_file = os.path.join('/pscratch/sd/m/mavaylon/chem_final_data/SP/Zip_FINAL/Full_fields_Singlet_chunks/smd','rad_qm9_smd'+'_train50.xyz')\n",
    "ase.io.write(chunk_file, cd[3],format=\"extxyz\")"
   ]
  },
  {
   "cell_type": "code",
   "execution_count": null,
   "id": "bf1bb7d8-9194-4bc6-a29c-a185080a4938",
   "metadata": {},
   "outputs": [],
   "source": [
    "chunk_file = os.path.join('/pscratch/sd/m/mavaylon/chem_final_data/SP/Zip_FINAL/Full_fields_Singlet_chunks/smd','rad_qm9_smd'+'_train75.xyz')\n",
    "ase.io.write(chunk_file, cd[4],format=\"extxyz\")"
   ]
  },
  {
   "cell_type": "markdown",
   "id": "e0f37d78-4554-4d4c-92ac-e0b5dd796f4d",
   "metadata": {},
   "source": [
    "# Relative Energies"
   ]
  },
  {
   "cell_type": "code",
   "execution_count": null,
   "id": "1719173b-a2fc-4a8c-b054-f18e03dc404f",
   "metadata": {},
   "outputs": [],
   "source": [
    "def relative_energies(data: list, stats: dict):\n",
    "    for item in tqdm(data):\n",
    "        key = str(item.info['charge'])+str(item.info['spin'])\n",
    "        lookup_sum = 0\n",
    "        for num in item.arrays['numbers']:\n",
    "            lookup_sum += eval(stats[key]['atomic_energies'])[num]\n",
    "        \n",
    "        rel = item.info['energy'] - lookup_sum\n",
    "        item.info['relative_energy'] = rel"
   ]
  },
  {
   "cell_type": "markdown",
   "id": "14c80dd3-02d9-4ac0-b79e-33fa2f76b91b",
   "metadata": {},
   "source": [
    "# SMD"
   ]
  },
  {
   "cell_type": "code",
   "execution_count": null,
   "id": "f6405fb1-643b-4c6d-8e71-1497a8e13bdf",
   "metadata": {},
   "outputs": [],
   "source": [
    "import json\n",
    "\n",
    "with open('/pscratch/sd/m/mavaylon/chem_final_data/SP/Full_Fields_ChargeSPin/smd/01/h5/statistics.json', 'r') as f:\n",
    "    data_smd_01 = json.load(f)\n",
    "    \n",
    "with open('/pscratch/sd/m/mavaylon/chem_final_data/SP/Full_Fields_ChargeSPin/smd/03/h5/statistics.json', 'r') as f:\n",
    "    data_smd_03 = json.load(f)\n",
    "    \n",
    "with open('/pscratch/sd/m/mavaylon/chem_final_data/SP/Full_Fields_ChargeSPin/smd/12/h5/statistics.json', 'r') as f:\n",
    "    data_smd_12 = json.load(f)\n",
    "    \n",
    "with open('/pscratch/sd/m/mavaylon/chem_final_data/SP/Full_Fields_ChargeSPin/smd/21/h5/statistics.json', 'r') as f:\n",
    "    data_smd_21 = json.load(f)\n",
    "\n",
    "with open('/pscratch/sd/m/mavaylon/chem_final_data/SP/Full_Fields_ChargeSPin/smd/-12/h5/statistics.json', 'r') as f:\n",
    "    data_smd_n12 = json.load(f)\n",
    "    \n",
    "with open('/pscratch/sd/m/mavaylon/chem_final_data/SP/Full_Fields_ChargeSPin/smd/-21/h5/statistics.json', 'r') as f:\n",
    "    data_smd_n21 = json.load(f)\n",
    "\n",
    "stats_dict= {\n",
    "             # '-21': data_smd_n21,\n",
    "             # '-12': data_smd_n12,\n",
    "             # '01': data_smd_01,\n",
    "             # '03': data_smd_03,\n",
    "             # '12': data_smd_12,\n",
    "             '21': data_smd_21\n",
    "}\n"
   ]
  },
  {
   "cell_type": "code",
   "execution_count": null,
   "id": "c1ed9ee4-1118-4b5b-9272-cffd7cd40a49",
   "metadata": {},
   "outputs": [],
   "source": [
    "relative_energies(train_smd, stats_dict)"
   ]
  },
  {
   "cell_type": "code",
   "execution_count": null,
   "id": "5833e3a6-8bc1-4d22-a56f-634ec6a69432",
   "metadata": {},
   "outputs": [],
   "source": [
    "relative_energies(val_smd, stats_dict)"
   ]
  },
  {
   "cell_type": "code",
   "execution_count": null,
   "id": "59713b99-2b7c-45c2-a7bf-32fc4dff902c",
   "metadata": {},
   "outputs": [],
   "source": [
    "relative_energies(test_smd, stats_dict)"
   ]
  },
  {
   "cell_type": "code",
   "execution_count": null,
   "id": "b672078a-f52b-497a-8a0c-4d4c42353ed3",
   "metadata": {},
   "outputs": [],
   "source": [
    "def re_sp_build_minimal_atoms_rel(data: dict,\n",
    "                energy: str = None,\n",
    "                forces: str = None,\n",
    "                charge:str = None,\n",
    "                spin:str = None,\n",
    "                train = False) -> ase.Atoms:\n",
    "    \"\"\" \n",
    "    Populate Atoms class with atoms in molecule.\n",
    "        atoms.info : global variables\n",
    "        atoms.array : variables for individual atoms\n",
    "        \n",
    "    Both \"energy\" and \"forces\" are the dict strings in data.\n",
    "    \"\"\"\n",
    "    atom_list = []\n",
    "    for item in tqdm(data):\n",
    "        atoms = ase.atoms.Atoms(\n",
    "            numbers=item.arrays['numbers'],\n",
    "            positions=item.arrays['positions']\n",
    "        )\n",
    "        atoms.info['total_energy'] = item.info['energy']\n",
    "        atoms.info['relative_energy'] = item.info['relative_energy']\n",
    "        atoms.info['mol_id'] = item.info['mol_id']\n",
    "        atoms.arrays['forces'] = np.array(item.arrays['forces'])\n",
    "        atoms.info['charge'] =  item.info['charge']\n",
    "        atoms.info['spin'] =  item.info['spin'] \n",
    "        atoms.info['optimized_parent_charge'] = item.info['optimized_parent_charge']\n",
    "        atoms.info['optimized_parent_spin'] = item.info['optimized_parent_spin']\n",
    "        atoms.info['solvent'] =  item.info['solvent'] \n",
    "        atoms.arrays['mulliken_partial_charges']=np.array(item.arrays['mulliken_partial_charges'])\n",
    "        atoms.arrays['mulliken_partial_spins']=np.array(item.arrays['mulliken_partial_spins'])\n",
    "        atoms.arrays['resp_partial_charges']=np.array(item.arrays['resp_partial_charges'])\n",
    "        atoms.info['calc_resp_dipole_moments']=np.array(item.info['calc_resp_dipole_moments'])\n",
    "        \n",
    "        atom_list.append(atoms)\n",
    "    return atom_list\n"
   ]
  },
  {
   "cell_type": "code",
   "execution_count": null,
   "id": "c4e96525-8187-483f-8a67-d6a98cd39f00",
   "metadata": {},
   "outputs": [],
   "source": [
    "retrain_smd = re_sp_build_minimal_atoms_rel(train_smd)"
   ]
  },
  {
   "cell_type": "code",
   "execution_count": null,
   "id": "f1a992ac-9be0-4fac-a78f-aea2deffd3f4",
   "metadata": {},
   "outputs": [],
   "source": [
    "file = os.path.join('/pscratch/sd/m/mavaylon/chem_final_data/SP/Full_Fields_ChargeSPin/smd/21','rad_qm9_7_25_24_converted_E_F_convrespdm_relenergy_SMD_train_21.xyz')\n",
    "ase.io.write(file, retrain_smd, format=\"extxyz\")"
   ]
  },
  {
   "cell_type": "code",
   "execution_count": null,
   "id": "47820f4f-c2f7-4e0b-bd41-2182a8f58df6",
   "metadata": {},
   "outputs": [],
   "source": [
    "doublet_data = []\n",
    "for item in tqdm(filtered_data):\n",
    "    if item['charge'] in [-1, 1]:\n",
    "        doublet_data.append(item)"
   ]
  },
  {
   "cell_type": "code",
   "execution_count": null,
   "id": "de88cded-e658-4d04-824d-fff9f688933f",
   "metadata": {},
   "outputs": [],
   "source": [
    "vacuum_doublet_data_data = []\n",
    "smd_doublet_data_data = []\n",
    "solvents = []\n",
    "for item in doublet_data:\n",
    "    solv = item['solvent']\n",
    "    solvents.append(solv)\n",
    "    if solv == 'vacuum':\n",
    "        vacuum_doublet_data_data.append(item)\n",
    "    elif solv == 'SMD':\n",
    "        smd_doublet_data_data.append(item)"
   ]
  },
  {
   "cell_type": "code",
   "execution_count": null,
   "id": "54825088-68cf-4b87-b349-8e911a4c06f2",
   "metadata": {},
   "outputs": [],
   "source": [
    "singlet_data = []\n",
    "for item in tqdm(filtered_data):\n",
    "    if item['charge'] in [0, -2, 2]:\n",
    "        singlet_data.append(item)"
   ]
  },
  {
   "cell_type": "code",
   "execution_count": null,
   "id": "ca42a111-883f-488e-b900-e9b5465acd10",
   "metadata": {},
   "outputs": [],
   "source": [
    "vacuum_singlet_data_data = []\n",
    "smd_singlet_data_data = []\n",
    "solvents = []\n",
    "for item in singlet_data:\n",
    "    solv = item['solvent']\n",
    "    solvents.append(solv)\n",
    "    if solv == 'vacuum':\n",
    "        vacuum_singlet_data_data.append(item)\n",
    "    elif solv == 'SMD':\n",
    "        smd_singlet_data_data.append(item)"
   ]
  },
  {
   "cell_type": "markdown",
   "id": "249bf993-3410-47e1-91dc-442758161582",
   "metadata": {},
   "source": [
    "#### You do not need to filter since these are all optimized points, which mean the forces are really small."
   ]
  },
  {
   "cell_type": "code",
   "execution_count": null,
   "id": "28a21ee3-e241-462e-bbb4-3b3a92ff6dde",
   "metadata": {},
   "outputs": [],
   "source": []
  }
 ],
 "metadata": {
  "kernelspec": {
   "display_name": "NERSC Python",
   "language": "python",
   "name": "python3"
  },
  "language_info": {
   "codemirror_mode": {
    "name": "ipython",
    "version": 3
   },
   "file_extension": ".py",
   "mimetype": "text/x-python",
   "name": "python",
   "nbconvert_exporter": "python",
   "pygments_lexer": "ipython3",
   "version": "3.11.7"
  }
 },
 "nbformat": 4,
 "nbformat_minor": 5
}
