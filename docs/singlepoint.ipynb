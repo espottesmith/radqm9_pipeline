{
 "cells": [
  {
   "cell_type": "code",
   "execution_count": 1,
   "id": "e751ab12-4642-4aa3-b8e7-b1a2c3c89cf2",
   "metadata": {
    "tags": []
   },
   "outputs": [],
   "source": [
    "from ase.io import read\n",
    "import ase\n",
    "\n",
    "from pymatgen.io.ase import AseAtomsAdaptor\n",
    "from pymatgen.analysis.graphs import MoleculeGraph\n",
    "from pymatgen.analysis.local_env import OpenBabelNN, CovalentBondNN\n",
    "from pymatgen.util.graph_hashing import weisfeiler_lehman_graph_hash\n",
    "\n",
    "import networkx as nx\n",
    "import os\n",
    "from monty.serialization import loadfn\n",
    "from glob import glob\n",
    "import time\n",
    "from tqdm import tqdm\n",
    "import collections\n",
    "import numpy as np\n",
    "import matplotlib.pyplot as plt\n",
    "import ast\n",
    "import h5py\n"
   ]
  },
  {
   "cell_type": "code",
   "execution_count": 2,
   "id": "fc9b3a21-6cef-4de1-80e4-b078fed36942",
   "metadata": {
    "tags": []
   },
   "outputs": [],
   "source": [
    "from radqm9_pipeline.modules import merge_data, read_elements, force_magnitude_filter, flatten"
   ]
  },
  {
   "cell_type": "code",
   "execution_count": 3,
   "id": "2553bfe6-b4a8-4ae2-a0e7-25c9cc96c21a",
   "metadata": {
    "tags": []
   },
   "outputs": [],
   "source": [
    "# sp_dir = '/pscratch/sd/m/mavaylon/new_pipe/new_sp/sp/sp_trajectories_old'"
   ]
  },
  {
   "cell_type": "code",
   "execution_count": 4,
   "id": "7ccc5396-8489-4898-9b60-2f432c52ff6c",
   "metadata": {
    "tags": []
   },
   "outputs": [],
   "source": [
    "# merged_data=merge_data(sp_dir)"
   ]
  },
  {
   "cell_type": "code",
   "execution_count": 3,
   "id": "993a2877-edfa-4e3e-baaa-33ce07199d0d",
   "metadata": {
    "tags": []
   },
   "outputs": [],
   "source": [
    "elements_dict = read_elements('/pscratch/sd/m/mavaylon/sam_ldrd/radqm9_pipeline/src/radqm9_pipeline/modules/elements.pkl')"
   ]
  },
  {
   "cell_type": "code",
   "execution_count": 3,
   "id": "4a7a7969-21bf-4e28-a8a7-0717a3f399fb",
   "metadata": {
    "tags": []
   },
   "outputs": [],
   "source": [
    "# elements_dict"
   ]
  },
  {
   "cell_type": "code",
   "execution_count": 4,
   "id": "30ec7341-cad4-4dc2-94e7-e96a1ca93d24",
   "metadata": {
    "tags": []
   },
   "outputs": [],
   "source": [
    "# h5_spi_dir='/pscratch/sd/m/mavaylon/new_pipe/sp_raw_data.h5'"
   ]
  },
  {
   "cell_type": "code",
   "execution_count": 5,
   "id": "046c6bcb-718f-44eb-98fd-2dcbe9bd2e5b",
   "metadata": {
    "tags": []
   },
   "outputs": [],
   "source": [
    "# merged_file = h5py.File(h5_spi_dir, 'r')\n"
   ]
  },
  {
   "cell_type": "code",
   "execution_count": 6,
   "id": "867ab317-92d3-498d-91d2-bfbdf3825e8f",
   "metadata": {
    "tags": []
   },
   "outputs": [],
   "source": [
    "# merged_file.close()"
   ]
  },
  {
   "cell_type": "code",
   "execution_count": null,
   "id": "1db1f950-fd69-431a-8913-6d306eedf730",
   "metadata": {},
   "outputs": [],
   "source": []
  },
  {
   "cell_type": "code",
   "execution_count": null,
   "id": "b129692f-2d8d-43da-aeee-e0ee3f0b5098",
   "metadata": {},
   "outputs": [],
   "source": []
  },
  {
   "cell_type": "code",
   "execution_count": null,
   "id": "47da9ca6-8492-4e5d-b140-f3a4f9898495",
   "metadata": {
    "tags": []
   },
   "outputs": [],
   "source": [
    "# merged_raw_data=[]\n",
    "# for point in tqdm(k_merged_file['config_batch_0']['raw']):\n",
    "#     point = ast.literal_eval(point.decode('utf-8'))\n",
    "#     merged_raw_data.append(point)"
   ]
  },
  {
   "cell_type": "code",
   "execution_count": null,
   "id": "e458b3d8-2f99-4d68-baf4-f732f627351c",
   "metadata": {},
   "outputs": [],
   "source": []
  },
  {
   "cell_type": "code",
   "execution_count": 10,
   "id": "8b1df4b6-8ea6-4839-94ec-17159b3b6587",
   "metadata": {
    "tags": []
   },
   "outputs": [
    {
     "name": "stderr",
     "output_type": "stream",
     "text": [
      "100%|██████████| 3371648/3371648 [46:20<00:00, 1212.57it/s]  \n"
     ]
    }
   ],
   "source": [
    "import h5py\n",
    "import ast\n",
    "merged_file = h5py.File(h5_spi_dir, 'r')\n",
    "\n",
    "merged_raw_data=[]\n",
    "for point in tqdm(merged_file['raw_data']['raw']):\n",
    "    point = ast.literal_eval(point.decode('utf-8'))\n",
    "    merged_raw_data.append(point)"
   ]
  },
  {
   "cell_type": "code",
   "execution_count": 55,
   "id": "ec8135e5-3874-4415-a2b9-af97f13597ef",
   "metadata": {
    "tags": []
   },
   "outputs": [
    {
     "data": {
      "text/plain": [
       "3371648"
      ]
     },
     "execution_count": 55,
     "metadata": {},
     "output_type": "execute_result"
    }
   ],
   "source": []
  },
  {
   "cell_type": "code",
   "execution_count": 7,
   "id": "2cdd485f-d52b-4b11-b7b9-b890a15c35f9",
   "metadata": {
    "tags": []
   },
   "outputs": [],
   "source": [
    "merged_file.close()"
   ]
  },
  {
   "cell_type": "code",
   "execution_count": 7,
   "id": "dfea08b7-0c3f-4965-a586-65f41db32915",
   "metadata": {
    "tags": []
   },
   "outputs": [],
   "source": [
    "h5_spi_dir_clean='/pscratch/sd/m/mavaylon/new_pipe/sp_filtered_out_broken.h5'"
   ]
  },
  {
   "cell_type": "code",
   "execution_count": 8,
   "id": "b66fb9f0-66e2-43f5-966e-50fae727329e",
   "metadata": {
    "tags": []
   },
   "outputs": [],
   "source": [
    "import h5py\n",
    "import ast\n",
    "merged_file = h5py.File(h5_spi_dir_clean, 'r')\n"
   ]
  },
  {
   "cell_type": "code",
   "execution_count": 9,
   "id": "70925db6-848b-489a-932a-5787a7600816",
   "metadata": {
    "tags": []
   },
   "outputs": [
    {
     "name": "stderr",
     "output_type": "stream",
     "text": [
      "100%|██████████| 3249471/3249471 [41:52<00:00, 1293.40it/s] \n"
     ]
    }
   ],
   "source": [
    "merged_data=[]\n",
    "for point in tqdm(merged_file['good']['good_data']):\n",
    "    point = ast.literal_eval(point.decode('utf-8'))\n",
    "    merged_data.append(point)"
   ]
  },
  {
   "cell_type": "code",
   "execution_count": 10,
   "id": "63d46393-b0cb-4bc8-a43a-d2d4ec310125",
   "metadata": {
    "tags": []
   },
   "outputs": [
    {
     "data": {
      "text/plain": [
       "3249471"
      ]
     },
     "execution_count": 10,
     "metadata": {},
     "output_type": "execute_result"
    }
   ],
   "source": [
    "len(merged_data)"
   ]
  },
  {
   "cell_type": "code",
   "execution_count": 8,
   "id": "101739cf-5345-418e-a978-927decd16488",
   "metadata": {
    "tags": []
   },
   "outputs": [
    {
     "data": {
      "text/plain": [
       "122177"
      ]
     },
     "execution_count": 8,
     "metadata": {},
     "output_type": "execute_result"
    }
   ],
   "source": [
    "3371648-len(merged_data)"
   ]
  },
  {
   "cell_type": "markdown",
   "id": "6c3db750-fa28-4df4-a17d-fb52c7d79a2f",
   "metadata": {},
   "source": [
    "# Bucket Tracker:\n",
    "Raw Data: 3371648\n",
    "\n",
    "vac: 1685829\n",
    "smd:1685819\n",
    "\n",
    "(Remove Broken graphs) 3249471 (122177 total broken graphs)\n",
    "* Broken graphs vac: 61089\n",
    "    * optimized: 18871\n",
    "    * vertical: 42218\n",
    "* Broken graphs smd: 61088\n",
    "    * optimized: 18871\n",
    "    * vertical: 42217\n",
    "\n",
    "(Total Ids with missing configs)[75] (How much data is missing) [total: 1425]\n",
    "\n",
    "Bucket 3 Vac (after clean)\n",
    "* 1624740\n",
    "\n",
    "Bucket 4 SMD (after clean)\n",
    "* 1624731\n"
   ]
  },
  {
   "cell_type": "code",
   "execution_count": 44,
   "id": "6207713c-f3ee-4254-a4e3-1667664cb45c",
   "metadata": {
    "tags": []
   },
   "outputs": [
    {
     "data": {
      "text/plain": [
       "3249471"
      ]
     },
     "execution_count": 44,
     "metadata": {},
     "output_type": "execute_result"
    }
   ],
   "source": [
    "1624731+1624740"
   ]
  },
  {
   "cell_type": "markdown",
   "id": "07c97b2d-d847-462d-82f3-90e1a7cc73bc",
   "metadata": {},
   "source": [
    "TODO:\n",
    "1. Format solvent\n",
    "2. Broken graph remove and metadata\n",
    "3. Metadata for SP at each bucket\n",
    "4. Metadata for traj at each bucket\n",
    "5. write sp to xyz with all fields\n",
    "6. h5 version of sp and traj\n",
    "7. plot dist of sp and traj\n",
    "8. chunked xyz and h5 for sp and traj\n",
    "9. traj +1-1 data in xyz and h5\n",
    "10. special sp data in xyz and h5\n"
   ]
  },
  {
   "cell_type": "markdown",
   "id": "634315d3-4b0d-4596-a888-d6ab43649176",
   "metadata": {},
   "source": [
    "### Get metadata on broken graphs"
   ]
  },
  {
   "cell_type": "code",
   "execution_count": 4,
   "id": "819fa496-a421-4698-95e3-f8f7d4d97a86",
   "metadata": {},
   "outputs": [],
   "source": [
    "broken_path ='/pscratch/sd/m/mavaylon/new_pipe/sp_broken.h5'"
   ]
  },
  {
   "cell_type": "code",
   "execution_count": 5,
   "id": "bfef8479-1e5b-4785-b931-ba3a5c42f8e8",
   "metadata": {},
   "outputs": [],
   "source": [
    "import h5py\n",
    "import ast\n",
    "broken_file = h5py.File(broken_path, 'r')\n",
    "\n"
   ]
  },
  {
   "cell_type": "code",
   "execution_count": 11,
   "id": "98dc0af9-921e-450c-aeea-2aaa08aad84e",
   "metadata": {
    "tags": []
   },
   "outputs": [
    {
     "data": {
      "text/plain": [
       "<KeysViewHDF5 ['broken_data']>"
      ]
     },
     "execution_count": 11,
     "metadata": {},
     "output_type": "execute_result"
    }
   ],
   "source": [
    "broken_file['broken'].keys()"
   ]
  },
  {
   "cell_type": "code",
   "execution_count": 6,
   "id": "67cc48ee-5e31-4475-8c5c-a2962b05a19b",
   "metadata": {
    "tags": []
   },
   "outputs": [
    {
     "name": "stderr",
     "output_type": "stream",
     "text": [
      "100%|██████████| 122177/122177 [01:37<00:00, 1250.47it/s]\n"
     ]
    }
   ],
   "source": [
    "merged_broken_data=[]\n",
    "for point in tqdm(broken_file['broken']['broken_data']):\n",
    "    point = ast.literal_eval(point.decode('utf-8'))\n",
    "    merged_broken_data.append(point)"
   ]
  },
  {
   "cell_type": "code",
   "execution_count": 8,
   "id": "db75f857-e4e6-450f-82be-2d572caed2d7",
   "metadata": {
    "tags": []
   },
   "outputs": [
    {
     "name": "stderr",
     "output_type": "stream",
     "text": [
      "100%|██████████| 122177/122177 [00:00<00:00, 2052581.43it/s]\n"
     ]
    },
    {
     "data": {
      "text/plain": [
       "[]"
      ]
     },
     "execution_count": 8,
     "metadata": {},
     "output_type": "execute_result"
    }
   ],
   "source": [
    "solvent_convert(merged_broken_data)"
   ]
  },
  {
   "cell_type": "code",
   "execution_count": 10,
   "id": "97b010dc-14af-4ddc-a722-dce82b16bc02",
   "metadata": {
    "tags": []
   },
   "outputs": [
    {
     "name": "stderr",
     "output_type": "stream",
     "text": [
      "100%|██████████| 122177/122177 [00:00<00:00, 1544926.48it/s]\n"
     ]
    }
   ],
   "source": [
    "type_tagger(merged_broken_data)\n"
   ]
  },
  {
   "cell_type": "code",
   "execution_count": 11,
   "id": "c06fe5d4-296d-4553-82af-c26a02d438e9",
   "metadata": {
    "tags": []
   },
   "outputs": [],
   "source": [
    "vacuum_broken_data = []\n",
    "smd_broken_data = []\n",
    "solvents = []\n",
    "for item in merged_broken_data:\n",
    "    solv = item['solvent']\n",
    "    solvents.append(solv)\n",
    "    if solv == 'vacuum':\n",
    "        vacuum_broken_data.append(item)\n",
    "    elif solv == 'SMD':\n",
    "        smd_broken_data.append(item)"
   ]
  },
  {
   "cell_type": "code",
   "execution_count": 12,
   "id": "57fa95bb-3be5-4d12-b391-ee4d0628f669",
   "metadata": {
    "tags": []
   },
   "outputs": [
    {
     "data": {
      "text/plain": [
       "61089"
      ]
     },
     "execution_count": 12,
     "metadata": {},
     "output_type": "execute_result"
    }
   ],
   "source": [
    "len(vacuum_broken_data)"
   ]
  },
  {
   "cell_type": "code",
   "execution_count": 13,
   "id": "ae7c8de8-fb9d-4031-868e-e6c4faf28f11",
   "metadata": {
    "tags": []
   },
   "outputs": [
    {
     "data": {
      "text/plain": [
       "61088"
      ]
     },
     "execution_count": 13,
     "metadata": {},
     "output_type": "execute_result"
    }
   ],
   "source": [
    "len(smd_broken_data)"
   ]
  },
  {
   "cell_type": "code",
   "execution_count": 14,
   "id": "1e41b9d2-2252-4fe7-8c0a-fdae49ae5501",
   "metadata": {
    "tags": []
   },
   "outputs": [],
   "source": [
    "vac_optimized_broken = []\n",
    "vac_vertical_broken = []\n",
    "for item in vacuum_broken_data:\n",
    "    opt_type = item['sp_config_type']\n",
    "    if opt_type == 'optimized':\n",
    "        vac_optimized_broken.append(item)\n",
    "    elif opt_type == 'vertical':\n",
    "        vac_vertical_broken.append(item)"
   ]
  },
  {
   "cell_type": "code",
   "execution_count": 16,
   "id": "1423eeb8-efa6-4e33-9182-b3dd417b24a0",
   "metadata": {
    "tags": []
   },
   "outputs": [
    {
     "data": {
      "text/plain": [
       "18871"
      ]
     },
     "execution_count": 16,
     "metadata": {},
     "output_type": "execute_result"
    }
   ],
   "source": [
    "len(vac_optimized_broken)"
   ]
  },
  {
   "cell_type": "code",
   "execution_count": 17,
   "id": "fd7ecf82-2c80-4a62-8b95-34146ef29a9f",
   "metadata": {
    "tags": []
   },
   "outputs": [
    {
     "data": {
      "text/plain": [
       "42218"
      ]
     },
     "execution_count": 17,
     "metadata": {},
     "output_type": "execute_result"
    }
   ],
   "source": [
    "len(vac_vertical_broken)"
   ]
  },
  {
   "cell_type": "code",
   "execution_count": 15,
   "id": "4a58f22b-9ead-4654-834b-aef4c133e54c",
   "metadata": {
    "tags": []
   },
   "outputs": [],
   "source": [
    "smd_optimized_broken = []\n",
    "smd_vertical_broken = []\n",
    "for item in smd_broken_data:\n",
    "    opt_type = item['sp_config_type']\n",
    "    if opt_type == 'optimized':\n",
    "        smd_optimized_broken.append(item)\n",
    "    elif opt_type == 'vertical':\n",
    "        smd_vertical_broken.append(item)"
   ]
  },
  {
   "cell_type": "code",
   "execution_count": 18,
   "id": "396f6608-747b-4ce8-aa3d-73169add8597",
   "metadata": {
    "tags": []
   },
   "outputs": [
    {
     "data": {
      "text/plain": [
       "18871"
      ]
     },
     "execution_count": 18,
     "metadata": {},
     "output_type": "execute_result"
    }
   ],
   "source": [
    "len(smd_optimized_broken)"
   ]
  },
  {
   "cell_type": "code",
   "execution_count": 19,
   "id": "b5042dde-bf19-4885-b53f-d7240a85db96",
   "metadata": {
    "tags": []
   },
   "outputs": [
    {
     "data": {
      "text/plain": [
       "42217"
      ]
     },
     "execution_count": 19,
     "metadata": {},
     "output_type": "execute_result"
    }
   ],
   "source": [
    "len(smd_vertical_broken)"
   ]
  },
  {
   "cell_type": "markdown",
   "id": "044731bc-cd2f-4054-b8cd-38642b083a55",
   "metadata": {},
   "source": [
    "## Process"
   ]
  },
  {
   "cell_type": "code",
   "execution_count": 11,
   "id": "bfe8dc5a-fca1-45d5-9bfc-424a328e82fc",
   "metadata": {
    "tags": []
   },
   "outputs": [],
   "source": [
    "def charge_spin_tag(data: list):\n",
    "    \"\"\"\n",
    "    \n",
    "    \"\"\"\n",
    "    \n",
    "    for item in tqdm(data):\n",
    "        item['charge_spin'] = str(item['charge'])+'_'+str(item['spin'])"
   ]
  },
  {
   "cell_type": "code",
   "execution_count": 12,
   "id": "7a625a7e-b152-440c-896a-4e15bb1aa5b4",
   "metadata": {
    "tags": []
   },
   "outputs": [
    {
     "name": "stderr",
     "output_type": "stream",
     "text": [
      "100%|██████████| 3249471/3249471 [00:02<00:00, 1382895.24it/s]\n"
     ]
    }
   ],
   "source": [
    "charge_spin_tag(merged_data)"
   ]
  },
  {
   "cell_type": "code",
   "execution_count": 9,
   "id": "69d7f5ef-f33c-4121-83a2-46bc58eb9eda",
   "metadata": {
    "tags": []
   },
   "outputs": [
    {
     "name": "stderr",
     "output_type": "stream",
     "text": [
      "100%|██████████| 3249471/3249471 [00:01<00:00, 2661725.94it/s]\n"
     ]
    }
   ],
   "source": [
    "sol=[]\n",
    "for item in tqdm(merged_data):\n",
    "    sol.append(item['solvent'])\n",
    "        \n"
   ]
  },
  {
   "cell_type": "code",
   "execution_count": 10,
   "id": "156523c6-4a62-488a-9036-1e3e228787f8",
   "metadata": {
    "tags": []
   },
   "outputs": [
    {
     "data": {
      "text/plain": [
       "['SOLVENT=WATER', 'NONE']"
      ]
     },
     "execution_count": 10,
     "metadata": {},
     "output_type": "execute_result"
    }
   ],
   "source": [
    "list(set(sol))"
   ]
  },
  {
   "cell_type": "code",
   "execution_count": 13,
   "id": "06121f93-3c2a-42a0-bfd9-f242343b1a41",
   "metadata": {
    "tags": []
   },
   "outputs": [],
   "source": [
    "def solvent_convert(data:list):\n",
    "    unresolved = []\n",
    "    for item in tqdm(data):\n",
    "        solv  = item['solvent']\n",
    "        if solv == 'NONE':\n",
    "            item['solvent'] = 'vacuum'\n",
    "        elif solv == 'SOLVENT=WATER':\n",
    "            item['solvent'] = 'SMD'\n",
    "        else:\n",
    "            unresolved.append(item)\n",
    "    return unresolved"
   ]
  },
  {
   "cell_type": "code",
   "execution_count": 14,
   "id": "b4f153cc-857b-44f7-b988-56535194803f",
   "metadata": {
    "tags": []
   },
   "outputs": [
    {
     "name": "stderr",
     "output_type": "stream",
     "text": [
      "100%|██████████| 3249471/3249471 [00:01<00:00, 2454384.66it/s]\n"
     ]
    },
    {
     "data": {
      "text/plain": [
       "[]"
      ]
     },
     "execution_count": 14,
     "metadata": {},
     "output_type": "execute_result"
    }
   ],
   "source": [
    "solvent_convert(merged_data)"
   ]
  },
  {
   "cell_type": "code",
   "execution_count": 17,
   "id": "9fda2edc-f176-4598-ab12-e9b8d346f07f",
   "metadata": {
    "tags": []
   },
   "outputs": [
    {
     "name": "stderr",
     "output_type": "stream",
     "text": [
      "100%|██████████| 3371648/3371648 [00:01<00:00, 2261149.03it/s]\n"
     ]
    },
    {
     "data": {
      "text/plain": [
       "[]"
      ]
     },
     "execution_count": 17,
     "metadata": {},
     "output_type": "execute_result"
    }
   ],
   "source": [
    "solvent_convert(merged_raw_data)"
   ]
  },
  {
   "cell_type": "code",
   "execution_count": null,
   "id": "ff357343-1195-4a85-84a2-59b653f3b1c4",
   "metadata": {},
   "outputs": [],
   "source": []
  },
  {
   "cell_type": "code",
   "execution_count": null,
   "id": "844e9f2e-bb42-49d2-8fd6-8056b608d1d9",
   "metadata": {},
   "outputs": [],
   "source": []
  },
  {
   "cell_type": "code",
   "execution_count": null,
   "id": "b84b9d5c-509a-4c27-8a73-3139c57db60f",
   "metadata": {},
   "outputs": [],
   "source": []
  },
  {
   "cell_type": "code",
   "execution_count": 15,
   "id": "42b19e70-0e84-4299-8074-0cebba096161",
   "metadata": {
    "tags": []
   },
   "outputs": [],
   "source": [
    "def type_tagger(data: list):\n",
    "    for item in tqdm(data):\n",
    "        if item['charge_spin'] == item['optimized_parent_charge_spin']:\n",
    "            item['sp_config_type'] = 'optimized'\n",
    "        else:\n",
    "            item['sp_config_type'] = 'vertical'"
   ]
  },
  {
   "cell_type": "code",
   "execution_count": 16,
   "id": "d5c7859b-1566-4142-8cbb-b29887b27c8c",
   "metadata": {
    "tags": []
   },
   "outputs": [
    {
     "name": "stderr",
     "output_type": "stream",
     "text": [
      "100%|██████████| 3249471/3249471 [00:02<00:00, 1608198.22it/s]\n"
     ]
    }
   ],
   "source": [
    "type_tagger(merged_data)\n"
   ]
  },
  {
   "cell_type": "code",
   "execution_count": 17,
   "id": "df6a12f8-07f8-4b32-aaf7-30c13eacd74b",
   "metadata": {
    "tags": []
   },
   "outputs": [],
   "source": [
    "def resolve_parent_charge_spin(data: list):\n",
    "    for item in tqdm(data):\n",
    "        item['optimized_parent_charge_spin']= item['optimized_parent_charge_spin'].split('_')"
   ]
  },
  {
   "cell_type": "code",
   "execution_count": 18,
   "id": "6496fcd2-387c-4e34-a092-bf0a5cf7ffb8",
   "metadata": {
    "tags": []
   },
   "outputs": [
    {
     "name": "stderr",
     "output_type": "stream",
     "text": [
      "100%|██████████| 3249471/3249471 [00:02<00:00, 1130859.51it/s]\n"
     ]
    }
   ],
   "source": [
    "resolve_parent_charge_spin(merged_data)"
   ]
  },
  {
   "cell_type": "code",
   "execution_count": 19,
   "id": "fed97996-1a17-49be-bbbc-59703a8b725f",
   "metadata": {
    "tags": []
   },
   "outputs": [
    {
     "data": {
      "text/plain": [
       "['0', '3']"
      ]
     },
     "execution_count": 19,
     "metadata": {},
     "output_type": "execute_result"
    }
   ],
   "source": [
    "merged_data[0]['optimized_parent_charge_spin']"
   ]
  },
  {
   "cell_type": "code",
   "execution_count": null,
   "id": "89c304c9-76d2-4b83-a625-52444eab438a",
   "metadata": {},
   "outputs": [],
   "source": []
  },
  {
   "cell_type": "markdown",
   "id": "228d7f2d-3bb3-413d-961d-abaa8a204fb0",
   "metadata": {},
   "source": [
    "# IDS < 6 configs"
   ]
  },
  {
   "cell_type": "code",
   "execution_count": 15,
   "id": "9899abe7-724c-4eb6-a476-1ee9f42b3020",
   "metadata": {
    "tags": []
   },
   "outputs": [
    {
     "data": {
      "text/plain": [
       "3249471"
      ]
     },
     "execution_count": 15,
     "metadata": {},
     "output_type": "execute_result"
    }
   ],
   "source": [
    "len(merged_data)"
   ]
  },
  {
   "cell_type": "code",
   "execution_count": 32,
   "id": "1f5212d1-dcc0-407b-914f-dd0448007d67",
   "metadata": {},
   "outputs": [
    {
     "name": "stderr",
     "output_type": "stream",
     "text": [
      "100%|██████████| 3249471/3249471 [00:03<00:00, 1054375.85it/s]\n"
     ]
    }
   ],
   "source": [
    "bucket_mol_id2={}\n",
    "for data in tqdm(merged_data):\n",
    "    try:\n",
    "        bucket_mol_id2[data['mol_id']].append(data)\n",
    "    except KeyError:\n",
    "        bucket_mol_id2[data['mol_id']] = [data]"
   ]
  },
  {
   "cell_type": "code",
   "execution_count": null,
   "id": "6cffa902-2dd4-4443-9220-b227602a4840",
   "metadata": {},
   "outputs": [],
   "source": []
  },
  {
   "cell_type": "code",
   "execution_count": 33,
   "id": "da084c50-7899-418b-b13b-ffa0823b4c64",
   "metadata": {},
   "outputs": [
    {
     "name": "stderr",
     "output_type": "stream",
     "text": [
      "100%|██████████| 3249471/3249471 [00:06<00:00, 466069.52it/s]\n"
     ]
    }
   ],
   "source": [
    "mol_id_present_config = {}\n",
    "for data in tqdm(merged_data):\n",
    "    opt_parent = data['optimized_parent_charge_spin'][0]+data['optimized_parent_charge_spin'][1]\n",
    "    try:\n",
    "        data['mol_id']\n",
    "        mol_id_present_config[data['mol_id']].append(data['charge_spin']+'_'+data['sp_config_type']+'_'+opt_parent+'_'+data['solvent'])\n",
    "    except KeyError:\n",
    "        mol_id_present_config[data['mol_id']] = [data['charge_spin']+'_'+data['sp_config_type']+'_'+opt_parent+'_'+data['solvent']]"
   ]
  },
  {
   "cell_type": "code",
   "execution_count": 34,
   "id": "479fad9d-5b9e-4690-8d17-278cd86deb05",
   "metadata": {
    "tags": []
   },
   "outputs": [],
   "source": [
    "def find_duplicates(lst):\n",
    "    counts = {}\n",
    "    duplicates = []\n",
    "    for item in lst:\n",
    "        if item in counts:\n",
    "            counts[item] += 1\n",
    "        else:\n",
    "            counts[item] = 1\n",
    "    \n",
    "    for item, count in counts.items():\n",
    "        if count > 1:\n",
    "            duplicates.append(item)\n",
    "    \n",
    "    return duplicates"
   ]
  },
  {
   "cell_type": "code",
   "execution_count": 35,
   "id": "821d6f1f-de26-4922-876c-82eb2a6e8dcc",
   "metadata": {
    "tags": []
   },
   "outputs": [
    {
     "name": "stderr",
     "output_type": "stream",
     "text": [
      "100%|██████████| 541591/541591 [00:01<00:00, 454437.07it/s]\n"
     ]
    }
   ],
   "source": [
    "ids_missing = []\n",
    "for mol_id in tqdm(bucket_mol_id2):\n",
    "    if len(bucket_mol_id2[mol_id])<6:\n",
    "        ids_missing.append(mol_id)\n",
    "        \n",
    "    dup = find_duplicates(mol_id_present_config[mol_id])\n",
    "    if len(dup)>0:\n",
    "        if len(set(mol_id_present_config[mol_id])) < 6:\n",
    "            ids_missing.append(mol_id)"
   ]
  },
  {
   "cell_type": "code",
   "execution_count": 38,
   "id": "5f70ec27-7179-41d9-822a-3b7840447d22",
   "metadata": {
    "tags": []
   },
   "outputs": [],
   "source": [
    "# ids_missing"
   ]
  },
  {
   "cell_type": "code",
   "execution_count": 36,
   "id": "3c9d0a82-3546-4c88-a7e4-e11d85d0fed1",
   "metadata": {
    "tags": []
   },
   "outputs": [
    {
     "data": {
      "text/plain": [
       "75"
      ]
     },
     "execution_count": 36,
     "metadata": {},
     "output_type": "execute_result"
    }
   ],
   "source": [
    "len(set(ids_missing))"
   ]
  },
  {
   "cell_type": "code",
   "execution_count": 30,
   "id": "6621396d-6bff-4ea2-bf3b-2e7f64b1a750",
   "metadata": {
    "tags": []
   },
   "outputs": [],
   "source": [
    "missing_data_q=0\n",
    "for mid in ids_missing:\n",
    "    missing_data_q+=6-len(bucket_mol_id2[mid])    "
   ]
  },
  {
   "cell_type": "code",
   "execution_count": 31,
   "id": "cb1b873e-fac2-4ca7-94c4-97baa08cee1e",
   "metadata": {
    "tags": []
   },
   "outputs": [
    {
     "data": {
      "text/plain": [
       "75"
      ]
     },
     "execution_count": 31,
     "metadata": {},
     "output_type": "execute_result"
    }
   ],
   "source": [
    "missing_data_q"
   ]
  },
  {
   "cell_type": "markdown",
   "id": "67b97f75-447f-46dd-936e-d6c2c988662f",
   "metadata": {},
   "source": [
    "# Fix ids with >24 configs\n"
   ]
  },
  {
   "cell_type": "code",
   "execution_count": 32,
   "id": "15a093b5-5d09-47ed-b72e-f1b9f4f79ed6",
   "metadata": {
    "tags": []
   },
   "outputs": [
    {
     "name": "stderr",
     "output_type": "stream",
     "text": [
      "100%|██████████| 541591/541591 [00:00<00:00, 2273315.92it/s]\n"
     ]
    }
   ],
   "source": [
    "more_6 = []\n",
    "for mol_id in tqdm(mol_id_present_config):\n",
    "    if len(mol_id_present_config[mol_id])>6:\n",
    "        more_6.append(mol_id)"
   ]
  },
  {
   "cell_type": "code",
   "execution_count": 33,
   "id": "fed06276-c954-4bbf-8753-22defa3b1df7",
   "metadata": {
    "tags": []
   },
   "outputs": [
    {
     "data": {
      "text/plain": [
       "0"
      ]
     },
     "execution_count": 33,
     "metadata": {},
     "output_type": "execute_result"
    }
   ],
   "source": [
    "len(more_6)"
   ]
  },
  {
   "cell_type": "markdown",
   "id": "73c5509e-d92d-43fd-b3b9-ced54b0a54a5",
   "metadata": {},
   "source": [
    "### check to see >6 are not duplicates"
   ]
  },
  {
   "cell_type": "code",
   "execution_count": 28,
   "id": "8820ef4c-2eb6-4872-a7e2-60b47eb4c0b9",
   "metadata": {
    "tags": []
   },
   "outputs": [
    {
     "name": "stderr",
     "output_type": "stream",
     "text": [
      "100%|██████████| 541591/541591 [00:00<00:00, 739793.24it/s]\n"
     ]
    }
   ],
   "source": [
    "more_6_unique = []\n",
    "more_6 = []\n",
    "\n",
    "for mol_id in tqdm(bucket_mol_id2):\n",
    "    if len(bucket_mol_id2[mol_id])>6:\n",
    "        more_6.append(mol_id)\n",
    "    else:    \n",
    "        dup = find_duplicates(mol_id_present_config[mol_id])\n",
    "        if len(dup)>0:\n",
    "            if len(set(mol_id_present_config[mol_id])) > 6:\n",
    "                more_6_unique.append(mol_id)"
   ]
  },
  {
   "cell_type": "code",
   "execution_count": 29,
   "id": "c1599de6-56e4-4122-be59-56106c84c341",
   "metadata": {
    "tags": []
   },
   "outputs": [
    {
     "data": {
      "text/plain": [
       "0"
      ]
     },
     "execution_count": 29,
     "metadata": {},
     "output_type": "execute_result"
    }
   ],
   "source": [
    "len(more_6)"
   ]
  },
  {
   "cell_type": "code",
   "execution_count": 38,
   "id": "e8d57407-aacc-4bdc-b287-2a6c0a9e7fed",
   "metadata": {
    "tags": []
   },
   "outputs": [
    {
     "data": {
      "text/plain": [
       "0"
      ]
     },
     "execution_count": 38,
     "metadata": {},
     "output_type": "execute_result"
    }
   ],
   "source": [
    "len(more_6_unique)"
   ]
  },
  {
   "cell_type": "code",
   "execution_count": 39,
   "id": "31106bec-5366-4f94-b66b-f1112eebc04f",
   "metadata": {
    "tags": []
   },
   "outputs": [
    {
     "name": "stderr",
     "output_type": "stream",
     "text": [
      "  0%|          | 2073/541708 [00:00<00:00, 1219808.11it/s]"
     ]
    },
    {
     "name": "stdout",
     "output_type": "stream",
     "text": [
      "6ae088eabb2c3d63f917a2fc470e73df-C8H8O1-0-3\n"
     ]
    },
    {
     "name": "stderr",
     "output_type": "stream",
     "text": [
      "\n"
     ]
    }
   ],
   "source": [
    "for mol_id in tqdm(bucket_mol_id2):\n",
    "    if len(bucket_mol_id2[mol_id])==6:\n",
    "        print(mol_id)\n",
    "        break"
   ]
  },
  {
   "cell_type": "code",
   "execution_count": 40,
   "id": "a8ba69f8-0a73-4a31-ae41-3abbf5b7ed75",
   "metadata": {
    "tags": []
   },
   "outputs": [
    {
     "data": {
      "text/plain": [
       "['-1_2_vertical_0_3_vacuum',\n",
       " '0_3_optimized_0_3_vacuum',\n",
       " '1_2_vertical_0_3_vacuum',\n",
       " '-1_2_vertical_0_3_SMD',\n",
       " '0_3_optimized_0_3_SMD',\n",
       " '1_2_vertical_0_3_SMD']"
      ]
     },
     "execution_count": 40,
     "metadata": {},
     "output_type": "execute_result"
    }
   ],
   "source": [
    "mol_id_present_config['6ae088eabb2c3d63f917a2fc470e73df-C8H8O1-0-3']"
   ]
  },
  {
   "cell_type": "code",
   "execution_count": 50,
   "id": "f2877be9-d264-42ff-977a-728daa6ffdae",
   "metadata": {
    "tags": []
   },
   "outputs": [
    {
     "data": {
      "text/plain": [
       "3262598"
      ]
     },
     "execution_count": 50,
     "metadata": {},
     "output_type": "execute_result"
    }
   ],
   "source": [
    "len(merged_data)"
   ]
  },
  {
   "cell_type": "code",
   "execution_count": 41,
   "id": "7f148c89-9b76-4d54-9c41-6b3f357fd864",
   "metadata": {
    "tags": []
   },
   "outputs": [],
   "source": [
    "def resolve_duplicate_data(data: list):\n",
    "    filtered_data = []\n",
    "    \n",
    "    bucket_mol_id={}\n",
    "    for item in tqdm(data):\n",
    "        try:\n",
    "            bucket_mol_id[item['mol_id']].append(item)\n",
    "        except KeyError:\n",
    "            bucket_mol_id[item['mol_id']] = [item]\n",
    "    \n",
    "    mol_id_present_config = {}\n",
    "    for item in tqdm(data):\n",
    "        opt_parent = item['optimized_parent_charge_spin'][0]+item['optimized_parent_charge_spin'][1]\n",
    "\n",
    "        item['dup_identifier'] = item['charge_spin']+'_'+item['sp_config_type']+'_'+opt_parent+'_'+item['solvent']\n",
    "        try:\n",
    "            mol_id_present_config[item['mol_id']].append(item['charge_spin']+'_'+item['sp_config_type']+'_'+opt_parent+'_'+item['solvent'])\n",
    "        except KeyError:\n",
    "            mol_id_present_config[item['mol_id']] = [item['charge_spin']+'_'+item['sp_config_type']+'_'+opt_parent+'_'+item['solvent']]\n",
    "    \n",
    "    # get unique set of configs for each key in mol_id_present_config to use as keys to sample from bucket_mol_id\n",
    "    for mol_id in tqdm(bucket_mol_id):\n",
    "        pool = list(set(mol_id_present_config[mol_id]))\n",
    "        for item in pool:\n",
    "            for point in bucket_mol_id[mol_id]:\n",
    "                if point['dup_identifier'] == item:\n",
    "                    filtered_data.append(point)\n",
    "                    break\n",
    "                \n",
    "                \n",
    "                \n",
    "    return filtered_data"
   ]
  },
  {
   "cell_type": "code",
   "execution_count": 42,
   "id": "82a995a2-ae56-4ee3-81e3-2665c4711be0",
   "metadata": {
    "tags": []
   },
   "outputs": [
    {
     "name": "stderr",
     "output_type": "stream",
     "text": [
      "100%|██████████| 3249471/3249471 [00:02<00:00, 1189350.39it/s]\n",
      "100%|██████████| 3249471/3249471 [00:07<00:00, 431506.28it/s]\n",
      "100%|██████████| 541591/541591 [00:02<00:00, 181827.13it/s]\n"
     ]
    }
   ],
   "source": [
    "filtered_data = resolve_duplicate_data(merged_data)"
   ]
  },
  {
   "cell_type": "code",
   "execution_count": null,
   "id": "488afdf7-9a3d-4d9b-9dae-f9ce45b689f4",
   "metadata": {},
   "outputs": [],
   "source": []
  },
  {
   "cell_type": "code",
   "execution_count": null,
   "id": "c7db9534-0f71-4b11-8aed-c1171c2c6e78",
   "metadata": {},
   "outputs": [],
   "source": []
  },
  {
   "cell_type": "markdown",
   "id": "f69fad45-3dac-4858-85c7-712b8bb45859",
   "metadata": {},
   "source": [
    "# Special sets"
   ]
  },
  {
   "cell_type": "markdown",
   "id": "8641c402-b1bb-40a3-964d-d61f52142182",
   "metadata": {},
   "source": [
    "## Just the Doublets"
   ]
  },
  {
   "cell_type": "code",
   "execution_count": 43,
   "id": "48bc7586-e407-4b8a-a6b5-b54109188f7e",
   "metadata": {
    "tags": []
   },
   "outputs": [
    {
     "name": "stderr",
     "output_type": "stream",
     "text": [
      "100%|██████████| 3249471/3249471 [00:02<00:00, 1367357.98it/s]\n"
     ]
    }
   ],
   "source": [
    "doublet_data = []\n",
    "for item in tqdm(filtered_data):\n",
    "    if item['charge'] in [-1, 1]:\n",
    "        doublet_data.append(item)"
   ]
  },
  {
   "cell_type": "code",
   "execution_count": 45,
   "id": "fbd4ad35-d24c-457c-9713-4bb1def2bb5d",
   "metadata": {
    "tags": []
   },
   "outputs": [],
   "source": [
    "vacuum_doublet_data_data = []\n",
    "smd_doublet_data_data = []\n",
    "solvents = []\n",
    "for item in doublet_data:\n",
    "    solv = item['solvent']\n",
    "    solvents.append(solv)\n",
    "    if solv == 'vacuum':\n",
    "        vacuum_doublet_data_data.append(item)\n",
    "    elif solv == 'SMD':\n",
    "        smd_doublet_data_data.append(item)"
   ]
  },
  {
   "cell_type": "code",
   "execution_count": null,
   "id": "202e180a-a250-4c0c-b67b-2a3297c432c7",
   "metadata": {},
   "outputs": [],
   "source": []
  },
  {
   "cell_type": "code",
   "execution_count": null,
   "id": "51564ebe-40b1-491d-aab7-6c5a1144ee1b",
   "metadata": {},
   "outputs": [],
   "source": []
  },
  {
   "cell_type": "markdown",
   "id": "4e9d540b-fa99-4343-8216-62e36ac7b126",
   "metadata": {},
   "source": [
    "## Just the singlets"
   ]
  },
  {
   "cell_type": "code",
   "execution_count": 60,
   "id": "9631c80a-542a-4625-bcfe-b4d68fa53211",
   "metadata": {},
   "outputs": [
    {
     "name": "stderr",
     "output_type": "stream",
     "text": [
      "100%|██████████| 3249471/3249471 [00:02<00:00, 1368610.21it/s]\n"
     ]
    }
   ],
   "source": [
    "singlet_data = []\n",
    "for item in tqdm(filtered_data):\n",
    "    if item['charge'] in [0, -2, 2]:\n",
    "        singlet_data.append(item)"
   ]
  },
  {
   "cell_type": "code",
   "execution_count": 61,
   "id": "ae0626ca-559b-4845-bef2-1293bb806cb4",
   "metadata": {},
   "outputs": [
    {
     "data": {
      "text/plain": [
       "1632687"
      ]
     },
     "execution_count": 61,
     "metadata": {},
     "output_type": "execute_result"
    }
   ],
   "source": [
    "len(singlet_data)"
   ]
  },
  {
   "cell_type": "code",
   "execution_count": 62,
   "id": "c5f13cc6-07a1-44bb-adce-30476b46ca0f",
   "metadata": {
    "tags": []
   },
   "outputs": [],
   "source": [
    "vacuum_singlet_data_data = []\n",
    "smd_singlet_data_data = []\n",
    "solvents = []\n",
    "for item in singlet_data:\n",
    "    solv = item['solvent']\n",
    "    solvents.append(solv)\n",
    "    if solv == 'vacuum':\n",
    "        vacuum_singlet_data_data.append(item)\n",
    "    elif solv == 'SMD':\n",
    "        smd_singlet_data_data.append(item)"
   ]
  },
  {
   "cell_type": "code",
   "execution_count": null,
   "id": "d69644f9-0a2d-4e86-8463-e63d395fab40",
   "metadata": {},
   "outputs": [],
   "source": []
  },
  {
   "cell_type": "markdown",
   "id": "a484fe92-c899-4b3b-b997-65b17f4bb6bf",
   "metadata": {},
   "source": [
    "# ignore work"
   ]
  },
  {
   "cell_type": "code",
   "execution_count": null,
   "id": "ca4904cd-fdfa-4c17-999c-31b28d8db4fb",
   "metadata": {},
   "outputs": [],
   "source": []
  },
  {
   "cell_type": "code",
   "execution_count": 43,
   "id": "1a609861-f5ec-4e8a-8982-2aa5b042b322",
   "metadata": {
    "tags": []
   },
   "outputs": [
    {
     "data": {
      "text/plain": [
       "3250173"
      ]
     },
     "execution_count": 43,
     "metadata": {},
     "output_type": "execute_result"
    }
   ],
   "source": [
    "len(filtered_data)"
   ]
  },
  {
   "cell_type": "code",
   "execution_count": 44,
   "id": "7ef43111-14a8-42a7-8c57-7fdda438c060",
   "metadata": {
    "tags": []
   },
   "outputs": [
    {
     "data": {
      "text/plain": [
       "-702"
      ]
     },
     "execution_count": 44,
     "metadata": {},
     "output_type": "execute_result"
    }
   ],
   "source": [
    "3249471-len(filtered_data)"
   ]
  },
  {
   "cell_type": "code",
   "execution_count": 46,
   "id": "1dee64f9-a77b-4178-97df-4c27b102f0d4",
   "metadata": {
    "tags": []
   },
   "outputs": [
    {
     "name": "stderr",
     "output_type": "stream",
     "text": [
      "100%|██████████| 3250173/3250173 [00:03<00:00, 1006126.75it/s]\n"
     ]
    }
   ],
   "source": [
    "bucket_mol_id3={}\n",
    "for item in tqdm(filtered_data):\n",
    "    try:\n",
    "        bucket_mol_id3[item['mol_id']].append(item)\n",
    "    except KeyError:\n",
    "        bucket_mol_id3[item['mol_id']] = [item]\n",
    "    "
   ]
  },
  {
   "cell_type": "code",
   "execution_count": 47,
   "id": "0440dc8f-9a6b-451d-9221-566db3b1f891",
   "metadata": {
    "tags": []
   },
   "outputs": [
    {
     "name": "stderr",
     "output_type": "stream",
     "text": [
      "100%|██████████| 3250173/3250173 [00:06<00:00, 496633.30it/s]\n"
     ]
    }
   ],
   "source": [
    "mol_id_present_config3 = {}\n",
    "for data in tqdm(filtered_data):\n",
    "    try:\n",
    "        mol_id_present_config3[data['mol_id']].append(data['charge_spin']+'_'+data['sp_config_type']+'_'+data['optimized_parent_charge_spin']+'_'+data['solvent'])\n",
    "    except KeyError:\n",
    "        mol_id_present_config3[data['mol_id']] = [data['charge_spin']+'_'+data['sp_config_type']+'_'+data['optimized_parent_charge_spin']+'_'+data['solvent']]"
   ]
  },
  {
   "cell_type": "code",
   "execution_count": 48,
   "id": "3be1752a-a6a3-4a89-8d83-6b49f3300d72",
   "metadata": {
    "tags": []
   },
   "outputs": [
    {
     "name": "stderr",
     "output_type": "stream",
     "text": [
      "100%|██████████| 541708/541708 [00:01<00:00, 437411.74it/s]\n"
     ]
    }
   ],
   "source": [
    "duppp=[]\n",
    "for mol_id in tqdm(bucket_mol_id3):\n",
    "    dup = find_duplicates(mol_id_present_config3[mol_id])\n",
    "    if len(dup)>0:\n",
    "        if len(set(mol_id_present_config3[mol_id])) != 6:\n",
    "            duppp.append(mol_id)"
   ]
  },
  {
   "cell_type": "code",
   "execution_count": 49,
   "id": "f4b6019e-38d2-42d1-8115-440fe7be09b6",
   "metadata": {
    "tags": []
   },
   "outputs": [
    {
     "data": {
      "text/plain": [
       "[]"
      ]
     },
     "execution_count": 49,
     "metadata": {},
     "output_type": "execute_result"
    }
   ],
   "source": [
    "duppp"
   ]
  },
  {
   "cell_type": "code",
   "execution_count": 14,
   "id": "2d03b503-c089-4181-8c67-1f7e3c39e77e",
   "metadata": {
    "tags": []
   },
   "outputs": [
    {
     "name": "stderr",
     "output_type": "stream",
     "text": [
      "100%|██████████| 3371648/3371648 [00:02<00:00, 1633724.09it/s]\n"
     ]
    }
   ],
   "source": [
    "bucket_mol_id={}\n",
    "for data in tqdm(merged_data):\n",
    "    try:\n",
    "        bucket_mol_id[data['mol_id']].append(data)\n",
    "    except KeyError:\n",
    "        bucket_mol_id[data['mol_id']] = [data]"
   ]
  },
  {
   "cell_type": "code",
   "execution_count": 49,
   "id": "ab7591c6-2181-42f6-adc2-beaa951a5835",
   "metadata": {
    "tags": []
   },
   "outputs": [
    {
     "data": {
      "text/plain": [
       "561954"
      ]
     },
     "execution_count": 49,
     "metadata": {},
     "output_type": "execute_result"
    }
   ],
   "source": [
    "len(bucket_mol_id.keys())"
   ]
  },
  {
   "cell_type": "code",
   "execution_count": 54,
   "id": "34eb12b0-2cca-4d0e-93aa-9996ef102db1",
   "metadata": {
    "tags": []
   },
   "outputs": [
    {
     "data": {
      "text/plain": [
       "6"
      ]
     },
     "execution_count": 54,
     "metadata": {},
     "output_type": "execute_result"
    }
   ],
   "source": [
    "len(bucket_mol_id['4cb6251dd9a9dcd419fd732c6279d0b0-C6H6O3-0-3'])"
   ]
  },
  {
   "cell_type": "code",
   "execution_count": 13,
   "id": "dc02ea15-597b-468d-9212-5b15b31ce0e5",
   "metadata": {
    "tags": []
   },
   "outputs": [],
   "source": [
    "# merged_data[0]"
   ]
  },
  {
   "cell_type": "code",
   "execution_count": 15,
   "id": "053d9da5-3b61-4577-8da8-2411f74effb6",
   "metadata": {
    "tags": []
   },
   "outputs": [],
   "source": [
    "less_24=[]\n",
    "for mol_id in bucket_mol_id:\n",
    "    if len(bucket_mol_id[mol_id])<6:\n",
    "        less_24.append(mol_id)"
   ]
  },
  {
   "cell_type": "code",
   "execution_count": 16,
   "id": "6c16ac89-7b8d-4ab0-bd46-e2cef708a407",
   "metadata": {
    "tags": []
   },
   "outputs": [
    {
     "data": {
      "text/plain": [
       "76"
      ]
     },
     "execution_count": 16,
     "metadata": {},
     "output_type": "execute_result"
    }
   ],
   "source": [
    "len(less_24)"
   ]
  },
  {
   "cell_type": "code",
   "execution_count": null,
   "id": "9d8a77c8-879f-4d17-8c16-257fde8de682",
   "metadata": {},
   "outputs": [],
   "source": [
    "def find_duplicates(lst):\n",
    "    counts = {}\n",
    "    duplicates = []\n",
    "    for item in lst:\n",
    "        if item in counts:\n",
    "            counts[item] += 1\n",
    "        else:\n",
    "            counts[item] = 1\n",
    "    \n",
    "    for item, count in counts.items():\n",
    "        if count > 1:\n",
    "            duplicates.append(item)\n",
    "    \n",
    "    return duplicates"
   ]
  },
  {
   "cell_type": "code",
   "execution_count": null,
   "id": "84374cb2-97ac-43f9-878f-80aef8193fde",
   "metadata": {},
   "outputs": [],
   "source": []
  },
  {
   "cell_type": "code",
   "execution_count": null,
   "id": "d55565f4-606d-49c8-859a-fed82a7e3959",
   "metadata": {},
   "outputs": [],
   "source": []
  },
  {
   "cell_type": "code",
   "execution_count": null,
   "id": "d9be1eb5-3615-4c9c-94c6-6606645fd740",
   "metadata": {},
   "outputs": [],
   "source": []
  },
  {
   "cell_type": "code",
   "execution_count": 33,
   "id": "fa6f60f8-0bea-4913-ac77-255bab1f293c",
   "metadata": {
    "tags": []
   },
   "outputs": [
    {
     "name": "stderr",
     "output_type": "stream",
     "text": [
      "100%|██████████| 3371648/3371648 [00:05<00:00, 656872.16it/s]\n"
     ]
    }
   ],
   "source": [
    "mol_id_present_config = {}\n",
    "for data in tqdm(merged_data):\n",
    "    try:\n",
    "        mol_id_present_config[data['mol_id']].append(data['charge_spin']+'_'+data['sp_config_type']+'_'+data['optimized_parent_charge_spin']+'_'+data['solvent'])\n",
    "    except KeyError:\n",
    "        mol_id_present_config[data['mol_id']] = [data['charge_spin']+'_'+data['sp_config_type']+'_'+data['optimized_parent_charge_spin']+'_'+data['solvent']]"
   ]
  },
  {
   "cell_type": "code",
   "execution_count": 12,
   "id": "eb886aa1-d890-4fde-a298-06739d68e35e",
   "metadata": {
    "tags": []
   },
   "outputs": [
    {
     "name": "stderr",
     "output_type": "stream",
     "text": [
      "100%|██████████| 133882/133882 [00:00<00:00, 2039337.61it/s]\n"
     ]
    }
   ],
   "source": [
    "more_24 = []\n",
    "for mol_id in tqdm(mol_id_present_config):\n",
    "    if len(mol_id_present_config[mol_id])>24:\n",
    "        more_24.append(mol_id)"
   ]
  },
  {
   "cell_type": "code",
   "execution_count": 13,
   "id": "3b2ab588-73b4-4513-a6d2-4c4d138d1668",
   "metadata": {
    "tags": []
   },
   "outputs": [
    {
     "data": {
      "text/plain": [
       "40389"
      ]
     },
     "execution_count": 13,
     "metadata": {},
     "output_type": "execute_result"
    }
   ],
   "source": [
    "len(more_24)"
   ]
  },
  {
   "cell_type": "code",
   "execution_count": 14,
   "id": "817f5aeb-e0a7-4227-a5d3-4b5aef092fa4",
   "metadata": {
    "tags": []
   },
   "outputs": [
    {
     "name": "stderr",
     "output_type": "stream",
     "text": [
      "100%|██████████| 133882/133882 [00:00<00:00, 2337750.96it/s]\n"
     ]
    }
   ],
   "source": [
    "# check for more than 24 that register as non-duplicates\n",
    "set_mol_id_present_config = {}\n",
    "for id_ in mol_id_present_config:\n",
    "    set_mol_id_present_config[id_] = list(set(mol_id_present_config[id_]))\n",
    "\n",
    "set_more_24 = []\n",
    "for mol_id in tqdm(set_mol_id_present_config):\n",
    "    if len(set_mol_id_present_config[mol_id])>24:\n",
    "        set_more_24.append(mol_id)"
   ]
  },
  {
   "cell_type": "code",
   "execution_count": 17,
   "id": "dcbd58b4-8dac-4273-8241-36be59fd4b9a",
   "metadata": {
    "tags": []
   },
   "outputs": [
    {
     "data": {
      "text/plain": [
       "116537"
      ]
     },
     "execution_count": 17,
     "metadata": {},
     "output_type": "execute_result"
    }
   ],
   "source": [
    "len(set_more_24)\n",
    "set_more_24[0]"
   ]
  },
  {
   "cell_type": "code",
   "execution_count": 42,
   "id": "01a147dd-ab8c-4a7b-98a3-478ebdef2341",
   "metadata": {
    "tags": []
   },
   "outputs": [],
   "source": [
    "def remove_non_duplicate(dataset: list):\n",
    "    \"\"\"\n",
    "    This method is to remove mol ids that have more than 24 non-duplicate data. \n",
    "    \"\"\"\n",
    "    mol_id_present_config = {}\n",
    "    for data in tqdm(dataset):\n",
    "        try:\n",
    "            mol_id_present_config[data['mol_id']].append(data['charge_spin']+'_'+data['sp_config_type']+'_'+data['optimized_charge_spin']+'_'+data['solvent'])\n",
    "        except KeyError:\n",
    "            mol_id_present_config[data['mol_id']] = [data['charge_spin']+'_'+data['sp_config_type']+'_'+data['optimized_charge_spin']+'_'+data['solvent']]\n",
    "    \n",
    "    # check for more than 24 that register as non-duplicates\n",
    "    set_mol_id_present_config = {}\n",
    "    for id_ in mol_id_present_config:\n",
    "        set_mol_id_present_config[id_] = list(set(mol_id_present_config[id_]))\n",
    "\n",
    "    set_more_24 = []\n",
    "    for mol_id in tqdm(set_mol_id_present_config):\n",
    "        if len(set_mol_id_present_config[mol_id])>24:\n",
    "            set_more_24.append(mol_id)\n",
    "    \n",
    "    clean_data = []\n",
    "    for item in dataset:\n",
    "        if item['mol_id'] not in set_more_24:\n",
    "            clean_data.append(item)\n",
    "    \n",
    "    return clean_data"
   ]
  },
  {
   "cell_type": "code",
   "execution_count": 43,
   "id": "b4fd30b4-5f5a-4643-8c5f-ccb8815207ea",
   "metadata": {
    "tags": []
   },
   "outputs": [
    {
     "name": "stderr",
     "output_type": "stream",
     "text": [
      "100%|██████████| 3518823/3518823 [00:03<00:00, 1009093.97it/s]\n",
      "100%|██████████| 133882/133882 [00:00<00:00, 2895888.86it/s]\n"
     ]
    }
   ],
   "source": [
    "cleaner_data = remove_non_duplicate(merged_data)"
   ]
  },
  {
   "cell_type": "code",
   "execution_count": 44,
   "id": "01490a09-bd07-4b5c-83ee-37cb3e21d8a9",
   "metadata": {
    "tags": []
   },
   "outputs": [
    {
     "data": {
      "text/plain": [
       "5375"
      ]
     },
     "execution_count": 44,
     "metadata": {},
     "output_type": "execute_result"
    }
   ],
   "source": [
    "len(merged_data)-len(cleaner_data)"
   ]
  },
  {
   "cell_type": "code",
   "execution_count": null,
   "id": "cdd9e45f-9329-4269-aad6-95d18b158ecd",
   "metadata": {},
   "outputs": [],
   "source": []
  },
  {
   "cell_type": "code",
   "execution_count": 21,
   "id": "2ca8354a-0ac8-4562-a229-382e473e1e11",
   "metadata": {
    "tags": []
   },
   "outputs": [],
   "source": [
    "def find_duplicates(lst):\n",
    "    counts = {}\n",
    "    duplicates = []\n",
    "    for item in lst:\n",
    "        if item in counts:\n",
    "            counts[item] += 1\n",
    "        else:\n",
    "            counts[item] = 1\n",
    "    \n",
    "    for item, count in counts.items():\n",
    "        if count > 1:\n",
    "            duplicates.append(item)\n",
    "    \n",
    "    return duplicates"
   ]
  },
  {
   "cell_type": "code",
   "execution_count": 46,
   "id": "524c4c06-3697-430b-b497-051642e903d9",
   "metadata": {
    "tags": []
   },
   "outputs": [],
   "source": [
    "def remove_duplicate_data(dataset: list):\n",
    "    \"\"\"\n",
    "    This removes mol_ids that have duplicates resulting the set of the configs being less than 24.\n",
    "    \"\"\"\n",
    "    mol_id_present_config = {}\n",
    "    for data in tqdm(dataset):\n",
    "        try:\n",
    "            mol_id_present_config[data['mol_id']].append(data['charge_spin']+'_'+data['sp_config_type']+'_'+data['optimized_charge_spin']+'_'+data['solvent'])\n",
    "        except KeyError:\n",
    "            mol_id_present_config[data['mol_id']] = [data['charge_spin']+'_'+data['sp_config_type']+'_'+data['optimized_charge_spin']+'_'+data['solvent']]\n",
    "    \n",
    "    id_repeat = {}\n",
    "    remove_ids = []\n",
    "    for mol_id in mol_id_present_config:\n",
    "        dup = find_duplicates(mol_id_present_config[mol_id])\n",
    "        if len(dup)>0:\n",
    "            id_repeat[mol_id] = dup\n",
    "            if len(set(mol_id_present_config[mol_id])) < 24:\n",
    "                remove_ids.append(mol_id)\n",
    "    \n",
    "    print(len(remove_ids))\n",
    "    \n",
    "    clean_data = []\n",
    "    for item in tqdm(dataset):\n",
    "        if item['mol_id'] not in remove_ids:\n",
    "            clean_data.append(item)\n",
    "    \n",
    "    return clean_data"
   ]
  },
  {
   "cell_type": "code",
   "execution_count": 47,
   "id": "35556469-bed1-40c7-8dfa-6fb53ae228b6",
   "metadata": {
    "tags": []
   },
   "outputs": [
    {
     "name": "stderr",
     "output_type": "stream",
     "text": [
      "100%|██████████| 3513448/3513448 [00:03<00:00, 1020772.79it/s]\n"
     ]
    },
    {
     "name": "stdout",
     "output_type": "stream",
     "text": [
      "2510\n"
     ]
    },
    {
     "name": "stderr",
     "output_type": "stream",
     "text": [
      "100%|██████████| 3513448/3513448 [01:43<00:00, 33896.34it/s]\n"
     ]
    }
   ],
   "source": [
    "cleaner_data2=remove_duplicate_data(cleaner_data)"
   ]
  },
  {
   "cell_type": "code",
   "execution_count": 98,
   "id": "bb18ebe7-d66b-4a75-9f9d-43911a2283a0",
   "metadata": {
    "tags": []
   },
   "outputs": [],
   "source": [
    "len(cleaner_data)-len(cleaner_data2)"
   ]
  },
  {
   "cell_type": "code",
   "execution_count": 103,
   "id": "e464ecbf-3de5-4d00-b758-d2b21f0dc453",
   "metadata": {
    "tags": []
   },
   "outputs": [
    {
     "data": {
      "text/plain": [
       "3452504"
      ]
     },
     "execution_count": 103,
     "metadata": {},
     "output_type": "execute_result"
    }
   ],
   "source": [
    "len(cleaner_data2)"
   ]
  },
  {
   "cell_type": "code",
   "execution_count": null,
   "id": "557f522c-a5f3-4327-8ade-7936b4ce3857",
   "metadata": {},
   "outputs": [],
   "source": []
  },
  {
   "cell_type": "code",
   "execution_count": null,
   "id": "cbd39afe-b12c-441a-bf18-e9471ae7b9e5",
   "metadata": {},
   "outputs": [],
   "source": []
  },
  {
   "cell_type": "code",
   "execution_count": null,
   "id": "411f1133-4e62-4be0-9e45-1285d6a3cb59",
   "metadata": {},
   "outputs": [],
   "source": []
  },
  {
   "cell_type": "markdown",
   "id": "052b2276-8a10-4c1a-9b9f-96634de06eb4",
   "metadata": {},
   "source": [
    "# Record ids with <24 configs"
   ]
  },
  {
   "cell_type": "code",
   "execution_count": 25,
   "id": "2a24e494-c70d-4253-b9fe-f01ba3651e27",
   "metadata": {
    "tags": []
   },
   "outputs": [],
   "source": [
    "configs_24= ['2_1_vertical_1_2_SMD',\n",
    " '0_1_optimized_0_1_SMD',\n",
    " '2_1_vertical_1_2_vacuum',\n",
    " '0_3_optimized_0_3_vacuum',\n",
    " '-2_1_vertical_-1_2_vacuum',\n",
    " '-1_2_vertical_0_1_SMD',\n",
    " '-1_2_vertical_0_3_vacuum',\n",
    " '-1_2_optimized_-1_2_vacuum',\n",
    " '0_1_vertical_-1_2_vacuum',\n",
    " '0_1_optimized_0_1_vacuum',\n",
    " '0_3_optimized_0_3_SMD',\n",
    " '-1_2_optimized_-1_2_SMD',\n",
    " '1_2_optimized_1_2_SMD',\n",
    " '0_1_vertical_-1_2_SMD',\n",
    " '1_2_optimized_1_2_vacuum',\n",
    " '1_2_vertical_0_3_SMD',\n",
    " '0_1_vertical_1_2_SMD',\n",
    " '-1_2_vertical_0_1_vacuum',\n",
    " '-1_2_vertical_0_3_SMD',\n",
    " '-2_1_vertical_-1_2_SMD',\n",
    " '1_2_vertical_0_3_vacuum',\n",
    " '0_1_vertical_1_2_vacuum',\n",
    " '1_2_vertical_0_1_SMD',\n",
    " '1_2_vertical_0_1_vacuum']"
   ]
  },
  {
   "cell_type": "code",
   "execution_count": 13,
   "id": "68402a91-e4ad-4de1-bed3-443a328ce6bd",
   "metadata": {
    "tags": []
   },
   "outputs": [
    {
     "data": {
      "text/plain": [
       "['-1_2_optimized_-1_2_SMD',\n",
       " '-1_2_optimized_-1_2_vacuum',\n",
       " '-1_2_vertical_0_1_SMD',\n",
       " '-1_2_vertical_0_1_vacuum',\n",
       " '-1_2_vertical_0_3_SMD',\n",
       " '-1_2_vertical_0_3_vacuum',\n",
       " '-2_1_vertical_-1_2_SMD',\n",
       " '-2_1_vertical_-1_2_vacuum',\n",
       " '0_1_optimized_0_1_SMD',\n",
       " '0_1_optimized_0_1_vacuum',\n",
       " '0_1_vertical_-1_2_SMD',\n",
       " '0_1_vertical_-1_2_vacuum',\n",
       " '0_1_vertical_1_2_SMD',\n",
       " '0_1_vertical_1_2_vacuum',\n",
       " '0_3_optimized_0_3_SMD',\n",
       " '0_3_optimized_0_3_vacuum',\n",
       " '1_2_optimized_1_2_SMD',\n",
       " '1_2_optimized_1_2_vacuum',\n",
       " '1_2_vertical_0_1_SMD',\n",
       " '1_2_vertical_0_1_vacuum',\n",
       " '1_2_vertical_0_3_SMD',\n",
       " '1_2_vertical_0_3_vacuum',\n",
       " '2_1_vertical_1_2_SMD',\n",
       " '2_1_vertical_1_2_vacuum']"
      ]
     },
     "execution_count": 13,
     "metadata": {},
     "output_type": "execute_result"
    }
   ],
   "source": [
    "sorted(config24)"
   ]
  },
  {
   "cell_type": "code",
   "execution_count": 19,
   "id": "ecba2ad4-9cd9-400b-a957-6758d9a55e36",
   "metadata": {
    "tags": []
   },
   "outputs": [
    {
     "name": "stderr",
     "output_type": "stream",
     "text": [
      "100%|██████████| 3371648/3371648 [00:02<00:00, 1575571.30it/s]\n"
     ]
    }
   ],
   "source": [
    "bucket_mol_id2={}\n",
    "for data in tqdm(merged_data):\n",
    "    try:\n",
    "        bucket_mol_id2[data['mol_id']].append(data)\n",
    "    except KeyError:\n",
    "        bucket_mol_id2[data['mol_id']] = [data]"
   ]
  },
  {
   "cell_type": "code",
   "execution_count": 41,
   "id": "e480eaa0-1e65-448a-ad83-d28a0ece2283",
   "metadata": {
    "tags": []
   },
   "outputs": [],
   "source": [
    "def disjoint_lists(list1):\n",
    "    set1 = set(list1)\n",
    "    set2 = set(configs_24)\n",
    "    \n",
    "    disjoint_set2 = set2 - set1  # Elements in set2 but not in set1\n",
    "    \n",
    "    return list(disjoint_set2)"
   ]
  },
  {
   "cell_type": "code",
   "execution_count": 18,
   "id": "28ddbcd0-08b0-40d2-9ca3-9371a291de21",
   "metadata": {
    "tags": []
   },
   "outputs": [
    {
     "name": "stderr",
     "output_type": "stream",
     "text": [
      "100%|██████████| 3371648/3371648 [00:04<00:00, 775696.37it/s]\n"
     ]
    }
   ],
   "source": [
    "mol_id_present_config = {}\n",
    "for data in tqdm(merged_data):\n",
    "    try:\n",
    "        mol_id_present_config[data['mol_id']].append(data['charge_spin']+'_'+data['sp_config_type']+'_'+data['optimized_parent_charge_spin']+'_'+data['solvent'])\n",
    "    except KeyError:\n",
    "        mol_id_present_config[data['mol_id']] = [data['charge_spin']+'_'+data['sp_config_type']+'_'+data['optimized_parent_charge_spin']+'_'+data['solvent']]"
   ]
  },
  {
   "cell_type": "code",
   "execution_count": 22,
   "id": "f0ae42fa-dc39-4ba5-b878-ed0f6396aaf7",
   "metadata": {
    "tags": []
   },
   "outputs": [
    {
     "name": "stderr",
     "output_type": "stream",
     "text": [
      "100%|██████████| 561954/561954 [00:00<00:00, 700644.49it/s]\n"
     ]
    }
   ],
   "source": [
    "ids_missing = []\n",
    "for mol_id in tqdm(bucket_mol_id2):\n",
    "    if len(bucket_mol_id2[mol_id])<6:\n",
    "        ids_missing.append(mol_id)\n",
    "        \n",
    "    dup = find_duplicates(mol_id_present_config[mol_id])\n",
    "    if len(dup)>0:\n",
    "        if len(set(mol_id_present_config[mol_id])) < 24:\n",
    "            ids_missing.append(mol_id)"
   ]
  },
  {
   "cell_type": "code",
   "execution_count": 43,
   "id": "78085a69-bd7e-4fdc-80ec-885f4809d6bd",
   "metadata": {},
   "outputs": [
    {
     "name": "stderr",
     "output_type": "stream",
     "text": [
      "100%|██████████| 561954/561954 [00:00<00:00, 2206293.97it/s]\n"
     ]
    }
   ],
   "source": [
    "# ids_missing=[]\n",
    "# for mol_id in tqdm(bucket_mol_id2):\n",
    "#     if len(bucket_mol_id2[mol_id])<24:\n",
    "#         ids_missing.append(mol_id)"
   ]
  },
  {
   "cell_type": "code",
   "execution_count": 23,
   "id": "f8f16c2d-c6fd-4069-92d1-581a327b0b5c",
   "metadata": {
    "tags": []
   },
   "outputs": [
    {
     "data": {
      "text/plain": [
       "76"
      ]
     },
     "execution_count": 23,
     "metadata": {},
     "output_type": "execute_result"
    }
   ],
   "source": [
    "len(set(ids_missing))"
   ]
  },
  {
   "cell_type": "code",
   "execution_count": null,
   "id": "d1575e5d-6279-477e-85c5-2ed0b4e13c0e",
   "metadata": {},
   "outputs": [],
   "source": []
  },
  {
   "cell_type": "markdown",
   "id": "a5a52d60-b9c9-4abc-ace8-948126a9381d",
   "metadata": {},
   "source": [
    "1. Which configs are missing histogram in general. --> 24 bins x with log count y\n",
    "2. How many vertical and how many optimized configs are missing in general\n",
    "3. How many per optimized structure are missing\n",
    "4. How many specfic pairs are missing within each optimized structure "
   ]
  },
  {
   "cell_type": "code",
   "execution_count": 45,
   "id": "9847773b-1b5a-4018-8a52-a061fcfbd048",
   "metadata": {},
   "outputs": [
    {
     "ename": "NameError",
     "evalue": "name 'configs_24' is not defined",
     "output_type": "error",
     "traceback": [
      "\u001b[0;31m---------------------------------------------------------------------------\u001b[0m",
      "\u001b[0;31mKeyError\u001b[0m                                  Traceback (most recent call last)",
      "Cell \u001b[0;32mIn[45], line 4\u001b[0m\n\u001b[1;32m      3\u001b[0m \u001b[38;5;28;01mtry\u001b[39;00m:\n\u001b[0;32m----> 4\u001b[0m     \u001b[43mmissing_config\u001b[49m\u001b[43m[\u001b[49m\u001b[43mid_\u001b[49m\u001b[43m]\u001b[49m\u001b[38;5;241m.\u001b[39mappend(disjoint_lists(mol_id_present_config[id_]))\n\u001b[1;32m      5\u001b[0m \u001b[38;5;28;01mexcept\u001b[39;00m \u001b[38;5;167;01mKeyError\u001b[39;00m:\n",
      "\u001b[0;31mKeyError\u001b[0m: '548feeb51ffc8aaa0b966b4c1c64446d-C6H12N2O1-1-2'",
      "\nDuring handling of the above exception, another exception occurred:\n",
      "\u001b[0;31mNameError\u001b[0m                                 Traceback (most recent call last)",
      "Cell \u001b[0;32mIn[45], line 6\u001b[0m\n\u001b[1;32m      4\u001b[0m     missing_config[id_]\u001b[38;5;241m.\u001b[39mappend(disjoint_lists(mol_id_present_config[id_]))\n\u001b[1;32m      5\u001b[0m \u001b[38;5;28;01mexcept\u001b[39;00m \u001b[38;5;167;01mKeyError\u001b[39;00m:\n\u001b[0;32m----> 6\u001b[0m     missing_config[id_] \u001b[38;5;241m=\u001b[39m \u001b[43mdisjoint_lists\u001b[49m\u001b[43m(\u001b[49m\u001b[43mmol_id_present_config\u001b[49m\u001b[43m[\u001b[49m\u001b[43mid_\u001b[49m\u001b[43m]\u001b[49m\u001b[43m)\u001b[49m\n",
      "Cell \u001b[0;32mIn[41], line 3\u001b[0m, in \u001b[0;36mdisjoint_lists\u001b[0;34m(list1)\u001b[0m\n\u001b[1;32m      1\u001b[0m \u001b[38;5;28;01mdef\u001b[39;00m \u001b[38;5;21mdisjoint_lists\u001b[39m(list1):\n\u001b[1;32m      2\u001b[0m     set1 \u001b[38;5;241m=\u001b[39m \u001b[38;5;28mset\u001b[39m(list1)\n\u001b[0;32m----> 3\u001b[0m     set2 \u001b[38;5;241m=\u001b[39m \u001b[38;5;28mset\u001b[39m(\u001b[43mconfigs_24\u001b[49m)\n\u001b[1;32m      5\u001b[0m     disjoint_set2 \u001b[38;5;241m=\u001b[39m set2 \u001b[38;5;241m-\u001b[39m set1  \u001b[38;5;66;03m# Elements in set2 but not in set1\u001b[39;00m\n\u001b[1;32m      7\u001b[0m     \u001b[38;5;28;01mreturn\u001b[39;00m \u001b[38;5;28mlist\u001b[39m(disjoint_set2)\n",
      "\u001b[0;31mNameError\u001b[0m: name 'configs_24' is not defined"
     ]
    }
   ],
   "source": [
    "missing_config = {}\n",
    "for id_ in set(ids_missing):\n",
    "    try:\n",
    "        missing_config[id_].append(disjoint_lists(mol_id_present_config[id_]))\n",
    "    except KeyError:\n",
    "        missing_config[id_] = disjoint_lists(mol_id_present_config[id_])"
   ]
  },
  {
   "cell_type": "code",
   "execution_count": 53,
   "id": "9119ebed-e7d5-4145-bc99-6895f3f1f9bd",
   "metadata": {
    "tags": []
   },
   "outputs": [
    {
     "data": {
      "text/plain": [
       "['0_1_vertical_-1_2_SMD',\n",
       " '-2_1_vertical_-1_2_SMD',\n",
       " '-1_2_optimized_-1_2_SMD',\n",
       " '-2_1_vertical_-1_2_vacuum',\n",
       " '-1_2_optimized_-1_2_vacuum',\n",
       " '0_1_vertical_-1_2_vacuum']"
      ]
     },
     "execution_count": 53,
     "metadata": {},
     "output_type": "execute_result"
    }
   ],
   "source": [
    "missing_config[66651]"
   ]
  },
  {
   "cell_type": "code",
   "execution_count": 66,
   "id": "fc012f67-b328-40bc-9eae-82cddf3d0d37",
   "metadata": {
    "tags": []
   },
   "outputs": [],
   "source": [
    "config2id = {}\n",
    "for id_ in missing_config:\n",
    "    for value in missing_config[id_]:\n",
    "        try:\n",
    "            config2id[value].append(id_)\n",
    "        except KeyError:\n",
    "            config2id[value] = [id_]"
   ]
  },
  {
   "cell_type": "code",
   "execution_count": 67,
   "id": "b4b4df11-cbf8-4169-9ad6-f807eef5d788",
   "metadata": {
    "tags": []
   },
   "outputs": [],
   "source": [
    "length = [len(config2id[x]) for x in config2id]"
   ]
  },
  {
   "cell_type": "code",
   "execution_count": 68,
   "id": "0e9d92d1-73f9-40e9-a3b5-977d31324734",
   "metadata": {
    "tags": []
   },
   "outputs": [
    {
     "data": {
      "text/plain": [
       "86790"
      ]
     },
     "execution_count": 68,
     "metadata": {},
     "output_type": "execute_result"
    }
   ],
   "source": [
    "sum(length)"
   ]
  },
  {
   "cell_type": "code",
   "execution_count": 71,
   "id": "c6623dca-fbab-4fb2-a0aa-fd8fc8da3ff6",
   "metadata": {
    "tags": []
   },
   "outputs": [
    {
     "data": {
      "text/plain": [
       "Text(0, 0.5, 'Log Count')"
      ]
     },
     "execution_count": 71,
     "metadata": {},
     "output_type": "execute_result"
    },
    {
     "data": {
      "image/png": "[encoded data removed]",
      "text/plain": [
       "<Figure size 640x480 with 1 Axes>"
      ]
     },
     "metadata": {},
     "output_type": "display_data"
    }
   ],
   "source": [
    "plt.bar(config2id.keys(), length)\n",
    "plt.xticks(rotation=90)\n",
    "plt.yscale('log')\n",
    "# Adding title and labels\n",
    "plt.title('Missing Configurations: 86790')\n",
    "plt.xlabel('Configs')\n",
    "plt.ylabel('Log Count')\n",
    "# plt.ylabel('Count')"
   ]
  },
  {
   "cell_type": "markdown",
   "id": "c8e75f10-d9ec-4327-b2db-97847fb188fb",
   "metadata": {},
   "source": [
    "# Force Filter\n"
   ]
  },
  {
   "cell_type": "markdown",
   "id": "ae95070d-179d-41c5-bc2d-a261ef4564c0",
   "metadata": {},
   "source": [
    "You do not need to filter since these are all optimized points, which mean the forces are really small."
   ]
  },
  {
   "cell_type": "markdown",
   "id": "8c903990-8c89-463a-a893-844f9b862142",
   "metadata": {},
   "source": [
    "# Broken Graph Filter"
   ]
  },
  {
   "cell_type": "code",
   "execution_count": 113,
   "id": "9f19e2ee-2b8f-4bc0-9912-e2ab3e98b0a9",
   "metadata": {
    "tags": []
   },
   "outputs": [],
   "source": [
    "def build_graph(species, position):\n",
    "    atoms = ase.atoms.Atoms(symbols=species,\n",
    "                            positions=position)\n",
    "    mol = AseAtomsAdaptor.get_molecule(atoms)\n",
    "    graph = MoleculeGraph.with_local_env_strategy(mol, OpenBabelNN())\n",
    "    return graph"
   ]
  },
  {
   "cell_type": "code",
   "execution_count": 119,
   "id": "d5460a3e-e598-456e-9dec-126a8cbb0e41",
   "metadata": {
    "tags": []
   },
   "outputs": [],
   "source": [
    "def sp_filter_broken_graphs(data: list):\n",
    "    broken = []\n",
    "    good = []\n",
    "    \n",
    "    for item in tqdm(data):\n",
    "        if item['charge_spin'] == '0,1':\n",
    "            continue\n",
    "        else:\n",
    "            graph = build_graph(item['species'], item['geometry'])\n",
    "            connected = nx.is_connected(graph.graph.to_undirected())\n",
    "            if not connected:\n",
    "                broken.append(item)\n",
    "            else:\n",
    "                good.append(item)\n",
    "\n",
    "    return good, broken"
   ]
  },
  {
   "cell_type": "code",
   "execution_count": 1,
   "id": "82dd6745-020e-4aca-9c48-606df7622053",
   "metadata": {},
   "outputs": [],
   "source": [
    "# filtered_good, broken = sp_filter_broken_graphs(merged_data)"
   ]
  },
  {
   "cell_type": "code",
   "execution_count": null,
   "id": "198aa174-7846-4420-943d-408053686101",
   "metadata": {},
   "outputs": [],
   "source": [
    "import h5py\n",
    "with h5py.File('/pscratch/sd/m/mavaylon/new_pipe/sp_broken.h5', 'w') as file:\n",
    "    g1 =file.create_group('broken')\n",
    "    bbd=[]\n",
    "    for item in broken:\n",
    "        bbd.append(str(item))\n",
    "    g1.create_dataset('broken_data',data=bbd)"
   ]
  },
  {
   "cell_type": "code",
   "execution_count": null,
   "id": "2e8dcc9a-9607-4796-a990-966b666c2f35",
   "metadata": {},
   "outputs": [],
   "source": [
    "file.close()"
   ]
  },
  {
   "cell_type": "code",
   "execution_count": null,
   "id": "db60b26d-c8c7-4ccd-977a-7baba834b66f",
   "metadata": {},
   "outputs": [],
   "source": [
    "import h5py\n",
    "with h5py.File('/pscratch/sd/m/mavaylon/new_pipe/sp_filtered_out_broken.h5', 'w') as file:\n",
    "    g1 =file.create_group('good')\n",
    "    bbd=[]\n",
    "    for item in filtered_good:\n",
    "        bbd.append(str(item))\n",
    "    g1.create_dataset('good_data',data=bbd)"
   ]
  },
  {
   "cell_type": "code",
   "execution_count": 2,
   "id": "622618eb-4450-44d4-a2d6-ed52365195ef",
   "metadata": {},
   "outputs": [],
   "source": [
    "file_good = h5py.File('/pscratch/sd/m/mavaylon/new_pipe/sp_filtered_out_broken.h5', 'r')"
   ]
  },
  {
   "cell_type": "code",
   "execution_count": null,
   "id": "aa2de452-5dac-4eee-bc26-f186425a96b3",
   "metadata": {},
   "outputs": [
    {
     "name": "stderr",
     "output_type": "stream",
     "text": [
      " 25%|██▌       | 825383/3249471 [10:04<26:30, 1524.22it/s] "
     ]
    }
   ],
   "source": [
    "import h5py\n",
    "\n",
    "merged_data=[]\n",
    "for point in tqdm(file_good['good']['good_data']):\n",
    "    point = ast.literal_eval(point.decode('utf-8'))\n",
    "    merged_data.append(point)"
   ]
  },
  {
   "cell_type": "markdown",
   "id": "206c0a45-e7c5-414e-888c-d8dc708d6723",
   "metadata": {},
   "source": [
    "# Create buckets: Bucket_3 (SP vacuum) and Bucket_4 (SP smd)"
   ]
  },
  {
   "cell_type": "code",
   "execution_count": 56,
   "id": "a3fbee57-9eba-440b-bc2c-257e96b9795c",
   "metadata": {},
   "outputs": [],
   "source": [
    "vacuum_data = []\n",
    "smd_data = []\n",
    "solvents = []\n",
    "for item in merged_data:\n",
    "    solv = item['solvent']\n",
    "    solvents.append(solv)\n",
    "    if solv == 'vacuum':\n",
    "        vacuum_data.append(item)\n",
    "    elif solv == 'SMD':\n",
    "        smd_data.append(item)"
   ]
  },
  {
   "cell_type": "code",
   "execution_count": 57,
   "id": "838485e4-97d3-4165-b2f5-8dc22b798830",
   "metadata": {
    "tags": []
   },
   "outputs": [
    {
     "data": {
      "text/plain": [
       "1624740"
      ]
     },
     "execution_count": 57,
     "metadata": {},
     "output_type": "execute_result"
    }
   ],
   "source": [
    "len(vacuum_data)"
   ]
  },
  {
   "cell_type": "code",
   "execution_count": 58,
   "id": "f7063b78-d252-4fa9-8a21-4417e9964444",
   "metadata": {
    "tags": []
   },
   "outputs": [
    {
     "data": {
      "text/plain": [
       "1624731"
      ]
     },
     "execution_count": 58,
     "metadata": {},
     "output_type": "execute_result"
    }
   ],
   "source": [
    "len(smd_data)"
   ]
  },
  {
   "cell_type": "code",
   "execution_count": 59,
   "id": "15f8d332-fc9e-4589-80b4-cadcdd5ca21a",
   "metadata": {
    "tags": []
   },
   "outputs": [
    {
     "data": {
      "text/plain": [
       "{'SMD', 'vacuum'}"
      ]
     },
     "execution_count": 59,
     "metadata": {},
     "output_type": "execute_result"
    }
   ],
   "source": [
    "set(solvents)"
   ]
  },
  {
   "cell_type": "code",
   "execution_count": 60,
   "id": "677a6366-dc47-462f-95b3-e6d18a8a3060",
   "metadata": {
    "tags": []
   },
   "outputs": [
    {
     "data": {
      "text/plain": [
       "3249471"
      ]
     },
     "execution_count": 60,
     "metadata": {},
     "output_type": "execute_result"
    }
   ],
   "source": [
    "len(smd_data)+len(vacuum_data)"
   ]
  },
  {
   "cell_type": "code",
   "execution_count": null,
   "id": "97cd0c68-5a11-4e37-811e-c2882e41b7af",
   "metadata": {},
   "outputs": [],
   "source": []
  },
  {
   "cell_type": "code",
   "execution_count": 18,
   "id": "d0465b2c-5d36-4561-8914-2c458a2a06fe",
   "metadata": {
    "tags": []
   },
   "outputs": [],
   "source": [
    "raw_vacuum_data = []\n",
    "raw_smd_data = []\n",
    "raw_solvents = []\n",
    "for item in merged_raw_data:\n",
    "    solv = item['solvent']\n",
    "    raw_solvents.append(solv)\n",
    "    if solv == 'vacuum':\n",
    "        raw_vacuum_data.append(item)\n",
    "    elif solv == 'SMD':\n",
    "        raw_smd_data.append(item)"
   ]
  },
  {
   "cell_type": "code",
   "execution_count": 19,
   "id": "708e3c29-db6b-417d-b45a-71862a7d3f0b",
   "metadata": {
    "tags": []
   },
   "outputs": [
    {
     "data": {
      "text/plain": [
       "1685829"
      ]
     },
     "execution_count": 19,
     "metadata": {},
     "output_type": "execute_result"
    }
   ],
   "source": [
    "len(raw_vacuum_data)"
   ]
  },
  {
   "cell_type": "code",
   "execution_count": 21,
   "id": "329b4340-6469-4aae-a00e-8209fab38842",
   "metadata": {
    "tags": []
   },
   "outputs": [
    {
     "data": {
      "text/plain": [
       "1685819"
      ]
     },
     "execution_count": 21,
     "metadata": {},
     "output_type": "execute_result"
    }
   ],
   "source": [
    "len(raw_smd_data)"
   ]
  },
  {
   "cell_type": "code",
   "execution_count": 20,
   "id": "7a5e7079-a08e-4390-9acf-094ea6fbdce9",
   "metadata": {
    "tags": []
   },
   "outputs": [
    {
     "data": {
      "text/plain": [
       "{'SMD', 'vacuum'}"
      ]
     },
     "execution_count": 20,
     "metadata": {},
     "output_type": "execute_result"
    }
   ],
   "source": [
    "set(raw_solvents)"
   ]
  },
  {
   "cell_type": "markdown",
   "id": "4086d6e8-f86c-4ca8-95d7-4aadeee4dcc6",
   "metadata": {},
   "source": [
    "# Split the Data"
   ]
  },
  {
   "cell_type": "code",
   "execution_count": 21,
   "id": "7064b181-3b23-4b1c-bb88-582e6bce8611",
   "metadata": {
    "tags": []
   },
   "outputs": [],
   "source": [
    "def get_molecule_weight(data: list):\n",
    "    dict_dist = {}\n",
    "    data_dict = {}\n",
    "    for item in tqdm(data):\n",
    "        species_num = []\n",
    "        species=''.join((sorted(item['species'])))\n",
    "        \n",
    "        for element in item['species']:\n",
    "            species_num.append(elements_dict[element])\n",
    "\n",
    "        species_sum = sum(species_num)\n",
    "        try:\n",
    "            dict_dist[species].append(species_sum)\n",
    "            # python does a weird thing floats e.g., {126.15499999999993, 126.15499999999994}\n",
    "            dict_dist[species] = [dict_dist[species][0]]*len(dict_dist[species])\n",
    "        except KeyError:\n",
    "            dict_dist[species] = [species_sum]\n",
    "        \n",
    "    return dict_dist"
   ]
  },
  {
   "cell_type": "code",
   "execution_count": 22,
   "id": "477b951c-ab63-4e3e-9cda-453dc2a0de08",
   "metadata": {
    "tags": []
   },
   "outputs": [],
   "source": [
    "def molecule_weight(data: list, weight_dict):\n",
    "    for item in tqdm(data):\n",
    "        weight = weight_dict[''.join((sorted(item['species'])))][0]\n",
    "        item['molecule_mass'] = weight"
   ]
  },
  {
   "cell_type": "code",
   "execution_count": null,
   "id": "f0174cac-e58b-45d3-8013-9302b9bff45a",
   "metadata": {},
   "outputs": [],
   "source": [
    "# vacuum_data \n",
    "# smd_data "
   ]
  },
  {
   "cell_type": "markdown",
   "id": "4874960d-31bd-40f2-9f6b-369bd5345bb2",
   "metadata": {},
   "source": [
    "# Vac"
   ]
  },
  {
   "cell_type": "code",
   "execution_count": 103,
   "id": "626a9b48-7fea-4a37-8aa0-670590886dd0",
   "metadata": {
    "tags": []
   },
   "outputs": [
    {
     "name": "stderr",
     "output_type": "stream",
     "text": [
      "100%|██████████| 1624740/1624740 [00:24<00:00, 65288.69it/s]\n",
      "100%|██████████| 1624740/1624740 [00:01<00:00, 827752.17it/s]\n"
     ]
    }
   ],
   "source": [
    "merged_dist = get_molecule_weight(vacuum_data)\n",
    "molecule_weight(vacuum_data, merged_dist)"
   ]
  },
  {
   "cell_type": "code",
   "execution_count": 104,
   "id": "ef62b71d-d4ca-4066-a2be-16b94e70ed79",
   "metadata": {
    "tags": []
   },
   "outputs": [],
   "source": [
    "def weight_to_data(data: list):\n",
    "    dict_data = {}\n",
    "    for item in tqdm(data):\n",
    "        try:\n",
    "            dict_data[item['molecule_mass']].append(item)\n",
    "        except KeyError:\n",
    "            dict_data[item['molecule_mass']] = [item]\n",
    "    return dict_data"
   ]
  },
  {
   "cell_type": "code",
   "execution_count": 105,
   "id": "6ac43bbe-2716-475a-9823-6f7eda996a52",
   "metadata": {
    "tags": []
   },
   "outputs": [
    {
     "name": "stderr",
     "output_type": "stream",
     "text": [
      "100%|██████████| 1624740/1624740 [00:00<00:00, 2532043.58it/s]\n"
     ]
    }
   ],
   "source": [
    "wtd = weight_to_data(vacuum_data)"
   ]
  },
  {
   "cell_type": "code",
   "execution_count": 106,
   "id": "cb733ce2-d2f3-443e-a33a-250f08f4f159",
   "metadata": {
    "tags": []
   },
   "outputs": [],
   "source": [
    "length_dict = {key: len(value) for key, value in wtd.items()}\n",
    "sorted_length_dict = {k: length_dict[k] for k in sorted(length_dict, reverse=True)}\n"
   ]
  },
  {
   "cell_type": "code",
   "execution_count": 107,
   "id": "c6ae80f6-bec3-4dec-a5f2-94426b70b45f",
   "metadata": {
    "tags": []
   },
   "outputs": [],
   "source": [
    "# sorted_length_dict"
   ]
  },
  {
   "cell_type": "code",
   "execution_count": 108,
   "id": "ffba3884-dab0-4f8c-8b89-78cdad50eb67",
   "metadata": {
    "tags": []
   },
   "outputs": [],
   "source": [
    "vac_train_mass = [152.037]\n",
    "vac_test_mass = [144.09200000000007]\n",
    "vac_val_mass = [143.1080000000001]\n",
    "\n",
    "vac_train = sorted_length_dict[152.037] # trackers for dataset sizes\n",
    "vac_test = sorted_length_dict[144.09200000000007]\n",
    "vac_val = sorted_length_dict[143.1080000000001]\n",
    "\n",
    "sorted_length_dict.pop(152.037)\n",
    "sorted_length_dict.pop(144.09200000000007)\n",
    "sorted_length_dict.pop(143.1080000000001)\n",
    "\n",
    "\n",
    "# data is a dict: mass-># of trajs\n",
    "for mass in sorted_length_dict:\n",
    "    temp_total = vac_train+vac_val+vac_test\n",
    "    train_ratio = .65-(vac_train/temp_total)\n",
    "    test_ratio = .25-(vac_test/temp_total)\n",
    "    val_ratio = .1-(vac_val/temp_total)\n",
    "    \n",
    "    if train_ratio > val_ratio and train_ratio>test_ratio:\n",
    "        vac_train_mass.append(mass)\n",
    "        vac_train += sorted_length_dict[mass]\n",
    "    if val_ratio > train_ratio and val_ratio>test_ratio:\n",
    "        vac_val_mass.append(mass)\n",
    "        vac_val += sorted_length_dict[mass]\n",
    "    if test_ratio > val_ratio and test_ratio>train_ratio:\n",
    "        vac_test_mass.append(mass)\n",
    "        vac_test += sorted_length_dict[mass]"
   ]
  },
  {
   "cell_type": "code",
   "execution_count": 109,
   "id": "d797464d-3333-443a-a97d-871bcd89e390",
   "metadata": {
    "tags": []
   },
   "outputs": [
    {
     "data": {
      "text/plain": [
       "0.649998153550722"
      ]
     },
     "execution_count": 109,
     "metadata": {},
     "output_type": "execute_result"
    }
   ],
   "source": [
    "vac_train/(vac_train+vac_val+vac_test)"
   ]
  },
  {
   "cell_type": "code",
   "execution_count": 110,
   "id": "1d8e0dec-55d2-410e-bc5c-26b4d3418ec5",
   "metadata": {
    "tags": []
   },
   "outputs": [
    {
     "data": {
      "text/plain": [
       "0.09999938451690732"
      ]
     },
     "execution_count": 110,
     "metadata": {},
     "output_type": "execute_result"
    }
   ],
   "source": [
    "vac_val/(vac_train+vac_val+vac_test)"
   ]
  },
  {
   "cell_type": "code",
   "execution_count": 111,
   "id": "e2796001-a04d-4ad8-89c9-0aad3e1829d7",
   "metadata": {
    "tags": []
   },
   "outputs": [
    {
     "data": {
      "text/plain": [
       "0.25000246193237075"
      ]
     },
     "execution_count": 111,
     "metadata": {},
     "output_type": "execute_result"
    }
   ],
   "source": [
    "vac_test/(vac_train+vac_val+vac_test)"
   ]
  },
  {
   "cell_type": "code",
   "execution_count": 112,
   "id": "29c01e6b-0939-47c8-a569-c09861e6a36b",
   "metadata": {
    "tags": []
   },
   "outputs": [],
   "source": [
    "sorted_length_dict = {k: length_dict[k] for k in sorted(length_dict, reverse=True)}"
   ]
  },
  {
   "cell_type": "code",
   "execution_count": 123,
   "id": "2a116d16-34ba-4fab-a75a-100a9be5a048",
   "metadata": {
    "tags": []
   },
   "outputs": [],
   "source": [
    "vac_train_subset={key: sorted_length_dict[key] for key in vac_train_mass if key in sorted_length_dict}\n",
    "vac_test_subset={key: sorted_length_dict[key] for key in vac_test_mass if key in sorted_length_dict}\n",
    "vac_val_subset={key: sorted_length_dict[key] for key in vac_val_mass if key in sorted_length_dict}\n",
    "\n",
    "vac_train_foo=[[x]*vac_train_subset[x] for x in vac_train_subset]\n",
    "vac_test_foo=[[x]*vac_test_subset[x] for x in vac_test_subset]\n",
    "vac_val_foo=[[x]*vac_val_subset[x] for x in vac_val_subset]\n",
    "\n",
    "from itertools import chain\n",
    "\n",
    "vac_train_subset_merged = list(chain.from_iterable(vac_train_foo))\n",
    "vac_test_subset_merged = list(chain.from_iterable(vac_test_foo))\n",
    "vac_val_subset_merged = list(chain.from_iterable(vac_val_foo))\n"
   ]
  },
  {
   "cell_type": "code",
   "execution_count": 124,
   "id": "511869da-242d-409d-bb41-eacc98437bc9",
   "metadata": {
    "tags": []
   },
   "outputs": [],
   "source": []
  },
  {
   "cell_type": "code",
   "execution_count": 125,
   "id": "75dde6d2-2658-4bc8-a36c-4607434f718c",
   "metadata": {
    "tags": []
   },
   "outputs": [],
   "source": []
  },
  {
   "cell_type": "code",
   "execution_count": 126,
   "id": "24e9d2ec-33df-4117-8132-6d7156ea299a",
   "metadata": {
    "tags": []
   },
   "outputs": [
    {
     "data": {
      "text/plain": [
       "Text(0.5, 1.0, 'Train')"
      ]
     },
     "execution_count": 126,
     "metadata": {},
     "output_type": "execute_result"
    },
    {
     "data": {
      "image/png": "[encoded data removed]",
      "text/plain": [
       "<Figure size 640x480 with 1 Axes>"
      ]
     },
     "metadata": {},
     "output_type": "display_data"
    }
   ],
   "source": [
    "plt.hist(vac_train_subset_merged, bins=50)\n",
    "plt.ylabel('Frequency (log)')\n",
    "plt.yscale('log')\n",
    "plt.xlabel('Molecule Mass')\n",
    "plt.title('Train')"
   ]
  },
  {
   "cell_type": "code",
   "execution_count": 127,
   "id": "531e9c2c-40f2-4a45-8604-ead9ef63a9d4",
   "metadata": {
    "tags": []
   },
   "outputs": [
    {
     "data": {
      "text/plain": [
       "Text(0.5, 1.0, 'Test')"
      ]
     },
     "execution_count": 127,
     "metadata": {},
     "output_type": "execute_result"
    },
    {
     "data": {
      "image/png": "[encoded data removed]",
      "text/plain": [
       "<Figure size 640x480 with 1 Axes>"
      ]
     },
     "metadata": {},
     "output_type": "display_data"
    }
   ],
   "source": [
    "plt.hist(vac_test_subset_merged, bins=50)\n",
    "plt.ylabel('Frequency (log)')\n",
    "plt.yscale('log')\n",
    "plt.xlabel('Molecule Mass')\n",
    "plt.title('Test')"
   ]
  },
  {
   "cell_type": "code",
   "execution_count": 128,
   "id": "05d6d43a-ec2f-42e9-bbfe-0f9b724022d2",
   "metadata": {
    "tags": []
   },
   "outputs": [
    {
     "data": {
      "text/plain": [
       "Text(0.5, 1.0, 'Val')"
      ]
     },
     "execution_count": 128,
     "metadata": {},
     "output_type": "execute_result"
    },
    {
     "data": {
      "image/png": "[encoded data removed]",
      "text/plain": [
       "<Figure size 640x480 with 1 Axes>"
      ]
     },
     "metadata": {},
     "output_type": "display_data"
    }
   ],
   "source": [
    "plt.hist(vac_val_subset_merged, bins=50)\n",
    "plt.ylabel('Frequency (log)')\n",
    "plt.yscale('log')\n",
    "plt.xlabel('Molecule Mass')\n",
    "plt.title('Val')"
   ]
  },
  {
   "cell_type": "code",
   "execution_count": 129,
   "id": "e87aea75-f055-4ffc-97ae-ad137bf75f82",
   "metadata": {
    "tags": []
   },
   "outputs": [],
   "source": [
    "# vac_test_mass"
   ]
  },
  {
   "cell_type": "code",
   "execution_count": 119,
   "id": "a3ab7814-92d6-4e17-8fb9-d40a9052f195",
   "metadata": {
    "tags": []
   },
   "outputs": [],
   "source": [
    "vac_switch=[ 117.039,\n",
    "116.20399999999991,\n",
    "116.15999999999993,\n",
    "115.09599999999999,\n",
    "115.095,\n",
    "112.054,\n",
    "112.05,\n",
    "111.14799999999995,\n",
    " 102.08899999999997,\n",
    "101.06499999999997,\n",
    "101.06099999999998,\n",
    "100.20499999999991,\n",
    " 99.053,\n",
    "99.04899999999999,\n",
    "98.18899999999992,\n",
    " 95.02300000000001,\n",
    "94.11699999999996,\n",
    "85.10599999999997,\n",
    "84.07799999999997,\n",
    "83.046,]"
   ]
  },
  {
   "cell_type": "code",
   "execution_count": 120,
   "id": "0ec72eb1-a294-44a2-ad1c-49024c80f920",
   "metadata": {
    "tags": []
   },
   "outputs": [],
   "source": [
    "for mass in vac_switch:\n",
    "    vac_val_mass.append(mass)\n",
    "    vac_val += sorted_length_dict[mass]\n",
    "    \n",
    "    vac_test_mass.remove(mass)\n",
    "    vac_test -= sorted_length_dict[mass]"
   ]
  },
  {
   "cell_type": "code",
   "execution_count": 137,
   "id": "495a380a-735e-41b2-80ad-415baf66a677",
   "metadata": {
    "tags": []
   },
   "outputs": [],
   "source": [
    "vac_train_data = [wtd[x] for x in vac_train_mass]\n",
    "vac_train_data = list(chain.from_iterable(vac_train_data))\n",
    "\n",
    "vac_val_data = [wtd[x] for x in vac_val_mass]\n",
    "vac_val_data = list(chain.from_iterable(vac_val_data))\n",
    "\n",
    "vac_test_data = [wtd[x] for x in vac_test_mass]\n",
    "vac_test_data = list(chain.from_iterable(vac_test_data))\n"
   ]
  },
  {
   "cell_type": "code",
   "execution_count": 138,
   "id": "db132d6a-3389-498f-92f4-b178c60cf428",
   "metadata": {
    "tags": []
   },
   "outputs": [],
   "source": [
    "vac_data = {'train':vac_train_data,\n",
    "        'val': vac_val_data,\n",
    "        'test': vac_test_data}"
   ]
  },
  {
   "cell_type": "markdown",
   "id": "11cbb3a5-1f56-486b-bd5f-f0ece5ce8ed7",
   "metadata": {},
   "source": [
    "### vac singlet"
   ]
  },
  {
   "cell_type": "code",
   "execution_count": 190,
   "id": "3fe9e93d-4855-4921-8e21-13a141d5fa00",
   "metadata": {
    "tags": []
   },
   "outputs": [],
   "source": [
    "vac_train_data_singlet = []\n",
    "for item in vac_train_data:\n",
    "    if item['spin']==1:\n",
    "        vac_train_data_singlet.append(item)"
   ]
  },
  {
   "cell_type": "code",
   "execution_count": 191,
   "id": "5a60e42b-c3bf-471b-8b74-cbb39f6678d8",
   "metadata": {
    "tags": []
   },
   "outputs": [],
   "source": [
    "vac_val_data_singlet = []\n",
    "for item in vac_val_data:\n",
    "    if item['spin']==1:\n",
    "        vac_val_data_singlet.append(item)"
   ]
  },
  {
   "cell_type": "code",
   "execution_count": 192,
   "id": "485c5045-a4b2-4f08-8f51-3b894b91a157",
   "metadata": {
    "tags": []
   },
   "outputs": [],
   "source": [
    "vac_test_data_singlet = []\n",
    "for item in vac_test_data:\n",
    "    if item['spin']==1:\n",
    "        vac_test_data_singlet.append(item)"
   ]
  },
  {
   "cell_type": "code",
   "execution_count": 193,
   "id": "ee1e36fa-9934-4164-b314-a41e557462d9",
   "metadata": {
    "tags": []
   },
   "outputs": [],
   "source": [
    "vac_singlet_data = {'train':vac_train_data_singlet,\n",
    "        'val': vac_val_data_singlet,\n",
    "        'test': vac_test_data_singlet}"
   ]
  },
  {
   "cell_type": "code",
   "execution_count": null,
   "id": "36416072-fec4-4d73-bc80-6233e590d185",
   "metadata": {},
   "outputs": [],
   "source": []
  },
  {
   "cell_type": "markdown",
   "id": "3f919395-e8b0-4826-b4c6-5c6adfb1751f",
   "metadata": {},
   "source": [
    "### vac doublet"
   ]
  },
  {
   "cell_type": "code",
   "execution_count": 194,
   "id": "34f0e529-af52-4fba-bdd4-f2251fcf7f8e",
   "metadata": {
    "tags": []
   },
   "outputs": [],
   "source": [
    "vac_train_data_doublet = []\n",
    "for item in vac_train_data:\n",
    "    if item['spin']==2:\n",
    "        vac_train_data_doublet.append(item)"
   ]
  },
  {
   "cell_type": "code",
   "execution_count": 195,
   "id": "da6d5ea2-b382-4933-9895-1ff35539e8e1",
   "metadata": {
    "tags": []
   },
   "outputs": [],
   "source": [
    "vac_val_data_doublet = []\n",
    "for item in vac_val_data:\n",
    "    if item['spin']==2:\n",
    "        vac_val_data_doublet.append(item)"
   ]
  },
  {
   "cell_type": "code",
   "execution_count": 196,
   "id": "f8c46bce-778f-43dd-8040-660ec39b1734",
   "metadata": {
    "tags": []
   },
   "outputs": [],
   "source": [
    "vac_test_data_doublet = []\n",
    "for item in vac_test_data:\n",
    "    if item['spin']==2:\n",
    "        vac_test_data_doublet.append(item)"
   ]
  },
  {
   "cell_type": "code",
   "execution_count": 197,
   "id": "38a3cb10-73c4-4e34-890c-acfa928f51b3",
   "metadata": {
    "tags": []
   },
   "outputs": [],
   "source": [
    "vac_doublet_data = {'train':vac_train_data_doublet,\n",
    "        'val': vac_val_data_doublet,\n",
    "        'test': vac_test_data_doublet}"
   ]
  },
  {
   "cell_type": "markdown",
   "id": "719cf815-79b0-45ee-b374-4bd03d160325",
   "metadata": {},
   "source": [
    "# SMD"
   ]
  },
  {
   "cell_type": "code",
   "execution_count": 162,
   "id": "7ef25e23-d33a-40ee-8b9f-715dc575ac3e",
   "metadata": {
    "tags": []
   },
   "outputs": [
    {
     "name": "stderr",
     "output_type": "stream",
     "text": [
      "100%|██████████| 1624731/1624731 [00:24<00:00, 66641.27it/s]\n",
      "100%|██████████| 1624731/1624731 [00:01<00:00, 836754.61it/s]\n"
     ]
    }
   ],
   "source": [
    "merged_dist = get_molecule_weight(smd_data)\n",
    "molecule_weight(smd_data, merged_dist)"
   ]
  },
  {
   "cell_type": "code",
   "execution_count": 163,
   "id": "082893c0-5742-41ec-a05f-fbbf7e073fc7",
   "metadata": {
    "tags": []
   },
   "outputs": [
    {
     "name": "stderr",
     "output_type": "stream",
     "text": [
      "100%|██████████| 1624731/1624731 [00:00<00:00, 2865216.14it/s]\n"
     ]
    }
   ],
   "source": [
    "wtd = weight_to_data(smd_data)"
   ]
  },
  {
   "cell_type": "code",
   "execution_count": 164,
   "id": "bde0930d-ac02-4849-afe5-89e398dda239",
   "metadata": {
    "tags": []
   },
   "outputs": [],
   "source": [
    "length_dict = {key: len(value) for key, value in wtd.items()}\n",
    "sorted_length_dict = {k: length_dict[k] for k in sorted(length_dict, reverse=True)}\n"
   ]
  },
  {
   "cell_type": "code",
   "execution_count": 165,
   "id": "02ae7f04-893d-4f5f-8f00-7fd92bd259d6",
   "metadata": {
    "tags": []
   },
   "outputs": [],
   "source": [
    "smd_train_mass = [152.037]\n",
    "smd_test_mass = [144.09200000000007]\n",
    "smd_val_mass = [143.1080000000001]\n",
    "\n",
    "smd_train = sorted_length_dict[152.037] # trackers for dataset sizes\n",
    "smd_test = sorted_length_dict[144.09200000000007]\n",
    "smd_val = sorted_length_dict[143.1080000000001]\n",
    "\n",
    "sorted_length_dict.pop(152.037)\n",
    "sorted_length_dict.pop(144.09200000000007)\n",
    "sorted_length_dict.pop(143.1080000000001)\n",
    "\n",
    "\n",
    "# data is a dict: mass-># of trajs\n",
    "for mass in sorted_length_dict:\n",
    "    temp_total = smd_train+smd_val+smd_test\n",
    "    train_ratio = .65-(smd_train/temp_total)\n",
    "    test_ratio = .25-(smd_test/temp_total)\n",
    "    val_ratio = .1-(smd_val/temp_total)\n",
    "    \n",
    "    if train_ratio > val_ratio and train_ratio>test_ratio:\n",
    "        smd_train_mass.append(mass)\n",
    "        smd_train += sorted_length_dict[mass]\n",
    "    if val_ratio > train_ratio and val_ratio>test_ratio:\n",
    "        smd_val_mass.append(mass)\n",
    "        smd_val += sorted_length_dict[mass]\n",
    "    if test_ratio > val_ratio and test_ratio>train_ratio:\n",
    "        smd_test_mass.append(mass)\n",
    "        smd_test += sorted_length_dict[mass]"
   ]
  },
  {
   "cell_type": "code",
   "execution_count": 166,
   "id": "f5b5cf62-dc58-48be-a6fc-ba7bffff159d",
   "metadata": {
    "tags": []
   },
   "outputs": [
    {
     "data": {
      "text/plain": [
       "0.6499980612175185"
      ]
     },
     "execution_count": 166,
     "metadata": {},
     "output_type": "execute_result"
    }
   ],
   "source": [
    "smd_train/(smd_train+smd_val+smd_test)"
   ]
  },
  {
   "cell_type": "code",
   "execution_count": 167,
   "id": "cd58a50d-a64d-4e1f-9425-38eb4f064b83",
   "metadata": {
    "tags": []
   },
   "outputs": [
    {
     "data": {
      "text/plain": [
       "0.10000547782986845"
      ]
     },
     "execution_count": 167,
     "metadata": {},
     "output_type": "execute_result"
    }
   ],
   "source": [
    "smd_val/(smd_train+smd_val+smd_test)"
   ]
  },
  {
   "cell_type": "code",
   "execution_count": 168,
   "id": "fb1b2240-076c-4aa9-926e-f8d9eee850d0",
   "metadata": {
    "tags": []
   },
   "outputs": [
    {
     "data": {
      "text/plain": [
       "0.24999646095261308"
      ]
     },
     "execution_count": 168,
     "metadata": {},
     "output_type": "execute_result"
    }
   ],
   "source": [
    "smd_test/(smd_train+smd_val+smd_test)"
   ]
  },
  {
   "cell_type": "code",
   "execution_count": 177,
   "id": "1ae01d64-4786-4c11-88cf-0acc5754aa0f",
   "metadata": {
    "tags": []
   },
   "outputs": [],
   "source": [
    "smd_train_subset={key: sorted_length_dict[key] for key in smd_train_mass if key in sorted_length_dict}\n",
    "smd_test_subset={key: sorted_length_dict[key] for key in smd_test_mass if key in sorted_length_dict}\n",
    "smd_val_subset={key: sorted_length_dict[key] for key in smd_val_mass if key in sorted_length_dict}\n",
    "\n",
    "smd_train_foo=[[x]*smd_train_subset[x] for x in smd_train_subset]\n",
    "smd_test_foo=[[x]*smd_test_subset[x] for x in smd_test_subset]\n",
    "smd_val_foo=[[x]*smd_val_subset[x] for x in smd_val_subset]\n",
    "\n",
    "from itertools import chain\n",
    "\n",
    "smd_train_subset_merged = list(chain.from_iterable(smd_train_foo))\n",
    "smd_test_subset_merged = list(chain.from_iterable(smd_test_foo))\n",
    "smd_val_subset_merged = list(chain.from_iterable(smd_val_foo))\n"
   ]
  },
  {
   "cell_type": "code",
   "execution_count": 178,
   "id": "06f60fef-2ce3-4b39-8a06-073d5248fe69",
   "metadata": {
    "tags": []
   },
   "outputs": [
    {
     "data": {
      "text/plain": [
       "Text(0.5, 1.0, 'Train')"
      ]
     },
     "execution_count": 178,
     "metadata": {},
     "output_type": "execute_result"
    },
    {
     "data": {
      "image/png": "[encoded data removed]",
      "text/plain": [
       "<Figure size 640x480 with 1 Axes>"
      ]
     },
     "metadata": {},
     "output_type": "display_data"
    }
   ],
   "source": [
    "plt.hist(smd_train_subset_merged, bins=50)\n",
    "plt.ylabel('Frequency (log)')\n",
    "plt.yscale('log')\n",
    "plt.xlabel('Molecule Mass')\n",
    "plt.title('Train')"
   ]
  },
  {
   "cell_type": "code",
   "execution_count": 179,
   "id": "a553e07a-4b62-44c7-8015-3d4ae832814f",
   "metadata": {
    "tags": []
   },
   "outputs": [
    {
     "data": {
      "text/plain": [
       "Text(0.5, 1.0, 'Test')"
      ]
     },
     "execution_count": 179,
     "metadata": {},
     "output_type": "execute_result"
    },
    {
     "data": {
      "image/png": "[encoded data removed]",
      "text/plain": [
       "<Figure size 640x480 with 1 Axes>"
      ]
     },
     "metadata": {},
     "output_type": "display_data"
    }
   ],
   "source": [
    "plt.hist(smd_test_subset_merged, bins=50)\n",
    "plt.ylabel('Frequency (log)')\n",
    "plt.yscale('log')\n",
    "plt.xlabel('Molecule Mass')\n",
    "plt.title('Test')"
   ]
  },
  {
   "cell_type": "code",
   "execution_count": 180,
   "id": "374985e9-2b63-42e7-b120-7db48920973b",
   "metadata": {
    "tags": []
   },
   "outputs": [
    {
     "data": {
      "text/plain": [
       "Text(0.5, 1.0, 'Val')"
      ]
     },
     "execution_count": 180,
     "metadata": {},
     "output_type": "execute_result"
    },
    {
     "data": {
      "image/png": "[encoded data removed]",
      "text/plain": [
       "<Figure size 640x480 with 1 Axes>"
      ]
     },
     "metadata": {},
     "output_type": "display_data"
    }
   ],
   "source": [
    "plt.hist(smd_val_subset_merged, bins=50)\n",
    "plt.ylabel('Frequency (log)')\n",
    "plt.yscale('log')\n",
    "plt.xlabel('Molecule Mass')\n",
    "plt.title('Val')"
   ]
  },
  {
   "cell_type": "code",
   "execution_count": 176,
   "id": "e4bee892-f357-428e-a206-d2cce858d544",
   "metadata": {
    "tags": []
   },
   "outputs": [],
   "source": [
    "# smd_test_mass\n",
    "# # "
   ]
  },
  {
   "cell_type": "code",
   "execution_count": 174,
   "id": "0b3fb959-70c8-44e5-a9a6-1d9a73bbbb03",
   "metadata": {
    "tags": []
   },
   "outputs": [],
   "source": [
    "smd_switch=[117.039,\n",
    "116.20399999999991,\n",
    "116.15999999999993,\n",
    "113.07199999999997,\n",
    "112.21599999999991,\n",
    "110.11599999999997,\n",
    "109.13199999999996,\n",
    "109.09199999999998,\n",
    "102.09199999999997,\n",
    "102.08899999999997,\n",
    "101.06499999999997,\n",
    "101.06099999999998,\n",
    "100.20499999999991,\n",
    "97.11699999999996,\n",
    "95.10499999999999,\n",
    "95.06099999999999,\n",
    "93.08899999999998,\n",
    "92.14099999999995,\n",
    "88.14999999999993,\n",
    "86.04999999999998,\n",
    "86.04599999999999,\n",
    "85.10999999999997,         ]"
   ]
  },
  {
   "cell_type": "code",
   "execution_count": 175,
   "id": "c41824ec-5ac6-4faf-9671-96d74038150a",
   "metadata": {
    "tags": []
   },
   "outputs": [],
   "source": [
    "for mass in smd_switch:\n",
    "    smd_val_mass.append(mass)\n",
    "    smd_val += sorted_length_dict[mass]\n",
    "    \n",
    "    smd_test_mass.remove(mass)\n",
    "    smd_test -= sorted_length_dict[mass]"
   ]
  },
  {
   "cell_type": "code",
   "execution_count": 186,
   "id": "cca70a5a-0996-4458-a115-9f7a26be20b2",
   "metadata": {
    "tags": []
   },
   "outputs": [],
   "source": [
    "smd_train_data = [wtd[x] for x in smd_train_mass]\n",
    "smd_train_data = list(chain.from_iterable(smd_train_data))\n",
    "\n",
    "smd_val_data = [wtd[x] for x in smd_val_mass]\n",
    "smd_val_data = list(chain.from_iterable(smd_val_data))\n",
    "\n",
    "smd_test_data = [wtd[x] for x in smd_test_mass]\n",
    "smd_test_data = list(chain.from_iterable(smd_test_data))\n"
   ]
  },
  {
   "cell_type": "code",
   "execution_count": 187,
   "id": "9ffbb8f5-f9eb-48e4-ad78-62f9e46f2989",
   "metadata": {
    "tags": []
   },
   "outputs": [],
   "source": [
    "smd_data = {'train':smd_train_data,\n",
    "        'val': smd_val_data,\n",
    "        'test': smd_test_data}"
   ]
  },
  {
   "cell_type": "markdown",
   "id": "a89bacf6-f1b7-4fd8-920d-5832c72994eb",
   "metadata": {},
   "source": [
    "### singlet"
   ]
  },
  {
   "cell_type": "code",
   "execution_count": 201,
   "id": "5f328156-6ffa-4a89-9154-f39f60b71d0a",
   "metadata": {
    "tags": []
   },
   "outputs": [],
   "source": [
    "smd_train_data_singlet = []\n",
    "for item in smd_train_data:\n",
    "    if item['spin']==1:\n",
    "        smd_train_data_singlet.append(item)\n",
    "\n",
    "smd_val_data_singlet = []\n",
    "for item in smd_val_data:\n",
    "    if item['spin']==1:\n",
    "        smd_val_data_singlet.append(item)\n",
    "        \n",
    "smd_test_data_singlet = []\n",
    "for item in smd_test_data:\n",
    "    if item['spin']==1:\n",
    "        smd_test_data_singlet.append(item)\n",
    "        \n",
    "smd_singlet_data = {'train':smd_train_data_singlet,\n",
    "        'val': smd_val_data_singlet,\n",
    "        'test': smd_test_data_singlet}"
   ]
  },
  {
   "cell_type": "markdown",
   "id": "88069553-7fa6-4474-b3f5-9e1c2bf2f4b3",
   "metadata": {},
   "source": [
    "### doublet"
   ]
  },
  {
   "cell_type": "code",
   "execution_count": 202,
   "id": "c25181f6-7c96-4df4-ab2c-44b03947dd55",
   "metadata": {
    "tags": []
   },
   "outputs": [],
   "source": [
    "smd_train_data_doublet = []\n",
    "for item in smd_train_data:\n",
    "    if item['spin']==2:\n",
    "        smd_train_data_doublet.append(item)\n",
    "\n",
    "smd_val_data_doublet = []\n",
    "for item in smd_val_data:\n",
    "    if item['spin']==2:\n",
    "        smd_val_data_doublet.append(item)\n",
    "        \n",
    "smd_test_data_doublet = []\n",
    "for item in smd_test_data:\n",
    "    if item['spin']==2:\n",
    "        smd_test_data_doublet.append(item)\n",
    "        \n",
    "smd_doublet_data = {'train':smd_train_data_doublet,\n",
    "        'val': smd_val_data_doublet,\n",
    "        'test': smd_test_data_doublet}"
   ]
  },
  {
   "cell_type": "code",
   "execution_count": null,
   "id": "45c89827-336a-4d4e-bfe3-fcb270cb8386",
   "metadata": {},
   "outputs": [],
   "source": []
  },
  {
   "cell_type": "markdown",
   "id": "4f93f5eb-a14b-458d-abb8-dd3f6c71e013",
   "metadata": {},
   "source": [
    "# Chunk"
   ]
  },
  {
   "cell_type": "code",
   "execution_count": null,
   "id": "f4ac1182-cac4-4796-b7f3-191dc0e894a4",
   "metadata": {},
   "outputs": [],
   "source": [
    "weight_dist = {}\n",
    "weight_dict = {}\n",
    "for mol_id in tqdm(bucket):\n",
    "    species = bucket[mol_id][0]['species']\n",
    "    species_num = []\n",
    "    species_sorted = ''.join(sorted(set(species)))\n",
    "    for element in species:\n",
    "        species_num.append(elements_dict[element])\n",
    "\n",
    "    try:\n",
    "        weight_dist[str(sum(species_num))]+=1\n",
    "    except KeyError:\n",
    "        weight_dist[str(sum(species_num))]=1\n",
    "\n",
    "    try:\n",
    "        weight_dict[str(sum(species_num))+'_'+species_sorted].append(mol_id)\n",
    "\n",
    "    except KeyError:\n",
    "        weight_dict[str(sum(species_num))+'_'+species_sorted] = [mol_id]\n"
   ]
  },
  {
   "cell_type": "code",
   "execution_count": 220,
   "id": "95e4308e-35aa-4617-8430-75e7020e2a6e",
   "metadata": {
    "tags": []
   },
   "outputs": [
    {
     "data": {
      "text/plain": [
       "1135"
      ]
     },
     "execution_count": 220,
     "metadata": {},
     "output_type": "execute_result"
    }
   ],
   "source": [
    "len(list(weight_dict.keys()))"
   ]
  },
  {
   "cell_type": "code",
   "execution_count": 223,
   "id": "44952584-be15-4db7-976f-27436f873b55",
   "metadata": {
    "tags": []
   },
   "outputs": [],
   "source": [
    "# [x for x in list(weight_dict.keys()) if 'F' in x]"
   ]
  },
  {
   "cell_type": "code",
   "execution_count": 228,
   "id": "2202299d-f686-46d3-933f-f15d243c4eb2",
   "metadata": {
    "tags": []
   },
   "outputs": [],
   "source": [
    "for k in [x for x in list(weight_dict.keys()) if 'F' in x]:\n",
    "    weight_dict[k]"
   ]
  },
  {
   "cell_type": "code",
   "execution_count": 234,
   "id": "e17c381c-4d03-4d3a-87a3-8f2ffee1871d",
   "metadata": {
    "tags": []
   },
   "outputs": [
    {
     "data": {
      "text/plain": [
       "0.02665372735126691"
      ]
     },
     "execution_count": 234,
     "metadata": {},
     "output_type": "execute_result"
    }
   ],
   "source": [
    "sum([len(weight_dict[k]) for k in [x for x in list(weight_dict.keys()) if 'F' in x]])/len(training)"
   ]
  },
  {
   "cell_type": "code",
   "execution_count": 214,
   "id": "d1b0db85-eb57-4ed6-96c9-23c49e1722c1",
   "metadata": {
    "tags": []
   },
   "outputs": [
    {
     "name": "stderr",
     "output_type": "stream",
     "text": [
      "100%|██████████| 2112425/2112425 [00:07<00:00, 290659.02it/s]\n"
     ]
    }
   ],
   "source": [
    "mol_id_sum_dict={}\n",
    "weight_dict = {}\n",
    "for point in tqdm(training):\n",
    "    species = point['species']\n",
    "    # if 'F' in species:\n",
    "    #     print(point)\n",
    "    #     break\n",
    "    species_num = 0\n",
    "    species_sorted = ''.join(sorted(set(species)))\n",
    "    for element in species:\n",
    "        species_num+=elements_dict[element]\n",
    "    try:\n",
    "        mol_id_sum_dict[point['mol_id']].append(species_num)\n",
    "    except KeyError:\n",
    "        mol_id_sum_dict[point['mol_id']] = [species_num]\n",
    "    try:\n",
    "        weight_dict[str(species_num)+'_'+species_sorted].append(point)\n",
    "        # weight_dict[str(species_num)] = list(set(weight_dict[str(species_num)]))\n",
    "    except KeyError:\n",
    "        weight_dict[str(species_num)+'_'+species_sorted] = [point]"
   ]
  },
  {
   "cell_type": "code",
   "execution_count": 126,
   "id": "4262b342-84f6-404e-aa17-b154b2885bb1",
   "metadata": {
    "tags": []
   },
   "outputs": [],
   "source": [
    "# weight_dict['126.11099999999995'][0]"
   ]
  },
  {
   "cell_type": "code",
   "execution_count": 127,
   "id": "10cc17d0-2a90-470b-95e6-3f29992a04d6",
   "metadata": {},
   "outputs": [
    {
     "name": "stderr",
     "output_type": "stream",
     "text": [
      "100%|██████████| 2112425/2112425 [00:01<00:00, 1288083.23it/s]\n"
     ]
    }
   ],
   "source": [
    "mol_id_bucket = {}\n",
    "for point in tqdm(training):\n",
    "    try:\n",
    "        mol_id_bucket[point['mol_id']].append(point)\n",
    "    except KeyError:\n",
    "        mol_id_bucket[point['mol_id']] = [point]\n",
    "    "
   ]
  },
  {
   "cell_type": "code",
   "execution_count": 128,
   "id": "161bddf8-c38a-490e-9b6b-8c0a01189b15",
   "metadata": {
    "tags": []
   },
   "outputs": [
    {
     "data": {
      "text/plain": [
       "[21124, 105621, 211242, 528106, 1056212, 1584319]"
      ]
     },
     "execution_count": 128,
     "metadata": {},
     "output_type": "execute_result"
    }
   ],
   "source": [
    "sizes = []\n",
    "for item in [.01, .05, .1, .25, .5, .75]:\n",
    "    temp_size = round(len(training)*item)\n",
    "    sizes.append(temp_size)\n",
    "sizes"
   ]
  },
  {
   "cell_type": "code",
   "execution_count": 199,
   "id": "0bc5ff79-320d-413b-9d45-9efd508f967d",
   "metadata": {
    "tags": []
   },
   "outputs": [
    {
     "name": "stderr",
     "output_type": "stream",
     "text": [
      "100%|██████████| 6/6 [06:08<00:00, 61.34s/it] \n"
     ]
    }
   ],
   "source": [
    "chunks = []\n",
    "count = 0\n",
    "\n",
    "for size in tqdm(sizes):\n",
    "    # print(\"size:\", size)\n",
    "    chunked_mol_id_data = []\n",
    "    for i in range(len(training)):\n",
    "        if count<size:\n",
    "            for key in weight_dict:\n",
    "                if len(weight_dict[key])!=0:\n",
    "                    count+=1\n",
    "                    chunked_mol_id_data.append(weight_dict[key][0])\n",
    "                    weight_dict[key] = weight_dict[key][1:]\n",
    "\n",
    "                else:\n",
    "                    pass\n",
    "            weight_dict = {k: v for (k,v) in weight_dict.items() if len(v)!=0}\n",
    "\n",
    "        else:\n",
    "            break\n",
    "    # print('count:', count)\n",
    "    # print(len(chunked_mol_id_data))\n",
    "    chunks.append(chunked_mol_id_data)"
   ]
  },
  {
   "cell_type": "code",
   "execution_count": 170,
   "id": "f288cedc-e4b8-4a90-9d6e-d413fe2f4988",
   "metadata": {
    "tags": []
   },
   "outputs": [
    {
     "data": {
      "text/plain": [
       "21317.04005870031"
      ]
     },
     "execution_count": 170,
     "metadata": {},
     "output_type": "execute_result"
    }
   ],
   "source": [
    "len(chunks[0])+len(chunks[1])/len(training)"
   ]
  },
  {
   "cell_type": "code",
   "execution_count": null,
   "id": "53e669a0-1cf8-42d6-8751-0ff2f6c6dd17",
   "metadata": {},
   "outputs": [],
   "source": []
  },
  {
   "cell_type": "code",
   "execution_count": 154,
   "id": "ea968ab9-d34a-4287-89ed-8d986ddf1c13",
   "metadata": {
    "tags": []
   },
   "outputs": [],
   "source": [
    "def chunk_train_multiple_sp(data: list, percentage: list):\n",
    "    \"\"\"\n",
    "    Percentage: list of percentages e.g., [.05, .1, .25, .5, .75]\n",
    "    This is different from traj. Sp the mol ids are not unique. As a result, we treat every point a unique so that when we sample from weight dict we do not sample the id, but the point. \n",
    "    \n",
    "    \"\"\"\n",
    "    mol_id_bucket = {}\n",
    "    for point in tqdm(data):\n",
    "        try:\n",
    "            mol_id_bucket[point['mol_id']].append(point)\n",
    "        except KeyError:\n",
    "            mol_id_bucket[point['mol_id']] = [point]\n",
    "    \n",
    "    \n",
    "    elements_dict = read_elements('/pscratch/sd/m/mavaylon/sam_ldrd/radqm9_pipeline/src/radqm9_pipeline/modules/elements.pkl')\n",
    "    \n",
    "    ##################\n",
    "    # Create a weight dictionary such that the keys are the unique weights using atomic mass of the molecule\n",
    "    # as a float and the values are list of mol_ids that correspond to said weight. \n",
    "    ##################\n",
    "    mol_id_sum_dict={}\n",
    "    weight_dict = {}\n",
    "    for point in tqdm(data):\n",
    "        species = point['species']\n",
    "        species_num = 0\n",
    "        for element in species:\n",
    "            species_num+=elements_dict[element]\n",
    "        try:\n",
    "            mol_id_sum_dict[point['mol_id']].append(species_num)\n",
    "        except KeyError:\n",
    "            mol_id_sum_dict[point['mol_id']] = [species_num]\n",
    "        try:\n",
    "            weight_dict[str(species_num)].append(point)\n",
    "            # weight_dict[str(species_num)] = list(set(weight_dict[str(species_num)]))\n",
    "        except KeyError:\n",
    "            weight_dict[str(species_num)] = [point]\n",
    "    ##################\n",
    "    # Calculate total data points\n",
    "    ##################\n",
    "    total=len(data)\n",
    "    \n",
    "    ##################\n",
    "    # Calculate the size for the data chunk for each percentage\n",
    "    ##################\n",
    "    sizes = []\n",
    "    for item in percentage:\n",
    "        temp_size = round(total*item)\n",
    "        sizes.append(temp_size)\n",
    "    \n",
    "    ##################\n",
    "    # Get the chunked mol_ids for each size\n",
    "    ##################\n",
    "    chunks = []\n",
    "    count = 0\n",
    "    \n",
    "    for size in tqdm(sizes):\n",
    "        print(\"size:\", size)\n",
    "        chunked_mol_id_data = []\n",
    "        for i in tqdm(range(total)):\n",
    "            if count<size:\n",
    "                for key in weight_dict:\n",
    "                    if len(weight_dict[key])!=0:\n",
    "                        count+=1\n",
    "                        chunked_mol_id_data.append(weight_dict[key][0])\n",
    "                        weight_dict[key] = weight_dict[key][1:]\n",
    "\n",
    "                    else:\n",
    "                        pass\n",
    "                weight_dict = {k: v for (k,v) in weight_dict.items() if len(v)!=0}\n",
    "\n",
    "            else:\n",
    "                break\n",
    "        # print('count:', count)\n",
    "        # print(len(chunked_mol_id_data))\n",
    "        chunks.append(chunked_mol_id_data)\n",
    "        \n",
    "#         for item in chunks:\n",
    "#             print(len(item))\n",
    "        \n",
    "#     chunked_data = []\n",
    "#     for chunk_set in tqdm(chunks):\n",
    "#         chunk = []\n",
    "#         for item in tqdm(chunk_set):\n",
    "#             chunk+=mol_id_bucket[item]\n",
    "#         chunked_data.append(chunk)\n",
    "    \n",
    "    return chunks, weight_dict, mol_id_sum_dict\n"
   ]
  },
  {
   "cell_type": "code",
   "execution_count": 147,
   "id": "c4437822-c701-4584-83e4-043576b6f445",
   "metadata": {
    "tags": []
   },
   "outputs": [
    {
     "data": {
      "text/plain": [
       "[21124, 105621, 211242, 528106, 1056212, 1584319]"
      ]
     },
     "execution_count": 147,
     "metadata": {},
     "output_type": "execute_result"
    }
   ],
   "source": [
    "sizes = []\n",
    "for item in [.01, .05, .1, .25, .5, .75]:\n",
    "    temp_size = round(len(training)*item)\n",
    "    sizes.append(temp_size)\n",
    "sizes"
   ]
  },
  {
   "cell_type": "code",
   "execution_count": 116,
   "id": "e6288866-d57a-4912-8883-6ba9a092ac26",
   "metadata": {
    "tags": []
   },
   "outputs": [
    {
     "data": {
      "text/plain": [
       "0.009999881652603052"
      ]
     },
     "execution_count": 116,
     "metadata": {},
     "output_type": "execute_result"
    }
   ],
   "source": [
    "21124/len(training)"
   ]
  },
  {
   "cell_type": "code",
   "execution_count": 148,
   "id": "7fda3e1b-40ff-469c-91fa-04e3bdd8beff",
   "metadata": {
    "tags": []
   },
   "outputs": [
    {
     "name": "stderr",
     "output_type": "stream",
     "text": [
      "100%|██████████| 2112425/2112425 [00:01<00:00, 1067907.58it/s]\n",
      "100%|██████████| 2112425/2112425 [03:59<00:00, 8816.99it/s]  \n",
      "  0%|          | 0/6 [00:00<?, ?it/s]"
     ]
    },
    {
     "name": "stdout",
     "output_type": "stream",
     "text": [
      "size: 21124\n"
     ]
    },
    {
     "name": "stderr",
     "output_type": "stream",
     "text": [
      "\n",
      "  0%|          | 1/2112425 [00:00<4:57:30, 118.34it/s]\n"
     ]
    },
    {
     "name": "stdout",
     "output_type": "stream",
     "text": [
      "1135\n",
      "size: 105621\n"
     ]
    },
    {
     "name": "stderr",
     "output_type": "stream",
     "text": [
      "\n",
      "  0%|          | 1/2112425 [00:00<4:35:10, 127.95it/s]\n"
     ]
    },
    {
     "name": "stdout",
     "output_type": "stream",
     "text": [
      "1135\n",
      "1121\n",
      "size: 211242\n"
     ]
    },
    {
     "name": "stderr",
     "output_type": "stream",
     "text": [
      "\n",
      "  0%|          | 1/2112425 [00:00<4:30:51, 129.98it/s]\n"
     ]
    },
    {
     "name": "stdout",
     "output_type": "stream",
     "text": [
      "1135\n",
      "1121\n",
      "1060\n",
      "size: 528106\n"
     ]
    },
    {
     "name": "stderr",
     "output_type": "stream",
     "text": [
      "\n",
      "  0%|          | 4/2112425 [00:00<3:51:38, 151.99it/s]\n"
     ]
    },
    {
     "name": "stdout",
     "output_type": "stream",
     "text": [
      "1135\n",
      "1121\n",
      "1060\n",
      "3549\n",
      "size: 1056212\n"
     ]
    },
    {
     "name": "stderr",
     "output_type": "stream",
     "text": [
      "\n",
      "  0%|          | 8/2112425 [00:00<3:29:42, 167.89it/s]\n",
      " 83%|████████▎ | 5/6 [00:00<00:00, 47.05it/s]"
     ]
    },
    {
     "name": "stdout",
     "output_type": "stream",
     "text": [
      "1135\n",
      "1121\n",
      "1060\n",
      "3549\n",
      "5820\n",
      "size: 1584319\n"
     ]
    },
    {
     "name": "stderr",
     "output_type": "stream",
     "text": [
      "\n",
      "  0%|          | 9/2112425 [00:00<3:10:31, 184.78it/s]\n",
      "100%|██████████| 6/6 [00:00<00:00, 38.21it/s]\n"
     ]
    },
    {
     "name": "stdout",
     "output_type": "stream",
     "text": [
      "1135\n",
      "1121\n",
      "1060\n",
      "3549\n",
      "5820\n",
      "5482\n"
     ]
    },
    {
     "name": "stderr",
     "output_type": "stream",
     "text": [
      "  0%|          | 0/6 [00:00<?, ?it/s]\n",
      "100%|██████████| 1135/1135 [00:00<00:00, 887001.13it/s]\n",
      "\n",
      "100%|██████████| 1121/1121 [00:00<00:00, 907511.06it/s]\n",
      "\n",
      "100%|██████████| 1060/1060 [00:00<00:00, 875017.17it/s]\n",
      "\n",
      "100%|██████████| 3549/3549 [00:00<00:00, 926988.72it/s]\n",
      "\n",
      "100%|██████████| 5820/5820 [00:00<00:00, 932601.69it/s]\n",
      "\n",
      "100%|██████████| 5482/5482 [00:00<00:00, 983328.68it/s]\n",
      "100%|██████████| 6/6 [00:00<00:00, 208.99it/s]\n"
     ]
    }
   ],
   "source": [
    "tt, w,e=chunk_train_multiple(training, [.01, .05, .1, .25, .5, .75])"
   ]
  },
  {
   "cell_type": "code",
   "execution_count": 200,
   "id": "36c80b47-900a-4979-a8d4-9bd966f2fe57",
   "metadata": {
    "tags": []
   },
   "outputs": [],
   "source": [
    "chunked_data = {0: chunks[0],\n",
    "                1: chunks[0] + chunks[1],\n",
    "                2: chunks[0] + chunks[1] +chunks[2],\n",
    "                3: chunks[0] + chunks[1] +chunks[2] + chunks[3],\n",
    "                4: chunks[0] + chunks[1] +chunks[2] + chunks[3] + chunks[4],\n",
    "                5: chunks[0] + chunks[1] +chunks[2] + chunks[3] + chunks[4] +chunks[5]}"
   ]
  },
  {
   "cell_type": "code",
   "execution_count": 235,
   "id": "b7c1f791-138f-4655-9386-499ddda5d462",
   "metadata": {
    "tags": []
   },
   "outputs": [
    {
     "data": {
      "text/plain": [
       "0.010323680130655526"
      ]
     },
     "execution_count": 235,
     "metadata": {},
     "output_type": "execute_result"
    }
   ],
   "source": [
    "len(chunked_data[0])/len(training)"
   ]
  },
  {
   "cell_type": "code",
   "execution_count": 236,
   "id": "be11ae27-0c64-4be1-a32c-0ae7b1237d62",
   "metadata": {
    "tags": []
   },
   "outputs": [
    {
     "data": {
      "text/plain": [
       "0.050245097459081386"
      ]
     },
     "execution_count": 236,
     "metadata": {},
     "output_type": "execute_result"
    }
   ],
   "source": [
    "len(chunked_data[1])/len(training)"
   ]
  },
  {
   "cell_type": "code",
   "execution_count": 237,
   "id": "59ac94d7-f6ac-4e34-bc13-f494dc145d9e",
   "metadata": {
    "tags": []
   },
   "outputs": [
    {
     "data": {
      "text/plain": [
       "0.10003810786181758"
      ]
     },
     "execution_count": 237,
     "metadata": {},
     "output_type": "execute_result"
    }
   ],
   "source": [
    "len(chunked_data[2])/len(training)"
   ]
  },
  {
   "cell_type": "code",
   "execution_count": 238,
   "id": "1e5548b7-a4a6-46e4-9caf-7944621afb73",
   "metadata": {
    "tags": []
   },
   "outputs": [
    {
     "data": {
      "text/plain": [
       "0.2500874587263453"
      ]
     },
     "execution_count": 238,
     "metadata": {},
     "output_type": "execute_result"
    }
   ],
   "source": [
    "len(chunked_data[3])/len(training)"
   ]
  },
  {
   "cell_type": "code",
   "execution_count": 239,
   "id": "17155c93-7b0c-4d2d-acc0-5c0fbdb49886",
   "metadata": {
    "tags": []
   },
   "outputs": [
    {
     "data": {
      "text/plain": [
       "0.5000158585511911"
      ]
     },
     "execution_count": 239,
     "metadata": {},
     "output_type": "execute_result"
    }
   ],
   "source": [
    "len(chunked_data[4])/len(training)"
   ]
  },
  {
   "cell_type": "code",
   "execution_count": 240,
   "id": "1c137f7e-f744-48d7-8970-8ba801ef6093",
   "metadata": {
    "tags": []
   },
   "outputs": [
    {
     "data": {
      "text/plain": [
       "0.7500105329183284"
      ]
     },
     "execution_count": 240,
     "metadata": {},
     "output_type": "execute_result"
    }
   ],
   "source": [
    "len(chunked_data[5])/len(training)"
   ]
  },
  {
   "cell_type": "markdown",
   "id": "a92448a2-30dd-42d4-8c21-6941ca8e6d4c",
   "metadata": {},
   "source": [
    "# Build Atoms"
   ]
  },
  {
   "cell_type": "code",
   "execution_count": 38,
   "id": "4b08ce0d-dfd2-4e1b-b7ed-bcbc42769d29",
   "metadata": {
    "tags": []
   },
   "outputs": [
    {
     "data": {
      "text/plain": [
       "dict_keys(['mol_id', 'species', 'optimized_parent_charge_spin', 'charge', 'spin', 'solvent', 'geometry', 'energy', 'precise_gradient', 'gradient', 'mulliken_partial_charges', 'mulliken_partial_spins', 'resp_partial_charges', 'resp_dipole_moment', 'nbo_partial_charges', 'nbo_partial_spins', 'dipole_moment', 'charge_spin', 'sp_config_type', 'dup_identifier'])"
      ]
     },
     "execution_count": 38,
     "metadata": {},
     "output_type": "execute_result"
    }
   ],
   "source": [
    "training[0].keys()"
   ]
  },
  {
   "cell_type": "code",
   "execution_count": 54,
   "id": "c794efcb-d923-4af8-873d-fa691c811ec4",
   "metadata": {
    "tags": []
   },
   "outputs": [],
   "source": [
    "def build_minimal_atoms(data: dict,\n",
    "                energy: str = None,\n",
    "                forces: str = None,\n",
    "                charge:str = None,\n",
    "                spin:str = None,\n",
    "                train = False) -> ase.Atoms:\n",
    "    \"\"\" \n",
    "    Populate Atoms class with atoms in molecule.\n",
    "        atoms.info : global variables\n",
    "        atoms.array : variables for individual atoms\n",
    "        \n",
    "    Both \"energy\" and \"forces\" are the dict strings in data.\n",
    "    \"\"\"\n",
    "    atom_list = []\n",
    "    atoms = ase.atoms.Atoms(\n",
    "        symbols=data['species'],\n",
    "        positions=data['geometry']\n",
    "    )\n",
    "    if energy is not None:\n",
    "        atoms.info['energy'] = data[energy]\n",
    "    if forces is not None:\n",
    "        atoms.arrays['forces'] = np.array(data[forces])\n",
    "    # atoms.arrays['precise_forces'] = np.array(data['precise_gradient'])                                      \n",
    "    if charge is not None:\n",
    "         atoms.info['charge'] = data[charge]\n",
    "    if spin is not None:\n",
    "        atoms.info['spin'] = data[spin]\n",
    "    # if train:\n",
    "    #     atoms.info['chunk'] = data['chunk']\n",
    "\n",
    "    # atoms.info['mulliken_partial_charges'] = data['mulliken_partial_charges']\n",
    "    # atoms.info['mulliken_partial_spins'] = data['mulliken_partial_spins']\n",
    "    atoms.info['mol_id'] = data['mol_id']\n",
    "    # atoms.info['resp_partial_charges'] = data['resp_partial_charges'] \n",
    "    # atoms.info['resp_dipole_moment'] = data['resp_dipole_moment']\n",
    "    # atoms.info['nbo_partial_charges'] = data['nbo_partial_charges']\n",
    "    # atoms.info['nbo_partial_spins'] = data['nbo_partial_spins'] \n",
    "    # atoms.info['optimized_parent_charge_spin'] = data['optimized_parent_charge_spin'] \n",
    "    atoms.info['optimized_parent_charge']= data['optimized_parent_charge_spin'] [0]\n",
    "    atoms.info['optimized_parent_spin']= data['optimized_parent_charge_spin'] [0]\n",
    "    # atoms.info['charge_spin'] = data['charge_spin'] \n",
    "    # atoms.info['dipole_moment'] = data['dipole_moment']\n",
    "    atoms.info['solvent'] = data['solvent']\n",
    "\n",
    "    atom_list.append(atoms)\n",
    "            \n",
    "    return atom_list"
   ]
  },
  {
   "cell_type": "code",
   "execution_count": 26,
   "id": "d17b7aa5-65c4-47d7-97e2-df172d0f1f30",
   "metadata": {},
   "outputs": [],
   "source": [
    "def build_atoms(data: dict,\n",
    "                energy: str = None,\n",
    "                forces: str = None,\n",
    "                charge:str = None,\n",
    "                spin:str = None,\n",
    "                train = False) -> ase.Atoms:\n",
    "    \"\"\" \n",
    "    Populate Atoms class with atoms in molecule.\n",
    "        atoms.info : global variables\n",
    "        atoms.array : variables for individual atoms\n",
    "        \n",
    "    Both \"energy\" and \"forces\" are the dict strings in data.\n",
    "    \"\"\"\n",
    "    atom_list = []\n",
    "    atoms = ase.atoms.Atoms(\n",
    "        symbols=data['species'],\n",
    "        positions=data['geometry']\n",
    "    )\n",
    "    if energy is not None:\n",
    "        atoms.info['energy'] = data[energy]\n",
    "    if forces is not None:\n",
    "        atoms.arrays['forces'] = np.array(data[forces])\n",
    "    # atoms.arrays['precise_forces'] = np.array(data['precise_gradient'])                                      \n",
    "    if charge is not None:\n",
    "         atoms.info['charge'] = data[charge]\n",
    "    if spin is not None:\n",
    "        atoms.info['spin'] = data[spin]\n",
    "    # if train:\n",
    "    #     atoms.info['chunk'] = data['chunk']\n",
    "\n",
    "    # atoms.info['mulliken_partial_charges'] = data['mulliken_partial_charges']\n",
    "    # atoms.info['mulliken_partial_spins'] = data['mulliken_partial_spins']\n",
    "    atoms.info['mol_id'] = data['mol_id']\n",
    "    # atoms.info['resp_partial_charges'] = data['resp_partial_charges'] \n",
    "    # atoms.info['resp_dipole_moment'] = data['resp_dipole_moment']\n",
    "    # atoms.info['nbo_partial_charges'] = data['nbo_partial_charges']\n",
    "    # atoms.info['nbo_partial_spins'] = data['nbo_partial_spins'] \n",
    "    # atoms.info['optimized_parent_charge_spin'] = data['optimized_parent_charge_spin'] \n",
    "    atoms.info['optimized_parent_charge']= data['optimized_parent_charge_spin'] [0]\n",
    "    atoms.info['optimized_parent_spin']= data['optimized_parent_charge_spin'] [0]\n",
    "    # atoms.info['charge_spin'] = data['charge_spin'] \n",
    "    # atoms.info['dipole_moment'] = data['dipole_moment']\n",
    "    atoms.info['solvent'] = data['solvent']\n",
    "\n",
    "    atom_list.append(atoms)\n",
    "            \n",
    "    return atom_list"
   ]
  },
  {
   "cell_type": "code",
   "execution_count": 27,
   "id": "d3a344da-e3e5-4c0a-b0ea-6a1de5a71e0a",
   "metadata": {},
   "outputs": [],
   "source": [
    "def build_atoms_iterator(data: list,\n",
    "                         train=False):\n",
    "    \"\"\"\n",
    "    This method assumes the data has been validated. This will create ASE atoms to be written.\n",
    "    \n",
    "    The input needs to be a list of lists that contain the event dictionaries. Each inner list needs to represent all the events for a single\n",
    "    mol_id.\n",
    "    \"\"\"\n",
    "    data_set=[]\n",
    "    for point in tqdm(data):\n",
    "        atoms=build_atoms(point, energy='energy', forces='gradient', charge='charge', spin='spin', train=train)\n",
    "        data_set+=atoms\n",
    "    return data_set"
   ]
  },
  {
   "cell_type": "code",
   "execution_count": 133,
   "id": "0c70953f-dc5c-482e-a554-7d27477aef04",
   "metadata": {},
   "outputs": [],
   "source": [
    "def build_minimal_atoms_iterator(data: list,\n",
    "                         train=False):\n",
    "    \"\"\"\n",
    "    This method assumes the data has been validated. This will create ASE atoms to be written.\n",
    "    \n",
    "    The input needs to be a list of lists that contain the event dictionaries. Each inner list needs to represent all the events for a single\n",
    "    mol_id.\n",
    "    \"\"\"\n",
    "    data_set=[]\n",
    "    for point in tqdm(data):\n",
    "        atoms=build_minimal_atoms(point, energy='energy', forces='gradient', charge='charge', spin='spin', train=train)\n",
    "        data_set+=atoms\n",
    "    return data_set"
   ]
  },
  {
   "cell_type": "code",
   "execution_count": 135,
   "id": "7f7e2a27-56ff-4e9b-8af4-7a1e58750b1f",
   "metadata": {},
   "outputs": [
    {
     "data": {
      "text/plain": [
       "152.037"
      ]
     },
     "execution_count": 135,
     "metadata": {},
     "output_type": "execute_result"
    }
   ],
   "source": [
    "vac_data['train'][0]"
   ]
  },
  {
   "cell_type": "code",
   "execution_count": 139,
   "id": "6019fddc-f169-48d1-b54c-20d0d8e9a7e2",
   "metadata": {},
   "outputs": [
    {
     "name": "stderr",
     "output_type": "stream",
     "text": [
      "100%|██████████| 1056078/1056078 [01:21<00:00, 12969.59it/s]\n",
      "100%|██████████| 172415/172415 [00:05<00:00, 28879.54it/s]\n",
      "100%|██████████| 396247/396247 [00:12<00:00, 30536.68it/s]\n"
     ]
    }
   ],
   "source": [
    "vac_build = {}\n",
    "for split in vac_data:\n",
    "    if split == 'train':\n",
    "        vac_build[split] = build_minimal_atoms_iterator(vac_data[split], train=True)\n",
    "    else:\n",
    "        vac_build[split] = build_minimal_atoms_iterator(vac_data[split])"
   ]
  },
  {
   "cell_type": "code",
   "execution_count": 188,
   "id": "6844c495-0483-420c-bb4f-cb27622cfb50",
   "metadata": {
    "tags": []
   },
   "outputs": [
    {
     "name": "stderr",
     "output_type": "stream",
     "text": [
      "100%|██████████| 1056072/1056072 [00:36<00:00, 28677.44it/s]\n",
      "100%|██████████| 181499/181499 [00:06<00:00, 29489.78it/s]\n",
      "100%|██████████| 387160/387160 [00:12<00:00, 30074.40it/s]\n"
     ]
    }
   ],
   "source": [
    "smd_build = {}\n",
    "for split in smd_data:\n",
    "    if split == 'train':\n",
    "        smd_build[split] = build_minimal_atoms_iterator(smd_data[split], train=True)\n",
    "    else:\n",
    "        smd_build[split] = build_minimal_atoms_iterator(smd_data[split])"
   ]
  },
  {
   "cell_type": "code",
   "execution_count": 140,
   "id": "666dac4a-b7db-41cb-88e6-7f1f833e5dc7",
   "metadata": {},
   "outputs": [],
   "source": [
    "def create_dataset(data: dict,\n",
    "                   file_name:str,\n",
    "                   path:str):\n",
    "    \"\"\"\n",
    "    This method will handle the I/O for writing the data to xyz files to the path provided.\n",
    "    \"\"\"\n",
    "    train_data = data['train']\n",
    "    val_data = data['val']\n",
    "    test_data = data['test']\n",
    "    \n",
    "    train_file = os.path.join(path,file_name+'_train.xyz')\n",
    "    ase.io.write(train_file, train_data,format=\"extxyz\")\n",
    "     \n",
    "    val_file = os.path.join(path,file_name+'_val.xyz')\n",
    "    ase.io.write(val_file, val_data,format=\"extxyz\")\n",
    "    \n",
    "    test_file = os.path.join(path,file_name+'_test.xyz')\n",
    "    ase.io.write(test_file, test_data,format=\"extxyz\")"
   ]
  },
  {
   "cell_type": "code",
   "execution_count": 141,
   "id": "7f564418-3c2a-444c-bf08-520a70a08da3",
   "metadata": {},
   "outputs": [],
   "source": [
    "#to xyz\n",
    "create_dataset(vac_build, 'rad_qm9_65_25_10_minimalfeatures_single_point_vacuum_2024_5_12', '/pscratch/sd/m/mavaylon/chem_final_data/SP/Full_data/vac/')"
   ]
  },
  {
   "cell_type": "code",
   "execution_count": 189,
   "id": "ecf11b05-7b1d-42f0-863b-847f566bea2b",
   "metadata": {
    "tags": []
   },
   "outputs": [],
   "source": [
    "#to xyz\n",
    "create_dataset(smd_build, 'rad_qm9_65_25_10_minimalfeatures_single_point_smd_2024_5_12', '/pscratch/sd/m/mavaylon/chem_final_data/SP/Full_data/smd/')"
   ]
  },
  {
   "cell_type": "markdown",
   "id": "e6855587-8881-4a6e-b52e-fb9f67bdf794",
   "metadata": {},
   "source": [
    "## Write doublet_data"
   ]
  },
  {
   "cell_type": "code",
   "execution_count": 54,
   "id": "46d5f7e7-5e5a-4984-8b45-e9d5ba9318ea",
   "metadata": {
    "tags": []
   },
   "outputs": [],
   "source": [
    "# vac_doublet_data"
   ]
  },
  {
   "cell_type": "code",
   "execution_count": 55,
   "id": "2d666b1d-68c1-4a4d-b82c-2909f99e491d",
   "metadata": {
    "tags": []
   },
   "outputs": [],
   "source": [
    "#smd_doublet_data"
   ]
  },
  {
   "cell_type": "code",
   "execution_count": 199,
   "id": "40b483eb-ac84-457d-a0f6-d4b46ff549a3",
   "metadata": {},
   "outputs": [
    {
     "name": "stderr",
     "output_type": "stream",
     "text": [
      "100%|██████████| 525337/525337 [00:18<00:00, 27734.84it/s]\n",
      "100%|██████████| 85952/85952 [00:02<00:00, 33137.51it/s]\n",
      "100%|██████████| 197105/197105 [00:07<00:00, 26026.12it/s]\n"
     ]
    }
   ],
   "source": [
    "vac_build_doublet_data = {}\n",
    "for split in vac_doublet_data:\n",
    "    if split == 'train':\n",
    "        vac_build_doublet_data[split] = build_minimal_atoms_iterator(vac_doublet_data[split], train=True)\n",
    "    else:\n",
    "        vac_build_doublet_data[split] = build_minimal_atoms_iterator(vac_doublet_data[split])"
   ]
  },
  {
   "cell_type": "code",
   "execution_count": 203,
   "id": "8de50b12-0120-4238-b36b-fb174e6731bd",
   "metadata": {
    "tags": []
   },
   "outputs": [
    {
     "name": "stderr",
     "output_type": "stream",
     "text": [
      "100%|██████████| 525334/525334 [00:19<00:00, 27617.36it/s]\n",
      "100%|██████████| 90462/90462 [00:02<00:00, 33216.08it/s]\n",
      "100%|██████████| 192594/192594 [00:06<00:00, 29222.92it/s]\n"
     ]
    }
   ],
   "source": [
    "smd_build_doublet_data = {}\n",
    "for split in smd_doublet_data:\n",
    "    if split == 'train':\n",
    "        smd_build_doublet_data[split] = build_minimal_atoms_iterator(smd_doublet_data[split], train=True)\n",
    "    else:\n",
    "        smd_build_doublet_data[split] = build_minimal_atoms_iterator(smd_doublet_data[split])"
   ]
  },
  {
   "cell_type": "code",
   "execution_count": 200,
   "id": "6a123ea4-7057-47f5-b7b4-a20b86baf7a8",
   "metadata": {
    "tags": []
   },
   "outputs": [],
   "source": [
    "#to xyz\n",
    "create_dataset(vac_build_doublet_data, 'rad_qm9_65_25_10_minimal_vac_single_point_doublet_2024_5_13', '/pscratch/sd/m/mavaylon/chem_final_data/SP/Doublet/vac/')"
   ]
  },
  {
   "cell_type": "code",
   "execution_count": 204,
   "id": "93251d43-e338-4515-97e9-78d057b9a500",
   "metadata": {
    "tags": []
   },
   "outputs": [],
   "source": [
    "#to xyz\n",
    "create_dataset(smd_build_doublet_data, 'rad_qm9_65_25_10__minimal_smd_single_point_doublet_2024_5_13', '/pscratch/sd/m/mavaylon/chem_final_data/SP/Doublet/smd/')"
   ]
  },
  {
   "cell_type": "markdown",
   "id": "221586f8-d5f5-499f-ab53-4d2081605ea4",
   "metadata": {
    "tags": []
   },
   "source": [
    "## Write Singlet data"
   ]
  },
  {
   "cell_type": "code",
   "execution_count": null,
   "id": "baf7f967-ccdd-41dd-9ae5-a30d10c885e8",
   "metadata": {},
   "outputs": [],
   "source": [
    "# vac_singlet_data\n",
    "# smd_singlet_data"
   ]
  },
  {
   "cell_type": "code",
   "execution_count": 205,
   "id": "027f2960-14f1-4296-90cc-d5c93c03ec09",
   "metadata": {
    "tags": []
   },
   "outputs": [
    {
     "name": "stderr",
     "output_type": "stream",
     "text": [
      "100%|██████████| 448122/448122 [00:15<00:00, 28663.34it/s]\n",
      "100%|██████████| 72577/72577 [00:02<00:00, 33211.58it/s]\n",
      "100%|██████████| 167822/167822 [00:05<00:00, 28661.23it/s]\n"
     ]
    }
   ],
   "source": [
    "vac_build_singlet_data = {}\n",
    "for split in vac_singlet_data:\n",
    "    if split == 'train':\n",
    "        vac_build_singlet_data[split] = build_minimal_atoms_iterator(vac_singlet_data[split], train=True)\n",
    "    else:\n",
    "        vac_build_singlet_data[split] = build_minimal_atoms_iterator(vac_singlet_data[split])"
   ]
  },
  {
   "cell_type": "code",
   "execution_count": 207,
   "id": "f5f8ea8b-abf8-443c-81c4-32a872146e5f",
   "metadata": {
    "tags": []
   },
   "outputs": [
    {
     "name": "stderr",
     "output_type": "stream",
     "text": [
      "100%|██████████| 448119/448119 [00:15<00:00, 28580.79it/s]\n",
      "100%|██████████| 76471/76471 [00:02<00:00, 33332.63it/s]\n",
      "100%|██████████| 163926/163926 [00:05<00:00, 28392.45it/s]\n"
     ]
    }
   ],
   "source": [
    "smd_build_singlet_data = {}\n",
    "for split in smd_singlet_data:\n",
    "    if split == 'train':\n",
    "        smd_build_singlet_data[split] = build_minimal_atoms_iterator(smd_singlet_data[split], train=True)\n",
    "    else:\n",
    "        smd_build_singlet_data[split] = build_minimal_atoms_iterator(smd_singlet_data[split])"
   ]
  },
  {
   "cell_type": "code",
   "execution_count": 208,
   "id": "7d9c8a57-a6d1-4e5b-a845-9ebc4f440dad",
   "metadata": {
    "tags": []
   },
   "outputs": [],
   "source": [
    "#to xyz\n",
    "create_dataset(vac_build_singlet_data, 'rad_qm9_65_25_10_minimal_vac_single_point_singlet_2024_5_13', '/pscratch/sd/m/mavaylon/chem_final_data/SP/Singlet/vac/')"
   ]
  },
  {
   "cell_type": "code",
   "execution_count": 209,
   "id": "ab33bfb4-09e6-4ceb-99f5-7b1f44469ca6",
   "metadata": {
    "tags": []
   },
   "outputs": [],
   "source": [
    "#to xyz\n",
    "create_dataset(smd_build_singlet_data, 'rad_qm9_65_25_10__minimal_smd_single_point_singlet_2024_5_13', '/pscratch/sd/m/mavaylon/chem_final_data/SP/Singlet/smd/')"
   ]
  },
  {
   "cell_type": "markdown",
   "id": "10710c28-ab02-4d5a-b95b-745d41d34c5b",
   "metadata": {},
   "source": [
    "## Write Chunk"
   ]
  },
  {
   "cell_type": "code",
   "execution_count": 249,
   "id": "08ed7154-4b6b-4166-9458-365beb1429f8",
   "metadata": {
    "tags": []
   },
   "outputs": [
    {
     "name": "stderr",
     "output_type": "stream",
     "text": [
      "100%|██████████| 1584341/1584341 [00:51<00:00, 30968.24it/s]\n"
     ]
    }
   ],
   "source": [
    "chunked_build = build_atoms_iterator(chunked_data[5], train=True)"
   ]
  },
  {
   "cell_type": "code",
   "execution_count": 250,
   "id": "d2f28ec7-0fb8-492b-b9a4-054bce60d89b",
   "metadata": {
    "tags": []
   },
   "outputs": [],
   "source": [
    "chunk_file = os.path.join('/pscratch/sd/m/mavaylon/single_point/rad_qm9_65_15_10_single_point_chunk_75'+'_train.xyz')\n",
    "ase.io.write(chunk_file, chunked_build,format=\"extxyz\")"
   ]
  },
  {
   "cell_type": "markdown",
   "id": "e4814644-7056-42d0-be21-6eb9af649524",
   "metadata": {
    "tags": []
   },
   "source": [
    "# Visuals"
   ]
  },
  {
   "cell_type": "code",
   "execution_count": 68,
   "id": "4af153f4-a100-4403-9282-f561e270755c",
   "metadata": {},
   "outputs": [],
   "source": [
    "def atom_type_plot(data: list):\n",
    "    \"\"\"\n",
    "    Takes in a list of data points and creates graph to visualize the frequency of each atom type.\n",
    "    \"\"\"\n",
    "    atom_dict={}\n",
    "    for point in data:\n",
    "        for atom in point['species']:\n",
    "            try:\n",
    "                atom_dict[atom]+=1\n",
    "            except KeyError:\n",
    "                atom_dict[atom]=0\n",
    "    return atom_dict  "
   ]
  },
  {
   "cell_type": "code",
   "execution_count": null,
   "id": "ffc1183a-be38-4906-94a7-ff822cc85278",
   "metadata": {},
   "outputs": [],
   "source": [
    "[.01, .05, .1, .25, .5, .75]"
   ]
  },
  {
   "cell_type": "code",
   "execution_count": 203,
   "id": "a6894ca9-f084-4c7c-bee8-2c1e8d1677e1",
   "metadata": {
    "tags": []
   },
   "outputs": [],
   "source": [
    "dc = atom_type_plot(chunked_data[1])"
   ]
  },
  {
   "cell_type": "code",
   "execution_count": 204,
   "id": "3bd7144a-0ab8-431c-a079-28914c0c5ed1",
   "metadata": {
    "tags": []
   },
   "outputs": [
    {
     "data": {
      "text/plain": [
       "0.050245097459081386"
      ]
     },
     "execution_count": 204,
     "metadata": {},
     "output_type": "execute_result"
    }
   ],
   "source": [
    "len(chunked_data[1])/len(training)"
   ]
  },
  {
   "cell_type": "code",
   "execution_count": 205,
   "id": "71fe6e8a-a8b5-4907-94bb-e27662451cb1",
   "metadata": {
    "tags": []
   },
   "outputs": [
    {
     "data": {
      "text/plain": [
       "{'O': 126470, 'C': 518880, 'H': 689682, 'N': 189268, 'F': 31253}"
      ]
     },
     "execution_count": 205,
     "metadata": {},
     "output_type": "execute_result"
    }
   ],
   "source": [
    "dc"
   ]
  },
  {
   "cell_type": "code",
   "execution_count": 69,
   "id": "36aa1f88-7714-4589-9896-a5c90c64c0ba",
   "metadata": {},
   "outputs": [],
   "source": [
    "d1=atom_type_plot(vac_training)"
   ]
  },
  {
   "cell_type": "code",
   "execution_count": null,
   "id": "d4282f60-c064-4c94-9b1b-86355859e0b7",
   "metadata": {},
   "outputs": [],
   "source": []
  },
  {
   "cell_type": "code",
   "execution_count": 70,
   "id": "d33e8674-2fd9-4e84-859d-836a4784b9ed",
   "metadata": {
    "tags": []
   },
   "outputs": [],
   "source": [
    "d3=atom_type_plot(vac_test)"
   ]
  },
  {
   "cell_type": "code",
   "execution_count": 71,
   "id": "cdc92307-d3fa-445a-8058-909c83af93c1",
   "metadata": {},
   "outputs": [],
   "source": [
    "d2=atom_type_plot(vac_val)"
   ]
  },
  {
   "cell_type": "code",
   "execution_count": 72,
   "id": "19ce68d5-a80b-4af9-8c4e-22d0309331b9",
   "metadata": {
    "tags": []
   },
   "outputs": [],
   "source": [
    "from collections import Counter\n",
    "z = dict(Counter(d1)+Counter(d2)+Counter(d3))"
   ]
  },
  {
   "cell_type": "code",
   "execution_count": 73,
   "id": "3df5d406-297a-4058-987c-ecf49032444f",
   "metadata": {
    "tags": []
   },
   "outputs": [],
   "source": [
    "# {k: float(dc[k])/dict(Counter(d1))[k] for k in d1}\n"
   ]
  },
  {
   "cell_type": "code",
   "execution_count": 74,
   "id": "ab0702e7-55db-46b4-9400-33041f17a3e3",
   "metadata": {
    "tags": []
   },
   "outputs": [
    {
     "data": {
      "text/plain": [
       "{'O': 0.6500548207667325,\n",
       " 'C': 0.6500490149994052,\n",
       " 'H': 0.6500305108133662,\n",
       " 'N': 0.650128573841613,\n",
       " 'F': 0.651060661317773}"
      ]
     },
     "execution_count": 74,
     "metadata": {},
     "output_type": "execute_result"
    }
   ],
   "source": [
    "{k: float(d1[k])/z[k] for k in d1}\n"
   ]
  },
  {
   "cell_type": "code",
   "execution_count": 75,
   "id": "ac2559d6-619f-408c-927a-dccec57e99b0",
   "metadata": {
    "tags": []
   },
   "outputs": [
    {
     "data": {
      "text/plain": [
       "{'O': 0.25148470154534164,\n",
       " 'C': 0.25131712768468745,\n",
       " 'H': 0.25121067111864465,\n",
       " 'N': 0.2529065244834821,\n",
       " 'F': 0.26461828349136884}"
      ]
     },
     "execution_count": 75,
     "metadata": {},
     "output_type": "execute_result"
    }
   ],
   "source": [
    "{k: float(d2[k])/z[k] for k in d1}\n"
   ]
  },
  {
   "cell_type": "code",
   "execution_count": 76,
   "id": "be7ebc66-8bc3-4a59-b2d3-0d82cb5138fe",
   "metadata": {
    "tags": []
   },
   "outputs": [
    {
     "data": {
      "text/plain": [
       "{'O': 0.0984604776879259,\n",
       " 'C': 0.09863385731590739,\n",
       " 'H': 0.0987588180679892,\n",
       " 'N': 0.09696490167490487,\n",
       " 'F': 0.08432105519085825}"
      ]
     },
     "execution_count": 76,
     "metadata": {},
     "output_type": "execute_result"
    }
   ],
   "source": [
    "{k: float(d3[k])/z[k] for k in d1}\n"
   ]
  },
  {
   "cell_type": "code",
   "execution_count": null,
   "id": "52bdd702-83ff-4f3e-9849-9fbf96fc811d",
   "metadata": {},
   "outputs": [],
   "source": []
  },
  {
   "cell_type": "code",
   "execution_count": null,
   "id": "417f6ae6-f20a-492e-b463-55199b78d00a",
   "metadata": {},
   "outputs": [],
   "source": []
  },
  {
   "cell_type": "code",
   "execution_count": null,
   "id": "71860003-0ccd-4763-b1a6-753c4e4e33af",
   "metadata": {},
   "outputs": [],
   "source": []
  },
  {
   "cell_type": "code",
   "execution_count": null,
   "id": "217e913f-d304-4bf8-9254-1f2a6bbd1d6c",
   "metadata": {},
   "outputs": [],
   "source": []
  },
  {
   "cell_type": "code",
   "execution_count": null,
   "id": "9178040c-b98e-4367-966c-86f30cb6f278",
   "metadata": {},
   "outputs": [],
   "source": []
  },
  {
   "cell_type": "code",
   "execution_count": null,
   "id": "afc9042a-4ee7-4fa1-9ccb-d0e8489b2ebd",
   "metadata": {},
   "outputs": [],
   "source": []
  },
  {
   "cell_type": "code",
   "execution_count": null,
   "id": "f7a31c8f-1498-4fb0-b925-a7c92ef99189",
   "metadata": {},
   "outputs": [],
   "source": []
  },
  {
   "cell_type": "code",
   "execution_count": null,
   "id": "478ce6b1-5033-4705-849f-6accbf4309a5",
   "metadata": {},
   "outputs": [],
   "source": []
  },
  {
   "cell_type": "code",
   "execution_count": null,
   "id": "b359fe73-27f7-404f-8a03-88b8c15a2c28",
   "metadata": {},
   "outputs": [],
   "source": []
  },
  {
   "cell_type": "code",
   "execution_count": null,
   "id": "0dffa5c1-12d0-4f85-abb4-731a50cd6984",
   "metadata": {},
   "outputs": [],
   "source": []
  },
  {
   "cell_type": "code",
   "execution_count": 168,
   "id": "8d67603c-454a-4e0f-850e-c1d994006921",
   "metadata": {
    "tags": []
   },
   "outputs": [],
   "source": [
    "# [x for x in merged_data if x['charge_spin']=='-1_2']"
   ]
  },
  {
   "cell_type": "code",
   "execution_count": 6,
   "id": "d2f5fbea-be24-436e-86dd-78468d0c4594",
   "metadata": {
    "tags": []
   },
   "outputs": [
    {
     "name": "stderr",
     "output_type": "stream",
     "text": [
      "100%|██████████| 3518823/3518823 [00:05<00:00, 692514.09it/s]\n"
     ]
    }
   ],
   "source": [
    "bucket_mol_id={}\n",
    "for data in tqdm(merged_data):\n",
    "    try:\n",
    "        data['charge_spin_solvent'] = str(data['charge'])+'_'+str(data['spin'])+'_'+data['solvent']\n",
    "        data['charge_spin'] = str(data['charge'])+'_'+str(data['spin'])\n",
    "        bucket_mol_id[data['mol_id']].append(data)\n",
    "    except KeyError:\n",
    "        data['charge_spin_solvent'] = str(data['charge'])+'_'+str(data['spin'])+'_'+data['solvent']\n",
    "        data['charge_spin'] = str(data['charge'])+'_'+str(data['spin'])\n",
    "        bucket_mol_id[data['mol_id']] = [data]"
   ]
  },
  {
   "cell_type": "code",
   "execution_count": 24,
   "id": "489e0b4a-356c-4fa0-a356-ae53f937c164",
   "metadata": {
    "tags": []
   },
   "outputs": [],
   "source": [
    "temp=[x for x in bucket_mol_id[1648] if x['solvent']=='SMD']\n",
    "sub=[x for x in temp if x['charge_spin']=='0_1']"
   ]
  },
  {
   "cell_type": "code",
   "execution_count": 25,
   "id": "14e26f76-32e6-4aaa-ae0f-efdd0f1900a6",
   "metadata": {
    "tags": []
   },
   "outputs": [
    {
     "data": {
      "text/plain": [
       "2"
      ]
     },
     "execution_count": 25,
     "metadata": {},
     "output_type": "execute_result"
    }
   ],
   "source": [
    "len(sub)"
   ]
  },
  {
   "cell_type": "code",
   "execution_count": 6,
   "id": "3b6ced0e-58ff-425a-aabe-ee3567c16847",
   "metadata": {
    "tags": []
   },
   "outputs": [],
   "source": [
    "# sub"
   ]
  },
  {
   "cell_type": "code",
   "execution_count": 7,
   "id": "5db4ec68-6d5f-48a5-b5a1-6841ee131eca",
   "metadata": {},
   "outputs": [
    {
     "name": "stderr",
     "output_type": "stream",
     "text": [
      "100%|██████████| 133882/133882 [00:00<00:00, 1922502.42it/s]\n"
     ]
    }
   ],
   "source": [
    "ids_missing=[]\n",
    "for mol_id in tqdm(bucket_mol_id):\n",
    "    if len(bucket_mol_id[mol_id])<24:\n",
    "        ids_missing.append(mol_id)"
   ]
  },
  {
   "cell_type": "code",
   "execution_count": 15,
   "id": "e8f00ac7-1c85-4c9d-b6c5-e2b17e5c47f7",
   "metadata": {
    "tags": []
   },
   "outputs": [],
   "source": [
    "# ids_missing #total 2305283"
   ]
  },
  {
   "cell_type": "code",
   "execution_count": 8,
   "id": "2071d685-00d5-46f1-a534-8098e5ea7722",
   "metadata": {
    "tags": []
   },
   "outputs": [
    {
     "data": {
      "text/plain": [
       "11509"
      ]
     },
     "execution_count": 8,
     "metadata": {},
     "output_type": "execute_result"
    }
   ],
   "source": [
    "len(set(ids_missing)) #missing 101975"
   ]
  },
  {
   "cell_type": "code",
   "execution_count": 11,
   "id": "1f32140b-8a6e-4711-b2bd-c4b46ccf1286",
   "metadata": {
    "tags": []
   },
   "outputs": [],
   "source": [
    "missing_data_c=0\n",
    "for mid in ids_missing:\n",
    "    missing_data_c+=len(bucket_mol_id[mid])"
   ]
  },
  {
   "cell_type": "code",
   "execution_count": 9,
   "id": "2d18f760-2ded-46eb-b070-98c0391e7ee5",
   "metadata": {
    "tags": []
   },
   "outputs": [],
   "source": [
    "missing_data_q=0\n",
    "for mid in ids_missing:\n",
    "    missing_data_q+=24-len(bucket_mol_id[mid])"
   ]
  },
  {
   "cell_type": "code",
   "execution_count": 10,
   "id": "2b01bf2d-f0d7-483f-89b1-b12f96f78982",
   "metadata": {
    "tags": []
   },
   "outputs": [
    {
     "data": {
      "text/plain": [
       "75702"
      ]
     },
     "execution_count": 10,
     "metadata": {},
     "output_type": "execute_result"
    }
   ],
   "source": [
    "missing_data_q/"
   ]
  },
  {
   "cell_type": "code",
   "execution_count": 44,
   "id": "667abb9a-4a8d-4763-823a-619dbfd377e0",
   "metadata": {},
   "outputs": [],
   "source": [
    "name_parse = name.split('+-_')[1]\n",
    "optimized_charge = name_parse[0]\n",
    "current_charge = name_parse[-1]"
   ]
  },
  {
   "cell_type": "code",
   "execution_count": 45,
   "id": "01878758-06fe-462a-879b-cd11fb79c426",
   "metadata": {
    "tags": []
   },
   "outputs": [
    {
     "data": {
      "text/plain": [
       "'0'"
      ]
     },
     "execution_count": 45,
     "metadata": {},
     "output_type": "execute_result"
    }
   ],
   "source": [
    "structures = {}"
   ]
  },
  {
   "cell_type": "code",
   "execution_count": 157,
   "id": "668ed28b-f3b9-4941-bfee-4b86455f01c0",
   "metadata": {
    "tags": []
   },
   "outputs": [
    {
     "name": "stderr",
     "output_type": "stream",
     "text": [
      "100%|██████████| 2305283/2305283 [00:04<00:00, 549268.39it/s]\n"
     ]
    }
   ],
   "source": [
    "t=type_tagger(merged_data)\n"
   ]
  },
  {
   "cell_type": "code",
   "execution_count": 158,
   "id": "4bd7d814-a894-4a08-b9b3-3072fd97afbe",
   "metadata": {
    "tags": []
   },
   "outputs": [
    {
     "data": {
      "text/plain": [
       "True"
      ]
     },
     "execution_count": 158,
     "metadata": {},
     "output_type": "execute_result"
    }
   ],
   "source": [
    "t==None"
   ]
  },
  {
   "cell_type": "code",
   "execution_count": 115,
   "id": "223a3c96-864d-424d-b7f8-568200dc163a",
   "metadata": {
    "tags": []
   },
   "outputs": [
    {
     "data": {
      "text/plain": [
       "'-1'"
      ]
     },
     "execution_count": 115,
     "metadata": {},
     "output_type": "execute_result"
    }
   ],
   "source": [
    "'128916_qm9+-_0_FFOpt smd -1 2'.split('+-_')[1].split(' ')[-2]"
   ]
  },
  {
   "cell_type": "code",
   "execution_count": 114,
   "id": "a9d865ee-b2f3-4fce-8ae5-c5278b77e967",
   "metadata": {
    "tags": []
   },
   "outputs": [
    {
     "data": {
      "text/plain": [
       "['1', 'smd', '0']"
      ]
     },
     "execution_count": 114,
     "metadata": {},
     "output_type": "execute_result"
    }
   ],
   "source": [
    "'001648_qm9+-_1 smd 0'.split('+-_')[1].split(' ')"
   ]
  },
  {
   "cell_type": "code",
   "execution_count": 82,
   "id": "1c431e93-45f9-4f43-ab6e-1ce7f85fe430",
   "metadata": {
    "tags": []
   },
   "outputs": [
    {
     "data": {
      "text/plain": [
       "['0', 'FFOpt']"
      ]
     },
     "execution_count": 82,
     "metadata": {},
     "output_type": "execute_result"
    }
   ],
   "source": [
    "t.split('+-_')[1].split(' ')[0].split('_'"
   ]
  },
  {
   "cell_type": "code",
   "execution_count": 159,
   "id": "4c2bd7c3-3675-42f2-b8a4-1294271625bf",
   "metadata": {
    "tags": []
   },
   "outputs": [],
   "source": [
    "def check_missing_optimized_charge_spin(data: list):\n",
    "    # check to see every data point has a optimized_charge_spin\n",
    "    missing = []\n",
    "    for item in tqdm(merged_data):\n",
    "        try:\n",
    "            item['optimized_charge_spin']\n",
    "        except KeyError:\n",
    "            missing.append(item)\n",
    "    if len(missing)>0:\n",
    "        return missing\n",
    "    else: \n",
    "        return None"
   ]
  },
  {
   "cell_type": "code",
   "execution_count": 44,
   "id": "2ecb91e1-3d0e-43e7-95e1-b4fa4bee62c2",
   "metadata": {},
   "outputs": [
    {
     "name": "stderr",
     "output_type": "stream",
     "text": [
      "100%|██████████| 2305283/2305283 [00:00<00:00, 4009973.95it/s]\n"
     ]
    },
    {
     "data": {
      "text/plain": [
       "True"
      ]
     },
     "execution_count": 44,
     "metadata": {},
     "output_type": "execute_result"
    }
   ],
   "source": [
    "check = check_missing_optimized_charge_spin(merged_data)\n",
    "check==None"
   ]
  },
  {
   "cell_type": "code",
   "execution_count": 160,
   "id": "6e9780b1-3679-4bb1-a8d1-8760d051c948",
   "metadata": {},
   "outputs": [],
   "source": [
    "def check_missing_sp_config_type(data: list):\n",
    "    # check to see every data point has a optimized_charge_spin\n",
    "    missing = []\n",
    "    for item in tqdm(merged_data):\n",
    "        try:\n",
    "            item['sp_config_type']\n",
    "        except KeyError:\n",
    "            missing.append(item)\n",
    "    if len(missing)>0:\n",
    "        return missing\n",
    "    else: \n",
    "        return None"
   ]
  },
  {
   "cell_type": "code",
   "execution_count": 161,
   "id": "49e47895-8c4e-409f-9172-d5c61f6dfb61",
   "metadata": {
    "tags": []
   },
   "outputs": [
    {
     "name": "stderr",
     "output_type": "stream",
     "text": [
      "100%|██████████| 2305283/2305283 [00:00<00:00, 3191596.90it/s]\n"
     ]
    },
    {
     "data": {
      "text/plain": [
       "True"
      ]
     },
     "execution_count": 161,
     "metadata": {},
     "output_type": "execute_result"
    }
   ],
   "source": [
    "check = check_missing_sp_config_type(merged_data)\n",
    "check==None"
   ]
  },
  {
   "cell_type": "code",
   "execution_count": 169,
   "id": "2757f69c-37d8-4fe2-bc7e-3bacc6d232b2",
   "metadata": {
    "tags": []
   },
   "outputs": [],
   "source": [
    "def force_magnitude_filter_flattened_sp(cutoff: float,\n",
    "                                     data: list):\n",
    "    \"\"\"\n",
    "    This method returns both data that meets the cuttoff value and data that is equal to or above the cuttoff value.\n",
    "    \n",
    "    Returns: List\n",
    "    \"\"\"\n",
    "    original_size = len(data)\n",
    "    \n",
    "    for item in tqdm(data):\n",
    "        forces = item['gradient']\n",
    "        for atom in forces:\n",
    "            res = np.sqrt(sum([i**2 for i in atom]))\n",
    "            if res >= cutoff:\n",
    "                print('y')\n",
    "                data.remove(item)\n",
    "    \n",
    "    return original_size, len(data)"
   ]
  },
  {
   "cell_type": "code",
   "execution_count": 170,
   "id": "37e82be3-e607-4997-b14d-4b0daf9c9a34",
   "metadata": {
    "tags": []
   },
   "outputs": [
    {
     "name": "stderr",
     "output_type": "stream",
     "text": [
      "100%|██████████| 2305283/2305283 [00:53<00:00, 42769.77it/s]\n"
     ]
    }
   ],
   "source": [
    "orig_size, filtered_size = force_magnitude_filter_flattened_sp(10.0, merged_data)"
   ]
  },
  {
   "cell_type": "code",
   "execution_count": 171,
   "id": "2adc82b2-2e20-4514-92d4-941a03a73d1d",
   "metadata": {
    "tags": []
   },
   "outputs": [
    {
     "data": {
      "text/plain": [
       "2305283"
      ]
     },
     "execution_count": 171,
     "metadata": {},
     "output_type": "execute_result"
    }
   ],
   "source": [
    "orig_size"
   ]
  },
  {
   "cell_type": "code",
   "execution_count": 172,
   "id": "12a3dd83-770f-4932-84e7-8bbddd31f3ef",
   "metadata": {
    "tags": []
   },
   "outputs": [
    {
     "data": {
      "text/plain": [
       "2305283"
      ]
     },
     "execution_count": 172,
     "metadata": {},
     "output_type": "execute_result"
    }
   ],
   "source": [
    "filtered_size"
   ]
  },
  {
   "cell_type": "code",
   "execution_count": null,
   "id": "f64adca6-00e0-4860-a1f6-7ec7faa6650b",
   "metadata": {},
   "outputs": [],
   "source": []
  }
 ],
 "metadata": {
  "kernelspec": {
   "display_name": "NERSC Python",
   "language": "python",
   "name": "python3"
  },
  "language_info": {
   "codemirror_mode": {
    "name": "ipython",
    "version": 3
   },
   "file_extension": ".py",
   "mimetype": "text/x-python",
   "name": "python",
   "nbconvert_exporter": "python",
   "pygments_lexer": "ipython3",
   "version": "3.11.7"
  }
 },
 "nbformat": 4,
 "nbformat_minor": 5
}
